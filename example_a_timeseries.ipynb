{
 "cells": [
  {
   "cell_type": "markdown",
   "metadata": {
    "id": "z8Gscj0Kt45z"
   },
   "source": [
    "# NEMPY Constraints Analysis\n",
    "\n",
    "Jupyter Notebook <br>Version: 1.1 <br>Updated: 22/03/22 <br>\n",
    "Author: Declan Heim <br>\n",
    "Contact: [Email](mailto:d.heim@unsw.edu.au)<br>\n",
    "GitHub Ref: [nempy_constraints_v1](https://github.com/dec-heim/nempy_constraints_v1)\n",
    "\n",
    "---\n",
    "\n",
    "## Introduction & Background\n",
    "\n",
    "This notebook serves as an example of how constraints can be analysed using the open-source python simulator of AEMO's dispatch process, 'nempy'. This tool was initially developed by Nick Gorman and is expanded upon in this example, with additional functionality to draw insights into the impact of specific constraint equations in historical dispatch. These changes are not yet available via the official nempy release through pip, rather it draws on a forked version of the github repo. Updates to integrate and streamline these features into the official release of nempy are in progress.\n",
    "\n",
    "The purpose of analysing constraints in this regard is to convey a deeper understanding and discussion around the impact of constraints to those units involved in the constraint. Further, this example demonstrates the outcomes that could be seen in the market by alleviating a specific constraint, both in a market price sense and the volume (MW) dispatched for each unit in the constraint. This type of analysis is possible by re-simulating the same dispatch interval and modifying the inputs that define the historically binding constraint. Such conterfactual work requires the use of a dispatch simulator, unlike higher-level observations which demonstrate the units have been constrained as opposed to what otherwise may have happened.\n",
    "\n",
    "The example provided assumes the reader has some foundational understanding of the NEM dispatch process, how constraints are defined, the types of constraints and so forth. Hence it can be seen as an intermediate example. Explainations of historical dispatch procedures in nempy are omitted given there is abundant information [covered in this example](https://nempy.readthedocs.io/en/latest/examples.html#detailed-recreation-of-historical-dispatch). To gain a thorough understanding of the work presented here, one should first understand simplier examples of NEM dispatch and have some insight as to how nempy can be used, as provided in [Nempy Documentation.](https://nempy.readthedocs.io/) Some helpful resources to assist in understanding constraints in the NEM are linked below.\n",
    "\n",
    "### Acknowledgement:\n",
    "Special thanks to Nick Gorman at UNSW for developing the nempy tool and providing continued support in expanding it's functionality for the constraints analysis here. \n",
    "\n",
    "### Specific Notebook Context:\n",
    "This specific example demonstrates a timeseries constraints analysis and follows a previous example on constraints [available here](https://github.com/dec-heim/Constraints-Analysis/blob/main/example_a.ipynb). I've omitted a fair amount of explaination here as it is covered in the earlier notebook. This example is somewhat more advanced so the reader should be well acquainted with constraints to digest the material here.\n",
    "\n",
    "---\n",
    "\n",
    "### Useful References:\n",
    "<font color=blue>**Relevant nempy material:**</font>\n",
    "- [UNSW-CEEM Nempy Github](https://github.com/UNSW-CEEM/nempy)\n",
    "- [Nempy Documentation](https://nempy.readthedocs.io/)\n",
    "\n",
    "<font color=blue>**Relevant nempy examples:**</font>\n",
    "- [Nempy: Simple Examples 1-5](https://nempy.readthedocs.io/en/latest/examples.html#)\n",
    "- [Nempy: Detailed Recreation of Historical Dispatch](https://nempy.readthedocs.io/en/latest/examples.html#detailed-recreation-of-historical-dispatch)\n",
    "\n",
    "<font color=blue>**Relevant material for understanding constraints:**</font>\n",
    "- [AEMO Constraint Implementation Guidelines (2015)](https://www.aemo.com.au/Electricity/National-Electricity-Market-NEM/Security-and-reliability/-/media/943DDD419E5942B8993CCA8EA201C37E.ashx)\n",
    "- [AEMO Constraint Naming Guidelines (2013)](https://www.aemo.com.au/-/media/Files/Electricity/NEM/Security_and_Reliability/Congestion-Information/2016/Constraint-Naming-Guidelines.pdf)\n",
    "- [Example of Marginal Value Calculations of 'X5' constraint, by Allan O'Neil (WattClarity)](https://wattclarity.com.au/articles/2020/12/casestudy-followup-x5-constraint/)\n",
    "\n",
    "<font color=blue>**Specific material for the constraint that this example draws upon:**</font>\n",
    "- [Example Analysis of Constraint Impact on PV, by Jack Simpson](https://jacksimpson.co/exploring-the-impact-of-constraints-on-a-solar-farm-in-the-national-electricity-market/)\n",
    "- [AEMO Feb 2021 Monthly Constraint Report](https://www.aemo.com.au/-/media/files/electricity/nem/security_and_reliability/congestion-information/statistics/2021/monthly-constraint-report-february-2021.pdf?la=en).\n",
    "---"
   ]
  },
  {
   "cell_type": "markdown",
   "metadata": {
    "id": "eQp7FqU5uKun"
   },
   "source": [
    "## Example 2 - Investigating the impact of NSW Line 94T in Feb 2021 (Timeseries)\n",
    "### Event Description\n",
    "This example highlights historical events of the constrained line 94T representing Molong to Orange North in NSW during February 2021. Specifically this event  was noted earlier by [J. Simpson.](https://jacksimpson.co/exploring-the-impact-of-constraints-on-a-solar-farm-in-the-national-electricity-market/) and can further be found through AEMO's [monthly reporting process.](https://www.aemo.com.au/-/media/files/electricity/nem/security_and_reliability/congestion-information/statistics/2021/monthly-constraint-report-february-2021.pdf?la=en)\n",
    "\n",
    "\n",
    "Specific details of which units are involved in the constraint is provided in the latter sections of this notebook, demonstrating how such information can be extracted from nempy. In the meantime, we can contextualise this constraint as having a signficant impact on a number of solar farms located in Central-West NSW as flagged by the earlier references. **Noting this second example looks into the timeseries across the day as opposed to a single dispatch interval.**\n",
    "\n",
    "---"
   ]
  },
  {
   "cell_type": "markdown",
   "metadata": {},
   "source": [
    "## Section A. Model Building\n",
    "### A1. Import Python Packages\n"
   ]
  },
  {
   "cell_type": "code",
   "execution_count": 1,
   "metadata": {
    "colab": {
     "base_uri": "https://localhost:8080/"
    },
    "id": "1TGH6THSuDPy",
    "outputId": "6bbf0ab6-7dbf-45d0-b120-64afbbc1fd67",
    "scrolled": false
   },
   "outputs": [
    {
     "name": "stdout",
     "output_type": "stream",
     "text": [
      "n.b. Printout of installation will appear here but removed from published version.\n"
     ]
    }
   ],
   "source": [
    "import pandas as pd\n",
    "!pip install db-sqlite3\n",
    "import sqlite3\n",
    "\n",
    "# The forked nempy market dispatch engine is loaded\n",
    "!pip install --user --upgrade git+https://github.com/dec-heim/nempy_constraints_v1.git --no-warn-script-location\n",
    "from nempy import markets, time_sequential\n",
    "from nempy.historical_inputs import loaders, mms_db, \\\n",
    "    xml_cache, units, demand, interconnectors, constraints\n",
    "\n",
    "from datetime import datetime, timedelta\n",
    "\n",
    "!pip install git+https://github.com/jmcnamara/XlsxWriter\n",
    "import xlsxwriter\n",
    "\n",
    "# Plotting packages\n",
    "!pip install plotly kaleido\n",
    "import plotly.graph_objects as go\n",
    "import plotly.express as px\n",
    "from plotly.subplots import make_subplots"
   ]
  },
  {
   "cell_type": "markdown",
   "metadata": {},
   "source": [
    "---\n",
    "\n",
    "### A2. Retrieve + Prepare Historical Data from AEMO\n",
    "\n",
    "The data for this example has already been extracted and prepared for nempy locally. The data was found for the **15th February 2021** as described in the previous examples."
   ]
  },
  {
   "cell_type": "code",
   "execution_count": 19,
   "metadata": {
    "id": "wQ_QQTrUutwI"
   },
   "outputs": [],
   "source": [
    "con = sqlite3.connect('feb_2021_mms.db')\n",
    "mms_db_manager = mms_db.DBManager(connection=con)\n",
    "xml_cache_manager = xml_cache.XMLCacheManager('feb_2021_cache')\n",
    "\n",
    "raw_inputs_loader = loaders.RawInputsLoader(\n",
    "    nemde_xml_cache_manager=xml_cache_manager,\n",
    "    market_management_system_database=mms_db_manager)"
   ]
  },
  {
   "cell_type": "markdown",
   "metadata": {},
   "source": [
    "---\n",
    "\n",
    "### A3. Define Dispatch Intervals\n",
    "Building on the previous constraints example, we are now interested to see the impact of a specific constraint across multiple dispatch intervals (a timeseries analysis).\n",
    "\n",
    "Here we define functions to generate a list of 5-minute dispatch intervals to later input to nempy."
   ]
  },
  {
   "cell_type": "code",
   "execution_count": 2,
   "metadata": {},
   "outputs": [],
   "source": [
    "def perdelta(start_date, end_date, min_interval):\n",
    "    \"\"\"\n",
    "    Function accessed by create_dispatch_list. Generates List of Datetimes between 2 dates.\n",
    "    perdelta SourceCode retrieved and modified from: \n",
    "    https://stackoverflow.com/questions/10688006/generate-a-list-of-datetimes-between-an-interval\n",
    "    \"\"\"\n",
    "    start = datetime.strptime(start_date,'%Y/%m/%d %H:%M:%S')    \n",
    "    end = datetime.strptime(end_date,'%Y/%m/%d %H:%M:%S')  \n",
    "    delta = timedelta(minutes=min_interval)\n",
    "    \n",
    "    curr = start\n",
    "    while curr <= end:\n",
    "        yield curr\n",
    "        curr += delta\n",
    "\n",
    "def create_dispatch_list(start_date, end_date, min_interval=5):\n",
    "    \"\"\"\n",
    "    Generates a list of dispatch intervals between two dates.\n",
    "    Inputs: start_date, end_date >> passed as string\n",
    "    \"\"\"\n",
    "    result = []\n",
    "    for n in perdelta(start_date, end_date, min_interval):\n",
    "        result = result + [datetime.strftime(n,'%Y/%m/%d %H:%M:%S')]\n",
    "    return result"
   ]
  },
  {
   "cell_type": "code",
   "execution_count": 15,
   "metadata": {
    "scrolled": false
   },
   "outputs": [
    {
     "data": {
      "text/html": [
       "<div>\n",
       "<style scoped>\n",
       "    .dataframe tbody tr th:only-of-type {\n",
       "        vertical-align: middle;\n",
       "    }\n",
       "\n",
       "    .dataframe tbody tr th {\n",
       "        vertical-align: top;\n",
       "    }\n",
       "\n",
       "    .dataframe thead th {\n",
       "        text-align: right;\n",
       "    }\n",
       "</style>\n",
       "<table border=\"1\" class=\"dataframe\">\n",
       "  <thead>\n",
       "    <tr style=\"text-align: right;\">\n",
       "      <th></th>\n",
       "      <th>di_list</th>\n",
       "    </tr>\n",
       "  </thead>\n",
       "  <tbody>\n",
       "    <tr>\n",
       "      <th>0</th>\n",
       "      <td>2021/02/15 06:00:00</td>\n",
       "    </tr>\n",
       "    <tr>\n",
       "      <th>1</th>\n",
       "      <td>2021/02/15 06:05:00</td>\n",
       "    </tr>\n",
       "    <tr>\n",
       "      <th>2</th>\n",
       "      <td>2021/02/15 06:10:00</td>\n",
       "    </tr>\n",
       "    <tr>\n",
       "      <th>3</th>\n",
       "      <td>2021/02/15 06:15:00</td>\n",
       "    </tr>\n",
       "    <tr>\n",
       "      <th>4</th>\n",
       "      <td>2021/02/15 06:20:00</td>\n",
       "    </tr>\n",
       "    <tr>\n",
       "      <th>...</th>\n",
       "      <td>...</td>\n",
       "    </tr>\n",
       "    <tr>\n",
       "      <th>141</th>\n",
       "      <td>2021/02/15 17:45:00</td>\n",
       "    </tr>\n",
       "    <tr>\n",
       "      <th>142</th>\n",
       "      <td>2021/02/15 17:50:00</td>\n",
       "    </tr>\n",
       "    <tr>\n",
       "      <th>143</th>\n",
       "      <td>2021/02/15 17:55:00</td>\n",
       "    </tr>\n",
       "    <tr>\n",
       "      <th>144</th>\n",
       "      <td>2021/02/15 18:00:00</td>\n",
       "    </tr>\n",
       "    <tr>\n",
       "      <th>145</th>\n",
       "      <td>2021/02/15 18:05:00</td>\n",
       "    </tr>\n",
       "  </tbody>\n",
       "</table>\n",
       "<p>146 rows × 1 columns</p>\n",
       "</div>"
      ],
      "text/plain": [
       "                 di_list\n",
       "0    2021/02/15 06:00:00\n",
       "1    2021/02/15 06:05:00\n",
       "2    2021/02/15 06:10:00\n",
       "3    2021/02/15 06:15:00\n",
       "4    2021/02/15 06:20:00\n",
       "..                   ...\n",
       "141  2021/02/15 17:45:00\n",
       "142  2021/02/15 17:50:00\n",
       "143  2021/02/15 17:55:00\n",
       "144  2021/02/15 18:00:00\n",
       "145  2021/02/15 18:05:00\n",
       "\n",
       "[146 rows x 1 columns]"
      ]
     },
     "execution_count": 15,
     "metadata": {},
     "output_type": "execute_result"
    }
   ],
   "source": [
    "dispatch_intervals = create_dispatch_list('2021/02/15 06:00:00','2021/02/15 18:05:00')\n",
    "di_df = pd.DataFrame(dispatch_intervals, columns=['di_list'])\n",
    "di_df"
   ]
  },
  {
   "cell_type": "markdown",
   "metadata": {},
   "source": [
    "---\n",
    "### A4. Define Market Data & Economic Dispatch Process\n",
    "A more detailed explaination of what is happening here can be found in the earlier constraints example. Defining a function allows us to iterate this procedure later. Noting a slight addition before the <code>market.dispatch()</code> is called we ensure that if a constraint name is provided, then it is removed in the economic dispatch procedure via the function <code>market.remove_generic_constraint_set()</code>.\n",
    "\n",
    "We also have created some lists to convieniently store output data."
   ]
  },
  {
   "cell_type": "code",
   "execution_count": 17,
   "metadata": {},
   "outputs": [],
   "source": [
    "outputs, outputs_mvs, outputs_prices, outputs_units = [],[],[],[]\n",
    "\n",
    "def economic_dispatch(interval, remove_constraint_name=None):\n",
    "    \n",
    "    raw_inputs_loader.set_interval(interval)\n",
    "    unit_inputs = units.UnitData(raw_inputs_loader)\n",
    "    interconnector_inputs = interconnectors.InterconnectorData(raw_inputs_loader)\n",
    "    constraint_inputs = constraints.ConstraintData(raw_inputs_loader)\n",
    "    demand_inputs = demand.DemandData(raw_inputs_loader)\n",
    "\n",
    "    # Define market, unit info\n",
    "    unit_info = unit_inputs.get_unit_info()\n",
    "    market = markets.SpotMarket(market_regions=['QLD1', 'NSW1', 'VIC1',\n",
    "                                                'SA1', 'TAS1'],\n",
    "                                unit_info=unit_info)\n",
    "\n",
    "    # Set volume, price bids\n",
    "    volume_bids, price_bids = unit_inputs.get_processed_bids()\n",
    "    market.set_unit_volume_bids(volume_bids)\n",
    "    market.set_unit_price_bids(price_bids)\n",
    "\n",
    "    # Set bid in capacity limits\n",
    "    unit_bid_limit = unit_inputs.get_unit_bid_availability()\n",
    "    market.set_unit_bid_capacity_constraints(unit_bid_limit)\n",
    "    cost = constraint_inputs.get_constraint_violation_prices()['unit_capacity']\n",
    "    market.make_constraints_elastic('unit_bid_capacity', violation_cost=cost)\n",
    "\n",
    "    # Set limits provided by the unconstrained intermittent generation\n",
    "    # forecasts. Primarily for wind and solar.\n",
    "    unit_uigf_limit = unit_inputs.get_unit_uigf_limits()\n",
    "    market.set_unconstrained_intermitent_generation_forecast_constraint(\n",
    "        unit_uigf_limit)\n",
    "    cost = constraint_inputs.get_constraint_violation_prices()['uigf']\n",
    "    market.make_constraints_elastic('uigf_capacity', violation_cost=cost)\n",
    "\n",
    "    # Set unit ramp rates.\n",
    "    ramp_rates = unit_inputs.get_ramp_rates_used_for_energy_dispatch()\n",
    "    market.set_unit_ramp_up_constraints(\n",
    "        ramp_rates.loc[:, ['unit', 'initial_output', 'ramp_up_rate']])\n",
    "    market.set_unit_ramp_down_constraints(\n",
    "        ramp_rates.loc[:, ['unit', 'initial_output', 'ramp_down_rate']])\n",
    "    cost = constraint_inputs.get_constraint_violation_prices()['ramp_rate']\n",
    "    market.make_constraints_elastic('ramp_up', violation_cost=cost)\n",
    "    market.make_constraints_elastic('ramp_down', violation_cost=cost)\n",
    "\n",
    "    # Set unit FCAS trapezium constraints.\n",
    "    unit_inputs.add_fcas_trapezium_constraints()\n",
    "    cost = constraint_inputs.get_constraint_violation_prices()['fcas_max_avail']\n",
    "    fcas_availability = unit_inputs.get_fcas_max_availability()\n",
    "    market.set_fcas_max_availability(fcas_availability)\n",
    "    market.make_constraints_elastic('fcas_max_availability', cost)\n",
    "    cost = constraint_inputs.get_constraint_violation_prices()['fcas_profile']\n",
    "    regulation_trapeziums = unit_inputs.get_fcas_regulation_trapeziums()\n",
    "    market.set_energy_and_regulation_capacity_constraints(regulation_trapeziums)\n",
    "    market.make_constraints_elastic('energy_and_regulation_capacity', cost)\n",
    "    scada_ramp_down_rates = unit_inputs.get_scada_ramp_down_rates_of_lower_reg_units()\n",
    "    market.set_joint_ramping_constraints_lower_reg(scada_ramp_down_rates)\n",
    "    market.make_constraints_elastic('joint_ramping_lower_reg', cost)\n",
    "    scada_ramp_up_rates = unit_inputs.get_scada_ramp_up_rates_of_raise_reg_units()\n",
    "    market.set_joint_ramping_constraints_raise_reg(scada_ramp_up_rates)\n",
    "    market.make_constraints_elastic('joint_ramping_raise_reg', cost)\n",
    "    contingency_trapeziums = unit_inputs.get_contingency_services()\n",
    "    market.set_joint_capacity_constraints(contingency_trapeziums)\n",
    "    market.make_constraints_elastic('joint_capacity', cost)\n",
    "\n",
    "    # Set interconnector definitions, limits and loss models.\n",
    "    interconnectors_definitions = \\\n",
    "        interconnector_inputs.get_interconnector_definitions()\n",
    "    loss_functions, interpolation_break_points = \\\n",
    "        interconnector_inputs.get_interconnector_loss_model()\n",
    "    market.set_interconnectors(interconnectors_definitions)\n",
    "    market.set_interconnector_losses(loss_functions,\n",
    "                                      interpolation_break_points)\n",
    "\n",
    "    # Add FCAS market constraints.\n",
    "    fcas_requirements = constraint_inputs.get_fcas_requirements()\n",
    "    market.set_fcas_requirements_constraints(fcas_requirements)\n",
    "    violation_costs = constraint_inputs.get_violation_costs()\n",
    "    market.make_constraints_elastic('fcas', violation_cost=violation_costs) \n",
    "\n",
    "    # Add generic constraints, RHS parameters\n",
    "    generic_rhs = constraint_inputs.get_rhs_and_type_excluding_regional_fcas_constraints()\n",
    "    market.set_generic_constraints(generic_rhs)\n",
    "    market.make_constraints_elastic('generic', violation_cost=violation_costs)\n",
    "    \n",
    "    # Add generic constraints, LHS coefficients DUIDs\n",
    "    unit_generic_lhs = constraint_inputs.get_unit_lhs()\n",
    "    market.link_units_to_generic_constraints(unit_generic_lhs)\n",
    "    \n",
    "    # Add generic constraints, LHS coeffients ICs\n",
    "    interconnector_generic_lhs = constraint_inputs.get_interconnector_lhs()\n",
    "    market.link_interconnectors_to_generic_constraints(\n",
    "        interconnector_generic_lhs)\n",
    "    \n",
    "    # Set the operational demand to be met by dispatch.\n",
    "    regional_demand = demand_inputs.get_operational_demand()\n",
    "    market.set_demand_constraints(regional_demand)\n",
    "    \n",
    "    # Check to remove constraint set\n",
    "    if remove_constraint_name is not None:\n",
    "        for constraint in remove_constraint_name:\n",
    "            market.remove_generic_constraint_set(constraint)\n",
    "    \n",
    "    # Run market dispatch\n",
    "    market.dispatch()\n",
    "    \n",
    "    # Retrieve & Save market data\n",
    "    result_mv = market.get_constraint_marginal_values()\n",
    "    result_mv.insert(0,'interval',interval)\n",
    "\n",
    "    result_units = market.get_unit_dispatch()\n",
    "    result_units.insert(0,'interval',interval)\n",
    "    \n",
    "    result_prices = market.get_energy_prices()\n",
    "    result_prices.insert(0,'interval',interval)\n",
    "\n",
    "    return {'marginal_values': result_mv, 'unit_dispatch': result_units, 'energy_prices': result_prices}"
   ]
  },
  {
   "cell_type": "markdown",
   "metadata": {},
   "source": [
    "---\n",
    "## Section B - Running Market Dispatch across timeseries\n",
    "### B1. Initial Results\n",
    "Importantly, we are now interested in observing what is happening throughout the day across multiple dispatch intervals and the overall impact of the constraint under investigation on unit dispatch and market prices. At this stage, the first iteration across the timeseries includes all historical constraints."
   ]
  },
  {
   "cell_type": "code",
   "execution_count": 20,
   "metadata": {
    "scrolled": true
   },
   "outputs": [
    {
     "name": "stdout",
     "output_type": "stream",
     "text": [
      "Dispatch Simulation Complete\n"
     ]
    }
   ],
   "source": [
    "for di in di_df['di_list']:\n",
    "    outputs = economic_dispatch(di)\n",
    "    outputs_mvs += [outputs['marginal_values']]\n",
    "    outputs_units += [outputs['unit_dispatch']]\n",
    "    outputs_prices += [outputs['energy_prices']]\n",
    "\n",
    "marginal_values = pd.concat(outputs_mvs)\n",
    "unit_dispatch = pd.concat(outputs_units)\n",
    "prices = pd.concat(outputs_prices)\n",
    "\n",
    "print(\"Dispatch Simulation Complete\")"
   ]
  },
  {
   "cell_type": "markdown",
   "metadata": {},
   "source": [
    "---\n",
    "### B2. Simulated Market Prices\n",
    "Tablulating the price results we can later compare the impact of the specific constraint on market prices. The full dataframe is accesible via a downloaded excel file at the end of this notebook.\n",
    "\n",
    "**Tabulated Price Results**"
   ]
  },
  {
   "cell_type": "code",
   "execution_count": 21,
   "metadata": {},
   "outputs": [
    {
     "data": {
      "text/html": [
       "<div>\n",
       "<style scoped>\n",
       "    .dataframe tbody tr th:only-of-type {\n",
       "        vertical-align: middle;\n",
       "    }\n",
       "\n",
       "    .dataframe tbody tr th {\n",
       "        vertical-align: top;\n",
       "    }\n",
       "\n",
       "    .dataframe thead th {\n",
       "        text-align: right;\n",
       "    }\n",
       "</style>\n",
       "<table border=\"1\" class=\"dataframe\">\n",
       "  <thead>\n",
       "    <tr style=\"text-align: right;\">\n",
       "      <th>interval</th>\n",
       "      <th>2021/02/15 06:00:00</th>\n",
       "      <th>2021/02/15 06:05:00</th>\n",
       "      <th>2021/02/15 06:10:00</th>\n",
       "      <th>2021/02/15 06:15:00</th>\n",
       "      <th>2021/02/15 06:20:00</th>\n",
       "      <th>2021/02/15 06:25:00</th>\n",
       "      <th>2021/02/15 06:30:00</th>\n",
       "      <th>2021/02/15 06:35:00</th>\n",
       "      <th>2021/02/15 06:40:00</th>\n",
       "      <th>2021/02/15 06:45:00</th>\n",
       "      <th>...</th>\n",
       "      <th>2021/02/15 17:20:00</th>\n",
       "      <th>2021/02/15 17:25:00</th>\n",
       "      <th>2021/02/15 17:30:00</th>\n",
       "      <th>2021/02/15 17:35:00</th>\n",
       "      <th>2021/02/15 17:40:00</th>\n",
       "      <th>2021/02/15 17:45:00</th>\n",
       "      <th>2021/02/15 17:50:00</th>\n",
       "      <th>2021/02/15 17:55:00</th>\n",
       "      <th>2021/02/15 18:00:00</th>\n",
       "      <th>2021/02/15 18:05:00</th>\n",
       "    </tr>\n",
       "    <tr>\n",
       "      <th>region</th>\n",
       "      <th></th>\n",
       "      <th></th>\n",
       "      <th></th>\n",
       "      <th></th>\n",
       "      <th></th>\n",
       "      <th></th>\n",
       "      <th></th>\n",
       "      <th></th>\n",
       "      <th></th>\n",
       "      <th></th>\n",
       "      <th></th>\n",
       "      <th></th>\n",
       "      <th></th>\n",
       "      <th></th>\n",
       "      <th></th>\n",
       "      <th></th>\n",
       "      <th></th>\n",
       "      <th></th>\n",
       "      <th></th>\n",
       "      <th></th>\n",
       "      <th></th>\n",
       "    </tr>\n",
       "  </thead>\n",
       "  <tbody>\n",
       "    <tr>\n",
       "      <th>NSW1</th>\n",
       "      <td>37.128317</td>\n",
       "      <td>35.480000</td>\n",
       "      <td>35.480000</td>\n",
       "      <td>35.470000</td>\n",
       "      <td>35.480000</td>\n",
       "      <td>35.480000</td>\n",
       "      <td>37.262931</td>\n",
       "      <td>37.539484</td>\n",
       "      <td>37.222093</td>\n",
       "      <td>35.470000</td>\n",
       "      <td>...</td>\n",
       "      <td>36.142973</td>\n",
       "      <td>36.067103</td>\n",
       "      <td>35.617971</td>\n",
       "      <td>35.480000</td>\n",
       "      <td>35.842109</td>\n",
       "      <td>36.175748</td>\n",
       "      <td>35.580000</td>\n",
       "      <td>49.220000</td>\n",
       "      <td>52.605351</td>\n",
       "      <td>38.265085</td>\n",
       "    </tr>\n",
       "    <tr>\n",
       "      <th>QLD1</th>\n",
       "      <td>38.900000</td>\n",
       "      <td>37.124287</td>\n",
       "      <td>36.396962</td>\n",
       "      <td>36.682978</td>\n",
       "      <td>36.444699</td>\n",
       "      <td>35.616770</td>\n",
       "      <td>37.730000</td>\n",
       "      <td>37.730000</td>\n",
       "      <td>37.730000</td>\n",
       "      <td>35.406946</td>\n",
       "      <td>...</td>\n",
       "      <td>37.386470</td>\n",
       "      <td>37.314017</td>\n",
       "      <td>37.143988</td>\n",
       "      <td>37.576261</td>\n",
       "      <td>38.258477</td>\n",
       "      <td>38.900000</td>\n",
       "      <td>38.548054</td>\n",
       "      <td>52.145162</td>\n",
       "      <td>55.730000</td>\n",
       "      <td>41.470000</td>\n",
       "    </tr>\n",
       "    <tr>\n",
       "      <th>SA1</th>\n",
       "      <td>32.736256</td>\n",
       "      <td>32.104579</td>\n",
       "      <td>32.019084</td>\n",
       "      <td>32.009874</td>\n",
       "      <td>32.462971</td>\n",
       "      <td>32.964412</td>\n",
       "      <td>35.382052</td>\n",
       "      <td>36.950017</td>\n",
       "      <td>37.016680</td>\n",
       "      <td>35.350532</td>\n",
       "      <td>...</td>\n",
       "      <td>38.031225</td>\n",
       "      <td>38.612664</td>\n",
       "      <td>38.191360</td>\n",
       "      <td>38.772997</td>\n",
       "      <td>38.761503</td>\n",
       "      <td>39.407664</td>\n",
       "      <td>39.505089</td>\n",
       "      <td>55.359105</td>\n",
       "      <td>58.103616</td>\n",
       "      <td>42.463455</td>\n",
       "    </tr>\n",
       "    <tr>\n",
       "      <th>TAS1</th>\n",
       "      <td>39.881000</td>\n",
       "      <td>38.581000</td>\n",
       "      <td>38.581000</td>\n",
       "      <td>38.581000</td>\n",
       "      <td>40.205455</td>\n",
       "      <td>43.641044</td>\n",
       "      <td>53.210000</td>\n",
       "      <td>60.160000</td>\n",
       "      <td>57.960000</td>\n",
       "      <td>60.160000</td>\n",
       "      <td>...</td>\n",
       "      <td>36.964312</td>\n",
       "      <td>39.517000</td>\n",
       "      <td>39.517000</td>\n",
       "      <td>37.848780</td>\n",
       "      <td>37.268780</td>\n",
       "      <td>39.517000</td>\n",
       "      <td>40.783248</td>\n",
       "      <td>52.169272</td>\n",
       "      <td>53.692700</td>\n",
       "      <td>38.988223</td>\n",
       "    </tr>\n",
       "    <tr>\n",
       "      <th>VIC1</th>\n",
       "      <td>32.683259</td>\n",
       "      <td>31.934547</td>\n",
       "      <td>31.967247</td>\n",
       "      <td>31.958052</td>\n",
       "      <td>32.303594</td>\n",
       "      <td>32.622727</td>\n",
       "      <td>34.606221</td>\n",
       "      <td>35.622464</td>\n",
       "      <td>35.700290</td>\n",
       "      <td>34.115011</td>\n",
       "      <td>...</td>\n",
       "      <td>34.960000</td>\n",
       "      <td>34.960000</td>\n",
       "      <td>34.960000</td>\n",
       "      <td>34.960000</td>\n",
       "      <td>34.960000</td>\n",
       "      <td>35.004952</td>\n",
       "      <td>34.960000</td>\n",
       "      <td>48.705042</td>\n",
       "      <td>51.129443</td>\n",
       "      <td>37.578004</td>\n",
       "    </tr>\n",
       "  </tbody>\n",
       "</table>\n",
       "<p>5 rows × 146 columns</p>\n",
       "</div>"
      ],
      "text/plain": [
       "interval  2021/02/15 06:00:00  2021/02/15 06:05:00  2021/02/15 06:10:00  \\\n",
       "region                                                                    \n",
       "NSW1                37.128317            35.480000            35.480000   \n",
       "QLD1                38.900000            37.124287            36.396962   \n",
       "SA1                 32.736256            32.104579            32.019084   \n",
       "TAS1                39.881000            38.581000            38.581000   \n",
       "VIC1                32.683259            31.934547            31.967247   \n",
       "\n",
       "interval  2021/02/15 06:15:00  2021/02/15 06:20:00  2021/02/15 06:25:00  \\\n",
       "region                                                                    \n",
       "NSW1                35.470000            35.480000            35.480000   \n",
       "QLD1                36.682978            36.444699            35.616770   \n",
       "SA1                 32.009874            32.462971            32.964412   \n",
       "TAS1                38.581000            40.205455            43.641044   \n",
       "VIC1                31.958052            32.303594            32.622727   \n",
       "\n",
       "interval  2021/02/15 06:30:00  2021/02/15 06:35:00  2021/02/15 06:40:00  \\\n",
       "region                                                                    \n",
       "NSW1                37.262931            37.539484            37.222093   \n",
       "QLD1                37.730000            37.730000            37.730000   \n",
       "SA1                 35.382052            36.950017            37.016680   \n",
       "TAS1                53.210000            60.160000            57.960000   \n",
       "VIC1                34.606221            35.622464            35.700290   \n",
       "\n",
       "interval  2021/02/15 06:45:00  ...  2021/02/15 17:20:00  2021/02/15 17:25:00  \\\n",
       "region                         ...                                             \n",
       "NSW1                35.470000  ...            36.142973            36.067103   \n",
       "QLD1                35.406946  ...            37.386470            37.314017   \n",
       "SA1                 35.350532  ...            38.031225            38.612664   \n",
       "TAS1                60.160000  ...            36.964312            39.517000   \n",
       "VIC1                34.115011  ...            34.960000            34.960000   \n",
       "\n",
       "interval  2021/02/15 17:30:00  2021/02/15 17:35:00  2021/02/15 17:40:00  \\\n",
       "region                                                                    \n",
       "NSW1                35.617971            35.480000            35.842109   \n",
       "QLD1                37.143988            37.576261            38.258477   \n",
       "SA1                 38.191360            38.772997            38.761503   \n",
       "TAS1                39.517000            37.848780            37.268780   \n",
       "VIC1                34.960000            34.960000            34.960000   \n",
       "\n",
       "interval  2021/02/15 17:45:00  2021/02/15 17:50:00  2021/02/15 17:55:00  \\\n",
       "region                                                                    \n",
       "NSW1                36.175748            35.580000            49.220000   \n",
       "QLD1                38.900000            38.548054            52.145162   \n",
       "SA1                 39.407664            39.505089            55.359105   \n",
       "TAS1                39.517000            40.783248            52.169272   \n",
       "VIC1                35.004952            34.960000            48.705042   \n",
       "\n",
       "interval  2021/02/15 18:00:00  2021/02/15 18:05:00  \n",
       "region                                              \n",
       "NSW1                52.605351            38.265085  \n",
       "QLD1                55.730000            41.470000  \n",
       "SA1                 58.103616            42.463455  \n",
       "TAS1                53.692700            38.988223  \n",
       "VIC1                51.129443            37.578004  \n",
       "\n",
       "[5 rows x 146 columns]"
      ]
     },
     "execution_count": 21,
     "metadata": {},
     "output_type": "execute_result"
    }
   ],
   "source": [
    "prices_table = prices.groupby(['region','interval']).price.first().unstack()\n",
    "prices_table"
   ]
  },
  {
   "cell_type": "markdown",
   "metadata": {},
   "source": [
    "---\n",
    "\n",
    "### B3. Binding Constraint Results\n",
    "The below produces a very useful table showing all constraints that have binded at some stage during the timeseries. Each column displays the marginal value for the specific interval, where NaN (or zero) indicates that the constraint did not bind during that interval.\n",
    "\n",
    "Not also that some constraints may have a dynamic RHS that is not necessarily fixed, however we haven't captured this level of detail here. The consequent change in marginal value that may be due to the dynamic rhs changing as opposed to the lhs arguments is not known here."
   ]
  },
  {
   "cell_type": "code",
   "execution_count": 22,
   "metadata": {},
   "outputs": [
    {
     "data": {
      "text/html": [
       "<div>\n",
       "<style scoped>\n",
       "    .dataframe tbody tr th:only-of-type {\n",
       "        vertical-align: middle;\n",
       "    }\n",
       "\n",
       "    .dataframe tbody tr th {\n",
       "        vertical-align: top;\n",
       "    }\n",
       "\n",
       "    .dataframe thead th {\n",
       "        text-align: right;\n",
       "    }\n",
       "</style>\n",
       "<table border=\"1\" class=\"dataframe\">\n",
       "  <thead>\n",
       "    <tr style=\"text-align: right;\">\n",
       "      <th>interval</th>\n",
       "      <th>2021/02/15 06:00:00</th>\n",
       "      <th>2021/02/15 06:05:00</th>\n",
       "      <th>2021/02/15 06:10:00</th>\n",
       "      <th>2021/02/15 06:15:00</th>\n",
       "      <th>2021/02/15 06:20:00</th>\n",
       "      <th>2021/02/15 06:25:00</th>\n",
       "      <th>2021/02/15 06:30:00</th>\n",
       "      <th>2021/02/15 06:35:00</th>\n",
       "      <th>2021/02/15 06:40:00</th>\n",
       "      <th>2021/02/15 06:45:00</th>\n",
       "      <th>...</th>\n",
       "      <th>2021/02/15 17:20:00</th>\n",
       "      <th>2021/02/15 17:25:00</th>\n",
       "      <th>2021/02/15 17:30:00</th>\n",
       "      <th>2021/02/15 17:35:00</th>\n",
       "      <th>2021/02/15 17:40:00</th>\n",
       "      <th>2021/02/15 17:45:00</th>\n",
       "      <th>2021/02/15 17:50:00</th>\n",
       "      <th>2021/02/15 17:55:00</th>\n",
       "      <th>2021/02/15 18:00:00</th>\n",
       "      <th>2021/02/15 18:05:00</th>\n",
       "    </tr>\n",
       "    <tr>\n",
       "      <th>set</th>\n",
       "      <th></th>\n",
       "      <th></th>\n",
       "      <th></th>\n",
       "      <th></th>\n",
       "      <th></th>\n",
       "      <th></th>\n",
       "      <th></th>\n",
       "      <th></th>\n",
       "      <th></th>\n",
       "      <th></th>\n",
       "      <th></th>\n",
       "      <th></th>\n",
       "      <th></th>\n",
       "      <th></th>\n",
       "      <th></th>\n",
       "      <th></th>\n",
       "      <th></th>\n",
       "      <th></th>\n",
       "      <th></th>\n",
       "      <th></th>\n",
       "      <th></th>\n",
       "    </tr>\n",
       "  </thead>\n",
       "  <tbody>\n",
       "    <tr>\n",
       "      <th>#MWPS1PV1_E</th>\n",
       "      <td>-1032.7</td>\n",
       "      <td>0.0</td>\n",
       "      <td>0.0</td>\n",
       "      <td>-1032.0</td>\n",
       "      <td>-1032.5</td>\n",
       "      <td>-1033.0</td>\n",
       "      <td>-1035.4</td>\n",
       "      <td>-1037.0</td>\n",
       "      <td>0.0</td>\n",
       "      <td>-1035.4</td>\n",
       "      <td>...</td>\n",
       "      <td>0.0</td>\n",
       "      <td>-1038.6</td>\n",
       "      <td>0.0</td>\n",
       "      <td>0.0</td>\n",
       "      <td>0.0</td>\n",
       "      <td>0.0</td>\n",
       "      <td>-1039.5</td>\n",
       "      <td>0.0</td>\n",
       "      <td>0.0</td>\n",
       "      <td>-1042.5</td>\n",
       "    </tr>\n",
       "    <tr>\n",
       "      <th>#MWPS2PV1_E</th>\n",
       "      <td>0.0</td>\n",
       "      <td>0.0</td>\n",
       "      <td>0.0</td>\n",
       "      <td>-1032.0</td>\n",
       "      <td>-1032.5</td>\n",
       "      <td>-1033.0</td>\n",
       "      <td>-1035.4</td>\n",
       "      <td>0.0</td>\n",
       "      <td>-1037.0</td>\n",
       "      <td>0.0</td>\n",
       "      <td>...</td>\n",
       "      <td>0.0</td>\n",
       "      <td>0.0</td>\n",
       "      <td>-1038.2</td>\n",
       "      <td>-1038.8</td>\n",
       "      <td>-1038.8</td>\n",
       "      <td>0.0</td>\n",
       "      <td>0.0</td>\n",
       "      <td>-1055.4</td>\n",
       "      <td>-1058.1</td>\n",
       "      <td>-1042.5</td>\n",
       "    </tr>\n",
       "    <tr>\n",
       "      <th>#MWPS4PV1_E</th>\n",
       "      <td>0.0</td>\n",
       "      <td>-1032.1</td>\n",
       "      <td>-1032.0</td>\n",
       "      <td>0.0</td>\n",
       "      <td>0.0</td>\n",
       "      <td>0.0</td>\n",
       "      <td>-1035.4</td>\n",
       "      <td>0.0</td>\n",
       "      <td>0.0</td>\n",
       "      <td>0.0</td>\n",
       "      <td>...</td>\n",
       "      <td>-1038.0</td>\n",
       "      <td>0.0</td>\n",
       "      <td>0.0</td>\n",
       "      <td>-1038.8</td>\n",
       "      <td>0.0</td>\n",
       "      <td>-1039.4</td>\n",
       "      <td>0.0</td>\n",
       "      <td>-1055.4</td>\n",
       "      <td>-1058.1</td>\n",
       "      <td>0.0</td>\n",
       "    </tr>\n",
       "    <tr>\n",
       "      <th>#PPCCGT_D_E</th>\n",
       "      <td>14967.3</td>\n",
       "      <td>14967.9</td>\n",
       "      <td>14968.0</td>\n",
       "      <td>14968.0</td>\n",
       "      <td>14967.5</td>\n",
       "      <td>14967.0</td>\n",
       "      <td>14964.6</td>\n",
       "      <td>14963.0</td>\n",
       "      <td>14963.0</td>\n",
       "      <td>14964.6</td>\n",
       "      <td>...</td>\n",
       "      <td>14962.0</td>\n",
       "      <td>14961.4</td>\n",
       "      <td>14961.8</td>\n",
       "      <td>0.0</td>\n",
       "      <td>0.0</td>\n",
       "      <td>0.0</td>\n",
       "      <td>0.0</td>\n",
       "      <td>0.0</td>\n",
       "      <td>0.0</td>\n",
       "      <td>0.0</td>\n",
       "    </tr>\n",
       "    <tr>\n",
       "      <th>#TORRB1_D_E</th>\n",
       "      <td>14967.3</td>\n",
       "      <td>14967.9</td>\n",
       "      <td>14968.0</td>\n",
       "      <td>14968.0</td>\n",
       "      <td>14967.5</td>\n",
       "      <td>14967.0</td>\n",
       "      <td>14964.6</td>\n",
       "      <td>14963.0</td>\n",
       "      <td>14963.0</td>\n",
       "      <td>14964.6</td>\n",
       "      <td>...</td>\n",
       "      <td>0.0</td>\n",
       "      <td>0.0</td>\n",
       "      <td>0.0</td>\n",
       "      <td>0.0</td>\n",
       "      <td>0.0</td>\n",
       "      <td>0.0</td>\n",
       "      <td>0.0</td>\n",
       "      <td>0.0</td>\n",
       "      <td>0.0</td>\n",
       "      <td>0.0</td>\n",
       "    </tr>\n",
       "    <tr>\n",
       "      <th>#TORRB3_D_E</th>\n",
       "      <td>14967.3</td>\n",
       "      <td>14967.9</td>\n",
       "      <td>14968.0</td>\n",
       "      <td>14968.0</td>\n",
       "      <td>14967.5</td>\n",
       "      <td>14967.0</td>\n",
       "      <td>14964.6</td>\n",
       "      <td>14963.0</td>\n",
       "      <td>14963.0</td>\n",
       "      <td>14964.6</td>\n",
       "      <td>...</td>\n",
       "      <td>0.0</td>\n",
       "      <td>0.0</td>\n",
       "      <td>0.0</td>\n",
       "      <td>0.0</td>\n",
       "      <td>0.0</td>\n",
       "      <td>0.0</td>\n",
       "      <td>0.0</td>\n",
       "      <td>0.0</td>\n",
       "      <td>0.0</td>\n",
       "      <td>0.0</td>\n",
       "    </tr>\n",
       "    <tr>\n",
       "      <th>#WARWSF1_E</th>\n",
       "      <td>0.0</td>\n",
       "      <td>0.0</td>\n",
       "      <td>0.0</td>\n",
       "      <td>0.0</td>\n",
       "      <td>0.0</td>\n",
       "      <td>0.0</td>\n",
       "      <td>0.0</td>\n",
       "      <td>0.0</td>\n",
       "      <td>0.0</td>\n",
       "      <td>0.0</td>\n",
       "      <td>...</td>\n",
       "      <td>0.0</td>\n",
       "      <td>0.0</td>\n",
       "      <td>0.0</td>\n",
       "      <td>0.0</td>\n",
       "      <td>0.0</td>\n",
       "      <td>0.0</td>\n",
       "      <td>0.0</td>\n",
       "      <td>0.0</td>\n",
       "      <td>0.0</td>\n",
       "      <td>0.0</td>\n",
       "    </tr>\n",
       "    <tr>\n",
       "      <th>#YATSF1_E</th>\n",
       "      <td>0.0</td>\n",
       "      <td>0.0</td>\n",
       "      <td>0.0</td>\n",
       "      <td>0.0</td>\n",
       "      <td>0.0</td>\n",
       "      <td>0.0</td>\n",
       "      <td>0.0</td>\n",
       "      <td>0.0</td>\n",
       "      <td>0.0</td>\n",
       "      <td>0.0</td>\n",
       "      <td>...</td>\n",
       "      <td>0.0</td>\n",
       "      <td>0.0</td>\n",
       "      <td>0.0</td>\n",
       "      <td>0.0</td>\n",
       "      <td>0.0</td>\n",
       "      <td>0.0</td>\n",
       "      <td>0.0</td>\n",
       "      <td>0.0</td>\n",
       "      <td>0.0</td>\n",
       "      <td>0.0</td>\n",
       "    </tr>\n",
       "    <tr>\n",
       "      <th>$BARRON-1</th>\n",
       "      <td>0.0</td>\n",
       "      <td>0.0</td>\n",
       "      <td>0.0</td>\n",
       "      <td>0.0</td>\n",
       "      <td>0.0</td>\n",
       "      <td>0.0</td>\n",
       "      <td>0.0</td>\n",
       "      <td>0.0</td>\n",
       "      <td>0.0</td>\n",
       "      <td>0.0</td>\n",
       "      <td>...</td>\n",
       "      <td>0.0</td>\n",
       "      <td>0.0</td>\n",
       "      <td>0.0</td>\n",
       "      <td>0.0</td>\n",
       "      <td>0.0</td>\n",
       "      <td>0.0</td>\n",
       "      <td>0.0</td>\n",
       "      <td>0.0</td>\n",
       "      <td>0.0</td>\n",
       "      <td>0.0</td>\n",
       "    </tr>\n",
       "    <tr>\n",
       "      <th>$BLOWERNG</th>\n",
       "      <td>0.0</td>\n",
       "      <td>0.0</td>\n",
       "      <td>-1035.5</td>\n",
       "      <td>0.0</td>\n",
       "      <td>-1035.5</td>\n",
       "      <td>-1035.5</td>\n",
       "      <td>-1037.3</td>\n",
       "      <td>-1037.5</td>\n",
       "      <td>0.0</td>\n",
       "      <td>-1035.5</td>\n",
       "      <td>...</td>\n",
       "      <td>-1036.1</td>\n",
       "      <td>-1036.1</td>\n",
       "      <td>-1035.6</td>\n",
       "      <td>0.0</td>\n",
       "      <td>-1035.8</td>\n",
       "      <td>-1036.2</td>\n",
       "      <td>-1035.6</td>\n",
       "      <td>-1049.2</td>\n",
       "      <td>0.0</td>\n",
       "      <td>-1038.3</td>\n",
       "    </tr>\n",
       "    <tr>\n",
       "      <th>$CALL_B_1</th>\n",
       "      <td>14961.1</td>\n",
       "      <td>14962.9</td>\n",
       "      <td>14963.6</td>\n",
       "      <td>14963.3</td>\n",
       "      <td>14963.6</td>\n",
       "      <td>14964.4</td>\n",
       "      <td>14962.3</td>\n",
       "      <td>14962.3</td>\n",
       "      <td>14962.3</td>\n",
       "      <td>14964.6</td>\n",
       "      <td>...</td>\n",
       "      <td>12.2</td>\n",
       "      <td>12.3</td>\n",
       "      <td>12.5</td>\n",
       "      <td>12.0</td>\n",
       "      <td>11.4</td>\n",
       "      <td>10.7</td>\n",
       "      <td>11.1</td>\n",
       "      <td>-2.5</td>\n",
       "      <td>-6.1</td>\n",
       "      <td>8.1</td>\n",
       "    </tr>\n",
       "    <tr>\n",
       "      <th>$YATSF1</th>\n",
       "      <td>0.0</td>\n",
       "      <td>0.0</td>\n",
       "      <td>0.0</td>\n",
       "      <td>0.0</td>\n",
       "      <td>0.0</td>\n",
       "      <td>0.0</td>\n",
       "      <td>0.0</td>\n",
       "      <td>0.0</td>\n",
       "      <td>0.0</td>\n",
       "      <td>0.0</td>\n",
       "      <td>...</td>\n",
       "      <td>0.0</td>\n",
       "      <td>0.0</td>\n",
       "      <td>0.0</td>\n",
       "      <td>0.0</td>\n",
       "      <td>0.0</td>\n",
       "      <td>0.0</td>\n",
       "      <td>0.0</td>\n",
       "      <td>0.0</td>\n",
       "      <td>0.0</td>\n",
       "      <td>0.0</td>\n",
       "    </tr>\n",
       "    <tr>\n",
       "      <th>F_T_AUFLS2_R6</th>\n",
       "      <td>-3.5</td>\n",
       "      <td>-8.0</td>\n",
       "      <td>-8.0</td>\n",
       "      <td>-8.0</td>\n",
       "      <td>-3.5</td>\n",
       "      <td>-7.2</td>\n",
       "      <td>-5.1</td>\n",
       "      <td>-3.5</td>\n",
       "      <td>-3.6</td>\n",
       "      <td>-3.5</td>\n",
       "      <td>...</td>\n",
       "      <td>-8.0</td>\n",
       "      <td>-8.0</td>\n",
       "      <td>-8.0</td>\n",
       "      <td>-8.0</td>\n",
       "      <td>-8.1</td>\n",
       "      <td>-8.0</td>\n",
       "      <td>-8.0</td>\n",
       "      <td>-8.5</td>\n",
       "      <td>-12.8</td>\n",
       "      <td>-8.3</td>\n",
       "    </tr>\n",
       "    <tr>\n",
       "      <th>N&gt;&gt;N-NIL_94T</th>\n",
       "      <td>0.0</td>\n",
       "      <td>0.0</td>\n",
       "      <td>0.0</td>\n",
       "      <td>0.0</td>\n",
       "      <td>0.0</td>\n",
       "      <td>0.0</td>\n",
       "      <td>0.0</td>\n",
       "      <td>0.0</td>\n",
       "      <td>0.0</td>\n",
       "      <td>0.0</td>\n",
       "      <td>...</td>\n",
       "      <td>0.0</td>\n",
       "      <td>0.0</td>\n",
       "      <td>0.0</td>\n",
       "      <td>0.0</td>\n",
       "      <td>0.0</td>\n",
       "      <td>0.0</td>\n",
       "      <td>0.0</td>\n",
       "      <td>0.0</td>\n",
       "      <td>0.0</td>\n",
       "      <td>0.0</td>\n",
       "    </tr>\n",
       "    <tr>\n",
       "      <th>N&gt;&gt;N-NIL_94T_947</th>\n",
       "      <td>0.0</td>\n",
       "      <td>0.0</td>\n",
       "      <td>0.0</td>\n",
       "      <td>0.0</td>\n",
       "      <td>0.0</td>\n",
       "      <td>0.0</td>\n",
       "      <td>0.0</td>\n",
       "      <td>0.0</td>\n",
       "      <td>0.0</td>\n",
       "      <td>0.0</td>\n",
       "      <td>...</td>\n",
       "      <td>0.0</td>\n",
       "      <td>0.0</td>\n",
       "      <td>0.0</td>\n",
       "      <td>0.0</td>\n",
       "      <td>0.0</td>\n",
       "      <td>0.0</td>\n",
       "      <td>0.0</td>\n",
       "      <td>0.0</td>\n",
       "      <td>0.0</td>\n",
       "      <td>0.0</td>\n",
       "    </tr>\n",
       "    <tr>\n",
       "      <th>N&gt;&gt;N-PKWL_94K_2</th>\n",
       "      <td>0.0</td>\n",
       "      <td>0.0</td>\n",
       "      <td>0.0</td>\n",
       "      <td>0.0</td>\n",
       "      <td>0.0</td>\n",
       "      <td>0.0</td>\n",
       "      <td>0.0</td>\n",
       "      <td>0.0</td>\n",
       "      <td>0.0</td>\n",
       "      <td>0.0</td>\n",
       "      <td>...</td>\n",
       "      <td>-51.9</td>\n",
       "      <td>0.0</td>\n",
       "      <td>0.0</td>\n",
       "      <td>0.0</td>\n",
       "      <td>0.0</td>\n",
       "      <td>0.0</td>\n",
       "      <td>0.0</td>\n",
       "      <td>0.0</td>\n",
       "      <td>0.0</td>\n",
       "      <td>0.0</td>\n",
       "    </tr>\n",
       "    <tr>\n",
       "      <th>NC_N_DARLSF1</th>\n",
       "      <td>0.0</td>\n",
       "      <td>0.0</td>\n",
       "      <td>0.0</td>\n",
       "      <td>0.0</td>\n",
       "      <td>0.0</td>\n",
       "      <td>0.0</td>\n",
       "      <td>0.0</td>\n",
       "      <td>0.0</td>\n",
       "      <td>0.0</td>\n",
       "      <td>0.0</td>\n",
       "      <td>...</td>\n",
       "      <td>0.0</td>\n",
       "      <td>0.0</td>\n",
       "      <td>0.0</td>\n",
       "      <td>0.0</td>\n",
       "      <td>0.0</td>\n",
       "      <td>0.0</td>\n",
       "      <td>0.0</td>\n",
       "      <td>0.0</td>\n",
       "      <td>0.0</td>\n",
       "      <td>0.0</td>\n",
       "    </tr>\n",
       "    <tr>\n",
       "      <th>N^^N_NIL_2</th>\n",
       "      <td>0.0</td>\n",
       "      <td>0.0</td>\n",
       "      <td>0.0</td>\n",
       "      <td>0.0</td>\n",
       "      <td>0.0</td>\n",
       "      <td>0.0</td>\n",
       "      <td>0.0</td>\n",
       "      <td>0.0</td>\n",
       "      <td>0.0</td>\n",
       "      <td>0.0</td>\n",
       "      <td>...</td>\n",
       "      <td>0.0</td>\n",
       "      <td>0.0</td>\n",
       "      <td>0.0</td>\n",
       "      <td>0.0</td>\n",
       "      <td>0.0</td>\n",
       "      <td>0.0</td>\n",
       "      <td>0.0</td>\n",
       "      <td>0.0</td>\n",
       "      <td>0.0</td>\n",
       "      <td>0.0</td>\n",
       "    </tr>\n",
       "    <tr>\n",
       "      <th>N^^N_NIL_3</th>\n",
       "      <td>0.0</td>\n",
       "      <td>0.0</td>\n",
       "      <td>0.0</td>\n",
       "      <td>0.0</td>\n",
       "      <td>0.0</td>\n",
       "      <td>0.0</td>\n",
       "      <td>0.0</td>\n",
       "      <td>0.0</td>\n",
       "      <td>0.0</td>\n",
       "      <td>0.0</td>\n",
       "      <td>...</td>\n",
       "      <td>0.0</td>\n",
       "      <td>0.0</td>\n",
       "      <td>0.0</td>\n",
       "      <td>0.0</td>\n",
       "      <td>0.0</td>\n",
       "      <td>0.0</td>\n",
       "      <td>0.0</td>\n",
       "      <td>0.0</td>\n",
       "      <td>0.0</td>\n",
       "      <td>0.0</td>\n",
       "    </tr>\n",
       "    <tr>\n",
       "      <th>Q&gt;NIL_COLNVSF1</th>\n",
       "      <td>0.0</td>\n",
       "      <td>0.0</td>\n",
       "      <td>0.0</td>\n",
       "      <td>0.0</td>\n",
       "      <td>0.0</td>\n",
       "      <td>0.0</td>\n",
       "      <td>0.0</td>\n",
       "      <td>0.0</td>\n",
       "      <td>0.0</td>\n",
       "      <td>0.0</td>\n",
       "      <td>...</td>\n",
       "      <td>0.0</td>\n",
       "      <td>0.0</td>\n",
       "      <td>0.0</td>\n",
       "      <td>0.0</td>\n",
       "      <td>0.0</td>\n",
       "      <td>0.0</td>\n",
       "      <td>0.0</td>\n",
       "      <td>0.0</td>\n",
       "      <td>0.0</td>\n",
       "      <td>0.0</td>\n",
       "    </tr>\n",
       "    <tr>\n",
       "      <th>Q&gt;NIL_YLMR</th>\n",
       "      <td>0.0</td>\n",
       "      <td>0.0</td>\n",
       "      <td>0.0</td>\n",
       "      <td>0.0</td>\n",
       "      <td>0.0</td>\n",
       "      <td>0.0</td>\n",
       "      <td>0.0</td>\n",
       "      <td>0.0</td>\n",
       "      <td>0.0</td>\n",
       "      <td>0.0</td>\n",
       "      <td>...</td>\n",
       "      <td>0.0</td>\n",
       "      <td>0.0</td>\n",
       "      <td>0.0</td>\n",
       "      <td>0.0</td>\n",
       "      <td>0.0</td>\n",
       "      <td>0.0</td>\n",
       "      <td>0.0</td>\n",
       "      <td>0.0</td>\n",
       "      <td>0.0</td>\n",
       "      <td>0.0</td>\n",
       "    </tr>\n",
       "    <tr>\n",
       "      <th>S&gt;NIL_MHNW1_MHNW2</th>\n",
       "      <td>0.0</td>\n",
       "      <td>0.0</td>\n",
       "      <td>0.0</td>\n",
       "      <td>0.0</td>\n",
       "      <td>0.0</td>\n",
       "      <td>0.0</td>\n",
       "      <td>0.0</td>\n",
       "      <td>0.0</td>\n",
       "      <td>0.0</td>\n",
       "      <td>0.0</td>\n",
       "      <td>...</td>\n",
       "      <td>0.0</td>\n",
       "      <td>0.0</td>\n",
       "      <td>0.0</td>\n",
       "      <td>0.0</td>\n",
       "      <td>0.0</td>\n",
       "      <td>0.0</td>\n",
       "      <td>0.0</td>\n",
       "      <td>0.0</td>\n",
       "      <td>0.0</td>\n",
       "      <td>0.0</td>\n",
       "    </tr>\n",
       "    <tr>\n",
       "      <th>V&gt;&gt;V_NIL_14</th>\n",
       "      <td>0.0</td>\n",
       "      <td>0.0</td>\n",
       "      <td>0.0</td>\n",
       "      <td>0.0</td>\n",
       "      <td>0.0</td>\n",
       "      <td>0.0</td>\n",
       "      <td>0.0</td>\n",
       "      <td>0.0</td>\n",
       "      <td>0.0</td>\n",
       "      <td>0.0</td>\n",
       "      <td>...</td>\n",
       "      <td>0.0</td>\n",
       "      <td>0.0</td>\n",
       "      <td>0.0</td>\n",
       "      <td>0.0</td>\n",
       "      <td>0.0</td>\n",
       "      <td>0.0</td>\n",
       "      <td>0.0</td>\n",
       "      <td>0.0</td>\n",
       "      <td>0.0</td>\n",
       "      <td>0.0</td>\n",
       "    </tr>\n",
       "    <tr>\n",
       "      <th>V&gt;V_NIL_17</th>\n",
       "      <td>0.0</td>\n",
       "      <td>0.0</td>\n",
       "      <td>0.0</td>\n",
       "      <td>0.0</td>\n",
       "      <td>0.0</td>\n",
       "      <td>0.0</td>\n",
       "      <td>0.0</td>\n",
       "      <td>0.0</td>\n",
       "      <td>0.0</td>\n",
       "      <td>0.0</td>\n",
       "      <td>...</td>\n",
       "      <td>0.0</td>\n",
       "      <td>0.0</td>\n",
       "      <td>0.0</td>\n",
       "      <td>0.0</td>\n",
       "      <td>0.0</td>\n",
       "      <td>0.0</td>\n",
       "      <td>0.0</td>\n",
       "      <td>0.0</td>\n",
       "      <td>0.0</td>\n",
       "      <td>0.0</td>\n",
       "    </tr>\n",
       "    <tr>\n",
       "      <th>V_BANSF_BBD_80</th>\n",
       "      <td>0.0</td>\n",
       "      <td>0.0</td>\n",
       "      <td>0.0</td>\n",
       "      <td>0.0</td>\n",
       "      <td>0.0</td>\n",
       "      <td>0.0</td>\n",
       "      <td>0.0</td>\n",
       "      <td>0.0</td>\n",
       "      <td>0.0</td>\n",
       "      <td>0.0</td>\n",
       "      <td>...</td>\n",
       "      <td>0.0</td>\n",
       "      <td>0.0</td>\n",
       "      <td>0.0</td>\n",
       "      <td>0.0</td>\n",
       "      <td>0.0</td>\n",
       "      <td>0.0</td>\n",
       "      <td>0.0</td>\n",
       "      <td>0.0</td>\n",
       "      <td>0.0</td>\n",
       "      <td>0.0</td>\n",
       "    </tr>\n",
       "    <tr>\n",
       "      <th>V_T_NIL_FCSPS</th>\n",
       "      <td>0.0</td>\n",
       "      <td>0.0</td>\n",
       "      <td>0.0</td>\n",
       "      <td>0.0</td>\n",
       "      <td>0.0</td>\n",
       "      <td>0.0</td>\n",
       "      <td>0.0</td>\n",
       "      <td>0.0</td>\n",
       "      <td>0.0</td>\n",
       "      <td>0.0</td>\n",
       "      <td>...</td>\n",
       "      <td>0.0</td>\n",
       "      <td>0.0</td>\n",
       "      <td>0.0</td>\n",
       "      <td>0.0</td>\n",
       "      <td>0.0</td>\n",
       "      <td>0.0</td>\n",
       "      <td>0.0</td>\n",
       "      <td>0.0</td>\n",
       "      <td>0.0</td>\n",
       "      <td>0.0</td>\n",
       "    </tr>\n",
       "  </tbody>\n",
       "</table>\n",
       "<p>26 rows × 146 columns</p>\n",
       "</div>"
      ],
      "text/plain": [
       "interval           2021/02/15 06:00:00  2021/02/15 06:05:00  \\\n",
       "set                                                           \n",
       "#MWPS1PV1_E                    -1032.7                  0.0   \n",
       "#MWPS2PV1_E                        0.0                  0.0   \n",
       "#MWPS4PV1_E                        0.0              -1032.1   \n",
       "#PPCCGT_D_E                    14967.3              14967.9   \n",
       "#TORRB1_D_E                    14967.3              14967.9   \n",
       "#TORRB3_D_E                    14967.3              14967.9   \n",
       "#WARWSF1_E                         0.0                  0.0   \n",
       "#YATSF1_E                          0.0                  0.0   \n",
       "$BARRON-1                          0.0                  0.0   \n",
       "$BLOWERNG                          0.0                  0.0   \n",
       "$CALL_B_1                      14961.1              14962.9   \n",
       "$YATSF1                            0.0                  0.0   \n",
       "F_T_AUFLS2_R6                     -3.5                 -8.0   \n",
       "N>>N-NIL_94T                       0.0                  0.0   \n",
       "N>>N-NIL_94T_947                   0.0                  0.0   \n",
       "N>>N-PKWL_94K_2                    0.0                  0.0   \n",
       "NC_N_DARLSF1                       0.0                  0.0   \n",
       "N^^N_NIL_2                         0.0                  0.0   \n",
       "N^^N_NIL_3                         0.0                  0.0   \n",
       "Q>NIL_COLNVSF1                     0.0                  0.0   \n",
       "Q>NIL_YLMR                         0.0                  0.0   \n",
       "S>NIL_MHNW1_MHNW2                  0.0                  0.0   \n",
       "V>>V_NIL_14                        0.0                  0.0   \n",
       "V>V_NIL_17                         0.0                  0.0   \n",
       "V_BANSF_BBD_80                     0.0                  0.0   \n",
       "V_T_NIL_FCSPS                      0.0                  0.0   \n",
       "\n",
       "interval           2021/02/15 06:10:00  2021/02/15 06:15:00  \\\n",
       "set                                                           \n",
       "#MWPS1PV1_E                        0.0              -1032.0   \n",
       "#MWPS2PV1_E                        0.0              -1032.0   \n",
       "#MWPS4PV1_E                    -1032.0                  0.0   \n",
       "#PPCCGT_D_E                    14968.0              14968.0   \n",
       "#TORRB1_D_E                    14968.0              14968.0   \n",
       "#TORRB3_D_E                    14968.0              14968.0   \n",
       "#WARWSF1_E                         0.0                  0.0   \n",
       "#YATSF1_E                          0.0                  0.0   \n",
       "$BARRON-1                          0.0                  0.0   \n",
       "$BLOWERNG                      -1035.5                  0.0   \n",
       "$CALL_B_1                      14963.6              14963.3   \n",
       "$YATSF1                            0.0                  0.0   \n",
       "F_T_AUFLS2_R6                     -8.0                 -8.0   \n",
       "N>>N-NIL_94T                       0.0                  0.0   \n",
       "N>>N-NIL_94T_947                   0.0                  0.0   \n",
       "N>>N-PKWL_94K_2                    0.0                  0.0   \n",
       "NC_N_DARLSF1                       0.0                  0.0   \n",
       "N^^N_NIL_2                         0.0                  0.0   \n",
       "N^^N_NIL_3                         0.0                  0.0   \n",
       "Q>NIL_COLNVSF1                     0.0                  0.0   \n",
       "Q>NIL_YLMR                         0.0                  0.0   \n",
       "S>NIL_MHNW1_MHNW2                  0.0                  0.0   \n",
       "V>>V_NIL_14                        0.0                  0.0   \n",
       "V>V_NIL_17                         0.0                  0.0   \n",
       "V_BANSF_BBD_80                     0.0                  0.0   \n",
       "V_T_NIL_FCSPS                      0.0                  0.0   \n",
       "\n",
       "interval           2021/02/15 06:20:00  2021/02/15 06:25:00  \\\n",
       "set                                                           \n",
       "#MWPS1PV1_E                    -1032.5              -1033.0   \n",
       "#MWPS2PV1_E                    -1032.5              -1033.0   \n",
       "#MWPS4PV1_E                        0.0                  0.0   \n",
       "#PPCCGT_D_E                    14967.5              14967.0   \n",
       "#TORRB1_D_E                    14967.5              14967.0   \n",
       "#TORRB3_D_E                    14967.5              14967.0   \n",
       "#WARWSF1_E                         0.0                  0.0   \n",
       "#YATSF1_E                          0.0                  0.0   \n",
       "$BARRON-1                          0.0                  0.0   \n",
       "$BLOWERNG                      -1035.5              -1035.5   \n",
       "$CALL_B_1                      14963.6              14964.4   \n",
       "$YATSF1                            0.0                  0.0   \n",
       "F_T_AUFLS2_R6                     -3.5                 -7.2   \n",
       "N>>N-NIL_94T                       0.0                  0.0   \n",
       "N>>N-NIL_94T_947                   0.0                  0.0   \n",
       "N>>N-PKWL_94K_2                    0.0                  0.0   \n",
       "NC_N_DARLSF1                       0.0                  0.0   \n",
       "N^^N_NIL_2                         0.0                  0.0   \n",
       "N^^N_NIL_3                         0.0                  0.0   \n",
       "Q>NIL_COLNVSF1                     0.0                  0.0   \n",
       "Q>NIL_YLMR                         0.0                  0.0   \n",
       "S>NIL_MHNW1_MHNW2                  0.0                  0.0   \n",
       "V>>V_NIL_14                        0.0                  0.0   \n",
       "V>V_NIL_17                         0.0                  0.0   \n",
       "V_BANSF_BBD_80                     0.0                  0.0   \n",
       "V_T_NIL_FCSPS                      0.0                  0.0   \n",
       "\n",
       "interval           2021/02/15 06:30:00  2021/02/15 06:35:00  \\\n",
       "set                                                           \n",
       "#MWPS1PV1_E                    -1035.4              -1037.0   \n",
       "#MWPS2PV1_E                    -1035.4                  0.0   \n",
       "#MWPS4PV1_E                    -1035.4                  0.0   \n",
       "#PPCCGT_D_E                    14964.6              14963.0   \n",
       "#TORRB1_D_E                    14964.6              14963.0   \n",
       "#TORRB3_D_E                    14964.6              14963.0   \n",
       "#WARWSF1_E                         0.0                  0.0   \n",
       "#YATSF1_E                          0.0                  0.0   \n",
       "$BARRON-1                          0.0                  0.0   \n",
       "$BLOWERNG                      -1037.3              -1037.5   \n",
       "$CALL_B_1                      14962.3              14962.3   \n",
       "$YATSF1                            0.0                  0.0   \n",
       "F_T_AUFLS2_R6                     -5.1                 -3.5   \n",
       "N>>N-NIL_94T                       0.0                  0.0   \n",
       "N>>N-NIL_94T_947                   0.0                  0.0   \n",
       "N>>N-PKWL_94K_2                    0.0                  0.0   \n",
       "NC_N_DARLSF1                       0.0                  0.0   \n",
       "N^^N_NIL_2                         0.0                  0.0   \n",
       "N^^N_NIL_3                         0.0                  0.0   \n",
       "Q>NIL_COLNVSF1                     0.0                  0.0   \n",
       "Q>NIL_YLMR                         0.0                  0.0   \n",
       "S>NIL_MHNW1_MHNW2                  0.0                  0.0   \n",
       "V>>V_NIL_14                        0.0                  0.0   \n",
       "V>V_NIL_17                         0.0                  0.0   \n",
       "V_BANSF_BBD_80                     0.0                  0.0   \n",
       "V_T_NIL_FCSPS                      0.0                  0.0   \n",
       "\n",
       "interval           2021/02/15 06:40:00  2021/02/15 06:45:00  ...  \\\n",
       "set                                                          ...   \n",
       "#MWPS1PV1_E                        0.0              -1035.4  ...   \n",
       "#MWPS2PV1_E                    -1037.0                  0.0  ...   \n",
       "#MWPS4PV1_E                        0.0                  0.0  ...   \n",
       "#PPCCGT_D_E                    14963.0              14964.6  ...   \n",
       "#TORRB1_D_E                    14963.0              14964.6  ...   \n",
       "#TORRB3_D_E                    14963.0              14964.6  ...   \n",
       "#WARWSF1_E                         0.0                  0.0  ...   \n",
       "#YATSF1_E                          0.0                  0.0  ...   \n",
       "$BARRON-1                          0.0                  0.0  ...   \n",
       "$BLOWERNG                          0.0              -1035.5  ...   \n",
       "$CALL_B_1                      14962.3              14964.6  ...   \n",
       "$YATSF1                            0.0                  0.0  ...   \n",
       "F_T_AUFLS2_R6                     -3.6                 -3.5  ...   \n",
       "N>>N-NIL_94T                       0.0                  0.0  ...   \n",
       "N>>N-NIL_94T_947                   0.0                  0.0  ...   \n",
       "N>>N-PKWL_94K_2                    0.0                  0.0  ...   \n",
       "NC_N_DARLSF1                       0.0                  0.0  ...   \n",
       "N^^N_NIL_2                         0.0                  0.0  ...   \n",
       "N^^N_NIL_3                         0.0                  0.0  ...   \n",
       "Q>NIL_COLNVSF1                     0.0                  0.0  ...   \n",
       "Q>NIL_YLMR                         0.0                  0.0  ...   \n",
       "S>NIL_MHNW1_MHNW2                  0.0                  0.0  ...   \n",
       "V>>V_NIL_14                        0.0                  0.0  ...   \n",
       "V>V_NIL_17                         0.0                  0.0  ...   \n",
       "V_BANSF_BBD_80                     0.0                  0.0  ...   \n",
       "V_T_NIL_FCSPS                      0.0                  0.0  ...   \n",
       "\n",
       "interval           2021/02/15 17:20:00  2021/02/15 17:25:00  \\\n",
       "set                                                           \n",
       "#MWPS1PV1_E                        0.0              -1038.6   \n",
       "#MWPS2PV1_E                        0.0                  0.0   \n",
       "#MWPS4PV1_E                    -1038.0                  0.0   \n",
       "#PPCCGT_D_E                    14962.0              14961.4   \n",
       "#TORRB1_D_E                        0.0                  0.0   \n",
       "#TORRB3_D_E                        0.0                  0.0   \n",
       "#WARWSF1_E                         0.0                  0.0   \n",
       "#YATSF1_E                          0.0                  0.0   \n",
       "$BARRON-1                          0.0                  0.0   \n",
       "$BLOWERNG                      -1036.1              -1036.1   \n",
       "$CALL_B_1                         12.2                 12.3   \n",
       "$YATSF1                            0.0                  0.0   \n",
       "F_T_AUFLS2_R6                     -8.0                 -8.0   \n",
       "N>>N-NIL_94T                       0.0                  0.0   \n",
       "N>>N-NIL_94T_947                   0.0                  0.0   \n",
       "N>>N-PKWL_94K_2                  -51.9                  0.0   \n",
       "NC_N_DARLSF1                       0.0                  0.0   \n",
       "N^^N_NIL_2                         0.0                  0.0   \n",
       "N^^N_NIL_3                         0.0                  0.0   \n",
       "Q>NIL_COLNVSF1                     0.0                  0.0   \n",
       "Q>NIL_YLMR                         0.0                  0.0   \n",
       "S>NIL_MHNW1_MHNW2                  0.0                  0.0   \n",
       "V>>V_NIL_14                        0.0                  0.0   \n",
       "V>V_NIL_17                         0.0                  0.0   \n",
       "V_BANSF_BBD_80                     0.0                  0.0   \n",
       "V_T_NIL_FCSPS                      0.0                  0.0   \n",
       "\n",
       "interval           2021/02/15 17:30:00  2021/02/15 17:35:00  \\\n",
       "set                                                           \n",
       "#MWPS1PV1_E                        0.0                  0.0   \n",
       "#MWPS2PV1_E                    -1038.2              -1038.8   \n",
       "#MWPS4PV1_E                        0.0              -1038.8   \n",
       "#PPCCGT_D_E                    14961.8                  0.0   \n",
       "#TORRB1_D_E                        0.0                  0.0   \n",
       "#TORRB3_D_E                        0.0                  0.0   \n",
       "#WARWSF1_E                         0.0                  0.0   \n",
       "#YATSF1_E                          0.0                  0.0   \n",
       "$BARRON-1                          0.0                  0.0   \n",
       "$BLOWERNG                      -1035.6                  0.0   \n",
       "$CALL_B_1                         12.5                 12.0   \n",
       "$YATSF1                            0.0                  0.0   \n",
       "F_T_AUFLS2_R6                     -8.0                 -8.0   \n",
       "N>>N-NIL_94T                       0.0                  0.0   \n",
       "N>>N-NIL_94T_947                   0.0                  0.0   \n",
       "N>>N-PKWL_94K_2                    0.0                  0.0   \n",
       "NC_N_DARLSF1                       0.0                  0.0   \n",
       "N^^N_NIL_2                         0.0                  0.0   \n",
       "N^^N_NIL_3                         0.0                  0.0   \n",
       "Q>NIL_COLNVSF1                     0.0                  0.0   \n",
       "Q>NIL_YLMR                         0.0                  0.0   \n",
       "S>NIL_MHNW1_MHNW2                  0.0                  0.0   \n",
       "V>>V_NIL_14                        0.0                  0.0   \n",
       "V>V_NIL_17                         0.0                  0.0   \n",
       "V_BANSF_BBD_80                     0.0                  0.0   \n",
       "V_T_NIL_FCSPS                      0.0                  0.0   \n",
       "\n",
       "interval           2021/02/15 17:40:00  2021/02/15 17:45:00  \\\n",
       "set                                                           \n",
       "#MWPS1PV1_E                        0.0                  0.0   \n",
       "#MWPS2PV1_E                    -1038.8                  0.0   \n",
       "#MWPS4PV1_E                        0.0              -1039.4   \n",
       "#PPCCGT_D_E                        0.0                  0.0   \n",
       "#TORRB1_D_E                        0.0                  0.0   \n",
       "#TORRB3_D_E                        0.0                  0.0   \n",
       "#WARWSF1_E                         0.0                  0.0   \n",
       "#YATSF1_E                          0.0                  0.0   \n",
       "$BARRON-1                          0.0                  0.0   \n",
       "$BLOWERNG                      -1035.8              -1036.2   \n",
       "$CALL_B_1                         11.4                 10.7   \n",
       "$YATSF1                            0.0                  0.0   \n",
       "F_T_AUFLS2_R6                     -8.1                 -8.0   \n",
       "N>>N-NIL_94T                       0.0                  0.0   \n",
       "N>>N-NIL_94T_947                   0.0                  0.0   \n",
       "N>>N-PKWL_94K_2                    0.0                  0.0   \n",
       "NC_N_DARLSF1                       0.0                  0.0   \n",
       "N^^N_NIL_2                         0.0                  0.0   \n",
       "N^^N_NIL_3                         0.0                  0.0   \n",
       "Q>NIL_COLNVSF1                     0.0                  0.0   \n",
       "Q>NIL_YLMR                         0.0                  0.0   \n",
       "S>NIL_MHNW1_MHNW2                  0.0                  0.0   \n",
       "V>>V_NIL_14                        0.0                  0.0   \n",
       "V>V_NIL_17                         0.0                  0.0   \n",
       "V_BANSF_BBD_80                     0.0                  0.0   \n",
       "V_T_NIL_FCSPS                      0.0                  0.0   \n",
       "\n",
       "interval           2021/02/15 17:50:00  2021/02/15 17:55:00  \\\n",
       "set                                                           \n",
       "#MWPS1PV1_E                    -1039.5                  0.0   \n",
       "#MWPS2PV1_E                        0.0              -1055.4   \n",
       "#MWPS4PV1_E                        0.0              -1055.4   \n",
       "#PPCCGT_D_E                        0.0                  0.0   \n",
       "#TORRB1_D_E                        0.0                  0.0   \n",
       "#TORRB3_D_E                        0.0                  0.0   \n",
       "#WARWSF1_E                         0.0                  0.0   \n",
       "#YATSF1_E                          0.0                  0.0   \n",
       "$BARRON-1                          0.0                  0.0   \n",
       "$BLOWERNG                      -1035.6              -1049.2   \n",
       "$CALL_B_1                         11.1                 -2.5   \n",
       "$YATSF1                            0.0                  0.0   \n",
       "F_T_AUFLS2_R6                     -8.0                 -8.5   \n",
       "N>>N-NIL_94T                       0.0                  0.0   \n",
       "N>>N-NIL_94T_947                   0.0                  0.0   \n",
       "N>>N-PKWL_94K_2                    0.0                  0.0   \n",
       "NC_N_DARLSF1                       0.0                  0.0   \n",
       "N^^N_NIL_2                         0.0                  0.0   \n",
       "N^^N_NIL_3                         0.0                  0.0   \n",
       "Q>NIL_COLNVSF1                     0.0                  0.0   \n",
       "Q>NIL_YLMR                         0.0                  0.0   \n",
       "S>NIL_MHNW1_MHNW2                  0.0                  0.0   \n",
       "V>>V_NIL_14                        0.0                  0.0   \n",
       "V>V_NIL_17                         0.0                  0.0   \n",
       "V_BANSF_BBD_80                     0.0                  0.0   \n",
       "V_T_NIL_FCSPS                      0.0                  0.0   \n",
       "\n",
       "interval           2021/02/15 18:00:00  2021/02/15 18:05:00  \n",
       "set                                                          \n",
       "#MWPS1PV1_E                        0.0              -1042.5  \n",
       "#MWPS2PV1_E                    -1058.1              -1042.5  \n",
       "#MWPS4PV1_E                    -1058.1                  0.0  \n",
       "#PPCCGT_D_E                        0.0                  0.0  \n",
       "#TORRB1_D_E                        0.0                  0.0  \n",
       "#TORRB3_D_E                        0.0                  0.0  \n",
       "#WARWSF1_E                         0.0                  0.0  \n",
       "#YATSF1_E                          0.0                  0.0  \n",
       "$BARRON-1                          0.0                  0.0  \n",
       "$BLOWERNG                          0.0              -1038.3  \n",
       "$CALL_B_1                         -6.1                  8.1  \n",
       "$YATSF1                            0.0                  0.0  \n",
       "F_T_AUFLS2_R6                    -12.8                 -8.3  \n",
       "N>>N-NIL_94T                       0.0                  0.0  \n",
       "N>>N-NIL_94T_947                   0.0                  0.0  \n",
       "N>>N-PKWL_94K_2                    0.0                  0.0  \n",
       "NC_N_DARLSF1                       0.0                  0.0  \n",
       "N^^N_NIL_2                         0.0                  0.0  \n",
       "N^^N_NIL_3                         0.0                  0.0  \n",
       "Q>NIL_COLNVSF1                     0.0                  0.0  \n",
       "Q>NIL_YLMR                         0.0                  0.0  \n",
       "S>NIL_MHNW1_MHNW2                  0.0                  0.0  \n",
       "V>>V_NIL_14                        0.0                  0.0  \n",
       "V>V_NIL_17                         0.0                  0.0  \n",
       "V_BANSF_BBD_80                     0.0                  0.0  \n",
       "V_T_NIL_FCSPS                      0.0                  0.0  \n",
       "\n",
       "[26 rows x 146 columns]"
      ]
     },
     "execution_count": 22,
     "metadata": {},
     "output_type": "execute_result"
    }
   ],
   "source": [
    "mv_table = marginal_values.groupby(['set','interval']).marginal_value.first().unstack().fillna(0).round(1)\n",
    "mv_table"
   ]
  },
  {
   "cell_type": "markdown",
   "metadata": {},
   "source": [
    "#### Retrieve information about the 'N>>N-NIL_94T_947' constraint\n",
    "Specifically, we are interested in the impact of removing the <b>N>>N-NIL_94T_947</b> constraint, as per the previous example however now looking across the timeseries of dispatch intervals. From which we can compare the earlier analysis of this occurance in the [Example by J. Simpson](https://jacksimpson.co/exploring-the-impact-of-constraints-on-a-solar-farm-in-the-national-electricity-market/)\n",
    "\n",
    "Here we can note the change in marginal values across the timeseries"
   ]
  },
  {
   "cell_type": "code",
   "execution_count": 23,
   "metadata": {},
   "outputs": [
    {
     "data": {
      "text/html": [
       "<div>\n",
       "<style scoped>\n",
       "    .dataframe tbody tr th:only-of-type {\n",
       "        vertical-align: middle;\n",
       "    }\n",
       "\n",
       "    .dataframe tbody tr th {\n",
       "        vertical-align: top;\n",
       "    }\n",
       "\n",
       "    .dataframe thead th {\n",
       "        text-align: right;\n",
       "    }\n",
       "</style>\n",
       "<table border=\"1\" class=\"dataframe\">\n",
       "  <thead>\n",
       "    <tr style=\"text-align: right;\">\n",
       "      <th></th>\n",
       "      <th>N&gt;&gt;N-NIL_94T_947</th>\n",
       "    </tr>\n",
       "    <tr>\n",
       "      <th>interval</th>\n",
       "      <th></th>\n",
       "    </tr>\n",
       "  </thead>\n",
       "  <tbody>\n",
       "    <tr>\n",
       "      <th>2021/02/15 07:20:00</th>\n",
       "      <td>-52.2</td>\n",
       "    </tr>\n",
       "    <tr>\n",
       "      <th>2021/02/15 07:25:00</th>\n",
       "      <td>-49.6</td>\n",
       "    </tr>\n",
       "    <tr>\n",
       "      <th>2021/02/15 07:30:00</th>\n",
       "      <td>-50.0</td>\n",
       "    </tr>\n",
       "    <tr>\n",
       "      <th>2021/02/15 07:35:00</th>\n",
       "      <td>-48.0</td>\n",
       "    </tr>\n",
       "    <tr>\n",
       "      <th>2021/02/15 07:55:00</th>\n",
       "      <td>-471.7</td>\n",
       "    </tr>\n",
       "    <tr>\n",
       "      <th>...</th>\n",
       "      <td>...</td>\n",
       "    </tr>\n",
       "    <tr>\n",
       "      <th>2021/02/15 15:35:00</th>\n",
       "      <td>-476.5</td>\n",
       "    </tr>\n",
       "    <tr>\n",
       "      <th>2021/02/15 15:40:00</th>\n",
       "      <td>-498.6</td>\n",
       "    </tr>\n",
       "    <tr>\n",
       "      <th>2021/02/15 15:45:00</th>\n",
       "      <td>-522.9</td>\n",
       "    </tr>\n",
       "    <tr>\n",
       "      <th>2021/02/15 15:50:00</th>\n",
       "      <td>-498.6</td>\n",
       "    </tr>\n",
       "    <tr>\n",
       "      <th>2021/02/15 15:55:00</th>\n",
       "      <td>-498.6</td>\n",
       "    </tr>\n",
       "  </tbody>\n",
       "</table>\n",
       "<p>96 rows × 1 columns</p>\n",
       "</div>"
      ],
      "text/plain": [
       "                     N>>N-NIL_94T_947\n",
       "interval                             \n",
       "2021/02/15 07:20:00             -52.2\n",
       "2021/02/15 07:25:00             -49.6\n",
       "2021/02/15 07:30:00             -50.0\n",
       "2021/02/15 07:35:00             -48.0\n",
       "2021/02/15 07:55:00            -471.7\n",
       "...                               ...\n",
       "2021/02/15 15:35:00            -476.5\n",
       "2021/02/15 15:40:00            -498.6\n",
       "2021/02/15 15:45:00            -522.9\n",
       "2021/02/15 15:50:00            -498.6\n",
       "2021/02/15 15:55:00            -498.6\n",
       "\n",
       "[96 rows x 1 columns]"
      ]
     },
     "execution_count": 23,
     "metadata": {},
     "output_type": "execute_result"
    }
   ],
   "source": [
    "con_vals = mv_table.loc['N>>N-NIL_94T_947',:]\n",
    "con_vals_nonzero = con_vals[con_vals != 0]\n",
    "pd.DataFrame(con_vals_nonzero)"
   ]
  },
  {
   "cell_type": "markdown",
   "metadata": {},
   "source": [
    "---\n",
    "\n",
    "### B4. Unit Dispatch Results\n",
    "For completeness, we can also tabulate the unit dispatch results here. Specifically, we are only interested in the energy service not FCAS here. These are further saved in the downloaded results file."
   ]
  },
  {
   "cell_type": "code",
   "execution_count": 25,
   "metadata": {},
   "outputs": [
    {
     "data": {
      "text/html": [
       "<div>\n",
       "<style scoped>\n",
       "    .dataframe tbody tr th:only-of-type {\n",
       "        vertical-align: middle;\n",
       "    }\n",
       "\n",
       "    .dataframe tbody tr th {\n",
       "        vertical-align: top;\n",
       "    }\n",
       "\n",
       "    .dataframe thead th {\n",
       "        text-align: right;\n",
       "    }\n",
       "</style>\n",
       "<table border=\"1\" class=\"dataframe\">\n",
       "  <thead>\n",
       "    <tr style=\"text-align: right;\">\n",
       "      <th>interval</th>\n",
       "      <th>2021/02/15 06:00:00</th>\n",
       "      <th>2021/02/15 06:05:00</th>\n",
       "      <th>2021/02/15 06:10:00</th>\n",
       "      <th>2021/02/15 06:15:00</th>\n",
       "      <th>2021/02/15 06:20:00</th>\n",
       "      <th>2021/02/15 06:25:00</th>\n",
       "      <th>2021/02/15 06:30:00</th>\n",
       "      <th>2021/02/15 06:35:00</th>\n",
       "      <th>2021/02/15 06:40:00</th>\n",
       "      <th>2021/02/15 06:45:00</th>\n",
       "      <th>...</th>\n",
       "      <th>2021/02/15 17:20:00</th>\n",
       "      <th>2021/02/15 17:25:00</th>\n",
       "      <th>2021/02/15 17:30:00</th>\n",
       "      <th>2021/02/15 17:35:00</th>\n",
       "      <th>2021/02/15 17:40:00</th>\n",
       "      <th>2021/02/15 17:45:00</th>\n",
       "      <th>2021/02/15 17:50:00</th>\n",
       "      <th>2021/02/15 17:55:00</th>\n",
       "      <th>2021/02/15 18:00:00</th>\n",
       "      <th>2021/02/15 18:05:00</th>\n",
       "    </tr>\n",
       "    <tr>\n",
       "      <th>unit</th>\n",
       "      <th></th>\n",
       "      <th></th>\n",
       "      <th></th>\n",
       "      <th></th>\n",
       "      <th></th>\n",
       "      <th></th>\n",
       "      <th></th>\n",
       "      <th></th>\n",
       "      <th></th>\n",
       "      <th></th>\n",
       "      <th></th>\n",
       "      <th></th>\n",
       "      <th></th>\n",
       "      <th></th>\n",
       "      <th></th>\n",
       "      <th></th>\n",
       "      <th></th>\n",
       "      <th></th>\n",
       "      <th></th>\n",
       "      <th></th>\n",
       "      <th></th>\n",
       "    </tr>\n",
       "  </thead>\n",
       "  <tbody>\n",
       "    <tr>\n",
       "      <th>AGLHAL</th>\n",
       "      <td>0.0</td>\n",
       "      <td>0.0</td>\n",
       "      <td>0.0</td>\n",
       "      <td>0.0</td>\n",
       "      <td>0.0</td>\n",
       "      <td>0.0</td>\n",
       "      <td>0.0</td>\n",
       "      <td>0.0</td>\n",
       "      <td>0.0</td>\n",
       "      <td>0.0</td>\n",
       "      <td>...</td>\n",
       "      <td>0.0</td>\n",
       "      <td>0.0</td>\n",
       "      <td>0.0</td>\n",
       "      <td>0.0</td>\n",
       "      <td>0.0</td>\n",
       "      <td>0.0</td>\n",
       "      <td>0.0</td>\n",
       "      <td>0.0</td>\n",
       "      <td>0.0</td>\n",
       "      <td>0.0</td>\n",
       "    </tr>\n",
       "    <tr>\n",
       "      <th>AGLSOM</th>\n",
       "      <td>0.0</td>\n",
       "      <td>0.0</td>\n",
       "      <td>0.0</td>\n",
       "      <td>0.0</td>\n",
       "      <td>0.0</td>\n",
       "      <td>0.0</td>\n",
       "      <td>0.0</td>\n",
       "      <td>0.0</td>\n",
       "      <td>0.0</td>\n",
       "      <td>0.0</td>\n",
       "      <td>...</td>\n",
       "      <td>0.0</td>\n",
       "      <td>0.0</td>\n",
       "      <td>0.0</td>\n",
       "      <td>0.0</td>\n",
       "      <td>0.0</td>\n",
       "      <td>0.0</td>\n",
       "      <td>0.0</td>\n",
       "      <td>0.0</td>\n",
       "      <td>0.0</td>\n",
       "      <td>0.0</td>\n",
       "    </tr>\n",
       "    <tr>\n",
       "      <th>ANGAST1</th>\n",
       "      <td>0.0</td>\n",
       "      <td>0.0</td>\n",
       "      <td>0.0</td>\n",
       "      <td>0.0</td>\n",
       "      <td>0.0</td>\n",
       "      <td>0.0</td>\n",
       "      <td>0.0</td>\n",
       "      <td>0.0</td>\n",
       "      <td>0.0</td>\n",
       "      <td>0.0</td>\n",
       "      <td>...</td>\n",
       "      <td>0.0</td>\n",
       "      <td>0.0</td>\n",
       "      <td>0.0</td>\n",
       "      <td>0.0</td>\n",
       "      <td>0.0</td>\n",
       "      <td>0.0</td>\n",
       "      <td>0.0</td>\n",
       "      <td>0.0</td>\n",
       "      <td>0.0</td>\n",
       "      <td>0.0</td>\n",
       "    </tr>\n",
       "    <tr>\n",
       "      <th>ARWF1</th>\n",
       "      <td>112.4</td>\n",
       "      <td>105.9</td>\n",
       "      <td>100.1</td>\n",
       "      <td>104.7</td>\n",
       "      <td>103.6</td>\n",
       "      <td>111.4</td>\n",
       "      <td>99.2</td>\n",
       "      <td>95.0</td>\n",
       "      <td>89.7</td>\n",
       "      <td>94.1</td>\n",
       "      <td>...</td>\n",
       "      <td>0.0</td>\n",
       "      <td>0.0</td>\n",
       "      <td>0.0</td>\n",
       "      <td>0.0</td>\n",
       "      <td>0.0</td>\n",
       "      <td>0.0</td>\n",
       "      <td>0.0</td>\n",
       "      <td>0.0</td>\n",
       "      <td>0.0</td>\n",
       "      <td>0.0</td>\n",
       "    </tr>\n",
       "    <tr>\n",
       "      <th>BALBG1</th>\n",
       "      <td>0.0</td>\n",
       "      <td>0.0</td>\n",
       "      <td>0.0</td>\n",
       "      <td>0.0</td>\n",
       "      <td>0.0</td>\n",
       "      <td>0.0</td>\n",
       "      <td>0.0</td>\n",
       "      <td>0.0</td>\n",
       "      <td>0.0</td>\n",
       "      <td>0.0</td>\n",
       "      <td>...</td>\n",
       "      <td>0.0</td>\n",
       "      <td>0.0</td>\n",
       "      <td>0.0</td>\n",
       "      <td>0.0</td>\n",
       "      <td>0.0</td>\n",
       "      <td>0.0</td>\n",
       "      <td>0.0</td>\n",
       "      <td>0.0</td>\n",
       "      <td>0.0</td>\n",
       "      <td>0.0</td>\n",
       "    </tr>\n",
       "    <tr>\n",
       "      <th>...</th>\n",
       "      <td>...</td>\n",
       "      <td>...</td>\n",
       "      <td>...</td>\n",
       "      <td>...</td>\n",
       "      <td>...</td>\n",
       "      <td>...</td>\n",
       "      <td>...</td>\n",
       "      <td>...</td>\n",
       "      <td>...</td>\n",
       "      <td>...</td>\n",
       "      <td>...</td>\n",
       "      <td>...</td>\n",
       "      <td>...</td>\n",
       "      <td>...</td>\n",
       "      <td>...</td>\n",
       "      <td>...</td>\n",
       "      <td>...</td>\n",
       "      <td>...</td>\n",
       "      <td>...</td>\n",
       "      <td>...</td>\n",
       "      <td>...</td>\n",
       "    </tr>\n",
       "    <tr>\n",
       "      <th>YENDWF1</th>\n",
       "      <td>61.4</td>\n",
       "      <td>65.8</td>\n",
       "      <td>61.0</td>\n",
       "      <td>52.0</td>\n",
       "      <td>52.6</td>\n",
       "      <td>47.3</td>\n",
       "      <td>52.8</td>\n",
       "      <td>55.6</td>\n",
       "      <td>58.3</td>\n",
       "      <td>55.5</td>\n",
       "      <td>...</td>\n",
       "      <td>18.6</td>\n",
       "      <td>18.9</td>\n",
       "      <td>17.6</td>\n",
       "      <td>19.3</td>\n",
       "      <td>17.8</td>\n",
       "      <td>17.9</td>\n",
       "      <td>17.6</td>\n",
       "      <td>18.8</td>\n",
       "      <td>18.1</td>\n",
       "      <td>16.5</td>\n",
       "    </tr>\n",
       "    <tr>\n",
       "      <th>YWPS1</th>\n",
       "      <td>380.0</td>\n",
       "      <td>380.0</td>\n",
       "      <td>380.0</td>\n",
       "      <td>380.0</td>\n",
       "      <td>380.0</td>\n",
       "      <td>380.0</td>\n",
       "      <td>380.0</td>\n",
       "      <td>380.0</td>\n",
       "      <td>380.0</td>\n",
       "      <td>380.0</td>\n",
       "      <td>...</td>\n",
       "      <td>370.0</td>\n",
       "      <td>370.0</td>\n",
       "      <td>370.0</td>\n",
       "      <td>370.0</td>\n",
       "      <td>370.0</td>\n",
       "      <td>370.0</td>\n",
       "      <td>370.0</td>\n",
       "      <td>370.0</td>\n",
       "      <td>370.0</td>\n",
       "      <td>375.0</td>\n",
       "    </tr>\n",
       "    <tr>\n",
       "      <th>YWPS2</th>\n",
       "      <td>350.0</td>\n",
       "      <td>350.0</td>\n",
       "      <td>350.0</td>\n",
       "      <td>350.0</td>\n",
       "      <td>350.0</td>\n",
       "      <td>350.0</td>\n",
       "      <td>350.0</td>\n",
       "      <td>350.0</td>\n",
       "      <td>350.0</td>\n",
       "      <td>350.0</td>\n",
       "      <td>...</td>\n",
       "      <td>350.0</td>\n",
       "      <td>350.0</td>\n",
       "      <td>350.0</td>\n",
       "      <td>350.0</td>\n",
       "      <td>350.0</td>\n",
       "      <td>350.0</td>\n",
       "      <td>350.0</td>\n",
       "      <td>350.0</td>\n",
       "      <td>350.0</td>\n",
       "      <td>350.0</td>\n",
       "    </tr>\n",
       "    <tr>\n",
       "      <th>YWPS3</th>\n",
       "      <td>375.0</td>\n",
       "      <td>375.0</td>\n",
       "      <td>375.0</td>\n",
       "      <td>375.0</td>\n",
       "      <td>375.0</td>\n",
       "      <td>375.0</td>\n",
       "      <td>375.0</td>\n",
       "      <td>375.0</td>\n",
       "      <td>375.0</td>\n",
       "      <td>375.0</td>\n",
       "      <td>...</td>\n",
       "      <td>375.0</td>\n",
       "      <td>375.0</td>\n",
       "      <td>375.0</td>\n",
       "      <td>375.0</td>\n",
       "      <td>375.0</td>\n",
       "      <td>375.0</td>\n",
       "      <td>375.0</td>\n",
       "      <td>375.0</td>\n",
       "      <td>375.0</td>\n",
       "      <td>375.0</td>\n",
       "    </tr>\n",
       "    <tr>\n",
       "      <th>YWPS4</th>\n",
       "      <td>390.0</td>\n",
       "      <td>390.0</td>\n",
       "      <td>390.0</td>\n",
       "      <td>390.0</td>\n",
       "      <td>390.0</td>\n",
       "      <td>390.0</td>\n",
       "      <td>390.0</td>\n",
       "      <td>390.0</td>\n",
       "      <td>390.0</td>\n",
       "      <td>390.0</td>\n",
       "      <td>...</td>\n",
       "      <td>380.0</td>\n",
       "      <td>380.0</td>\n",
       "      <td>380.0</td>\n",
       "      <td>380.0</td>\n",
       "      <td>380.0</td>\n",
       "      <td>380.0</td>\n",
       "      <td>380.0</td>\n",
       "      <td>380.0</td>\n",
       "      <td>380.0</td>\n",
       "      <td>380.0</td>\n",
       "    </tr>\n",
       "  </tbody>\n",
       "</table>\n",
       "<p>334 rows × 146 columns</p>\n",
       "</div>"
      ],
      "text/plain": [
       "interval  2021/02/15 06:00:00  2021/02/15 06:05:00  2021/02/15 06:10:00  \\\n",
       "unit                                                                      \n",
       "AGLHAL                    0.0                  0.0                  0.0   \n",
       "AGLSOM                    0.0                  0.0                  0.0   \n",
       "ANGAST1                   0.0                  0.0                  0.0   \n",
       "ARWF1                   112.4                105.9                100.1   \n",
       "BALBG1                    0.0                  0.0                  0.0   \n",
       "...                       ...                  ...                  ...   \n",
       "YENDWF1                  61.4                 65.8                 61.0   \n",
       "YWPS1                   380.0                380.0                380.0   \n",
       "YWPS2                   350.0                350.0                350.0   \n",
       "YWPS3                   375.0                375.0                375.0   \n",
       "YWPS4                   390.0                390.0                390.0   \n",
       "\n",
       "interval  2021/02/15 06:15:00  2021/02/15 06:20:00  2021/02/15 06:25:00  \\\n",
       "unit                                                                      \n",
       "AGLHAL                    0.0                  0.0                  0.0   \n",
       "AGLSOM                    0.0                  0.0                  0.0   \n",
       "ANGAST1                   0.0                  0.0                  0.0   \n",
       "ARWF1                   104.7                103.6                111.4   \n",
       "BALBG1                    0.0                  0.0                  0.0   \n",
       "...                       ...                  ...                  ...   \n",
       "YENDWF1                  52.0                 52.6                 47.3   \n",
       "YWPS1                   380.0                380.0                380.0   \n",
       "YWPS2                   350.0                350.0                350.0   \n",
       "YWPS3                   375.0                375.0                375.0   \n",
       "YWPS4                   390.0                390.0                390.0   \n",
       "\n",
       "interval  2021/02/15 06:30:00  2021/02/15 06:35:00  2021/02/15 06:40:00  \\\n",
       "unit                                                                      \n",
       "AGLHAL                    0.0                  0.0                  0.0   \n",
       "AGLSOM                    0.0                  0.0                  0.0   \n",
       "ANGAST1                   0.0                  0.0                  0.0   \n",
       "ARWF1                    99.2                 95.0                 89.7   \n",
       "BALBG1                    0.0                  0.0                  0.0   \n",
       "...                       ...                  ...                  ...   \n",
       "YENDWF1                  52.8                 55.6                 58.3   \n",
       "YWPS1                   380.0                380.0                380.0   \n",
       "YWPS2                   350.0                350.0                350.0   \n",
       "YWPS3                   375.0                375.0                375.0   \n",
       "YWPS4                   390.0                390.0                390.0   \n",
       "\n",
       "interval  2021/02/15 06:45:00  ...  2021/02/15 17:20:00  2021/02/15 17:25:00  \\\n",
       "unit                           ...                                             \n",
       "AGLHAL                    0.0  ...                  0.0                  0.0   \n",
       "AGLSOM                    0.0  ...                  0.0                  0.0   \n",
       "ANGAST1                   0.0  ...                  0.0                  0.0   \n",
       "ARWF1                    94.1  ...                  0.0                  0.0   \n",
       "BALBG1                    0.0  ...                  0.0                  0.0   \n",
       "...                       ...  ...                  ...                  ...   \n",
       "YENDWF1                  55.5  ...                 18.6                 18.9   \n",
       "YWPS1                   380.0  ...                370.0                370.0   \n",
       "YWPS2                   350.0  ...                350.0                350.0   \n",
       "YWPS3                   375.0  ...                375.0                375.0   \n",
       "YWPS4                   390.0  ...                380.0                380.0   \n",
       "\n",
       "interval  2021/02/15 17:30:00  2021/02/15 17:35:00  2021/02/15 17:40:00  \\\n",
       "unit                                                                      \n",
       "AGLHAL                    0.0                  0.0                  0.0   \n",
       "AGLSOM                    0.0                  0.0                  0.0   \n",
       "ANGAST1                   0.0                  0.0                  0.0   \n",
       "ARWF1                     0.0                  0.0                  0.0   \n",
       "BALBG1                    0.0                  0.0                  0.0   \n",
       "...                       ...                  ...                  ...   \n",
       "YENDWF1                  17.6                 19.3                 17.8   \n",
       "YWPS1                   370.0                370.0                370.0   \n",
       "YWPS2                   350.0                350.0                350.0   \n",
       "YWPS3                   375.0                375.0                375.0   \n",
       "YWPS4                   380.0                380.0                380.0   \n",
       "\n",
       "interval  2021/02/15 17:45:00  2021/02/15 17:50:00  2021/02/15 17:55:00  \\\n",
       "unit                                                                      \n",
       "AGLHAL                    0.0                  0.0                  0.0   \n",
       "AGLSOM                    0.0                  0.0                  0.0   \n",
       "ANGAST1                   0.0                  0.0                  0.0   \n",
       "ARWF1                     0.0                  0.0                  0.0   \n",
       "BALBG1                    0.0                  0.0                  0.0   \n",
       "...                       ...                  ...                  ...   \n",
       "YENDWF1                  17.9                 17.6                 18.8   \n",
       "YWPS1                   370.0                370.0                370.0   \n",
       "YWPS2                   350.0                350.0                350.0   \n",
       "YWPS3                   375.0                375.0                375.0   \n",
       "YWPS4                   380.0                380.0                380.0   \n",
       "\n",
       "interval  2021/02/15 18:00:00  2021/02/15 18:05:00  \n",
       "unit                                                \n",
       "AGLHAL                    0.0                  0.0  \n",
       "AGLSOM                    0.0                  0.0  \n",
       "ANGAST1                   0.0                  0.0  \n",
       "ARWF1                     0.0                  0.0  \n",
       "BALBG1                    0.0                  0.0  \n",
       "...                       ...                  ...  \n",
       "YENDWF1                  18.1                 16.5  \n",
       "YWPS1                   370.0                375.0  \n",
       "YWPS2                   350.0                350.0  \n",
       "YWPS3                   375.0                375.0  \n",
       "YWPS4                   380.0                380.0  \n",
       "\n",
       "[334 rows x 146 columns]"
      ]
     },
     "execution_count": 25,
     "metadata": {},
     "output_type": "execute_result"
    }
   ],
   "source": [
    "unit_dispatch = unit_dispatch[unit_dispatch['service'] == 'energy']\n",
    "\n",
    "units_table = unit_dispatch.groupby(['unit','interval']).dispatch.first().unstack().round(1)\n",
    "units_table"
   ]
  },
  {
   "cell_type": "markdown",
   "metadata": {},
   "source": [
    "---\n",
    "## Section C - Rerun dispatch with constraint removed\n",
    "### C1. Dispatch Simulation\n",
    "Re-runing the earlier economic dispatch loop, however with the <code>remove_constraint_name</code> variable set to **'N>>N-NIL_94T_947'** yields a new set of results. Noting the <font color=purple>**_r**</font> designation to each variable indicating the dispatch with the constriant removed.\n",
    "\n",
    "Unsuprisingly (or perhaps even suprisingly) after the **'N>>N-NIL_94T_947'** constraint is removed, the **'N>>N-NIL_94T'** constraint then binds. Given this is the same line 94T being considered which is thermally constrained, and for somewhat illustrative purposes both are removed here."
   ]
  },
  {
   "cell_type": "code",
   "execution_count": 26,
   "metadata": {
    "scrolled": true
   },
   "outputs": [
    {
     "name": "stdout",
     "output_type": "stream",
     "text": [
      "Dispatch Simulation Complete\n"
     ]
    }
   ],
   "source": [
    "#Clear output lists\n",
    "outputs, outputs_mvs, outputs_units, outputs_prices = [],[],[],[]\n",
    "\n",
    "for di in dispatch_intervals:\n",
    "    outputs = economic_dispatch(di,remove_constraint_name=['N>>N-NIL_94T_947','N>>N-NIL_94T'])\n",
    "    outputs_mvs += [outputs['marginal_values']]\n",
    "    outputs_units += [outputs['unit_dispatch']]\n",
    "    outputs_prices += [outputs['energy_prices']]\n",
    "\n",
    "marginal_values_r = pd.concat(outputs_mvs)\n",
    "unit_dispatch_r = pd.concat(outputs_units)\n",
    "prices_r = pd.concat(outputs_prices)\n",
    "\n",
    "print(\"Dispatch Simulation Complete\")"
   ]
  },
  {
   "cell_type": "markdown",
   "metadata": {},
   "source": [
    "---\n",
    "### C2. Simulated Market Prices\n",
    "Tablulating the price results we can compare with the earlier results. The full dataframe is accesible via a downloaded excel file at the end of this notebook.\n",
    "\n",
    "**Tabulated Price Results**"
   ]
  },
  {
   "cell_type": "code",
   "execution_count": 27,
   "metadata": {},
   "outputs": [
    {
     "data": {
      "text/html": [
       "<div>\n",
       "<style scoped>\n",
       "    .dataframe tbody tr th:only-of-type {\n",
       "        vertical-align: middle;\n",
       "    }\n",
       "\n",
       "    .dataframe tbody tr th {\n",
       "        vertical-align: top;\n",
       "    }\n",
       "\n",
       "    .dataframe thead th {\n",
       "        text-align: right;\n",
       "    }\n",
       "</style>\n",
       "<table border=\"1\" class=\"dataframe\">\n",
       "  <thead>\n",
       "    <tr style=\"text-align: right;\">\n",
       "      <th>interval</th>\n",
       "      <th>2021/02/15 06:00:00</th>\n",
       "      <th>2021/02/15 06:05:00</th>\n",
       "      <th>2021/02/15 06:10:00</th>\n",
       "      <th>2021/02/15 06:15:00</th>\n",
       "      <th>2021/02/15 06:20:00</th>\n",
       "      <th>2021/02/15 06:25:00</th>\n",
       "      <th>2021/02/15 06:30:00</th>\n",
       "      <th>2021/02/15 06:35:00</th>\n",
       "      <th>2021/02/15 06:40:00</th>\n",
       "      <th>2021/02/15 06:45:00</th>\n",
       "      <th>...</th>\n",
       "      <th>2021/02/15 17:20:00</th>\n",
       "      <th>2021/02/15 17:25:00</th>\n",
       "      <th>2021/02/15 17:30:00</th>\n",
       "      <th>2021/02/15 17:35:00</th>\n",
       "      <th>2021/02/15 17:40:00</th>\n",
       "      <th>2021/02/15 17:45:00</th>\n",
       "      <th>2021/02/15 17:50:00</th>\n",
       "      <th>2021/02/15 17:55:00</th>\n",
       "      <th>2021/02/15 18:00:00</th>\n",
       "      <th>2021/02/15 18:05:00</th>\n",
       "    </tr>\n",
       "    <tr>\n",
       "      <th>region</th>\n",
       "      <th></th>\n",
       "      <th></th>\n",
       "      <th></th>\n",
       "      <th></th>\n",
       "      <th></th>\n",
       "      <th></th>\n",
       "      <th></th>\n",
       "      <th></th>\n",
       "      <th></th>\n",
       "      <th></th>\n",
       "      <th></th>\n",
       "      <th></th>\n",
       "      <th></th>\n",
       "      <th></th>\n",
       "      <th></th>\n",
       "      <th></th>\n",
       "      <th></th>\n",
       "      <th></th>\n",
       "      <th></th>\n",
       "      <th></th>\n",
       "      <th></th>\n",
       "    </tr>\n",
       "  </thead>\n",
       "  <tbody>\n",
       "    <tr>\n",
       "      <th>NSW1</th>\n",
       "      <td>37.128317</td>\n",
       "      <td>35.480000</td>\n",
       "      <td>35.480000</td>\n",
       "      <td>35.470000</td>\n",
       "      <td>35.480000</td>\n",
       "      <td>35.480000</td>\n",
       "      <td>37.262931</td>\n",
       "      <td>37.539484</td>\n",
       "      <td>37.222093</td>\n",
       "      <td>35.470000</td>\n",
       "      <td>...</td>\n",
       "      <td>36.142973</td>\n",
       "      <td>36.067103</td>\n",
       "      <td>35.617971</td>\n",
       "      <td>35.480000</td>\n",
       "      <td>35.842109</td>\n",
       "      <td>36.175748</td>\n",
       "      <td>35.580000</td>\n",
       "      <td>49.220000</td>\n",
       "      <td>52.605351</td>\n",
       "      <td>38.265085</td>\n",
       "    </tr>\n",
       "    <tr>\n",
       "      <th>QLD1</th>\n",
       "      <td>38.900000</td>\n",
       "      <td>37.124287</td>\n",
       "      <td>36.396962</td>\n",
       "      <td>36.682978</td>\n",
       "      <td>36.444699</td>\n",
       "      <td>35.616770</td>\n",
       "      <td>37.730000</td>\n",
       "      <td>37.730000</td>\n",
       "      <td>37.730000</td>\n",
       "      <td>35.406946</td>\n",
       "      <td>...</td>\n",
       "      <td>37.386470</td>\n",
       "      <td>37.314017</td>\n",
       "      <td>37.143988</td>\n",
       "      <td>37.576261</td>\n",
       "      <td>38.258477</td>\n",
       "      <td>38.900000</td>\n",
       "      <td>38.548054</td>\n",
       "      <td>52.145162</td>\n",
       "      <td>55.730000</td>\n",
       "      <td>41.470000</td>\n",
       "    </tr>\n",
       "    <tr>\n",
       "      <th>SA1</th>\n",
       "      <td>32.736256</td>\n",
       "      <td>32.104579</td>\n",
       "      <td>32.019084</td>\n",
       "      <td>32.009874</td>\n",
       "      <td>32.462971</td>\n",
       "      <td>32.964412</td>\n",
       "      <td>35.382052</td>\n",
       "      <td>36.950017</td>\n",
       "      <td>37.016680</td>\n",
       "      <td>35.350532</td>\n",
       "      <td>...</td>\n",
       "      <td>38.031225</td>\n",
       "      <td>38.612664</td>\n",
       "      <td>38.191360</td>\n",
       "      <td>38.772997</td>\n",
       "      <td>38.761503</td>\n",
       "      <td>39.407664</td>\n",
       "      <td>39.505089</td>\n",
       "      <td>55.359105</td>\n",
       "      <td>58.103616</td>\n",
       "      <td>42.463455</td>\n",
       "    </tr>\n",
       "    <tr>\n",
       "      <th>TAS1</th>\n",
       "      <td>39.881000</td>\n",
       "      <td>38.581000</td>\n",
       "      <td>38.581000</td>\n",
       "      <td>38.581000</td>\n",
       "      <td>40.205455</td>\n",
       "      <td>43.641044</td>\n",
       "      <td>53.210000</td>\n",
       "      <td>60.160000</td>\n",
       "      <td>57.960000</td>\n",
       "      <td>60.160000</td>\n",
       "      <td>...</td>\n",
       "      <td>36.964312</td>\n",
       "      <td>39.517000</td>\n",
       "      <td>39.517000</td>\n",
       "      <td>37.848780</td>\n",
       "      <td>37.268780</td>\n",
       "      <td>39.517000</td>\n",
       "      <td>40.783248</td>\n",
       "      <td>52.169272</td>\n",
       "      <td>53.692700</td>\n",
       "      <td>38.988223</td>\n",
       "    </tr>\n",
       "    <tr>\n",
       "      <th>VIC1</th>\n",
       "      <td>32.683259</td>\n",
       "      <td>31.934547</td>\n",
       "      <td>31.967247</td>\n",
       "      <td>31.958052</td>\n",
       "      <td>32.303594</td>\n",
       "      <td>32.622727</td>\n",
       "      <td>34.606221</td>\n",
       "      <td>35.622464</td>\n",
       "      <td>35.700290</td>\n",
       "      <td>34.115011</td>\n",
       "      <td>...</td>\n",
       "      <td>34.960000</td>\n",
       "      <td>34.960000</td>\n",
       "      <td>34.960000</td>\n",
       "      <td>34.960000</td>\n",
       "      <td>34.960000</td>\n",
       "      <td>35.004952</td>\n",
       "      <td>34.960000</td>\n",
       "      <td>48.705042</td>\n",
       "      <td>51.129443</td>\n",
       "      <td>37.578004</td>\n",
       "    </tr>\n",
       "  </tbody>\n",
       "</table>\n",
       "<p>5 rows × 146 columns</p>\n",
       "</div>"
      ],
      "text/plain": [
       "interval  2021/02/15 06:00:00  2021/02/15 06:05:00  2021/02/15 06:10:00  \\\n",
       "region                                                                    \n",
       "NSW1                37.128317            35.480000            35.480000   \n",
       "QLD1                38.900000            37.124287            36.396962   \n",
       "SA1                 32.736256            32.104579            32.019084   \n",
       "TAS1                39.881000            38.581000            38.581000   \n",
       "VIC1                32.683259            31.934547            31.967247   \n",
       "\n",
       "interval  2021/02/15 06:15:00  2021/02/15 06:20:00  2021/02/15 06:25:00  \\\n",
       "region                                                                    \n",
       "NSW1                35.470000            35.480000            35.480000   \n",
       "QLD1                36.682978            36.444699            35.616770   \n",
       "SA1                 32.009874            32.462971            32.964412   \n",
       "TAS1                38.581000            40.205455            43.641044   \n",
       "VIC1                31.958052            32.303594            32.622727   \n",
       "\n",
       "interval  2021/02/15 06:30:00  2021/02/15 06:35:00  2021/02/15 06:40:00  \\\n",
       "region                                                                    \n",
       "NSW1                37.262931            37.539484            37.222093   \n",
       "QLD1                37.730000            37.730000            37.730000   \n",
       "SA1                 35.382052            36.950017            37.016680   \n",
       "TAS1                53.210000            60.160000            57.960000   \n",
       "VIC1                34.606221            35.622464            35.700290   \n",
       "\n",
       "interval  2021/02/15 06:45:00  ...  2021/02/15 17:20:00  2021/02/15 17:25:00  \\\n",
       "region                         ...                                             \n",
       "NSW1                35.470000  ...            36.142973            36.067103   \n",
       "QLD1                35.406946  ...            37.386470            37.314017   \n",
       "SA1                 35.350532  ...            38.031225            38.612664   \n",
       "TAS1                60.160000  ...            36.964312            39.517000   \n",
       "VIC1                34.115011  ...            34.960000            34.960000   \n",
       "\n",
       "interval  2021/02/15 17:30:00  2021/02/15 17:35:00  2021/02/15 17:40:00  \\\n",
       "region                                                                    \n",
       "NSW1                35.617971            35.480000            35.842109   \n",
       "QLD1                37.143988            37.576261            38.258477   \n",
       "SA1                 38.191360            38.772997            38.761503   \n",
       "TAS1                39.517000            37.848780            37.268780   \n",
       "VIC1                34.960000            34.960000            34.960000   \n",
       "\n",
       "interval  2021/02/15 17:45:00  2021/02/15 17:50:00  2021/02/15 17:55:00  \\\n",
       "region                                                                    \n",
       "NSW1                36.175748            35.580000            49.220000   \n",
       "QLD1                38.900000            38.548054            52.145162   \n",
       "SA1                 39.407664            39.505089            55.359105   \n",
       "TAS1                39.517000            40.783248            52.169272   \n",
       "VIC1                35.004952            34.960000            48.705042   \n",
       "\n",
       "interval  2021/02/15 18:00:00  2021/02/15 18:05:00  \n",
       "region                                              \n",
       "NSW1                52.605351            38.265085  \n",
       "QLD1                55.730000            41.470000  \n",
       "SA1                 58.103616            42.463455  \n",
       "TAS1                53.692700            38.988223  \n",
       "VIC1                51.129443            37.578004  \n",
       "\n",
       "[5 rows x 146 columns]"
      ]
     },
     "execution_count": 27,
     "metadata": {},
     "output_type": "execute_result"
    }
   ],
   "source": [
    "prices_table_r = prices_r.groupby(['region','interval']).price.first().unstack()\n",
    "prices_table_r"
   ]
  },
  {
   "cell_type": "markdown",
   "metadata": {},
   "source": [
    "---\n",
    "\n",
    "### C3. Binding Constraint Results\n",
    "Similarly, producing the new marginal value results for the second iteration of economic dispatch simulation..."
   ]
  },
  {
   "cell_type": "code",
   "execution_count": 28,
   "metadata": {},
   "outputs": [
    {
     "data": {
      "text/html": [
       "<div>\n",
       "<style scoped>\n",
       "    .dataframe tbody tr th:only-of-type {\n",
       "        vertical-align: middle;\n",
       "    }\n",
       "\n",
       "    .dataframe tbody tr th {\n",
       "        vertical-align: top;\n",
       "    }\n",
       "\n",
       "    .dataframe thead th {\n",
       "        text-align: right;\n",
       "    }\n",
       "</style>\n",
       "<table border=\"1\" class=\"dataframe\">\n",
       "  <thead>\n",
       "    <tr style=\"text-align: right;\">\n",
       "      <th>interval</th>\n",
       "      <th>2021/02/15 06:00:00</th>\n",
       "      <th>2021/02/15 06:05:00</th>\n",
       "      <th>2021/02/15 06:10:00</th>\n",
       "      <th>2021/02/15 06:15:00</th>\n",
       "      <th>2021/02/15 06:20:00</th>\n",
       "      <th>2021/02/15 06:25:00</th>\n",
       "      <th>2021/02/15 06:30:00</th>\n",
       "      <th>2021/02/15 06:35:00</th>\n",
       "      <th>2021/02/15 06:40:00</th>\n",
       "      <th>2021/02/15 06:45:00</th>\n",
       "      <th>...</th>\n",
       "      <th>2021/02/15 17:20:00</th>\n",
       "      <th>2021/02/15 17:25:00</th>\n",
       "      <th>2021/02/15 17:30:00</th>\n",
       "      <th>2021/02/15 17:35:00</th>\n",
       "      <th>2021/02/15 17:40:00</th>\n",
       "      <th>2021/02/15 17:45:00</th>\n",
       "      <th>2021/02/15 17:50:00</th>\n",
       "      <th>2021/02/15 17:55:00</th>\n",
       "      <th>2021/02/15 18:00:00</th>\n",
       "      <th>2021/02/15 18:05:00</th>\n",
       "    </tr>\n",
       "    <tr>\n",
       "      <th>set</th>\n",
       "      <th></th>\n",
       "      <th></th>\n",
       "      <th></th>\n",
       "      <th></th>\n",
       "      <th></th>\n",
       "      <th></th>\n",
       "      <th></th>\n",
       "      <th></th>\n",
       "      <th></th>\n",
       "      <th></th>\n",
       "      <th></th>\n",
       "      <th></th>\n",
       "      <th></th>\n",
       "      <th></th>\n",
       "      <th></th>\n",
       "      <th></th>\n",
       "      <th></th>\n",
       "      <th></th>\n",
       "      <th></th>\n",
       "      <th></th>\n",
       "      <th></th>\n",
       "    </tr>\n",
       "  </thead>\n",
       "  <tbody>\n",
       "    <tr>\n",
       "      <th>#MWPS1PV1_E</th>\n",
       "      <td>-1032.7</td>\n",
       "      <td>-1032.1</td>\n",
       "      <td>0.0</td>\n",
       "      <td>-1032.0</td>\n",
       "      <td>-1032.5</td>\n",
       "      <td>0.0</td>\n",
       "      <td>0.0</td>\n",
       "      <td>0.0</td>\n",
       "      <td>0.0</td>\n",
       "      <td>-1035.4</td>\n",
       "      <td>...</td>\n",
       "      <td>0.0</td>\n",
       "      <td>-1038.6</td>\n",
       "      <td>-1038.2</td>\n",
       "      <td>0.0</td>\n",
       "      <td>-1038.8</td>\n",
       "      <td>0.0</td>\n",
       "      <td>-1039.5</td>\n",
       "      <td>0.0</td>\n",
       "      <td>0.0</td>\n",
       "      <td>0.0</td>\n",
       "    </tr>\n",
       "    <tr>\n",
       "      <th>#MWPS2PV1_E</th>\n",
       "      <td>0.0</td>\n",
       "      <td>0.0</td>\n",
       "      <td>0.0</td>\n",
       "      <td>0.0</td>\n",
       "      <td>0.0</td>\n",
       "      <td>0.0</td>\n",
       "      <td>-1035.4</td>\n",
       "      <td>-1037.0</td>\n",
       "      <td>0.0</td>\n",
       "      <td>-1035.4</td>\n",
       "      <td>...</td>\n",
       "      <td>-1038.0</td>\n",
       "      <td>0.0</td>\n",
       "      <td>0.0</td>\n",
       "      <td>0.0</td>\n",
       "      <td>-1038.8</td>\n",
       "      <td>-1039.4</td>\n",
       "      <td>-1039.5</td>\n",
       "      <td>-1055.4</td>\n",
       "      <td>0.0</td>\n",
       "      <td>0.0</td>\n",
       "    </tr>\n",
       "    <tr>\n",
       "      <th>#MWPS4PV1_E</th>\n",
       "      <td>0.0</td>\n",
       "      <td>-1032.1</td>\n",
       "      <td>-1032.0</td>\n",
       "      <td>-1032.0</td>\n",
       "      <td>0.0</td>\n",
       "      <td>-1033.0</td>\n",
       "      <td>0.0</td>\n",
       "      <td>0.0</td>\n",
       "      <td>-1037.0</td>\n",
       "      <td>0.0</td>\n",
       "      <td>...</td>\n",
       "      <td>0.0</td>\n",
       "      <td>-1038.6</td>\n",
       "      <td>0.0</td>\n",
       "      <td>0.0</td>\n",
       "      <td>-1038.8</td>\n",
       "      <td>0.0</td>\n",
       "      <td>-1039.5</td>\n",
       "      <td>0.0</td>\n",
       "      <td>0.0</td>\n",
       "      <td>-1042.5</td>\n",
       "    </tr>\n",
       "    <tr>\n",
       "      <th>#PPCCGT_D_E</th>\n",
       "      <td>14967.3</td>\n",
       "      <td>14967.9</td>\n",
       "      <td>14968.0</td>\n",
       "      <td>14968.0</td>\n",
       "      <td>14967.5</td>\n",
       "      <td>14967.0</td>\n",
       "      <td>14964.6</td>\n",
       "      <td>14963.0</td>\n",
       "      <td>14963.0</td>\n",
       "      <td>14964.6</td>\n",
       "      <td>...</td>\n",
       "      <td>14962.0</td>\n",
       "      <td>14961.4</td>\n",
       "      <td>14961.8</td>\n",
       "      <td>0.0</td>\n",
       "      <td>0.0</td>\n",
       "      <td>0.0</td>\n",
       "      <td>0.0</td>\n",
       "      <td>0.0</td>\n",
       "      <td>0.0</td>\n",
       "      <td>0.0</td>\n",
       "    </tr>\n",
       "    <tr>\n",
       "      <th>#TORRB1_D_E</th>\n",
       "      <td>14967.3</td>\n",
       "      <td>14967.9</td>\n",
       "      <td>14968.0</td>\n",
       "      <td>14968.0</td>\n",
       "      <td>14967.5</td>\n",
       "      <td>14967.0</td>\n",
       "      <td>14964.6</td>\n",
       "      <td>14963.0</td>\n",
       "      <td>14963.0</td>\n",
       "      <td>14964.6</td>\n",
       "      <td>...</td>\n",
       "      <td>0.0</td>\n",
       "      <td>0.0</td>\n",
       "      <td>0.0</td>\n",
       "      <td>0.0</td>\n",
       "      <td>0.0</td>\n",
       "      <td>0.0</td>\n",
       "      <td>0.0</td>\n",
       "      <td>0.0</td>\n",
       "      <td>0.0</td>\n",
       "      <td>0.0</td>\n",
       "    </tr>\n",
       "    <tr>\n",
       "      <th>#TORRB3_D_E</th>\n",
       "      <td>14967.3</td>\n",
       "      <td>14967.9</td>\n",
       "      <td>14968.0</td>\n",
       "      <td>14968.0</td>\n",
       "      <td>14967.5</td>\n",
       "      <td>14967.0</td>\n",
       "      <td>14964.6</td>\n",
       "      <td>14963.0</td>\n",
       "      <td>14963.0</td>\n",
       "      <td>14964.6</td>\n",
       "      <td>...</td>\n",
       "      <td>0.0</td>\n",
       "      <td>0.0</td>\n",
       "      <td>0.0</td>\n",
       "      <td>0.0</td>\n",
       "      <td>0.0</td>\n",
       "      <td>0.0</td>\n",
       "      <td>0.0</td>\n",
       "      <td>0.0</td>\n",
       "      <td>0.0</td>\n",
       "      <td>0.0</td>\n",
       "    </tr>\n",
       "    <tr>\n",
       "      <th>#WARWSF1_E</th>\n",
       "      <td>0.0</td>\n",
       "      <td>0.0</td>\n",
       "      <td>0.0</td>\n",
       "      <td>0.0</td>\n",
       "      <td>0.0</td>\n",
       "      <td>0.0</td>\n",
       "      <td>0.0</td>\n",
       "      <td>0.0</td>\n",
       "      <td>0.0</td>\n",
       "      <td>0.0</td>\n",
       "      <td>...</td>\n",
       "      <td>0.0</td>\n",
       "      <td>0.0</td>\n",
       "      <td>0.0</td>\n",
       "      <td>0.0</td>\n",
       "      <td>0.0</td>\n",
       "      <td>0.0</td>\n",
       "      <td>0.0</td>\n",
       "      <td>0.0</td>\n",
       "      <td>0.0</td>\n",
       "      <td>0.0</td>\n",
       "    </tr>\n",
       "    <tr>\n",
       "      <th>#YATSF1_E</th>\n",
       "      <td>0.0</td>\n",
       "      <td>0.0</td>\n",
       "      <td>0.0</td>\n",
       "      <td>0.0</td>\n",
       "      <td>0.0</td>\n",
       "      <td>0.0</td>\n",
       "      <td>0.0</td>\n",
       "      <td>0.0</td>\n",
       "      <td>0.0</td>\n",
       "      <td>0.0</td>\n",
       "      <td>...</td>\n",
       "      <td>0.0</td>\n",
       "      <td>0.0</td>\n",
       "      <td>0.0</td>\n",
       "      <td>0.0</td>\n",
       "      <td>0.0</td>\n",
       "      <td>0.0</td>\n",
       "      <td>0.0</td>\n",
       "      <td>0.0</td>\n",
       "      <td>0.0</td>\n",
       "      <td>0.0</td>\n",
       "    </tr>\n",
       "    <tr>\n",
       "      <th>$BARRON-1</th>\n",
       "      <td>0.0</td>\n",
       "      <td>0.0</td>\n",
       "      <td>0.0</td>\n",
       "      <td>0.0</td>\n",
       "      <td>0.0</td>\n",
       "      <td>0.0</td>\n",
       "      <td>0.0</td>\n",
       "      <td>0.0</td>\n",
       "      <td>0.0</td>\n",
       "      <td>0.0</td>\n",
       "      <td>...</td>\n",
       "      <td>0.0</td>\n",
       "      <td>0.0</td>\n",
       "      <td>0.0</td>\n",
       "      <td>0.0</td>\n",
       "      <td>0.0</td>\n",
       "      <td>0.0</td>\n",
       "      <td>0.0</td>\n",
       "      <td>0.0</td>\n",
       "      <td>0.0</td>\n",
       "      <td>0.0</td>\n",
       "    </tr>\n",
       "    <tr>\n",
       "      <th>$BLOWERNG</th>\n",
       "      <td>-1037.1</td>\n",
       "      <td>0.0</td>\n",
       "      <td>-1035.5</td>\n",
       "      <td>0.0</td>\n",
       "      <td>0.0</td>\n",
       "      <td>-1035.5</td>\n",
       "      <td>-1037.3</td>\n",
       "      <td>-1037.5</td>\n",
       "      <td>0.0</td>\n",
       "      <td>-1035.5</td>\n",
       "      <td>...</td>\n",
       "      <td>-1036.1</td>\n",
       "      <td>0.0</td>\n",
       "      <td>-1035.6</td>\n",
       "      <td>-1035.5</td>\n",
       "      <td>0.0</td>\n",
       "      <td>0.0</td>\n",
       "      <td>-1035.6</td>\n",
       "      <td>0.0</td>\n",
       "      <td>-1052.6</td>\n",
       "      <td>-1038.3</td>\n",
       "    </tr>\n",
       "    <tr>\n",
       "      <th>$CALL_B_1</th>\n",
       "      <td>14961.1</td>\n",
       "      <td>14962.9</td>\n",
       "      <td>14963.6</td>\n",
       "      <td>14963.3</td>\n",
       "      <td>14963.6</td>\n",
       "      <td>14964.4</td>\n",
       "      <td>14962.3</td>\n",
       "      <td>14962.3</td>\n",
       "      <td>14962.3</td>\n",
       "      <td>14964.6</td>\n",
       "      <td>...</td>\n",
       "      <td>12.2</td>\n",
       "      <td>12.3</td>\n",
       "      <td>12.5</td>\n",
       "      <td>12.0</td>\n",
       "      <td>11.4</td>\n",
       "      <td>10.7</td>\n",
       "      <td>11.1</td>\n",
       "      <td>-2.5</td>\n",
       "      <td>-6.1</td>\n",
       "      <td>8.1</td>\n",
       "    </tr>\n",
       "    <tr>\n",
       "      <th>$YATSF1</th>\n",
       "      <td>0.0</td>\n",
       "      <td>0.0</td>\n",
       "      <td>0.0</td>\n",
       "      <td>0.0</td>\n",
       "      <td>0.0</td>\n",
       "      <td>0.0</td>\n",
       "      <td>0.0</td>\n",
       "      <td>0.0</td>\n",
       "      <td>0.0</td>\n",
       "      <td>0.0</td>\n",
       "      <td>...</td>\n",
       "      <td>0.0</td>\n",
       "      <td>0.0</td>\n",
       "      <td>0.0</td>\n",
       "      <td>0.0</td>\n",
       "      <td>0.0</td>\n",
       "      <td>0.0</td>\n",
       "      <td>0.0</td>\n",
       "      <td>0.0</td>\n",
       "      <td>0.0</td>\n",
       "      <td>0.0</td>\n",
       "    </tr>\n",
       "    <tr>\n",
       "      <th>F_T_AUFLS2_R6</th>\n",
       "      <td>-3.5</td>\n",
       "      <td>-8.0</td>\n",
       "      <td>-8.0</td>\n",
       "      <td>-8.0</td>\n",
       "      <td>-3.5</td>\n",
       "      <td>-7.2</td>\n",
       "      <td>-5.1</td>\n",
       "      <td>-3.5</td>\n",
       "      <td>-3.6</td>\n",
       "      <td>-3.5</td>\n",
       "      <td>...</td>\n",
       "      <td>-8.0</td>\n",
       "      <td>-8.0</td>\n",
       "      <td>-8.0</td>\n",
       "      <td>-8.0</td>\n",
       "      <td>-8.1</td>\n",
       "      <td>-8.0</td>\n",
       "      <td>-8.0</td>\n",
       "      <td>-8.5</td>\n",
       "      <td>-12.8</td>\n",
       "      <td>-8.3</td>\n",
       "    </tr>\n",
       "    <tr>\n",
       "      <th>N&gt;&gt;N-PKWL_94K_2</th>\n",
       "      <td>0.0</td>\n",
       "      <td>0.0</td>\n",
       "      <td>0.0</td>\n",
       "      <td>0.0</td>\n",
       "      <td>0.0</td>\n",
       "      <td>0.0</td>\n",
       "      <td>0.0</td>\n",
       "      <td>0.0</td>\n",
       "      <td>0.0</td>\n",
       "      <td>0.0</td>\n",
       "      <td>...</td>\n",
       "      <td>-51.9</td>\n",
       "      <td>0.0</td>\n",
       "      <td>0.0</td>\n",
       "      <td>0.0</td>\n",
       "      <td>0.0</td>\n",
       "      <td>0.0</td>\n",
       "      <td>0.0</td>\n",
       "      <td>0.0</td>\n",
       "      <td>0.0</td>\n",
       "      <td>0.0</td>\n",
       "    </tr>\n",
       "    <tr>\n",
       "      <th>N&gt;&gt;N-PKWL_94K_3</th>\n",
       "      <td>0.0</td>\n",
       "      <td>0.0</td>\n",
       "      <td>0.0</td>\n",
       "      <td>0.0</td>\n",
       "      <td>0.0</td>\n",
       "      <td>0.0</td>\n",
       "      <td>0.0</td>\n",
       "      <td>0.0</td>\n",
       "      <td>0.0</td>\n",
       "      <td>0.0</td>\n",
       "      <td>...</td>\n",
       "      <td>0.0</td>\n",
       "      <td>0.0</td>\n",
       "      <td>0.0</td>\n",
       "      <td>0.0</td>\n",
       "      <td>0.0</td>\n",
       "      <td>0.0</td>\n",
       "      <td>0.0</td>\n",
       "      <td>0.0</td>\n",
       "      <td>0.0</td>\n",
       "      <td>0.0</td>\n",
       "    </tr>\n",
       "    <tr>\n",
       "      <th>NC_N_DARLSF1</th>\n",
       "      <td>0.0</td>\n",
       "      <td>0.0</td>\n",
       "      <td>0.0</td>\n",
       "      <td>0.0</td>\n",
       "      <td>0.0</td>\n",
       "      <td>0.0</td>\n",
       "      <td>0.0</td>\n",
       "      <td>0.0</td>\n",
       "      <td>0.0</td>\n",
       "      <td>0.0</td>\n",
       "      <td>...</td>\n",
       "      <td>0.0</td>\n",
       "      <td>0.0</td>\n",
       "      <td>0.0</td>\n",
       "      <td>0.0</td>\n",
       "      <td>0.0</td>\n",
       "      <td>0.0</td>\n",
       "      <td>0.0</td>\n",
       "      <td>0.0</td>\n",
       "      <td>0.0</td>\n",
       "      <td>0.0</td>\n",
       "    </tr>\n",
       "    <tr>\n",
       "      <th>N^^N_NIL_2</th>\n",
       "      <td>0.0</td>\n",
       "      <td>0.0</td>\n",
       "      <td>0.0</td>\n",
       "      <td>0.0</td>\n",
       "      <td>0.0</td>\n",
       "      <td>0.0</td>\n",
       "      <td>0.0</td>\n",
       "      <td>0.0</td>\n",
       "      <td>0.0</td>\n",
       "      <td>0.0</td>\n",
       "      <td>...</td>\n",
       "      <td>0.0</td>\n",
       "      <td>0.0</td>\n",
       "      <td>0.0</td>\n",
       "      <td>0.0</td>\n",
       "      <td>0.0</td>\n",
       "      <td>0.0</td>\n",
       "      <td>0.0</td>\n",
       "      <td>0.0</td>\n",
       "      <td>0.0</td>\n",
       "      <td>0.0</td>\n",
       "    </tr>\n",
       "    <tr>\n",
       "      <th>N^^N_NIL_3</th>\n",
       "      <td>0.0</td>\n",
       "      <td>0.0</td>\n",
       "      <td>0.0</td>\n",
       "      <td>0.0</td>\n",
       "      <td>0.0</td>\n",
       "      <td>0.0</td>\n",
       "      <td>0.0</td>\n",
       "      <td>0.0</td>\n",
       "      <td>0.0</td>\n",
       "      <td>0.0</td>\n",
       "      <td>...</td>\n",
       "      <td>0.0</td>\n",
       "      <td>0.0</td>\n",
       "      <td>0.0</td>\n",
       "      <td>0.0</td>\n",
       "      <td>0.0</td>\n",
       "      <td>0.0</td>\n",
       "      <td>0.0</td>\n",
       "      <td>0.0</td>\n",
       "      <td>0.0</td>\n",
       "      <td>0.0</td>\n",
       "    </tr>\n",
       "    <tr>\n",
       "      <th>Q&gt;NIL_COLNVSF1</th>\n",
       "      <td>0.0</td>\n",
       "      <td>0.0</td>\n",
       "      <td>0.0</td>\n",
       "      <td>0.0</td>\n",
       "      <td>0.0</td>\n",
       "      <td>0.0</td>\n",
       "      <td>0.0</td>\n",
       "      <td>0.0</td>\n",
       "      <td>0.0</td>\n",
       "      <td>0.0</td>\n",
       "      <td>...</td>\n",
       "      <td>0.0</td>\n",
       "      <td>0.0</td>\n",
       "      <td>0.0</td>\n",
       "      <td>0.0</td>\n",
       "      <td>0.0</td>\n",
       "      <td>0.0</td>\n",
       "      <td>0.0</td>\n",
       "      <td>0.0</td>\n",
       "      <td>0.0</td>\n",
       "      <td>0.0</td>\n",
       "    </tr>\n",
       "    <tr>\n",
       "      <th>Q&gt;NIL_YLMR</th>\n",
       "      <td>0.0</td>\n",
       "      <td>0.0</td>\n",
       "      <td>0.0</td>\n",
       "      <td>0.0</td>\n",
       "      <td>0.0</td>\n",
       "      <td>0.0</td>\n",
       "      <td>0.0</td>\n",
       "      <td>0.0</td>\n",
       "      <td>0.0</td>\n",
       "      <td>0.0</td>\n",
       "      <td>...</td>\n",
       "      <td>0.0</td>\n",
       "      <td>0.0</td>\n",
       "      <td>0.0</td>\n",
       "      <td>0.0</td>\n",
       "      <td>0.0</td>\n",
       "      <td>0.0</td>\n",
       "      <td>0.0</td>\n",
       "      <td>0.0</td>\n",
       "      <td>0.0</td>\n",
       "      <td>0.0</td>\n",
       "    </tr>\n",
       "    <tr>\n",
       "      <th>S&gt;NIL_MHNW1_MHNW2</th>\n",
       "      <td>0.0</td>\n",
       "      <td>0.0</td>\n",
       "      <td>0.0</td>\n",
       "      <td>0.0</td>\n",
       "      <td>0.0</td>\n",
       "      <td>0.0</td>\n",
       "      <td>0.0</td>\n",
       "      <td>0.0</td>\n",
       "      <td>0.0</td>\n",
       "      <td>0.0</td>\n",
       "      <td>...</td>\n",
       "      <td>0.0</td>\n",
       "      <td>0.0</td>\n",
       "      <td>0.0</td>\n",
       "      <td>0.0</td>\n",
       "      <td>0.0</td>\n",
       "      <td>0.0</td>\n",
       "      <td>0.0</td>\n",
       "      <td>0.0</td>\n",
       "      <td>0.0</td>\n",
       "      <td>0.0</td>\n",
       "    </tr>\n",
       "    <tr>\n",
       "      <th>V&gt;&gt;V_NIL_14</th>\n",
       "      <td>0.0</td>\n",
       "      <td>0.0</td>\n",
       "      <td>0.0</td>\n",
       "      <td>0.0</td>\n",
       "      <td>0.0</td>\n",
       "      <td>0.0</td>\n",
       "      <td>0.0</td>\n",
       "      <td>0.0</td>\n",
       "      <td>0.0</td>\n",
       "      <td>0.0</td>\n",
       "      <td>...</td>\n",
       "      <td>0.0</td>\n",
       "      <td>0.0</td>\n",
       "      <td>0.0</td>\n",
       "      <td>0.0</td>\n",
       "      <td>0.0</td>\n",
       "      <td>0.0</td>\n",
       "      <td>0.0</td>\n",
       "      <td>0.0</td>\n",
       "      <td>0.0</td>\n",
       "      <td>0.0</td>\n",
       "    </tr>\n",
       "    <tr>\n",
       "      <th>V&gt;V_NIL_17</th>\n",
       "      <td>0.0</td>\n",
       "      <td>0.0</td>\n",
       "      <td>0.0</td>\n",
       "      <td>0.0</td>\n",
       "      <td>0.0</td>\n",
       "      <td>0.0</td>\n",
       "      <td>0.0</td>\n",
       "      <td>0.0</td>\n",
       "      <td>0.0</td>\n",
       "      <td>0.0</td>\n",
       "      <td>...</td>\n",
       "      <td>0.0</td>\n",
       "      <td>0.0</td>\n",
       "      <td>0.0</td>\n",
       "      <td>0.0</td>\n",
       "      <td>0.0</td>\n",
       "      <td>0.0</td>\n",
       "      <td>0.0</td>\n",
       "      <td>0.0</td>\n",
       "      <td>0.0</td>\n",
       "      <td>0.0</td>\n",
       "    </tr>\n",
       "    <tr>\n",
       "      <th>V_BANSF_BBD_80</th>\n",
       "      <td>0.0</td>\n",
       "      <td>0.0</td>\n",
       "      <td>0.0</td>\n",
       "      <td>0.0</td>\n",
       "      <td>0.0</td>\n",
       "      <td>0.0</td>\n",
       "      <td>0.0</td>\n",
       "      <td>0.0</td>\n",
       "      <td>0.0</td>\n",
       "      <td>0.0</td>\n",
       "      <td>...</td>\n",
       "      <td>0.0</td>\n",
       "      <td>0.0</td>\n",
       "      <td>0.0</td>\n",
       "      <td>0.0</td>\n",
       "      <td>0.0</td>\n",
       "      <td>0.0</td>\n",
       "      <td>0.0</td>\n",
       "      <td>0.0</td>\n",
       "      <td>0.0</td>\n",
       "      <td>0.0</td>\n",
       "    </tr>\n",
       "    <tr>\n",
       "      <th>V_T_NIL_FCSPS</th>\n",
       "      <td>0.0</td>\n",
       "      <td>0.0</td>\n",
       "      <td>0.0</td>\n",
       "      <td>0.0</td>\n",
       "      <td>0.0</td>\n",
       "      <td>0.0</td>\n",
       "      <td>0.0</td>\n",
       "      <td>0.0</td>\n",
       "      <td>0.0</td>\n",
       "      <td>0.0</td>\n",
       "      <td>...</td>\n",
       "      <td>0.0</td>\n",
       "      <td>0.0</td>\n",
       "      <td>0.0</td>\n",
       "      <td>0.0</td>\n",
       "      <td>0.0</td>\n",
       "      <td>0.0</td>\n",
       "      <td>0.0</td>\n",
       "      <td>0.0</td>\n",
       "      <td>0.0</td>\n",
       "      <td>0.0</td>\n",
       "    </tr>\n",
       "  </tbody>\n",
       "</table>\n",
       "<p>25 rows × 146 columns</p>\n",
       "</div>"
      ],
      "text/plain": [
       "interval           2021/02/15 06:00:00  2021/02/15 06:05:00  \\\n",
       "set                                                           \n",
       "#MWPS1PV1_E                    -1032.7              -1032.1   \n",
       "#MWPS2PV1_E                        0.0                  0.0   \n",
       "#MWPS4PV1_E                        0.0              -1032.1   \n",
       "#PPCCGT_D_E                    14967.3              14967.9   \n",
       "#TORRB1_D_E                    14967.3              14967.9   \n",
       "#TORRB3_D_E                    14967.3              14967.9   \n",
       "#WARWSF1_E                         0.0                  0.0   \n",
       "#YATSF1_E                          0.0                  0.0   \n",
       "$BARRON-1                          0.0                  0.0   \n",
       "$BLOWERNG                      -1037.1                  0.0   \n",
       "$CALL_B_1                      14961.1              14962.9   \n",
       "$YATSF1                            0.0                  0.0   \n",
       "F_T_AUFLS2_R6                     -3.5                 -8.0   \n",
       "N>>N-PKWL_94K_2                    0.0                  0.0   \n",
       "N>>N-PKWL_94K_3                    0.0                  0.0   \n",
       "NC_N_DARLSF1                       0.0                  0.0   \n",
       "N^^N_NIL_2                         0.0                  0.0   \n",
       "N^^N_NIL_3                         0.0                  0.0   \n",
       "Q>NIL_COLNVSF1                     0.0                  0.0   \n",
       "Q>NIL_YLMR                         0.0                  0.0   \n",
       "S>NIL_MHNW1_MHNW2                  0.0                  0.0   \n",
       "V>>V_NIL_14                        0.0                  0.0   \n",
       "V>V_NIL_17                         0.0                  0.0   \n",
       "V_BANSF_BBD_80                     0.0                  0.0   \n",
       "V_T_NIL_FCSPS                      0.0                  0.0   \n",
       "\n",
       "interval           2021/02/15 06:10:00  2021/02/15 06:15:00  \\\n",
       "set                                                           \n",
       "#MWPS1PV1_E                        0.0              -1032.0   \n",
       "#MWPS2PV1_E                        0.0                  0.0   \n",
       "#MWPS4PV1_E                    -1032.0              -1032.0   \n",
       "#PPCCGT_D_E                    14968.0              14968.0   \n",
       "#TORRB1_D_E                    14968.0              14968.0   \n",
       "#TORRB3_D_E                    14968.0              14968.0   \n",
       "#WARWSF1_E                         0.0                  0.0   \n",
       "#YATSF1_E                          0.0                  0.0   \n",
       "$BARRON-1                          0.0                  0.0   \n",
       "$BLOWERNG                      -1035.5                  0.0   \n",
       "$CALL_B_1                      14963.6              14963.3   \n",
       "$YATSF1                            0.0                  0.0   \n",
       "F_T_AUFLS2_R6                     -8.0                 -8.0   \n",
       "N>>N-PKWL_94K_2                    0.0                  0.0   \n",
       "N>>N-PKWL_94K_3                    0.0                  0.0   \n",
       "NC_N_DARLSF1                       0.0                  0.0   \n",
       "N^^N_NIL_2                         0.0                  0.0   \n",
       "N^^N_NIL_3                         0.0                  0.0   \n",
       "Q>NIL_COLNVSF1                     0.0                  0.0   \n",
       "Q>NIL_YLMR                         0.0                  0.0   \n",
       "S>NIL_MHNW1_MHNW2                  0.0                  0.0   \n",
       "V>>V_NIL_14                        0.0                  0.0   \n",
       "V>V_NIL_17                         0.0                  0.0   \n",
       "V_BANSF_BBD_80                     0.0                  0.0   \n",
       "V_T_NIL_FCSPS                      0.0                  0.0   \n",
       "\n",
       "interval           2021/02/15 06:20:00  2021/02/15 06:25:00  \\\n",
       "set                                                           \n",
       "#MWPS1PV1_E                    -1032.5                  0.0   \n",
       "#MWPS2PV1_E                        0.0                  0.0   \n",
       "#MWPS4PV1_E                        0.0              -1033.0   \n",
       "#PPCCGT_D_E                    14967.5              14967.0   \n",
       "#TORRB1_D_E                    14967.5              14967.0   \n",
       "#TORRB3_D_E                    14967.5              14967.0   \n",
       "#WARWSF1_E                         0.0                  0.0   \n",
       "#YATSF1_E                          0.0                  0.0   \n",
       "$BARRON-1                          0.0                  0.0   \n",
       "$BLOWERNG                          0.0              -1035.5   \n",
       "$CALL_B_1                      14963.6              14964.4   \n",
       "$YATSF1                            0.0                  0.0   \n",
       "F_T_AUFLS2_R6                     -3.5                 -7.2   \n",
       "N>>N-PKWL_94K_2                    0.0                  0.0   \n",
       "N>>N-PKWL_94K_3                    0.0                  0.0   \n",
       "NC_N_DARLSF1                       0.0                  0.0   \n",
       "N^^N_NIL_2                         0.0                  0.0   \n",
       "N^^N_NIL_3                         0.0                  0.0   \n",
       "Q>NIL_COLNVSF1                     0.0                  0.0   \n",
       "Q>NIL_YLMR                         0.0                  0.0   \n",
       "S>NIL_MHNW1_MHNW2                  0.0                  0.0   \n",
       "V>>V_NIL_14                        0.0                  0.0   \n",
       "V>V_NIL_17                         0.0                  0.0   \n",
       "V_BANSF_BBD_80                     0.0                  0.0   \n",
       "V_T_NIL_FCSPS                      0.0                  0.0   \n",
       "\n",
       "interval           2021/02/15 06:30:00  2021/02/15 06:35:00  \\\n",
       "set                                                           \n",
       "#MWPS1PV1_E                        0.0                  0.0   \n",
       "#MWPS2PV1_E                    -1035.4              -1037.0   \n",
       "#MWPS4PV1_E                        0.0                  0.0   \n",
       "#PPCCGT_D_E                    14964.6              14963.0   \n",
       "#TORRB1_D_E                    14964.6              14963.0   \n",
       "#TORRB3_D_E                    14964.6              14963.0   \n",
       "#WARWSF1_E                         0.0                  0.0   \n",
       "#YATSF1_E                          0.0                  0.0   \n",
       "$BARRON-1                          0.0                  0.0   \n",
       "$BLOWERNG                      -1037.3              -1037.5   \n",
       "$CALL_B_1                      14962.3              14962.3   \n",
       "$YATSF1                            0.0                  0.0   \n",
       "F_T_AUFLS2_R6                     -5.1                 -3.5   \n",
       "N>>N-PKWL_94K_2                    0.0                  0.0   \n",
       "N>>N-PKWL_94K_3                    0.0                  0.0   \n",
       "NC_N_DARLSF1                       0.0                  0.0   \n",
       "N^^N_NIL_2                         0.0                  0.0   \n",
       "N^^N_NIL_3                         0.0                  0.0   \n",
       "Q>NIL_COLNVSF1                     0.0                  0.0   \n",
       "Q>NIL_YLMR                         0.0                  0.0   \n",
       "S>NIL_MHNW1_MHNW2                  0.0                  0.0   \n",
       "V>>V_NIL_14                        0.0                  0.0   \n",
       "V>V_NIL_17                         0.0                  0.0   \n",
       "V_BANSF_BBD_80                     0.0                  0.0   \n",
       "V_T_NIL_FCSPS                      0.0                  0.0   \n",
       "\n",
       "interval           2021/02/15 06:40:00  2021/02/15 06:45:00  ...  \\\n",
       "set                                                          ...   \n",
       "#MWPS1PV1_E                        0.0              -1035.4  ...   \n",
       "#MWPS2PV1_E                        0.0              -1035.4  ...   \n",
       "#MWPS4PV1_E                    -1037.0                  0.0  ...   \n",
       "#PPCCGT_D_E                    14963.0              14964.6  ...   \n",
       "#TORRB1_D_E                    14963.0              14964.6  ...   \n",
       "#TORRB3_D_E                    14963.0              14964.6  ...   \n",
       "#WARWSF1_E                         0.0                  0.0  ...   \n",
       "#YATSF1_E                          0.0                  0.0  ...   \n",
       "$BARRON-1                          0.0                  0.0  ...   \n",
       "$BLOWERNG                          0.0              -1035.5  ...   \n",
       "$CALL_B_1                      14962.3              14964.6  ...   \n",
       "$YATSF1                            0.0                  0.0  ...   \n",
       "F_T_AUFLS2_R6                     -3.6                 -3.5  ...   \n",
       "N>>N-PKWL_94K_2                    0.0                  0.0  ...   \n",
       "N>>N-PKWL_94K_3                    0.0                  0.0  ...   \n",
       "NC_N_DARLSF1                       0.0                  0.0  ...   \n",
       "N^^N_NIL_2                         0.0                  0.0  ...   \n",
       "N^^N_NIL_3                         0.0                  0.0  ...   \n",
       "Q>NIL_COLNVSF1                     0.0                  0.0  ...   \n",
       "Q>NIL_YLMR                         0.0                  0.0  ...   \n",
       "S>NIL_MHNW1_MHNW2                  0.0                  0.0  ...   \n",
       "V>>V_NIL_14                        0.0                  0.0  ...   \n",
       "V>V_NIL_17                         0.0                  0.0  ...   \n",
       "V_BANSF_BBD_80                     0.0                  0.0  ...   \n",
       "V_T_NIL_FCSPS                      0.0                  0.0  ...   \n",
       "\n",
       "interval           2021/02/15 17:20:00  2021/02/15 17:25:00  \\\n",
       "set                                                           \n",
       "#MWPS1PV1_E                        0.0              -1038.6   \n",
       "#MWPS2PV1_E                    -1038.0                  0.0   \n",
       "#MWPS4PV1_E                        0.0              -1038.6   \n",
       "#PPCCGT_D_E                    14962.0              14961.4   \n",
       "#TORRB1_D_E                        0.0                  0.0   \n",
       "#TORRB3_D_E                        0.0                  0.0   \n",
       "#WARWSF1_E                         0.0                  0.0   \n",
       "#YATSF1_E                          0.0                  0.0   \n",
       "$BARRON-1                          0.0                  0.0   \n",
       "$BLOWERNG                      -1036.1                  0.0   \n",
       "$CALL_B_1                         12.2                 12.3   \n",
       "$YATSF1                            0.0                  0.0   \n",
       "F_T_AUFLS2_R6                     -8.0                 -8.0   \n",
       "N>>N-PKWL_94K_2                  -51.9                  0.0   \n",
       "N>>N-PKWL_94K_3                    0.0                  0.0   \n",
       "NC_N_DARLSF1                       0.0                  0.0   \n",
       "N^^N_NIL_2                         0.0                  0.0   \n",
       "N^^N_NIL_3                         0.0                  0.0   \n",
       "Q>NIL_COLNVSF1                     0.0                  0.0   \n",
       "Q>NIL_YLMR                         0.0                  0.0   \n",
       "S>NIL_MHNW1_MHNW2                  0.0                  0.0   \n",
       "V>>V_NIL_14                        0.0                  0.0   \n",
       "V>V_NIL_17                         0.0                  0.0   \n",
       "V_BANSF_BBD_80                     0.0                  0.0   \n",
       "V_T_NIL_FCSPS                      0.0                  0.0   \n",
       "\n",
       "interval           2021/02/15 17:30:00  2021/02/15 17:35:00  \\\n",
       "set                                                           \n",
       "#MWPS1PV1_E                    -1038.2                  0.0   \n",
       "#MWPS2PV1_E                        0.0                  0.0   \n",
       "#MWPS4PV1_E                        0.0                  0.0   \n",
       "#PPCCGT_D_E                    14961.8                  0.0   \n",
       "#TORRB1_D_E                        0.0                  0.0   \n",
       "#TORRB3_D_E                        0.0                  0.0   \n",
       "#WARWSF1_E                         0.0                  0.0   \n",
       "#YATSF1_E                          0.0                  0.0   \n",
       "$BARRON-1                          0.0                  0.0   \n",
       "$BLOWERNG                      -1035.6              -1035.5   \n",
       "$CALL_B_1                         12.5                 12.0   \n",
       "$YATSF1                            0.0                  0.0   \n",
       "F_T_AUFLS2_R6                     -8.0                 -8.0   \n",
       "N>>N-PKWL_94K_2                    0.0                  0.0   \n",
       "N>>N-PKWL_94K_3                    0.0                  0.0   \n",
       "NC_N_DARLSF1                       0.0                  0.0   \n",
       "N^^N_NIL_2                         0.0                  0.0   \n",
       "N^^N_NIL_3                         0.0                  0.0   \n",
       "Q>NIL_COLNVSF1                     0.0                  0.0   \n",
       "Q>NIL_YLMR                         0.0                  0.0   \n",
       "S>NIL_MHNW1_MHNW2                  0.0                  0.0   \n",
       "V>>V_NIL_14                        0.0                  0.0   \n",
       "V>V_NIL_17                         0.0                  0.0   \n",
       "V_BANSF_BBD_80                     0.0                  0.0   \n",
       "V_T_NIL_FCSPS                      0.0                  0.0   \n",
       "\n",
       "interval           2021/02/15 17:40:00  2021/02/15 17:45:00  \\\n",
       "set                                                           \n",
       "#MWPS1PV1_E                    -1038.8                  0.0   \n",
       "#MWPS2PV1_E                    -1038.8              -1039.4   \n",
       "#MWPS4PV1_E                    -1038.8                  0.0   \n",
       "#PPCCGT_D_E                        0.0                  0.0   \n",
       "#TORRB1_D_E                        0.0                  0.0   \n",
       "#TORRB3_D_E                        0.0                  0.0   \n",
       "#WARWSF1_E                         0.0                  0.0   \n",
       "#YATSF1_E                          0.0                  0.0   \n",
       "$BARRON-1                          0.0                  0.0   \n",
       "$BLOWERNG                          0.0                  0.0   \n",
       "$CALL_B_1                         11.4                 10.7   \n",
       "$YATSF1                            0.0                  0.0   \n",
       "F_T_AUFLS2_R6                     -8.1                 -8.0   \n",
       "N>>N-PKWL_94K_2                    0.0                  0.0   \n",
       "N>>N-PKWL_94K_3                    0.0                  0.0   \n",
       "NC_N_DARLSF1                       0.0                  0.0   \n",
       "N^^N_NIL_2                         0.0                  0.0   \n",
       "N^^N_NIL_3                         0.0                  0.0   \n",
       "Q>NIL_COLNVSF1                     0.0                  0.0   \n",
       "Q>NIL_YLMR                         0.0                  0.0   \n",
       "S>NIL_MHNW1_MHNW2                  0.0                  0.0   \n",
       "V>>V_NIL_14                        0.0                  0.0   \n",
       "V>V_NIL_17                         0.0                  0.0   \n",
       "V_BANSF_BBD_80                     0.0                  0.0   \n",
       "V_T_NIL_FCSPS                      0.0                  0.0   \n",
       "\n",
       "interval           2021/02/15 17:50:00  2021/02/15 17:55:00  \\\n",
       "set                                                           \n",
       "#MWPS1PV1_E                    -1039.5                  0.0   \n",
       "#MWPS2PV1_E                    -1039.5              -1055.4   \n",
       "#MWPS4PV1_E                    -1039.5                  0.0   \n",
       "#PPCCGT_D_E                        0.0                  0.0   \n",
       "#TORRB1_D_E                        0.0                  0.0   \n",
       "#TORRB3_D_E                        0.0                  0.0   \n",
       "#WARWSF1_E                         0.0                  0.0   \n",
       "#YATSF1_E                          0.0                  0.0   \n",
       "$BARRON-1                          0.0                  0.0   \n",
       "$BLOWERNG                      -1035.6                  0.0   \n",
       "$CALL_B_1                         11.1                 -2.5   \n",
       "$YATSF1                            0.0                  0.0   \n",
       "F_T_AUFLS2_R6                     -8.0                 -8.5   \n",
       "N>>N-PKWL_94K_2                    0.0                  0.0   \n",
       "N>>N-PKWL_94K_3                    0.0                  0.0   \n",
       "NC_N_DARLSF1                       0.0                  0.0   \n",
       "N^^N_NIL_2                         0.0                  0.0   \n",
       "N^^N_NIL_3                         0.0                  0.0   \n",
       "Q>NIL_COLNVSF1                     0.0                  0.0   \n",
       "Q>NIL_YLMR                         0.0                  0.0   \n",
       "S>NIL_MHNW1_MHNW2                  0.0                  0.0   \n",
       "V>>V_NIL_14                        0.0                  0.0   \n",
       "V>V_NIL_17                         0.0                  0.0   \n",
       "V_BANSF_BBD_80                     0.0                  0.0   \n",
       "V_T_NIL_FCSPS                      0.0                  0.0   \n",
       "\n",
       "interval           2021/02/15 18:00:00  2021/02/15 18:05:00  \n",
       "set                                                          \n",
       "#MWPS1PV1_E                        0.0                  0.0  \n",
       "#MWPS2PV1_E                        0.0                  0.0  \n",
       "#MWPS4PV1_E                        0.0              -1042.5  \n",
       "#PPCCGT_D_E                        0.0                  0.0  \n",
       "#TORRB1_D_E                        0.0                  0.0  \n",
       "#TORRB3_D_E                        0.0                  0.0  \n",
       "#WARWSF1_E                         0.0                  0.0  \n",
       "#YATSF1_E                          0.0                  0.0  \n",
       "$BARRON-1                          0.0                  0.0  \n",
       "$BLOWERNG                      -1052.6              -1038.3  \n",
       "$CALL_B_1                         -6.1                  8.1  \n",
       "$YATSF1                            0.0                  0.0  \n",
       "F_T_AUFLS2_R6                    -12.8                 -8.3  \n",
       "N>>N-PKWL_94K_2                    0.0                  0.0  \n",
       "N>>N-PKWL_94K_3                    0.0                  0.0  \n",
       "NC_N_DARLSF1                       0.0                  0.0  \n",
       "N^^N_NIL_2                         0.0                  0.0  \n",
       "N^^N_NIL_3                         0.0                  0.0  \n",
       "Q>NIL_COLNVSF1                     0.0                  0.0  \n",
       "Q>NIL_YLMR                         0.0                  0.0  \n",
       "S>NIL_MHNW1_MHNW2                  0.0                  0.0  \n",
       "V>>V_NIL_14                        0.0                  0.0  \n",
       "V>V_NIL_17                         0.0                  0.0  \n",
       "V_BANSF_BBD_80                     0.0                  0.0  \n",
       "V_T_NIL_FCSPS                      0.0                  0.0  \n",
       "\n",
       "[25 rows x 146 columns]"
      ]
     },
     "execution_count": 28,
     "metadata": {},
     "output_type": "execute_result"
    }
   ],
   "source": [
    "mv_table_r = marginal_values_r.groupby(['set','interval']).marginal_value.first().unstack().fillna(0).round(1)\n",
    "mv_table_r"
   ]
  },
  {
   "cell_type": "markdown",
   "metadata": {},
   "source": [
    "---\n",
    "\n",
    "### C4. Unit Dispatch Results\n",
    "Again, for unit dispatch..."
   ]
  },
  {
   "cell_type": "code",
   "execution_count": 29,
   "metadata": {},
   "outputs": [
    {
     "data": {
      "text/html": [
       "<div>\n",
       "<style scoped>\n",
       "    .dataframe tbody tr th:only-of-type {\n",
       "        vertical-align: middle;\n",
       "    }\n",
       "\n",
       "    .dataframe tbody tr th {\n",
       "        vertical-align: top;\n",
       "    }\n",
       "\n",
       "    .dataframe thead th {\n",
       "        text-align: right;\n",
       "    }\n",
       "</style>\n",
       "<table border=\"1\" class=\"dataframe\">\n",
       "  <thead>\n",
       "    <tr style=\"text-align: right;\">\n",
       "      <th>interval</th>\n",
       "      <th>2021/02/15 06:00:00</th>\n",
       "      <th>2021/02/15 06:05:00</th>\n",
       "      <th>2021/02/15 06:10:00</th>\n",
       "      <th>2021/02/15 06:15:00</th>\n",
       "      <th>2021/02/15 06:20:00</th>\n",
       "      <th>2021/02/15 06:25:00</th>\n",
       "      <th>2021/02/15 06:30:00</th>\n",
       "      <th>2021/02/15 06:35:00</th>\n",
       "      <th>2021/02/15 06:40:00</th>\n",
       "      <th>2021/02/15 06:45:00</th>\n",
       "      <th>...</th>\n",
       "      <th>2021/02/15 17:20:00</th>\n",
       "      <th>2021/02/15 17:25:00</th>\n",
       "      <th>2021/02/15 17:30:00</th>\n",
       "      <th>2021/02/15 17:35:00</th>\n",
       "      <th>2021/02/15 17:40:00</th>\n",
       "      <th>2021/02/15 17:45:00</th>\n",
       "      <th>2021/02/15 17:50:00</th>\n",
       "      <th>2021/02/15 17:55:00</th>\n",
       "      <th>2021/02/15 18:00:00</th>\n",
       "      <th>2021/02/15 18:05:00</th>\n",
       "    </tr>\n",
       "    <tr>\n",
       "      <th>unit</th>\n",
       "      <th></th>\n",
       "      <th></th>\n",
       "      <th></th>\n",
       "      <th></th>\n",
       "      <th></th>\n",
       "      <th></th>\n",
       "      <th></th>\n",
       "      <th></th>\n",
       "      <th></th>\n",
       "      <th></th>\n",
       "      <th></th>\n",
       "      <th></th>\n",
       "      <th></th>\n",
       "      <th></th>\n",
       "      <th></th>\n",
       "      <th></th>\n",
       "      <th></th>\n",
       "      <th></th>\n",
       "      <th></th>\n",
       "      <th></th>\n",
       "      <th></th>\n",
       "    </tr>\n",
       "  </thead>\n",
       "  <tbody>\n",
       "    <tr>\n",
       "      <th>AGLHAL</th>\n",
       "      <td>0.0</td>\n",
       "      <td>0.0</td>\n",
       "      <td>0.0</td>\n",
       "      <td>0.0</td>\n",
       "      <td>0.0</td>\n",
       "      <td>0.0</td>\n",
       "      <td>0.0</td>\n",
       "      <td>0.0</td>\n",
       "      <td>0.0</td>\n",
       "      <td>0.0</td>\n",
       "      <td>...</td>\n",
       "      <td>0.0</td>\n",
       "      <td>0.0</td>\n",
       "      <td>0.0</td>\n",
       "      <td>0.0</td>\n",
       "      <td>0.0</td>\n",
       "      <td>0.0</td>\n",
       "      <td>0.0</td>\n",
       "      <td>0.0</td>\n",
       "      <td>0.0</td>\n",
       "      <td>0.0</td>\n",
       "    </tr>\n",
       "    <tr>\n",
       "      <th>AGLSOM</th>\n",
       "      <td>0.0</td>\n",
       "      <td>0.0</td>\n",
       "      <td>0.0</td>\n",
       "      <td>0.0</td>\n",
       "      <td>0.0</td>\n",
       "      <td>0.0</td>\n",
       "      <td>0.0</td>\n",
       "      <td>0.0</td>\n",
       "      <td>0.0</td>\n",
       "      <td>0.0</td>\n",
       "      <td>...</td>\n",
       "      <td>0.0</td>\n",
       "      <td>0.0</td>\n",
       "      <td>0.0</td>\n",
       "      <td>0.0</td>\n",
       "      <td>0.0</td>\n",
       "      <td>0.0</td>\n",
       "      <td>0.0</td>\n",
       "      <td>0.0</td>\n",
       "      <td>0.0</td>\n",
       "      <td>0.0</td>\n",
       "    </tr>\n",
       "    <tr>\n",
       "      <th>ANGAST1</th>\n",
       "      <td>0.0</td>\n",
       "      <td>0.0</td>\n",
       "      <td>0.0</td>\n",
       "      <td>0.0</td>\n",
       "      <td>0.0</td>\n",
       "      <td>0.0</td>\n",
       "      <td>0.0</td>\n",
       "      <td>0.0</td>\n",
       "      <td>0.0</td>\n",
       "      <td>0.0</td>\n",
       "      <td>...</td>\n",
       "      <td>0.0</td>\n",
       "      <td>0.0</td>\n",
       "      <td>0.0</td>\n",
       "      <td>0.0</td>\n",
       "      <td>0.0</td>\n",
       "      <td>0.0</td>\n",
       "      <td>0.0</td>\n",
       "      <td>0.0</td>\n",
       "      <td>0.0</td>\n",
       "      <td>0.0</td>\n",
       "    </tr>\n",
       "    <tr>\n",
       "      <th>ARWF1</th>\n",
       "      <td>112.4</td>\n",
       "      <td>105.9</td>\n",
       "      <td>100.1</td>\n",
       "      <td>104.7</td>\n",
       "      <td>103.6</td>\n",
       "      <td>111.4</td>\n",
       "      <td>99.2</td>\n",
       "      <td>95.0</td>\n",
       "      <td>89.7</td>\n",
       "      <td>94.1</td>\n",
       "      <td>...</td>\n",
       "      <td>0.0</td>\n",
       "      <td>0.0</td>\n",
       "      <td>0.0</td>\n",
       "      <td>0.0</td>\n",
       "      <td>0.0</td>\n",
       "      <td>0.0</td>\n",
       "      <td>0.0</td>\n",
       "      <td>0.0</td>\n",
       "      <td>0.0</td>\n",
       "      <td>0.0</td>\n",
       "    </tr>\n",
       "    <tr>\n",
       "      <th>BALBG1</th>\n",
       "      <td>0.0</td>\n",
       "      <td>0.0</td>\n",
       "      <td>0.0</td>\n",
       "      <td>0.0</td>\n",
       "      <td>0.0</td>\n",
       "      <td>0.0</td>\n",
       "      <td>0.0</td>\n",
       "      <td>0.0</td>\n",
       "      <td>0.0</td>\n",
       "      <td>0.0</td>\n",
       "      <td>...</td>\n",
       "      <td>0.0</td>\n",
       "      <td>0.0</td>\n",
       "      <td>0.0</td>\n",
       "      <td>0.0</td>\n",
       "      <td>0.0</td>\n",
       "      <td>0.0</td>\n",
       "      <td>0.0</td>\n",
       "      <td>0.0</td>\n",
       "      <td>0.0</td>\n",
       "      <td>0.0</td>\n",
       "    </tr>\n",
       "    <tr>\n",
       "      <th>...</th>\n",
       "      <td>...</td>\n",
       "      <td>...</td>\n",
       "      <td>...</td>\n",
       "      <td>...</td>\n",
       "      <td>...</td>\n",
       "      <td>...</td>\n",
       "      <td>...</td>\n",
       "      <td>...</td>\n",
       "      <td>...</td>\n",
       "      <td>...</td>\n",
       "      <td>...</td>\n",
       "      <td>...</td>\n",
       "      <td>...</td>\n",
       "      <td>...</td>\n",
       "      <td>...</td>\n",
       "      <td>...</td>\n",
       "      <td>...</td>\n",
       "      <td>...</td>\n",
       "      <td>...</td>\n",
       "      <td>...</td>\n",
       "      <td>...</td>\n",
       "    </tr>\n",
       "    <tr>\n",
       "      <th>YENDWF1</th>\n",
       "      <td>61.4</td>\n",
       "      <td>65.8</td>\n",
       "      <td>61.0</td>\n",
       "      <td>52.0</td>\n",
       "      <td>52.6</td>\n",
       "      <td>47.3</td>\n",
       "      <td>52.8</td>\n",
       "      <td>55.6</td>\n",
       "      <td>58.3</td>\n",
       "      <td>55.5</td>\n",
       "      <td>...</td>\n",
       "      <td>18.6</td>\n",
       "      <td>18.9</td>\n",
       "      <td>17.6</td>\n",
       "      <td>19.3</td>\n",
       "      <td>17.8</td>\n",
       "      <td>17.9</td>\n",
       "      <td>17.6</td>\n",
       "      <td>18.8</td>\n",
       "      <td>18.1</td>\n",
       "      <td>16.5</td>\n",
       "    </tr>\n",
       "    <tr>\n",
       "      <th>YWPS1</th>\n",
       "      <td>380.0</td>\n",
       "      <td>380.0</td>\n",
       "      <td>380.0</td>\n",
       "      <td>380.0</td>\n",
       "      <td>380.0</td>\n",
       "      <td>380.0</td>\n",
       "      <td>380.0</td>\n",
       "      <td>380.0</td>\n",
       "      <td>380.0</td>\n",
       "      <td>380.0</td>\n",
       "      <td>...</td>\n",
       "      <td>370.0</td>\n",
       "      <td>370.0</td>\n",
       "      <td>370.0</td>\n",
       "      <td>370.0</td>\n",
       "      <td>370.0</td>\n",
       "      <td>370.0</td>\n",
       "      <td>370.0</td>\n",
       "      <td>370.0</td>\n",
       "      <td>370.0</td>\n",
       "      <td>375.0</td>\n",
       "    </tr>\n",
       "    <tr>\n",
       "      <th>YWPS2</th>\n",
       "      <td>350.0</td>\n",
       "      <td>350.0</td>\n",
       "      <td>350.0</td>\n",
       "      <td>350.0</td>\n",
       "      <td>350.0</td>\n",
       "      <td>350.0</td>\n",
       "      <td>350.0</td>\n",
       "      <td>350.0</td>\n",
       "      <td>350.0</td>\n",
       "      <td>350.0</td>\n",
       "      <td>...</td>\n",
       "      <td>350.0</td>\n",
       "      <td>350.0</td>\n",
       "      <td>350.0</td>\n",
       "      <td>350.0</td>\n",
       "      <td>350.0</td>\n",
       "      <td>350.0</td>\n",
       "      <td>350.0</td>\n",
       "      <td>350.0</td>\n",
       "      <td>350.0</td>\n",
       "      <td>350.0</td>\n",
       "    </tr>\n",
       "    <tr>\n",
       "      <th>YWPS3</th>\n",
       "      <td>375.0</td>\n",
       "      <td>375.0</td>\n",
       "      <td>375.0</td>\n",
       "      <td>375.0</td>\n",
       "      <td>375.0</td>\n",
       "      <td>375.0</td>\n",
       "      <td>375.0</td>\n",
       "      <td>375.0</td>\n",
       "      <td>375.0</td>\n",
       "      <td>375.0</td>\n",
       "      <td>...</td>\n",
       "      <td>375.0</td>\n",
       "      <td>375.0</td>\n",
       "      <td>375.0</td>\n",
       "      <td>375.0</td>\n",
       "      <td>375.0</td>\n",
       "      <td>375.0</td>\n",
       "      <td>375.0</td>\n",
       "      <td>375.0</td>\n",
       "      <td>375.0</td>\n",
       "      <td>375.0</td>\n",
       "    </tr>\n",
       "    <tr>\n",
       "      <th>YWPS4</th>\n",
       "      <td>390.0</td>\n",
       "      <td>390.0</td>\n",
       "      <td>390.0</td>\n",
       "      <td>390.0</td>\n",
       "      <td>390.0</td>\n",
       "      <td>390.0</td>\n",
       "      <td>390.0</td>\n",
       "      <td>390.0</td>\n",
       "      <td>390.0</td>\n",
       "      <td>390.0</td>\n",
       "      <td>...</td>\n",
       "      <td>380.0</td>\n",
       "      <td>380.0</td>\n",
       "      <td>380.0</td>\n",
       "      <td>380.0</td>\n",
       "      <td>380.0</td>\n",
       "      <td>380.0</td>\n",
       "      <td>380.0</td>\n",
       "      <td>380.0</td>\n",
       "      <td>380.0</td>\n",
       "      <td>380.0</td>\n",
       "    </tr>\n",
       "  </tbody>\n",
       "</table>\n",
       "<p>334 rows × 146 columns</p>\n",
       "</div>"
      ],
      "text/plain": [
       "interval  2021/02/15 06:00:00  2021/02/15 06:05:00  2021/02/15 06:10:00  \\\n",
       "unit                                                                      \n",
       "AGLHAL                    0.0                  0.0                  0.0   \n",
       "AGLSOM                    0.0                  0.0                  0.0   \n",
       "ANGAST1                   0.0                  0.0                  0.0   \n",
       "ARWF1                   112.4                105.9                100.1   \n",
       "BALBG1                    0.0                  0.0                  0.0   \n",
       "...                       ...                  ...                  ...   \n",
       "YENDWF1                  61.4                 65.8                 61.0   \n",
       "YWPS1                   380.0                380.0                380.0   \n",
       "YWPS2                   350.0                350.0                350.0   \n",
       "YWPS3                   375.0                375.0                375.0   \n",
       "YWPS4                   390.0                390.0                390.0   \n",
       "\n",
       "interval  2021/02/15 06:15:00  2021/02/15 06:20:00  2021/02/15 06:25:00  \\\n",
       "unit                                                                      \n",
       "AGLHAL                    0.0                  0.0                  0.0   \n",
       "AGLSOM                    0.0                  0.0                  0.0   \n",
       "ANGAST1                   0.0                  0.0                  0.0   \n",
       "ARWF1                   104.7                103.6                111.4   \n",
       "BALBG1                    0.0                  0.0                  0.0   \n",
       "...                       ...                  ...                  ...   \n",
       "YENDWF1                  52.0                 52.6                 47.3   \n",
       "YWPS1                   380.0                380.0                380.0   \n",
       "YWPS2                   350.0                350.0                350.0   \n",
       "YWPS3                   375.0                375.0                375.0   \n",
       "YWPS4                   390.0                390.0                390.0   \n",
       "\n",
       "interval  2021/02/15 06:30:00  2021/02/15 06:35:00  2021/02/15 06:40:00  \\\n",
       "unit                                                                      \n",
       "AGLHAL                    0.0                  0.0                  0.0   \n",
       "AGLSOM                    0.0                  0.0                  0.0   \n",
       "ANGAST1                   0.0                  0.0                  0.0   \n",
       "ARWF1                    99.2                 95.0                 89.7   \n",
       "BALBG1                    0.0                  0.0                  0.0   \n",
       "...                       ...                  ...                  ...   \n",
       "YENDWF1                  52.8                 55.6                 58.3   \n",
       "YWPS1                   380.0                380.0                380.0   \n",
       "YWPS2                   350.0                350.0                350.0   \n",
       "YWPS3                   375.0                375.0                375.0   \n",
       "YWPS4                   390.0                390.0                390.0   \n",
       "\n",
       "interval  2021/02/15 06:45:00  ...  2021/02/15 17:20:00  2021/02/15 17:25:00  \\\n",
       "unit                           ...                                             \n",
       "AGLHAL                    0.0  ...                  0.0                  0.0   \n",
       "AGLSOM                    0.0  ...                  0.0                  0.0   \n",
       "ANGAST1                   0.0  ...                  0.0                  0.0   \n",
       "ARWF1                    94.1  ...                  0.0                  0.0   \n",
       "BALBG1                    0.0  ...                  0.0                  0.0   \n",
       "...                       ...  ...                  ...                  ...   \n",
       "YENDWF1                  55.5  ...                 18.6                 18.9   \n",
       "YWPS1                   380.0  ...                370.0                370.0   \n",
       "YWPS2                   350.0  ...                350.0                350.0   \n",
       "YWPS3                   375.0  ...                375.0                375.0   \n",
       "YWPS4                   390.0  ...                380.0                380.0   \n",
       "\n",
       "interval  2021/02/15 17:30:00  2021/02/15 17:35:00  2021/02/15 17:40:00  \\\n",
       "unit                                                                      \n",
       "AGLHAL                    0.0                  0.0                  0.0   \n",
       "AGLSOM                    0.0                  0.0                  0.0   \n",
       "ANGAST1                   0.0                  0.0                  0.0   \n",
       "ARWF1                     0.0                  0.0                  0.0   \n",
       "BALBG1                    0.0                  0.0                  0.0   \n",
       "...                       ...                  ...                  ...   \n",
       "YENDWF1                  17.6                 19.3                 17.8   \n",
       "YWPS1                   370.0                370.0                370.0   \n",
       "YWPS2                   350.0                350.0                350.0   \n",
       "YWPS3                   375.0                375.0                375.0   \n",
       "YWPS4                   380.0                380.0                380.0   \n",
       "\n",
       "interval  2021/02/15 17:45:00  2021/02/15 17:50:00  2021/02/15 17:55:00  \\\n",
       "unit                                                                      \n",
       "AGLHAL                    0.0                  0.0                  0.0   \n",
       "AGLSOM                    0.0                  0.0                  0.0   \n",
       "ANGAST1                   0.0                  0.0                  0.0   \n",
       "ARWF1                     0.0                  0.0                  0.0   \n",
       "BALBG1                    0.0                  0.0                  0.0   \n",
       "...                       ...                  ...                  ...   \n",
       "YENDWF1                  17.9                 17.6                 18.8   \n",
       "YWPS1                   370.0                370.0                370.0   \n",
       "YWPS2                   350.0                350.0                350.0   \n",
       "YWPS3                   375.0                375.0                375.0   \n",
       "YWPS4                   380.0                380.0                380.0   \n",
       "\n",
       "interval  2021/02/15 18:00:00  2021/02/15 18:05:00  \n",
       "unit                                                \n",
       "AGLHAL                    0.0                  0.0  \n",
       "AGLSOM                    0.0                  0.0  \n",
       "ANGAST1                   0.0                  0.0  \n",
       "ARWF1                     0.0                  0.0  \n",
       "BALBG1                    0.0                  0.0  \n",
       "...                       ...                  ...  \n",
       "YENDWF1                  18.1                 16.5  \n",
       "YWPS1                   370.0                375.0  \n",
       "YWPS2                   350.0                350.0  \n",
       "YWPS3                   375.0                375.0  \n",
       "YWPS4                   380.0                380.0  \n",
       "\n",
       "[334 rows x 146 columns]"
      ]
     },
     "execution_count": 29,
     "metadata": {},
     "output_type": "execute_result"
    }
   ],
   "source": [
    "unit_dispatch_r = unit_dispatch_r[unit_dispatch_r['service'] == 'energy']\n",
    "\n",
    "units_table_r = unit_dispatch_r.groupby(['unit','interval']).dispatch.first().unstack().round(1)\n",
    "units_table_r"
   ]
  },
  {
   "cell_type": "markdown",
   "metadata": {},
   "source": [
    "---\n",
    "## Section D - Results & Discussion\n",
    "### D1. Price Variations\n",
    "We can merge the previous results from Section B and C to compare the difference in prices for each region across the timeseries.\n",
    "\n",
    "The first figure shows the cleared price for each interval in NSW with all constraints (blue), and with the Line 94T constraints removed.\n",
    "\n",
    "The latter figure then shows the difference in price per region due to the removal of constraints. Here all values are either zero or negative, showing a reduction in the price by removing the constraints compared to the base case with all constraints considered."
   ]
  },
  {
   "cell_type": "code",
   "execution_count": 30,
   "metadata": {},
   "outputs": [],
   "source": [
    "prices_all = pd.merge(left=prices,right=prices_r,on=['interval','region'])\n",
    "prices_all.rename(columns = {'price_x':'Price before','price_y':'Price after'},inplace=True)\n",
    "prices_all['diff'] = prices_all['Price after'] - prices_all['Price before']"
   ]
  },
  {
   "cell_type": "code",
   "execution_count": 32,
   "metadata": {},
   "outputs": [
    {
     "data": {
      "application/vnd.plotly.v1+json": {
       "config": {
        "plotlyServerURL": "https://plot.ly"
       },
       "data": [
        {
         "marker": {
          "size": 8,
          "symbol": "circle"
         },
         "mode": "lines+markers",
         "name": "NSW price",
         "type": "scatter",
         "x": [
          "2021/02/15 06:00:00",
          "2021/02/15 06:05:00",
          "2021/02/15 06:10:00",
          "2021/02/15 06:15:00",
          "2021/02/15 06:20:00",
          "2021/02/15 06:25:00",
          "2021/02/15 06:30:00",
          "2021/02/15 06:35:00",
          "2021/02/15 06:40:00",
          "2021/02/15 06:45:00",
          "2021/02/15 06:50:00",
          "2021/02/15 06:55:00",
          "2021/02/15 07:00:00",
          "2021/02/15 07:05:00",
          "2021/02/15 07:10:00",
          "2021/02/15 07:15:00",
          "2021/02/15 07:20:00",
          "2021/02/15 07:25:00",
          "2021/02/15 07:30:00",
          "2021/02/15 07:35:00",
          "2021/02/15 07:40:00",
          "2021/02/15 07:45:00",
          "2021/02/15 07:50:00",
          "2021/02/15 07:55:00",
          "2021/02/15 08:00:00",
          "2021/02/15 08:05:00",
          "2021/02/15 08:10:00",
          "2021/02/15 08:15:00",
          "2021/02/15 08:20:00",
          "2021/02/15 08:25:00",
          "2021/02/15 08:30:00",
          "2021/02/15 08:35:00",
          "2021/02/15 08:40:00",
          "2021/02/15 08:45:00",
          "2021/02/15 08:50:00",
          "2021/02/15 08:55:00",
          "2021/02/15 09:00:00",
          "2021/02/15 09:05:00",
          "2021/02/15 09:10:00",
          "2021/02/15 09:15:00",
          "2021/02/15 09:20:00",
          "2021/02/15 09:25:00",
          "2021/02/15 09:30:00",
          "2021/02/15 09:35:00",
          "2021/02/15 09:40:00",
          "2021/02/15 09:45:00",
          "2021/02/15 09:50:00",
          "2021/02/15 09:55:00",
          "2021/02/15 10:00:00",
          "2021/02/15 10:05:00",
          "2021/02/15 10:10:00",
          "2021/02/15 10:15:00",
          "2021/02/15 10:20:00",
          "2021/02/15 10:25:00",
          "2021/02/15 10:30:00",
          "2021/02/15 10:35:00",
          "2021/02/15 10:40:00",
          "2021/02/15 10:45:00",
          "2021/02/15 10:50:00",
          "2021/02/15 10:55:00",
          "2021/02/15 11:00:00",
          "2021/02/15 11:05:00",
          "2021/02/15 11:10:00",
          "2021/02/15 11:15:00",
          "2021/02/15 11:20:00",
          "2021/02/15 11:25:00",
          "2021/02/15 11:30:00",
          "2021/02/15 11:35:00",
          "2021/02/15 11:40:00",
          "2021/02/15 11:45:00",
          "2021/02/15 11:50:00",
          "2021/02/15 11:55:00",
          "2021/02/15 12:00:00",
          "2021/02/15 12:05:00",
          "2021/02/15 12:10:00",
          "2021/02/15 12:15:00",
          "2021/02/15 12:20:00",
          "2021/02/15 12:25:00",
          "2021/02/15 12:30:00",
          "2021/02/15 12:35:00",
          "2021/02/15 12:40:00",
          "2021/02/15 12:45:00",
          "2021/02/15 12:50:00",
          "2021/02/15 12:55:00",
          "2021/02/15 13:00:00",
          "2021/02/15 13:05:00",
          "2021/02/15 13:10:00",
          "2021/02/15 13:15:00",
          "2021/02/15 13:20:00",
          "2021/02/15 13:25:00",
          "2021/02/15 13:30:00",
          "2021/02/15 13:35:00",
          "2021/02/15 13:40:00",
          "2021/02/15 13:45:00",
          "2021/02/15 13:50:00",
          "2021/02/15 13:55:00",
          "2021/02/15 14:00:00",
          "2021/02/15 14:05:00",
          "2021/02/15 14:10:00",
          "2021/02/15 14:15:00",
          "2021/02/15 14:20:00",
          "2021/02/15 14:25:00",
          "2021/02/15 14:30:00",
          "2021/02/15 14:35:00",
          "2021/02/15 14:40:00",
          "2021/02/15 14:45:00",
          "2021/02/15 14:50:00",
          "2021/02/15 14:55:00",
          "2021/02/15 15:00:00",
          "2021/02/15 15:05:00",
          "2021/02/15 15:10:00",
          "2021/02/15 15:15:00",
          "2021/02/15 15:20:00",
          "2021/02/15 15:25:00",
          "2021/02/15 15:30:00",
          "2021/02/15 15:35:00",
          "2021/02/15 15:40:00",
          "2021/02/15 15:45:00",
          "2021/02/15 15:50:00",
          "2021/02/15 15:55:00",
          "2021/02/15 16:00:00",
          "2021/02/15 16:05:00",
          "2021/02/15 16:10:00",
          "2021/02/15 16:15:00",
          "2021/02/15 16:20:00",
          "2021/02/15 16:25:00",
          "2021/02/15 16:30:00",
          "2021/02/15 16:35:00",
          "2021/02/15 16:40:00",
          "2021/02/15 16:45:00",
          "2021/02/15 16:50:00",
          "2021/02/15 16:55:00",
          "2021/02/15 17:00:00",
          "2021/02/15 17:05:00",
          "2021/02/15 17:10:00",
          "2021/02/15 17:15:00",
          "2021/02/15 17:20:00",
          "2021/02/15 17:25:00",
          "2021/02/15 17:30:00",
          "2021/02/15 17:35:00",
          "2021/02/15 17:40:00",
          "2021/02/15 17:45:00",
          "2021/02/15 17:50:00",
          "2021/02/15 17:55:00",
          "2021/02/15 18:00:00",
          "2021/02/15 18:05:00"
         ],
         "y": [
          37.128316537207674,
          35.48,
          35.48,
          35.47,
          35.48,
          35.48,
          37.26293058601853,
          37.53948446009442,
          37.222092677100555,
          35.47,
          35.47,
          35.47,
          34.99,
          32.5,
          35.46,
          35.46,
          34.49705020188336,
          32.181055368063056,
          32.56,
          30.830315305152418,
          32.56,
          32.559999999999995,
          28.9,
          31.83000000000001,
          32.56,
          32.559999999999995,
          32.56,
          28.899999999999995,
          32.56,
          32.56000000000001,
          32.484518002889914,
          32.53542222913923,
          32.56,
          32.5,
          29.751428749439246,
          32.5,
          32.5,
          33.595760220044596,
          33.15254628982777,
          33.17432771008801,
          32.96846992926037,
          32.85840779475814,
          32.56,
          32.5,
          32.5,
          32.5,
          32.5,
          32.5,
          32.5,
          32.56,
          32.5,
          30.351406323046305,
          32.5,
          30.34949254664105,
          28.9,
          32.987166702828844,
          32.49999999999999,
          30.11982265796954,
          32.5,
          32.56,
          34.61651011573696,
          32.56,
          33.48165973146618,
          32.56000000000001,
          32.5,
          32.56,
          32.56,
          32.5,
          33.55991854235551,
          34.18768531575293,
          32.56000000000001,
          33.965,
          32.56,
          32.5,
          32.56,
          32.56,
          33.955,
          33.95231425092163,
          32.56,
          33.45001033645548,
          34.131852055618964,
          34.99,
          33.699099151795046,
          33.9492850286172,
          34.99,
          28.9,
          32.56,
          33.88814450410786,
          28.9,
          28.9,
          34.99,
          32.56,
          33.31989599403976,
          31.11467664625192,
          32.39,
          34.99,
          32.5,
          33.34270577431117,
          32.39000000000001,
          32.5,
          32.5,
          37.27055404118857,
          34.10467929714155,
          32.39,
          32.5,
          32.39,
          38.39,
          34.99,
          37.19268475219712,
          28.899999999999995,
          29.97607011736997,
          30.883226926662307,
          32.5,
          31.337461671033974,
          32.5,
          32.47003870126193,
          35.47,
          38.768978557908994,
          35.47,
          35.47,
          35.46000000000001,
          32.157580998040544,
          35.3502968098615,
          32.5,
          34.74663805531009,
          35.46,
          35.46,
          32.50000000000001,
          32.56,
          34.60485879626879,
          34.5309465845903,
          34.80551020694022,
          35.47,
          35.47,
          35.48,
          35.48,
          36.142973132770145,
          36.06710261586245,
          35.61797114602653,
          35.48,
          35.842109434485074,
          36.17574830393873,
          35.57999999999999,
          49.22,
          52.6053505266174,
          38.26508495998897
         ]
        },
        {
         "marker": {
          "size": 8,
          "symbol": "circle"
         },
         "mode": "lines+markers",
         "name": "NSW price [r]",
         "type": "scatter",
         "x": [
          "2021/02/15 06:00:00",
          "2021/02/15 06:05:00",
          "2021/02/15 06:10:00",
          "2021/02/15 06:15:00",
          "2021/02/15 06:20:00",
          "2021/02/15 06:25:00",
          "2021/02/15 06:30:00",
          "2021/02/15 06:35:00",
          "2021/02/15 06:40:00",
          "2021/02/15 06:45:00",
          "2021/02/15 06:50:00",
          "2021/02/15 06:55:00",
          "2021/02/15 07:00:00",
          "2021/02/15 07:05:00",
          "2021/02/15 07:10:00",
          "2021/02/15 07:15:00",
          "2021/02/15 07:20:00",
          "2021/02/15 07:25:00",
          "2021/02/15 07:30:00",
          "2021/02/15 07:35:00",
          "2021/02/15 07:40:00",
          "2021/02/15 07:45:00",
          "2021/02/15 07:50:00",
          "2021/02/15 07:55:00",
          "2021/02/15 08:00:00",
          "2021/02/15 08:05:00",
          "2021/02/15 08:10:00",
          "2021/02/15 08:15:00",
          "2021/02/15 08:20:00",
          "2021/02/15 08:25:00",
          "2021/02/15 08:30:00",
          "2021/02/15 08:35:00",
          "2021/02/15 08:40:00",
          "2021/02/15 08:45:00",
          "2021/02/15 08:50:00",
          "2021/02/15 08:55:00",
          "2021/02/15 09:00:00",
          "2021/02/15 09:05:00",
          "2021/02/15 09:10:00",
          "2021/02/15 09:15:00",
          "2021/02/15 09:20:00",
          "2021/02/15 09:25:00",
          "2021/02/15 09:30:00",
          "2021/02/15 09:35:00",
          "2021/02/15 09:40:00",
          "2021/02/15 09:45:00",
          "2021/02/15 09:50:00",
          "2021/02/15 09:55:00",
          "2021/02/15 10:00:00",
          "2021/02/15 10:05:00",
          "2021/02/15 10:10:00",
          "2021/02/15 10:15:00",
          "2021/02/15 10:20:00",
          "2021/02/15 10:25:00",
          "2021/02/15 10:30:00",
          "2021/02/15 10:35:00",
          "2021/02/15 10:40:00",
          "2021/02/15 10:45:00",
          "2021/02/15 10:50:00",
          "2021/02/15 10:55:00",
          "2021/02/15 11:00:00",
          "2021/02/15 11:05:00",
          "2021/02/15 11:10:00",
          "2021/02/15 11:15:00",
          "2021/02/15 11:20:00",
          "2021/02/15 11:25:00",
          "2021/02/15 11:30:00",
          "2021/02/15 11:35:00",
          "2021/02/15 11:40:00",
          "2021/02/15 11:45:00",
          "2021/02/15 11:50:00",
          "2021/02/15 11:55:00",
          "2021/02/15 12:00:00",
          "2021/02/15 12:05:00",
          "2021/02/15 12:10:00",
          "2021/02/15 12:15:00",
          "2021/02/15 12:20:00",
          "2021/02/15 12:25:00",
          "2021/02/15 12:30:00",
          "2021/02/15 12:35:00",
          "2021/02/15 12:40:00",
          "2021/02/15 12:45:00",
          "2021/02/15 12:50:00",
          "2021/02/15 12:55:00",
          "2021/02/15 13:00:00",
          "2021/02/15 13:05:00",
          "2021/02/15 13:10:00",
          "2021/02/15 13:15:00",
          "2021/02/15 13:20:00",
          "2021/02/15 13:25:00",
          "2021/02/15 13:30:00",
          "2021/02/15 13:35:00",
          "2021/02/15 13:40:00",
          "2021/02/15 13:45:00",
          "2021/02/15 13:50:00",
          "2021/02/15 13:55:00",
          "2021/02/15 14:00:00",
          "2021/02/15 14:05:00",
          "2021/02/15 14:10:00",
          "2021/02/15 14:15:00",
          "2021/02/15 14:20:00",
          "2021/02/15 14:25:00",
          "2021/02/15 14:30:00",
          "2021/02/15 14:35:00",
          "2021/02/15 14:40:00",
          "2021/02/15 14:45:00",
          "2021/02/15 14:50:00",
          "2021/02/15 14:55:00",
          "2021/02/15 15:00:00",
          "2021/02/15 15:05:00",
          "2021/02/15 15:10:00",
          "2021/02/15 15:15:00",
          "2021/02/15 15:20:00",
          "2021/02/15 15:25:00",
          "2021/02/15 15:30:00",
          "2021/02/15 15:35:00",
          "2021/02/15 15:40:00",
          "2021/02/15 15:45:00",
          "2021/02/15 15:50:00",
          "2021/02/15 15:55:00",
          "2021/02/15 16:00:00",
          "2021/02/15 16:05:00",
          "2021/02/15 16:10:00",
          "2021/02/15 16:15:00",
          "2021/02/15 16:20:00",
          "2021/02/15 16:25:00",
          "2021/02/15 16:30:00",
          "2021/02/15 16:35:00",
          "2021/02/15 16:40:00",
          "2021/02/15 16:45:00",
          "2021/02/15 16:50:00",
          "2021/02/15 16:55:00",
          "2021/02/15 17:00:00",
          "2021/02/15 17:05:00",
          "2021/02/15 17:10:00",
          "2021/02/15 17:15:00",
          "2021/02/15 17:20:00",
          "2021/02/15 17:25:00",
          "2021/02/15 17:30:00",
          "2021/02/15 17:35:00",
          "2021/02/15 17:40:00",
          "2021/02/15 17:45:00",
          "2021/02/15 17:50:00",
          "2021/02/15 17:55:00",
          "2021/02/15 18:00:00",
          "2021/02/15 18:05:00"
         ],
         "y": [
          37.128316537207674,
          35.48,
          35.48,
          35.47,
          35.48,
          35.48,
          37.26293058601853,
          37.53948446009442,
          37.222092677100555,
          35.47,
          35.47,
          35.47,
          34.99,
          32.5,
          35.46,
          35.46,
          32.56,
          32.18105536806305,
          32.56,
          30.830315305152418,
          32.56,
          32.559999999999995,
          28.9,
          30.572058112056375,
          32.49999999999999,
          32.5,
          32.56,
          28.899999999999995,
          32.50000000000001,
          32.56,
          29.3117119483929,
          32.5,
          32.54365874475549,
          29.53798399148155,
          29.47668154628137,
          32.5,
          32.5,
          33.16158693459202,
          32.93935549320848,
          32.960884064089676,
          32.56,
          32.56,
          28.900000000000002,
          28.9,
          31.407207510804504,
          29.63969465897594,
          32.5,
          32.5,
          32.5,
          32.5,
          32.5,
          30.351406323046305,
          32.5,
          30.12546093575716,
          28.9,
          32.56,
          32.49999999999999,
          29.06902568790412,
          31.79,
          32.56,
          34.447395054784366,
          32.5,
          32.559999999999995,
          32.5,
          28.9,
          32.5,
          32.5,
          28.900000000000002,
          32.56,
          32.56,
          32.5,
          32.56,
          32.5,
          28.9,
          32.5,
          29.62756354390312,
          32.56,
          32.559999999999995,
          32.5,
          32.559999999999995,
          32.56,
          33.73229388792381,
          32.56,
          33.506842153021765,
          33.721098673170644,
          28.9,
          32.5,
          33.44713733019603,
          28.286316800331786,
          28.9,
          32.56000000000001,
          32.5,
          32.559999999999995,
          28.9,
          28.9,
          32.56,
          32.39,
          32.56000000000001,
          28.900000000000002,
          32.39,
          32.39,
          35.48,
          32.559999999999995,
          28.900000000000002,
          32.39000000000001,
          28.899999999999995,
          37.443865995418655,
          32.56000000000001,
          35.47999999999999,
          27.775742975624766,
          29.75254254991352,
          28.9,
          32.39,
          31.311649086215336,
          32.39,
          32.38999999999999,
          32.559999999999995,
          37.93320679591216,
          35.47,
          35.47,
          35.46000000000001,
          32.157580998040544,
          35.3502968098615,
          32.5,
          34.74663805531009,
          35.46,
          35.46,
          32.50000000000001,
          32.56,
          34.60485879626879,
          34.5309465845903,
          34.80551020694022,
          35.47,
          35.47,
          35.48,
          35.48,
          36.142973132770145,
          36.06710261586245,
          35.61797114602653,
          35.48,
          35.842109434485074,
          36.17574830393873,
          35.57999999999999,
          49.22,
          52.6053505266174,
          38.26508495998897
         ]
        }
       ],
       "layout": {
        "template": {
         "data": {
          "bar": [
           {
            "error_x": {
             "color": "#2a3f5f"
            },
            "error_y": {
             "color": "#2a3f5f"
            },
            "marker": {
             "line": {
              "color": "#E5ECF6",
              "width": 0.5
             },
             "pattern": {
              "fillmode": "overlay",
              "size": 10,
              "solidity": 0.2
             }
            },
            "type": "bar"
           }
          ],
          "barpolar": [
           {
            "marker": {
             "line": {
              "color": "#E5ECF6",
              "width": 0.5
             },
             "pattern": {
              "fillmode": "overlay",
              "size": 10,
              "solidity": 0.2
             }
            },
            "type": "barpolar"
           }
          ],
          "carpet": [
           {
            "aaxis": {
             "endlinecolor": "#2a3f5f",
             "gridcolor": "white",
             "linecolor": "white",
             "minorgridcolor": "white",
             "startlinecolor": "#2a3f5f"
            },
            "baxis": {
             "endlinecolor": "#2a3f5f",
             "gridcolor": "white",
             "linecolor": "white",
             "minorgridcolor": "white",
             "startlinecolor": "#2a3f5f"
            },
            "type": "carpet"
           }
          ],
          "choropleth": [
           {
            "colorbar": {
             "outlinewidth": 0,
             "ticks": ""
            },
            "type": "choropleth"
           }
          ],
          "contour": [
           {
            "colorbar": {
             "outlinewidth": 0,
             "ticks": ""
            },
            "colorscale": [
             [
              0,
              "#0d0887"
             ],
             [
              0.1111111111111111,
              "#46039f"
             ],
             [
              0.2222222222222222,
              "#7201a8"
             ],
             [
              0.3333333333333333,
              "#9c179e"
             ],
             [
              0.4444444444444444,
              "#bd3786"
             ],
             [
              0.5555555555555556,
              "#d8576b"
             ],
             [
              0.6666666666666666,
              "#ed7953"
             ],
             [
              0.7777777777777778,
              "#fb9f3a"
             ],
             [
              0.8888888888888888,
              "#fdca26"
             ],
             [
              1,
              "#f0f921"
             ]
            ],
            "type": "contour"
           }
          ],
          "contourcarpet": [
           {
            "colorbar": {
             "outlinewidth": 0,
             "ticks": ""
            },
            "type": "contourcarpet"
           }
          ],
          "heatmap": [
           {
            "colorbar": {
             "outlinewidth": 0,
             "ticks": ""
            },
            "colorscale": [
             [
              0,
              "#0d0887"
             ],
             [
              0.1111111111111111,
              "#46039f"
             ],
             [
              0.2222222222222222,
              "#7201a8"
             ],
             [
              0.3333333333333333,
              "#9c179e"
             ],
             [
              0.4444444444444444,
              "#bd3786"
             ],
             [
              0.5555555555555556,
              "#d8576b"
             ],
             [
              0.6666666666666666,
              "#ed7953"
             ],
             [
              0.7777777777777778,
              "#fb9f3a"
             ],
             [
              0.8888888888888888,
              "#fdca26"
             ],
             [
              1,
              "#f0f921"
             ]
            ],
            "type": "heatmap"
           }
          ],
          "heatmapgl": [
           {
            "colorbar": {
             "outlinewidth": 0,
             "ticks": ""
            },
            "colorscale": [
             [
              0,
              "#0d0887"
             ],
             [
              0.1111111111111111,
              "#46039f"
             ],
             [
              0.2222222222222222,
              "#7201a8"
             ],
             [
              0.3333333333333333,
              "#9c179e"
             ],
             [
              0.4444444444444444,
              "#bd3786"
             ],
             [
              0.5555555555555556,
              "#d8576b"
             ],
             [
              0.6666666666666666,
              "#ed7953"
             ],
             [
              0.7777777777777778,
              "#fb9f3a"
             ],
             [
              0.8888888888888888,
              "#fdca26"
             ],
             [
              1,
              "#f0f921"
             ]
            ],
            "type": "heatmapgl"
           }
          ],
          "histogram": [
           {
            "marker": {
             "pattern": {
              "fillmode": "overlay",
              "size": 10,
              "solidity": 0.2
             }
            },
            "type": "histogram"
           }
          ],
          "histogram2d": [
           {
            "colorbar": {
             "outlinewidth": 0,
             "ticks": ""
            },
            "colorscale": [
             [
              0,
              "#0d0887"
             ],
             [
              0.1111111111111111,
              "#46039f"
             ],
             [
              0.2222222222222222,
              "#7201a8"
             ],
             [
              0.3333333333333333,
              "#9c179e"
             ],
             [
              0.4444444444444444,
              "#bd3786"
             ],
             [
              0.5555555555555556,
              "#d8576b"
             ],
             [
              0.6666666666666666,
              "#ed7953"
             ],
             [
              0.7777777777777778,
              "#fb9f3a"
             ],
             [
              0.8888888888888888,
              "#fdca26"
             ],
             [
              1,
              "#f0f921"
             ]
            ],
            "type": "histogram2d"
           }
          ],
          "histogram2dcontour": [
           {
            "colorbar": {
             "outlinewidth": 0,
             "ticks": ""
            },
            "colorscale": [
             [
              0,
              "#0d0887"
             ],
             [
              0.1111111111111111,
              "#46039f"
             ],
             [
              0.2222222222222222,
              "#7201a8"
             ],
             [
              0.3333333333333333,
              "#9c179e"
             ],
             [
              0.4444444444444444,
              "#bd3786"
             ],
             [
              0.5555555555555556,
              "#d8576b"
             ],
             [
              0.6666666666666666,
              "#ed7953"
             ],
             [
              0.7777777777777778,
              "#fb9f3a"
             ],
             [
              0.8888888888888888,
              "#fdca26"
             ],
             [
              1,
              "#f0f921"
             ]
            ],
            "type": "histogram2dcontour"
           }
          ],
          "mesh3d": [
           {
            "colorbar": {
             "outlinewidth": 0,
             "ticks": ""
            },
            "type": "mesh3d"
           }
          ],
          "parcoords": [
           {
            "line": {
             "colorbar": {
              "outlinewidth": 0,
              "ticks": ""
             }
            },
            "type": "parcoords"
           }
          ],
          "pie": [
           {
            "automargin": true,
            "type": "pie"
           }
          ],
          "scatter": [
           {
            "marker": {
             "colorbar": {
              "outlinewidth": 0,
              "ticks": ""
             }
            },
            "type": "scatter"
           }
          ],
          "scatter3d": [
           {
            "line": {
             "colorbar": {
              "outlinewidth": 0,
              "ticks": ""
             }
            },
            "marker": {
             "colorbar": {
              "outlinewidth": 0,
              "ticks": ""
             }
            },
            "type": "scatter3d"
           }
          ],
          "scattercarpet": [
           {
            "marker": {
             "colorbar": {
              "outlinewidth": 0,
              "ticks": ""
             }
            },
            "type": "scattercarpet"
           }
          ],
          "scattergeo": [
           {
            "marker": {
             "colorbar": {
              "outlinewidth": 0,
              "ticks": ""
             }
            },
            "type": "scattergeo"
           }
          ],
          "scattergl": [
           {
            "marker": {
             "colorbar": {
              "outlinewidth": 0,
              "ticks": ""
             }
            },
            "type": "scattergl"
           }
          ],
          "scattermapbox": [
           {
            "marker": {
             "colorbar": {
              "outlinewidth": 0,
              "ticks": ""
             }
            },
            "type": "scattermapbox"
           }
          ],
          "scatterpolar": [
           {
            "marker": {
             "colorbar": {
              "outlinewidth": 0,
              "ticks": ""
             }
            },
            "type": "scatterpolar"
           }
          ],
          "scatterpolargl": [
           {
            "marker": {
             "colorbar": {
              "outlinewidth": 0,
              "ticks": ""
             }
            },
            "type": "scatterpolargl"
           }
          ],
          "scatterternary": [
           {
            "marker": {
             "colorbar": {
              "outlinewidth": 0,
              "ticks": ""
             }
            },
            "type": "scatterternary"
           }
          ],
          "surface": [
           {
            "colorbar": {
             "outlinewidth": 0,
             "ticks": ""
            },
            "colorscale": [
             [
              0,
              "#0d0887"
             ],
             [
              0.1111111111111111,
              "#46039f"
             ],
             [
              0.2222222222222222,
              "#7201a8"
             ],
             [
              0.3333333333333333,
              "#9c179e"
             ],
             [
              0.4444444444444444,
              "#bd3786"
             ],
             [
              0.5555555555555556,
              "#d8576b"
             ],
             [
              0.6666666666666666,
              "#ed7953"
             ],
             [
              0.7777777777777778,
              "#fb9f3a"
             ],
             [
              0.8888888888888888,
              "#fdca26"
             ],
             [
              1,
              "#f0f921"
             ]
            ],
            "type": "surface"
           }
          ],
          "table": [
           {
            "cells": {
             "fill": {
              "color": "#EBF0F8"
             },
             "line": {
              "color": "white"
             }
            },
            "header": {
             "fill": {
              "color": "#C8D4E3"
             },
             "line": {
              "color": "white"
             }
            },
            "type": "table"
           }
          ]
         },
         "layout": {
          "annotationdefaults": {
           "arrowcolor": "#2a3f5f",
           "arrowhead": 0,
           "arrowwidth": 1
          },
          "autotypenumbers": "strict",
          "coloraxis": {
           "colorbar": {
            "outlinewidth": 0,
            "ticks": ""
           }
          },
          "colorscale": {
           "diverging": [
            [
             0,
             "#8e0152"
            ],
            [
             0.1,
             "#c51b7d"
            ],
            [
             0.2,
             "#de77ae"
            ],
            [
             0.3,
             "#f1b6da"
            ],
            [
             0.4,
             "#fde0ef"
            ],
            [
             0.5,
             "#f7f7f7"
            ],
            [
             0.6,
             "#e6f5d0"
            ],
            [
             0.7,
             "#b8e186"
            ],
            [
             0.8,
             "#7fbc41"
            ],
            [
             0.9,
             "#4d9221"
            ],
            [
             1,
             "#276419"
            ]
           ],
           "sequential": [
            [
             0,
             "#0d0887"
            ],
            [
             0.1111111111111111,
             "#46039f"
            ],
            [
             0.2222222222222222,
             "#7201a8"
            ],
            [
             0.3333333333333333,
             "#9c179e"
            ],
            [
             0.4444444444444444,
             "#bd3786"
            ],
            [
             0.5555555555555556,
             "#d8576b"
            ],
            [
             0.6666666666666666,
             "#ed7953"
            ],
            [
             0.7777777777777778,
             "#fb9f3a"
            ],
            [
             0.8888888888888888,
             "#fdca26"
            ],
            [
             1,
             "#f0f921"
            ]
           ],
           "sequentialminus": [
            [
             0,
             "#0d0887"
            ],
            [
             0.1111111111111111,
             "#46039f"
            ],
            [
             0.2222222222222222,
             "#7201a8"
            ],
            [
             0.3333333333333333,
             "#9c179e"
            ],
            [
             0.4444444444444444,
             "#bd3786"
            ],
            [
             0.5555555555555556,
             "#d8576b"
            ],
            [
             0.6666666666666666,
             "#ed7953"
            ],
            [
             0.7777777777777778,
             "#fb9f3a"
            ],
            [
             0.8888888888888888,
             "#fdca26"
            ],
            [
             1,
             "#f0f921"
            ]
           ]
          },
          "colorway": [
           "#636efa",
           "#EF553B",
           "#00cc96",
           "#ab63fa",
           "#FFA15A",
           "#19d3f3",
           "#FF6692",
           "#B6E880",
           "#FF97FF",
           "#FECB52"
          ],
          "font": {
           "color": "#2a3f5f"
          },
          "geo": {
           "bgcolor": "white",
           "lakecolor": "white",
           "landcolor": "#E5ECF6",
           "showlakes": true,
           "showland": true,
           "subunitcolor": "white"
          },
          "hoverlabel": {
           "align": "left"
          },
          "hovermode": "closest",
          "mapbox": {
           "style": "light"
          },
          "paper_bgcolor": "white",
          "plot_bgcolor": "#E5ECF6",
          "polar": {
           "angularaxis": {
            "gridcolor": "white",
            "linecolor": "white",
            "ticks": ""
           },
           "bgcolor": "#E5ECF6",
           "radialaxis": {
            "gridcolor": "white",
            "linecolor": "white",
            "ticks": ""
           }
          },
          "scene": {
           "xaxis": {
            "backgroundcolor": "#E5ECF6",
            "gridcolor": "white",
            "gridwidth": 2,
            "linecolor": "white",
            "showbackground": true,
            "ticks": "",
            "zerolinecolor": "white"
           },
           "yaxis": {
            "backgroundcolor": "#E5ECF6",
            "gridcolor": "white",
            "gridwidth": 2,
            "linecolor": "white",
            "showbackground": true,
            "ticks": "",
            "zerolinecolor": "white"
           },
           "zaxis": {
            "backgroundcolor": "#E5ECF6",
            "gridcolor": "white",
            "gridwidth": 2,
            "linecolor": "white",
            "showbackground": true,
            "ticks": "",
            "zerolinecolor": "white"
           }
          },
          "shapedefaults": {
           "line": {
            "color": "#2a3f5f"
           }
          },
          "ternary": {
           "aaxis": {
            "gridcolor": "white",
            "linecolor": "white",
            "ticks": ""
           },
           "baxis": {
            "gridcolor": "white",
            "linecolor": "white",
            "ticks": ""
           },
           "bgcolor": "#E5ECF6",
           "caxis": {
            "gridcolor": "white",
            "linecolor": "white",
            "ticks": ""
           }
          },
          "title": {
           "x": 0.05
          },
          "xaxis": {
           "automargin": true,
           "gridcolor": "white",
           "linecolor": "white",
           "ticks": "",
           "title": {
            "standoff": 15
           },
           "zerolinecolor": "white",
           "zerolinewidth": 2
          },
          "yaxis": {
           "automargin": true,
           "gridcolor": "white",
           "linecolor": "white",
           "ticks": "",
           "title": {
            "standoff": 15
           },
           "zerolinecolor": "white",
           "zerolinewidth": 2
          }
         }
        },
        "title": {
         "text": "Figure 1: Simulated Market Price in NSW - Impact of 'N>>N-NIL_94T_947' & 'N>>N-NIL_94T'<br><sup>[r] denotes constraint removed</sup>"
        },
        "xaxis": {
         "title": {
          "text": "Time"
         }
        },
        "yaxis": {
         "title": {
          "text": "Price ($/MWh)"
         }
        }
       }
      },
      "text/html": [
       "<div>                            <div id=\"61905415-ed2a-48f8-b355-278cde07b181\" class=\"plotly-graph-div\" style=\"height:525px; width:100%;\"></div>            <script type=\"text/javascript\">                require([\"plotly\"], function(Plotly) {                    window.PLOTLYENV=window.PLOTLYENV || {};                                    if (document.getElementById(\"61905415-ed2a-48f8-b355-278cde07b181\")) {                    Plotly.newPlot(                        \"61905415-ed2a-48f8-b355-278cde07b181\",                        [{\"marker\":{\"size\":8,\"symbol\":\"circle\"},\"mode\":\"lines+markers\",\"name\":\"NSW price\",\"x\":[\"2021/02/15 06:00:00\",\"2021/02/15 06:05:00\",\"2021/02/15 06:10:00\",\"2021/02/15 06:15:00\",\"2021/02/15 06:20:00\",\"2021/02/15 06:25:00\",\"2021/02/15 06:30:00\",\"2021/02/15 06:35:00\",\"2021/02/15 06:40:00\",\"2021/02/15 06:45:00\",\"2021/02/15 06:50:00\",\"2021/02/15 06:55:00\",\"2021/02/15 07:00:00\",\"2021/02/15 07:05:00\",\"2021/02/15 07:10:00\",\"2021/02/15 07:15:00\",\"2021/02/15 07:20:00\",\"2021/02/15 07:25:00\",\"2021/02/15 07:30:00\",\"2021/02/15 07:35:00\",\"2021/02/15 07:40:00\",\"2021/02/15 07:45:00\",\"2021/02/15 07:50:00\",\"2021/02/15 07:55:00\",\"2021/02/15 08:00:00\",\"2021/02/15 08:05:00\",\"2021/02/15 08:10:00\",\"2021/02/15 08:15:00\",\"2021/02/15 08:20:00\",\"2021/02/15 08:25:00\",\"2021/02/15 08:30:00\",\"2021/02/15 08:35:00\",\"2021/02/15 08:40:00\",\"2021/02/15 08:45:00\",\"2021/02/15 08:50:00\",\"2021/02/15 08:55:00\",\"2021/02/15 09:00:00\",\"2021/02/15 09:05:00\",\"2021/02/15 09:10:00\",\"2021/02/15 09:15:00\",\"2021/02/15 09:20:00\",\"2021/02/15 09:25:00\",\"2021/02/15 09:30:00\",\"2021/02/15 09:35:00\",\"2021/02/15 09:40:00\",\"2021/02/15 09:45:00\",\"2021/02/15 09:50:00\",\"2021/02/15 09:55:00\",\"2021/02/15 10:00:00\",\"2021/02/15 10:05:00\",\"2021/02/15 10:10:00\",\"2021/02/15 10:15:00\",\"2021/02/15 10:20:00\",\"2021/02/15 10:25:00\",\"2021/02/15 10:30:00\",\"2021/02/15 10:35:00\",\"2021/02/15 10:40:00\",\"2021/02/15 10:45:00\",\"2021/02/15 10:50:00\",\"2021/02/15 10:55:00\",\"2021/02/15 11:00:00\",\"2021/02/15 11:05:00\",\"2021/02/15 11:10:00\",\"2021/02/15 11:15:00\",\"2021/02/15 11:20:00\",\"2021/02/15 11:25:00\",\"2021/02/15 11:30:00\",\"2021/02/15 11:35:00\",\"2021/02/15 11:40:00\",\"2021/02/15 11:45:00\",\"2021/02/15 11:50:00\",\"2021/02/15 11:55:00\",\"2021/02/15 12:00:00\",\"2021/02/15 12:05:00\",\"2021/02/15 12:10:00\",\"2021/02/15 12:15:00\",\"2021/02/15 12:20:00\",\"2021/02/15 12:25:00\",\"2021/02/15 12:30:00\",\"2021/02/15 12:35:00\",\"2021/02/15 12:40:00\",\"2021/02/15 12:45:00\",\"2021/02/15 12:50:00\",\"2021/02/15 12:55:00\",\"2021/02/15 13:00:00\",\"2021/02/15 13:05:00\",\"2021/02/15 13:10:00\",\"2021/02/15 13:15:00\",\"2021/02/15 13:20:00\",\"2021/02/15 13:25:00\",\"2021/02/15 13:30:00\",\"2021/02/15 13:35:00\",\"2021/02/15 13:40:00\",\"2021/02/15 13:45:00\",\"2021/02/15 13:50:00\",\"2021/02/15 13:55:00\",\"2021/02/15 14:00:00\",\"2021/02/15 14:05:00\",\"2021/02/15 14:10:00\",\"2021/02/15 14:15:00\",\"2021/02/15 14:20:00\",\"2021/02/15 14:25:00\",\"2021/02/15 14:30:00\",\"2021/02/15 14:35:00\",\"2021/02/15 14:40:00\",\"2021/02/15 14:45:00\",\"2021/02/15 14:50:00\",\"2021/02/15 14:55:00\",\"2021/02/15 15:00:00\",\"2021/02/15 15:05:00\",\"2021/02/15 15:10:00\",\"2021/02/15 15:15:00\",\"2021/02/15 15:20:00\",\"2021/02/15 15:25:00\",\"2021/02/15 15:30:00\",\"2021/02/15 15:35:00\",\"2021/02/15 15:40:00\",\"2021/02/15 15:45:00\",\"2021/02/15 15:50:00\",\"2021/02/15 15:55:00\",\"2021/02/15 16:00:00\",\"2021/02/15 16:05:00\",\"2021/02/15 16:10:00\",\"2021/02/15 16:15:00\",\"2021/02/15 16:20:00\",\"2021/02/15 16:25:00\",\"2021/02/15 16:30:00\",\"2021/02/15 16:35:00\",\"2021/02/15 16:40:00\",\"2021/02/15 16:45:00\",\"2021/02/15 16:50:00\",\"2021/02/15 16:55:00\",\"2021/02/15 17:00:00\",\"2021/02/15 17:05:00\",\"2021/02/15 17:10:00\",\"2021/02/15 17:15:00\",\"2021/02/15 17:20:00\",\"2021/02/15 17:25:00\",\"2021/02/15 17:30:00\",\"2021/02/15 17:35:00\",\"2021/02/15 17:40:00\",\"2021/02/15 17:45:00\",\"2021/02/15 17:50:00\",\"2021/02/15 17:55:00\",\"2021/02/15 18:00:00\",\"2021/02/15 18:05:00\"],\"y\":[37.128316537207674,35.48,35.48,35.47,35.48,35.48,37.26293058601853,37.53948446009442,37.222092677100555,35.47,35.47,35.47,34.99,32.5,35.46,35.46,34.49705020188336,32.181055368063056,32.56,30.830315305152418,32.56,32.559999999999995,28.9,31.83000000000001,32.56,32.559999999999995,32.56,28.899999999999995,32.56,32.56000000000001,32.484518002889914,32.53542222913923,32.56,32.5,29.751428749439246,32.5,32.5,33.595760220044596,33.15254628982777,33.17432771008801,32.96846992926037,32.85840779475814,32.56,32.5,32.5,32.5,32.5,32.5,32.5,32.56,32.5,30.351406323046305,32.5,30.34949254664105,28.9,32.987166702828844,32.49999999999999,30.11982265796954,32.5,32.56,34.61651011573696,32.56,33.48165973146618,32.56000000000001,32.5,32.56,32.56,32.5,33.55991854235551,34.18768531575293,32.56000000000001,33.965,32.56,32.5,32.56,32.56,33.955,33.95231425092163,32.56,33.45001033645548,34.131852055618964,34.99,33.699099151795046,33.9492850286172,34.99,28.9,32.56,33.88814450410786,28.9,28.9,34.99,32.56,33.31989599403976,31.11467664625192,32.39,34.99,32.5,33.34270577431117,32.39000000000001,32.5,32.5,37.27055404118857,34.10467929714155,32.39,32.5,32.39,38.39,34.99,37.19268475219712,28.899999999999995,29.97607011736997,30.883226926662307,32.5,31.337461671033974,32.5,32.47003870126193,35.47,38.768978557908994,35.47,35.47,35.46000000000001,32.157580998040544,35.3502968098615,32.5,34.74663805531009,35.46,35.46,32.50000000000001,32.56,34.60485879626879,34.5309465845903,34.80551020694022,35.47,35.47,35.48,35.48,36.142973132770145,36.06710261586245,35.61797114602653,35.48,35.842109434485074,36.17574830393873,35.57999999999999,49.22,52.6053505266174,38.26508495998897],\"type\":\"scatter\"},{\"marker\":{\"size\":8,\"symbol\":\"circle\"},\"mode\":\"lines+markers\",\"name\":\"NSW price [r]\",\"x\":[\"2021/02/15 06:00:00\",\"2021/02/15 06:05:00\",\"2021/02/15 06:10:00\",\"2021/02/15 06:15:00\",\"2021/02/15 06:20:00\",\"2021/02/15 06:25:00\",\"2021/02/15 06:30:00\",\"2021/02/15 06:35:00\",\"2021/02/15 06:40:00\",\"2021/02/15 06:45:00\",\"2021/02/15 06:50:00\",\"2021/02/15 06:55:00\",\"2021/02/15 07:00:00\",\"2021/02/15 07:05:00\",\"2021/02/15 07:10:00\",\"2021/02/15 07:15:00\",\"2021/02/15 07:20:00\",\"2021/02/15 07:25:00\",\"2021/02/15 07:30:00\",\"2021/02/15 07:35:00\",\"2021/02/15 07:40:00\",\"2021/02/15 07:45:00\",\"2021/02/15 07:50:00\",\"2021/02/15 07:55:00\",\"2021/02/15 08:00:00\",\"2021/02/15 08:05:00\",\"2021/02/15 08:10:00\",\"2021/02/15 08:15:00\",\"2021/02/15 08:20:00\",\"2021/02/15 08:25:00\",\"2021/02/15 08:30:00\",\"2021/02/15 08:35:00\",\"2021/02/15 08:40:00\",\"2021/02/15 08:45:00\",\"2021/02/15 08:50:00\",\"2021/02/15 08:55:00\",\"2021/02/15 09:00:00\",\"2021/02/15 09:05:00\",\"2021/02/15 09:10:00\",\"2021/02/15 09:15:00\",\"2021/02/15 09:20:00\",\"2021/02/15 09:25:00\",\"2021/02/15 09:30:00\",\"2021/02/15 09:35:00\",\"2021/02/15 09:40:00\",\"2021/02/15 09:45:00\",\"2021/02/15 09:50:00\",\"2021/02/15 09:55:00\",\"2021/02/15 10:00:00\",\"2021/02/15 10:05:00\",\"2021/02/15 10:10:00\",\"2021/02/15 10:15:00\",\"2021/02/15 10:20:00\",\"2021/02/15 10:25:00\",\"2021/02/15 10:30:00\",\"2021/02/15 10:35:00\",\"2021/02/15 10:40:00\",\"2021/02/15 10:45:00\",\"2021/02/15 10:50:00\",\"2021/02/15 10:55:00\",\"2021/02/15 11:00:00\",\"2021/02/15 11:05:00\",\"2021/02/15 11:10:00\",\"2021/02/15 11:15:00\",\"2021/02/15 11:20:00\",\"2021/02/15 11:25:00\",\"2021/02/15 11:30:00\",\"2021/02/15 11:35:00\",\"2021/02/15 11:40:00\",\"2021/02/15 11:45:00\",\"2021/02/15 11:50:00\",\"2021/02/15 11:55:00\",\"2021/02/15 12:00:00\",\"2021/02/15 12:05:00\",\"2021/02/15 12:10:00\",\"2021/02/15 12:15:00\",\"2021/02/15 12:20:00\",\"2021/02/15 12:25:00\",\"2021/02/15 12:30:00\",\"2021/02/15 12:35:00\",\"2021/02/15 12:40:00\",\"2021/02/15 12:45:00\",\"2021/02/15 12:50:00\",\"2021/02/15 12:55:00\",\"2021/02/15 13:00:00\",\"2021/02/15 13:05:00\",\"2021/02/15 13:10:00\",\"2021/02/15 13:15:00\",\"2021/02/15 13:20:00\",\"2021/02/15 13:25:00\",\"2021/02/15 13:30:00\",\"2021/02/15 13:35:00\",\"2021/02/15 13:40:00\",\"2021/02/15 13:45:00\",\"2021/02/15 13:50:00\",\"2021/02/15 13:55:00\",\"2021/02/15 14:00:00\",\"2021/02/15 14:05:00\",\"2021/02/15 14:10:00\",\"2021/02/15 14:15:00\",\"2021/02/15 14:20:00\",\"2021/02/15 14:25:00\",\"2021/02/15 14:30:00\",\"2021/02/15 14:35:00\",\"2021/02/15 14:40:00\",\"2021/02/15 14:45:00\",\"2021/02/15 14:50:00\",\"2021/02/15 14:55:00\",\"2021/02/15 15:00:00\",\"2021/02/15 15:05:00\",\"2021/02/15 15:10:00\",\"2021/02/15 15:15:00\",\"2021/02/15 15:20:00\",\"2021/02/15 15:25:00\",\"2021/02/15 15:30:00\",\"2021/02/15 15:35:00\",\"2021/02/15 15:40:00\",\"2021/02/15 15:45:00\",\"2021/02/15 15:50:00\",\"2021/02/15 15:55:00\",\"2021/02/15 16:00:00\",\"2021/02/15 16:05:00\",\"2021/02/15 16:10:00\",\"2021/02/15 16:15:00\",\"2021/02/15 16:20:00\",\"2021/02/15 16:25:00\",\"2021/02/15 16:30:00\",\"2021/02/15 16:35:00\",\"2021/02/15 16:40:00\",\"2021/02/15 16:45:00\",\"2021/02/15 16:50:00\",\"2021/02/15 16:55:00\",\"2021/02/15 17:00:00\",\"2021/02/15 17:05:00\",\"2021/02/15 17:10:00\",\"2021/02/15 17:15:00\",\"2021/02/15 17:20:00\",\"2021/02/15 17:25:00\",\"2021/02/15 17:30:00\",\"2021/02/15 17:35:00\",\"2021/02/15 17:40:00\",\"2021/02/15 17:45:00\",\"2021/02/15 17:50:00\",\"2021/02/15 17:55:00\",\"2021/02/15 18:00:00\",\"2021/02/15 18:05:00\"],\"y\":[37.128316537207674,35.48,35.48,35.47,35.48,35.48,37.26293058601853,37.53948446009442,37.222092677100555,35.47,35.47,35.47,34.99,32.5,35.46,35.46,32.56,32.18105536806305,32.56,30.830315305152418,32.56,32.559999999999995,28.9,30.572058112056375,32.49999999999999,32.5,32.56,28.899999999999995,32.50000000000001,32.56,29.3117119483929,32.5,32.54365874475549,29.53798399148155,29.47668154628137,32.5,32.5,33.16158693459202,32.93935549320848,32.960884064089676,32.56,32.56,28.900000000000002,28.9,31.407207510804504,29.63969465897594,32.5,32.5,32.5,32.5,32.5,30.351406323046305,32.5,30.12546093575716,28.9,32.56,32.49999999999999,29.06902568790412,31.79,32.56,34.447395054784366,32.5,32.559999999999995,32.5,28.9,32.5,32.5,28.900000000000002,32.56,32.56,32.5,32.56,32.5,28.9,32.5,29.62756354390312,32.56,32.559999999999995,32.5,32.559999999999995,32.56,33.73229388792381,32.56,33.506842153021765,33.721098673170644,28.9,32.5,33.44713733019603,28.286316800331786,28.9,32.56000000000001,32.5,32.559999999999995,28.9,28.9,32.56,32.39,32.56000000000001,28.900000000000002,32.39,32.39,35.48,32.559999999999995,28.900000000000002,32.39000000000001,28.899999999999995,37.443865995418655,32.56000000000001,35.47999999999999,27.775742975624766,29.75254254991352,28.9,32.39,31.311649086215336,32.39,32.38999999999999,32.559999999999995,37.93320679591216,35.47,35.47,35.46000000000001,32.157580998040544,35.3502968098615,32.5,34.74663805531009,35.46,35.46,32.50000000000001,32.56,34.60485879626879,34.5309465845903,34.80551020694022,35.47,35.47,35.48,35.48,36.142973132770145,36.06710261586245,35.61797114602653,35.48,35.842109434485074,36.17574830393873,35.57999999999999,49.22,52.6053505266174,38.26508495998897],\"type\":\"scatter\"}],                        {\"template\":{\"data\":{\"bar\":[{\"error_x\":{\"color\":\"#2a3f5f\"},\"error_y\":{\"color\":\"#2a3f5f\"},\"marker\":{\"line\":{\"color\":\"#E5ECF6\",\"width\":0.5},\"pattern\":{\"fillmode\":\"overlay\",\"size\":10,\"solidity\":0.2}},\"type\":\"bar\"}],\"barpolar\":[{\"marker\":{\"line\":{\"color\":\"#E5ECF6\",\"width\":0.5},\"pattern\":{\"fillmode\":\"overlay\",\"size\":10,\"solidity\":0.2}},\"type\":\"barpolar\"}],\"carpet\":[{\"aaxis\":{\"endlinecolor\":\"#2a3f5f\",\"gridcolor\":\"white\",\"linecolor\":\"white\",\"minorgridcolor\":\"white\",\"startlinecolor\":\"#2a3f5f\"},\"baxis\":{\"endlinecolor\":\"#2a3f5f\",\"gridcolor\":\"white\",\"linecolor\":\"white\",\"minorgridcolor\":\"white\",\"startlinecolor\":\"#2a3f5f\"},\"type\":\"carpet\"}],\"choropleth\":[{\"colorbar\":{\"outlinewidth\":0,\"ticks\":\"\"},\"type\":\"choropleth\"}],\"contour\":[{\"colorbar\":{\"outlinewidth\":0,\"ticks\":\"\"},\"colorscale\":[[0.0,\"#0d0887\"],[0.1111111111111111,\"#46039f\"],[0.2222222222222222,\"#7201a8\"],[0.3333333333333333,\"#9c179e\"],[0.4444444444444444,\"#bd3786\"],[0.5555555555555556,\"#d8576b\"],[0.6666666666666666,\"#ed7953\"],[0.7777777777777778,\"#fb9f3a\"],[0.8888888888888888,\"#fdca26\"],[1.0,\"#f0f921\"]],\"type\":\"contour\"}],\"contourcarpet\":[{\"colorbar\":{\"outlinewidth\":0,\"ticks\":\"\"},\"type\":\"contourcarpet\"}],\"heatmap\":[{\"colorbar\":{\"outlinewidth\":0,\"ticks\":\"\"},\"colorscale\":[[0.0,\"#0d0887\"],[0.1111111111111111,\"#46039f\"],[0.2222222222222222,\"#7201a8\"],[0.3333333333333333,\"#9c179e\"],[0.4444444444444444,\"#bd3786\"],[0.5555555555555556,\"#d8576b\"],[0.6666666666666666,\"#ed7953\"],[0.7777777777777778,\"#fb9f3a\"],[0.8888888888888888,\"#fdca26\"],[1.0,\"#f0f921\"]],\"type\":\"heatmap\"}],\"heatmapgl\":[{\"colorbar\":{\"outlinewidth\":0,\"ticks\":\"\"},\"colorscale\":[[0.0,\"#0d0887\"],[0.1111111111111111,\"#46039f\"],[0.2222222222222222,\"#7201a8\"],[0.3333333333333333,\"#9c179e\"],[0.4444444444444444,\"#bd3786\"],[0.5555555555555556,\"#d8576b\"],[0.6666666666666666,\"#ed7953\"],[0.7777777777777778,\"#fb9f3a\"],[0.8888888888888888,\"#fdca26\"],[1.0,\"#f0f921\"]],\"type\":\"heatmapgl\"}],\"histogram\":[{\"marker\":{\"pattern\":{\"fillmode\":\"overlay\",\"size\":10,\"solidity\":0.2}},\"type\":\"histogram\"}],\"histogram2d\":[{\"colorbar\":{\"outlinewidth\":0,\"ticks\":\"\"},\"colorscale\":[[0.0,\"#0d0887\"],[0.1111111111111111,\"#46039f\"],[0.2222222222222222,\"#7201a8\"],[0.3333333333333333,\"#9c179e\"],[0.4444444444444444,\"#bd3786\"],[0.5555555555555556,\"#d8576b\"],[0.6666666666666666,\"#ed7953\"],[0.7777777777777778,\"#fb9f3a\"],[0.8888888888888888,\"#fdca26\"],[1.0,\"#f0f921\"]],\"type\":\"histogram2d\"}],\"histogram2dcontour\":[{\"colorbar\":{\"outlinewidth\":0,\"ticks\":\"\"},\"colorscale\":[[0.0,\"#0d0887\"],[0.1111111111111111,\"#46039f\"],[0.2222222222222222,\"#7201a8\"],[0.3333333333333333,\"#9c179e\"],[0.4444444444444444,\"#bd3786\"],[0.5555555555555556,\"#d8576b\"],[0.6666666666666666,\"#ed7953\"],[0.7777777777777778,\"#fb9f3a\"],[0.8888888888888888,\"#fdca26\"],[1.0,\"#f0f921\"]],\"type\":\"histogram2dcontour\"}],\"mesh3d\":[{\"colorbar\":{\"outlinewidth\":0,\"ticks\":\"\"},\"type\":\"mesh3d\"}],\"parcoords\":[{\"line\":{\"colorbar\":{\"outlinewidth\":0,\"ticks\":\"\"}},\"type\":\"parcoords\"}],\"pie\":[{\"automargin\":true,\"type\":\"pie\"}],\"scatter\":[{\"marker\":{\"colorbar\":{\"outlinewidth\":0,\"ticks\":\"\"}},\"type\":\"scatter\"}],\"scatter3d\":[{\"line\":{\"colorbar\":{\"outlinewidth\":0,\"ticks\":\"\"}},\"marker\":{\"colorbar\":{\"outlinewidth\":0,\"ticks\":\"\"}},\"type\":\"scatter3d\"}],\"scattercarpet\":[{\"marker\":{\"colorbar\":{\"outlinewidth\":0,\"ticks\":\"\"}},\"type\":\"scattercarpet\"}],\"scattergeo\":[{\"marker\":{\"colorbar\":{\"outlinewidth\":0,\"ticks\":\"\"}},\"type\":\"scattergeo\"}],\"scattergl\":[{\"marker\":{\"colorbar\":{\"outlinewidth\":0,\"ticks\":\"\"}},\"type\":\"scattergl\"}],\"scattermapbox\":[{\"marker\":{\"colorbar\":{\"outlinewidth\":0,\"ticks\":\"\"}},\"type\":\"scattermapbox\"}],\"scatterpolar\":[{\"marker\":{\"colorbar\":{\"outlinewidth\":0,\"ticks\":\"\"}},\"type\":\"scatterpolar\"}],\"scatterpolargl\":[{\"marker\":{\"colorbar\":{\"outlinewidth\":0,\"ticks\":\"\"}},\"type\":\"scatterpolargl\"}],\"scatterternary\":[{\"marker\":{\"colorbar\":{\"outlinewidth\":0,\"ticks\":\"\"}},\"type\":\"scatterternary\"}],\"surface\":[{\"colorbar\":{\"outlinewidth\":0,\"ticks\":\"\"},\"colorscale\":[[0.0,\"#0d0887\"],[0.1111111111111111,\"#46039f\"],[0.2222222222222222,\"#7201a8\"],[0.3333333333333333,\"#9c179e\"],[0.4444444444444444,\"#bd3786\"],[0.5555555555555556,\"#d8576b\"],[0.6666666666666666,\"#ed7953\"],[0.7777777777777778,\"#fb9f3a\"],[0.8888888888888888,\"#fdca26\"],[1.0,\"#f0f921\"]],\"type\":\"surface\"}],\"table\":[{\"cells\":{\"fill\":{\"color\":\"#EBF0F8\"},\"line\":{\"color\":\"white\"}},\"header\":{\"fill\":{\"color\":\"#C8D4E3\"},\"line\":{\"color\":\"white\"}},\"type\":\"table\"}]},\"layout\":{\"annotationdefaults\":{\"arrowcolor\":\"#2a3f5f\",\"arrowhead\":0,\"arrowwidth\":1},\"autotypenumbers\":\"strict\",\"coloraxis\":{\"colorbar\":{\"outlinewidth\":0,\"ticks\":\"\"}},\"colorscale\":{\"diverging\":[[0,\"#8e0152\"],[0.1,\"#c51b7d\"],[0.2,\"#de77ae\"],[0.3,\"#f1b6da\"],[0.4,\"#fde0ef\"],[0.5,\"#f7f7f7\"],[0.6,\"#e6f5d0\"],[0.7,\"#b8e186\"],[0.8,\"#7fbc41\"],[0.9,\"#4d9221\"],[1,\"#276419\"]],\"sequential\":[[0.0,\"#0d0887\"],[0.1111111111111111,\"#46039f\"],[0.2222222222222222,\"#7201a8\"],[0.3333333333333333,\"#9c179e\"],[0.4444444444444444,\"#bd3786\"],[0.5555555555555556,\"#d8576b\"],[0.6666666666666666,\"#ed7953\"],[0.7777777777777778,\"#fb9f3a\"],[0.8888888888888888,\"#fdca26\"],[1.0,\"#f0f921\"]],\"sequentialminus\":[[0.0,\"#0d0887\"],[0.1111111111111111,\"#46039f\"],[0.2222222222222222,\"#7201a8\"],[0.3333333333333333,\"#9c179e\"],[0.4444444444444444,\"#bd3786\"],[0.5555555555555556,\"#d8576b\"],[0.6666666666666666,\"#ed7953\"],[0.7777777777777778,\"#fb9f3a\"],[0.8888888888888888,\"#fdca26\"],[1.0,\"#f0f921\"]]},\"colorway\":[\"#636efa\",\"#EF553B\",\"#00cc96\",\"#ab63fa\",\"#FFA15A\",\"#19d3f3\",\"#FF6692\",\"#B6E880\",\"#FF97FF\",\"#FECB52\"],\"font\":{\"color\":\"#2a3f5f\"},\"geo\":{\"bgcolor\":\"white\",\"lakecolor\":\"white\",\"landcolor\":\"#E5ECF6\",\"showlakes\":true,\"showland\":true,\"subunitcolor\":\"white\"},\"hoverlabel\":{\"align\":\"left\"},\"hovermode\":\"closest\",\"mapbox\":{\"style\":\"light\"},\"paper_bgcolor\":\"white\",\"plot_bgcolor\":\"#E5ECF6\",\"polar\":{\"angularaxis\":{\"gridcolor\":\"white\",\"linecolor\":\"white\",\"ticks\":\"\"},\"bgcolor\":\"#E5ECF6\",\"radialaxis\":{\"gridcolor\":\"white\",\"linecolor\":\"white\",\"ticks\":\"\"}},\"scene\":{\"xaxis\":{\"backgroundcolor\":\"#E5ECF6\",\"gridcolor\":\"white\",\"gridwidth\":2,\"linecolor\":\"white\",\"showbackground\":true,\"ticks\":\"\",\"zerolinecolor\":\"white\"},\"yaxis\":{\"backgroundcolor\":\"#E5ECF6\",\"gridcolor\":\"white\",\"gridwidth\":2,\"linecolor\":\"white\",\"showbackground\":true,\"ticks\":\"\",\"zerolinecolor\":\"white\"},\"zaxis\":{\"backgroundcolor\":\"#E5ECF6\",\"gridcolor\":\"white\",\"gridwidth\":2,\"linecolor\":\"white\",\"showbackground\":true,\"ticks\":\"\",\"zerolinecolor\":\"white\"}},\"shapedefaults\":{\"line\":{\"color\":\"#2a3f5f\"}},\"ternary\":{\"aaxis\":{\"gridcolor\":\"white\",\"linecolor\":\"white\",\"ticks\":\"\"},\"baxis\":{\"gridcolor\":\"white\",\"linecolor\":\"white\",\"ticks\":\"\"},\"bgcolor\":\"#E5ECF6\",\"caxis\":{\"gridcolor\":\"white\",\"linecolor\":\"white\",\"ticks\":\"\"}},\"title\":{\"x\":0.05},\"xaxis\":{\"automargin\":true,\"gridcolor\":\"white\",\"linecolor\":\"white\",\"ticks\":\"\",\"title\":{\"standoff\":15},\"zerolinecolor\":\"white\",\"zerolinewidth\":2},\"yaxis\":{\"automargin\":true,\"gridcolor\":\"white\",\"linecolor\":\"white\",\"ticks\":\"\",\"title\":{\"standoff\":15},\"zerolinecolor\":\"white\",\"zerolinewidth\":2}}},\"xaxis\":{\"title\":{\"text\":\"Time\"}},\"yaxis\":{\"title\":{\"text\":\"Price ($/MWh)\"}},\"title\":{\"text\":\"Figure 1: Simulated Market Price in NSW - Impact of 'N>>N-NIL_94T_947' & 'N>>N-NIL_94T'<br><sup>[r] denotes constraint removed</sup>\"}},                        {\"responsive\": true}                    ).then(function(){\n",
       "                            \n",
       "var gd = document.getElementById('61905415-ed2a-48f8-b355-278cde07b181');\n",
       "var x = new MutationObserver(function (mutations, observer) {{\n",
       "        var display = window.getComputedStyle(gd).display;\n",
       "        if (!display || display === 'none') {{\n",
       "            console.log([gd, 'removed!']);\n",
       "            Plotly.purge(gd);\n",
       "            observer.disconnect();\n",
       "        }}\n",
       "}});\n",
       "\n",
       "// Listen for the removal of the full notebook cells\n",
       "var notebookContainer = gd.closest('#notebook-container');\n",
       "if (notebookContainer) {{\n",
       "    x.observe(notebookContainer, {childList: true});\n",
       "}}\n",
       "\n",
       "// Listen for the clearing of the current output cell\n",
       "var outputEl = gd.closest('.output');\n",
       "if (outputEl) {{\n",
       "    x.observe(outputEl, {childList: true});\n",
       "}}\n",
       "\n",
       "                        })                };                });            </script>        </div>"
      ]
     },
     "metadata": {},
     "output_type": "display_data"
    }
   ],
   "source": [
    "fig = go.Figure()\n",
    "fig.add_trace(go.Scatter(x=prices['interval'].unique(), y=prices[prices['region'] == 'NSW1']['price'], name='NSW price', mode='lines+markers',\n",
    "                         marker_size=8, marker_symbol='circle'))\n",
    "fig.add_trace(go.Scatter(x=prices_r['interval'].unique(), y=prices_r[prices_r['region'] == 'NSW1']['price'], name='NSW price [r]', mode='lines+markers',\n",
    "                         marker_size=8, marker_symbol='circle'))\n",
    "fig.update_xaxes(title=\"Time\")\n",
    "fig.update_yaxes(title=\"Price ($/MWh)\")\n",
    "fig.update_layout(title=\"Figure 1: Simulated Market Price in NSW - Impact of 'N>>N-NIL_94T_947' & 'N>>N-NIL_94T'<br><sup>[r] denotes constraint removed</sup>\")\n",
    "fig.show()"
   ]
  },
  {
   "cell_type": "code",
   "execution_count": 34,
   "metadata": {},
   "outputs": [
    {
     "data": {
      "application/vnd.plotly.v1+json": {
       "config": {
        "plotlyServerURL": "https://plot.ly"
       },
       "data": [
        {
         "marker": {
          "size": 8,
          "symbol": "circle"
         },
         "mode": "lines+markers",
         "name": "NSW Δ Price",
         "type": "scatter",
         "x": [
          "2021/02/15 06:00:00",
          "2021/02/15 06:05:00",
          "2021/02/15 06:10:00",
          "2021/02/15 06:15:00",
          "2021/02/15 06:20:00",
          "2021/02/15 06:25:00",
          "2021/02/15 06:30:00",
          "2021/02/15 06:35:00",
          "2021/02/15 06:40:00",
          "2021/02/15 06:45:00",
          "2021/02/15 06:50:00",
          "2021/02/15 06:55:00",
          "2021/02/15 07:00:00",
          "2021/02/15 07:05:00",
          "2021/02/15 07:10:00",
          "2021/02/15 07:15:00",
          "2021/02/15 07:20:00",
          "2021/02/15 07:25:00",
          "2021/02/15 07:30:00",
          "2021/02/15 07:35:00",
          "2021/02/15 07:40:00",
          "2021/02/15 07:45:00",
          "2021/02/15 07:50:00",
          "2021/02/15 07:55:00",
          "2021/02/15 08:00:00",
          "2021/02/15 08:05:00",
          "2021/02/15 08:10:00",
          "2021/02/15 08:15:00",
          "2021/02/15 08:20:00",
          "2021/02/15 08:25:00",
          "2021/02/15 08:30:00",
          "2021/02/15 08:35:00",
          "2021/02/15 08:40:00",
          "2021/02/15 08:45:00",
          "2021/02/15 08:50:00",
          "2021/02/15 08:55:00",
          "2021/02/15 09:00:00",
          "2021/02/15 09:05:00",
          "2021/02/15 09:10:00",
          "2021/02/15 09:15:00",
          "2021/02/15 09:20:00",
          "2021/02/15 09:25:00",
          "2021/02/15 09:30:00",
          "2021/02/15 09:35:00",
          "2021/02/15 09:40:00",
          "2021/02/15 09:45:00",
          "2021/02/15 09:50:00",
          "2021/02/15 09:55:00",
          "2021/02/15 10:00:00",
          "2021/02/15 10:05:00",
          "2021/02/15 10:10:00",
          "2021/02/15 10:15:00",
          "2021/02/15 10:20:00",
          "2021/02/15 10:25:00",
          "2021/02/15 10:30:00",
          "2021/02/15 10:35:00",
          "2021/02/15 10:40:00",
          "2021/02/15 10:45:00",
          "2021/02/15 10:50:00",
          "2021/02/15 10:55:00",
          "2021/02/15 11:00:00",
          "2021/02/15 11:05:00",
          "2021/02/15 11:10:00",
          "2021/02/15 11:15:00",
          "2021/02/15 11:20:00",
          "2021/02/15 11:25:00",
          "2021/02/15 11:30:00",
          "2021/02/15 11:35:00",
          "2021/02/15 11:40:00",
          "2021/02/15 11:45:00",
          "2021/02/15 11:50:00",
          "2021/02/15 11:55:00",
          "2021/02/15 12:00:00",
          "2021/02/15 12:05:00",
          "2021/02/15 12:10:00",
          "2021/02/15 12:15:00",
          "2021/02/15 12:20:00",
          "2021/02/15 12:25:00",
          "2021/02/15 12:30:00",
          "2021/02/15 12:35:00",
          "2021/02/15 12:40:00",
          "2021/02/15 12:45:00",
          "2021/02/15 12:50:00",
          "2021/02/15 12:55:00",
          "2021/02/15 13:00:00",
          "2021/02/15 13:05:00",
          "2021/02/15 13:10:00",
          "2021/02/15 13:15:00",
          "2021/02/15 13:20:00",
          "2021/02/15 13:25:00",
          "2021/02/15 13:30:00",
          "2021/02/15 13:35:00",
          "2021/02/15 13:40:00",
          "2021/02/15 13:45:00",
          "2021/02/15 13:50:00",
          "2021/02/15 13:55:00",
          "2021/02/15 14:00:00",
          "2021/02/15 14:05:00",
          "2021/02/15 14:10:00",
          "2021/02/15 14:15:00",
          "2021/02/15 14:20:00",
          "2021/02/15 14:25:00",
          "2021/02/15 14:30:00",
          "2021/02/15 14:35:00",
          "2021/02/15 14:40:00",
          "2021/02/15 14:45:00",
          "2021/02/15 14:50:00",
          "2021/02/15 14:55:00",
          "2021/02/15 15:00:00",
          "2021/02/15 15:05:00",
          "2021/02/15 15:10:00",
          "2021/02/15 15:15:00",
          "2021/02/15 15:20:00",
          "2021/02/15 15:25:00",
          "2021/02/15 15:30:00",
          "2021/02/15 15:35:00",
          "2021/02/15 15:40:00",
          "2021/02/15 15:45:00",
          "2021/02/15 15:50:00",
          "2021/02/15 15:55:00",
          "2021/02/15 16:00:00",
          "2021/02/15 16:05:00",
          "2021/02/15 16:10:00",
          "2021/02/15 16:15:00",
          "2021/02/15 16:20:00",
          "2021/02/15 16:25:00",
          "2021/02/15 16:30:00",
          "2021/02/15 16:35:00",
          "2021/02/15 16:40:00",
          "2021/02/15 16:45:00",
          "2021/02/15 16:50:00",
          "2021/02/15 16:55:00",
          "2021/02/15 17:00:00",
          "2021/02/15 17:05:00",
          "2021/02/15 17:10:00",
          "2021/02/15 17:15:00",
          "2021/02/15 17:20:00",
          "2021/02/15 17:25:00",
          "2021/02/15 17:30:00",
          "2021/02/15 17:35:00",
          "2021/02/15 17:40:00",
          "2021/02/15 17:45:00",
          "2021/02/15 17:50:00",
          "2021/02/15 17:55:00",
          "2021/02/15 18:00:00",
          "2021/02/15 18:05:00"
         ],
         "y": [
          0,
          0,
          0,
          0,
          0,
          0,
          0,
          0,
          0,
          0,
          0,
          0,
          0,
          0,
          0,
          0,
          -1.937050201883359,
          -7.105427357601002e-15,
          0,
          0,
          0,
          0,
          0,
          -1.257941887943634,
          -0.06000000000000938,
          -0.05999999999999517,
          0,
          0,
          -0.05999999999999517,
          -7.105427357601002e-15,
          -3.1728060544970127,
          -0.03542222913922899,
          -0.016341255244512354,
          -2.96201600851845,
          -0.27474720315787593,
          0,
          0,
          -0.43417328545257305,
          -0.21319079661928697,
          -0.213443645998332,
          -0.4084699292603702,
          -0.29840779475814116,
          -3.66,
          -3.6000000000000014,
          -1.0927924891954959,
          -2.860305341024059,
          0,
          0,
          0,
          -0.060000000000002274,
          0,
          0,
          0,
          -0.22403161088388757,
          0,
          -0.42716670282884195,
          0,
          -1.05079697006542,
          -0.7100000000000009,
          0,
          -0.169115060952592,
          -0.060000000000002274,
          -0.9216597314661854,
          -0.06000000000000938,
          -3.6000000000000014,
          -0.060000000000002274,
          -0.060000000000002274,
          -3.599999999999998,
          -0.999918542355509,
          -1.6276853157529274,
          -0.06000000000000938,
          -1.4050000000000011,
          -0.060000000000002274,
          -3.6000000000000014,
          -0.060000000000002274,
          -2.932436456096884,
          -1.394999999999996,
          -1.3923142509216362,
          -0.060000000000002274,
          -0.8900103364554823,
          -1.5718520556189617,
          -1.2577061120761925,
          -1.139099151795044,
          -0.4424428755954324,
          -1.2689013268293579,
          0,
          -0.060000000000002274,
          -0.4410071739118351,
          -0.6136831996682126,
          0,
          -2.4299999999999926,
          -0.060000000000002274,
          -0.7598959940397663,
          -2.2146766462519203,
          -3.490000000000002,
          -2.4299999999999997,
          -0.10999999999999943,
          -0.782705774311161,
          -3.4900000000000055,
          -0.10999999999999943,
          -0.10999999999999943,
          -1.790554041188571,
          -1.5446792971415562,
          -3.4899999999999984,
          -0.10999999999999233,
          -3.4900000000000055,
          -0.9461340045813458,
          -2.4299999999999926,
          -1.7126847521971271,
          -1.124257024375229,
          -0.22352756745645053,
          -1.983226926662308,
          -0.10999999999999943,
          -0.02581258481863813,
          -0.10999999999999943,
          -0.08003870126193391,
          -2.9100000000000037,
          -0.8357717619968312,
          0,
          0,
          0,
          0,
          0,
          0,
          0,
          0,
          0,
          0,
          0,
          0,
          0,
          0,
          0,
          0,
          0,
          0,
          0,
          0,
          0,
          0,
          0,
          0,
          0,
          0,
          0,
          0
         ]
        },
        {
         "marker": {
          "size": 8,
          "symbol": "circle"
         },
         "mode": "lines+markers",
         "name": "QLD Δ Price",
         "type": "scatter",
         "x": [
          "2021/02/15 06:00:00",
          "2021/02/15 06:05:00",
          "2021/02/15 06:10:00",
          "2021/02/15 06:15:00",
          "2021/02/15 06:20:00",
          "2021/02/15 06:25:00",
          "2021/02/15 06:30:00",
          "2021/02/15 06:35:00",
          "2021/02/15 06:40:00",
          "2021/02/15 06:45:00",
          "2021/02/15 06:50:00",
          "2021/02/15 06:55:00",
          "2021/02/15 07:00:00",
          "2021/02/15 07:05:00",
          "2021/02/15 07:10:00",
          "2021/02/15 07:15:00",
          "2021/02/15 07:20:00",
          "2021/02/15 07:25:00",
          "2021/02/15 07:30:00",
          "2021/02/15 07:35:00",
          "2021/02/15 07:40:00",
          "2021/02/15 07:45:00",
          "2021/02/15 07:50:00",
          "2021/02/15 07:55:00",
          "2021/02/15 08:00:00",
          "2021/02/15 08:05:00",
          "2021/02/15 08:10:00",
          "2021/02/15 08:15:00",
          "2021/02/15 08:20:00",
          "2021/02/15 08:25:00",
          "2021/02/15 08:30:00",
          "2021/02/15 08:35:00",
          "2021/02/15 08:40:00",
          "2021/02/15 08:45:00",
          "2021/02/15 08:50:00",
          "2021/02/15 08:55:00",
          "2021/02/15 09:00:00",
          "2021/02/15 09:05:00",
          "2021/02/15 09:10:00",
          "2021/02/15 09:15:00",
          "2021/02/15 09:20:00",
          "2021/02/15 09:25:00",
          "2021/02/15 09:30:00",
          "2021/02/15 09:35:00",
          "2021/02/15 09:40:00",
          "2021/02/15 09:45:00",
          "2021/02/15 09:50:00",
          "2021/02/15 09:55:00",
          "2021/02/15 10:00:00",
          "2021/02/15 10:05:00",
          "2021/02/15 10:10:00",
          "2021/02/15 10:15:00",
          "2021/02/15 10:20:00",
          "2021/02/15 10:25:00",
          "2021/02/15 10:30:00",
          "2021/02/15 10:35:00",
          "2021/02/15 10:40:00",
          "2021/02/15 10:45:00",
          "2021/02/15 10:50:00",
          "2021/02/15 10:55:00",
          "2021/02/15 11:00:00",
          "2021/02/15 11:05:00",
          "2021/02/15 11:10:00",
          "2021/02/15 11:15:00",
          "2021/02/15 11:20:00",
          "2021/02/15 11:25:00",
          "2021/02/15 11:30:00",
          "2021/02/15 11:35:00",
          "2021/02/15 11:40:00",
          "2021/02/15 11:45:00",
          "2021/02/15 11:50:00",
          "2021/02/15 11:55:00",
          "2021/02/15 12:00:00",
          "2021/02/15 12:05:00",
          "2021/02/15 12:10:00",
          "2021/02/15 12:15:00",
          "2021/02/15 12:20:00",
          "2021/02/15 12:25:00",
          "2021/02/15 12:30:00",
          "2021/02/15 12:35:00",
          "2021/02/15 12:40:00",
          "2021/02/15 12:45:00",
          "2021/02/15 12:50:00",
          "2021/02/15 12:55:00",
          "2021/02/15 13:00:00",
          "2021/02/15 13:05:00",
          "2021/02/15 13:10:00",
          "2021/02/15 13:15:00",
          "2021/02/15 13:20:00",
          "2021/02/15 13:25:00",
          "2021/02/15 13:30:00",
          "2021/02/15 13:35:00",
          "2021/02/15 13:40:00",
          "2021/02/15 13:45:00",
          "2021/02/15 13:50:00",
          "2021/02/15 13:55:00",
          "2021/02/15 14:00:00",
          "2021/02/15 14:05:00",
          "2021/02/15 14:10:00",
          "2021/02/15 14:15:00",
          "2021/02/15 14:20:00",
          "2021/02/15 14:25:00",
          "2021/02/15 14:30:00",
          "2021/02/15 14:35:00",
          "2021/02/15 14:40:00",
          "2021/02/15 14:45:00",
          "2021/02/15 14:50:00",
          "2021/02/15 14:55:00",
          "2021/02/15 15:00:00",
          "2021/02/15 15:05:00",
          "2021/02/15 15:10:00",
          "2021/02/15 15:15:00",
          "2021/02/15 15:20:00",
          "2021/02/15 15:25:00",
          "2021/02/15 15:30:00",
          "2021/02/15 15:35:00",
          "2021/02/15 15:40:00",
          "2021/02/15 15:45:00",
          "2021/02/15 15:50:00",
          "2021/02/15 15:55:00",
          "2021/02/15 16:00:00",
          "2021/02/15 16:05:00",
          "2021/02/15 16:10:00",
          "2021/02/15 16:15:00",
          "2021/02/15 16:20:00",
          "2021/02/15 16:25:00",
          "2021/02/15 16:30:00",
          "2021/02/15 16:35:00",
          "2021/02/15 16:40:00",
          "2021/02/15 16:45:00",
          "2021/02/15 16:50:00",
          "2021/02/15 16:55:00",
          "2021/02/15 17:00:00",
          "2021/02/15 17:05:00",
          "2021/02/15 17:10:00",
          "2021/02/15 17:15:00",
          "2021/02/15 17:20:00",
          "2021/02/15 17:25:00",
          "2021/02/15 17:30:00",
          "2021/02/15 17:35:00",
          "2021/02/15 17:40:00",
          "2021/02/15 17:45:00",
          "2021/02/15 17:50:00",
          "2021/02/15 17:55:00",
          "2021/02/15 18:00:00",
          "2021/02/15 18:05:00"
         ],
         "y": [
          0,
          0,
          0,
          0,
          0,
          0,
          0,
          0,
          0,
          0,
          0,
          0,
          0,
          0,
          0,
          0,
          -1.9500748620668489,
          0,
          0,
          0,
          0,
          0,
          0,
          -1.19146156397154,
          -0.018115695172099322,
          -0.05641675817282632,
          0,
          -3.552713678800501e-15,
          -0.055527231468389004,
          -7.105427357601002e-15,
          -2.4389641894711183,
          -0.03156137387628277,
          -0.014560216733560338,
          -2.4439204614769743,
          -0.04999999999999716,
          0,
          0,
          -0.17352132147856025,
          -0.20291713114797716,
          -0.2031954082199512,
          -0.36403954926464266,
          -0.2818591863712001,
          -3.376625757318621,
          -3.3742000748893055,
          -1.0316516453587852,
          -2.4918377281028015,
          0,
          0,
          0,
          -0.05578296527805193,
          0,
          0,
          0,
          0,
          0,
          -0.40000948154336413,
          0,
          -0.9636070031138608,
          -0.6695108362564426,
          -3.552713678800501e-15,
          -0.15960560503783938,
          -0.057074084294789884,
          -0.7326359581063144,
          -0.05662696943776169,
          -3.3960867944728683,
          -0.057058039669250604,
          -0.057249277592497094,
          -3.3463423935858643,
          -0.789999999999992,
          -1.548199185020021,
          0,
          -1.3474020598270648,
          -0.058377648196387355,
          -3.220964059830912,
          -0.057249277592497094,
          -2.690000000000005,
          -1.0888375729571855,
          -1.3359485489485614,
          -0.057975236340315206,
          -0.8598943797930865,
          -1.542660722542756,
          -1.2430497297437455,
          -1.1173540071457886,
          -0.43407907093642706,
          -1.273446889361601,
          0,
          -0.058436893020708425,
          -0.4393017294561261,
          -0.5880281433221803,
          0,
          -2.458110293869524,
          -0.06026481616621737,
          -0.7807139841063346,
          -1.9905369708796954,
          -3.261927363041014,
          -2.459388248063341,
          -0.11047698722246224,
          -0.8040724815151279,
          -3.454171123889065,
          -0.1113612072120489,
          -0.10973096147002792,
          -1.2702211706904123,
          -1.576712593460094,
          -3.4837914825648255,
          -0.10817051557196322,
          -3.4070497996683713,
          -0.5904589613126134,
          -2.4276854094960854,
          -1.4667433957633733,
          -1.112771796867225,
          0,
          -1.7279095662421895,
          -0.1084811626828639,
          -3.552713678800501e-15,
          -0.1038619976672841,
          3.552713678800501e-15,
          -2.7696569459112723,
          -0.8133737269615864,
          0,
          0,
          0,
          0,
          0,
          0,
          0,
          0,
          0,
          0,
          0,
          0,
          0,
          0,
          0,
          0,
          0,
          0,
          0,
          0,
          0,
          0,
          0,
          0,
          0,
          0,
          0,
          0
         ]
        },
        {
         "marker": {
          "size": 8,
          "symbol": "circle"
         },
         "mode": "lines+markers",
         "name": "VIC Δ Price",
         "type": "scatter",
         "x": [
          "2021/02/15 06:00:00",
          "2021/02/15 06:05:00",
          "2021/02/15 06:10:00",
          "2021/02/15 06:15:00",
          "2021/02/15 06:20:00",
          "2021/02/15 06:25:00",
          "2021/02/15 06:30:00",
          "2021/02/15 06:35:00",
          "2021/02/15 06:40:00",
          "2021/02/15 06:45:00",
          "2021/02/15 06:50:00",
          "2021/02/15 06:55:00",
          "2021/02/15 07:00:00",
          "2021/02/15 07:05:00",
          "2021/02/15 07:10:00",
          "2021/02/15 07:15:00",
          "2021/02/15 07:20:00",
          "2021/02/15 07:25:00",
          "2021/02/15 07:30:00",
          "2021/02/15 07:35:00",
          "2021/02/15 07:40:00",
          "2021/02/15 07:45:00",
          "2021/02/15 07:50:00",
          "2021/02/15 07:55:00",
          "2021/02/15 08:00:00",
          "2021/02/15 08:05:00",
          "2021/02/15 08:10:00",
          "2021/02/15 08:15:00",
          "2021/02/15 08:20:00",
          "2021/02/15 08:25:00",
          "2021/02/15 08:30:00",
          "2021/02/15 08:35:00",
          "2021/02/15 08:40:00",
          "2021/02/15 08:45:00",
          "2021/02/15 08:50:00",
          "2021/02/15 08:55:00",
          "2021/02/15 09:00:00",
          "2021/02/15 09:05:00",
          "2021/02/15 09:10:00",
          "2021/02/15 09:15:00",
          "2021/02/15 09:20:00",
          "2021/02/15 09:25:00",
          "2021/02/15 09:30:00",
          "2021/02/15 09:35:00",
          "2021/02/15 09:40:00",
          "2021/02/15 09:45:00",
          "2021/02/15 09:50:00",
          "2021/02/15 09:55:00",
          "2021/02/15 10:00:00",
          "2021/02/15 10:05:00",
          "2021/02/15 10:10:00",
          "2021/02/15 10:15:00",
          "2021/02/15 10:20:00",
          "2021/02/15 10:25:00",
          "2021/02/15 10:30:00",
          "2021/02/15 10:35:00",
          "2021/02/15 10:40:00",
          "2021/02/15 10:45:00",
          "2021/02/15 10:50:00",
          "2021/02/15 10:55:00",
          "2021/02/15 11:00:00",
          "2021/02/15 11:05:00",
          "2021/02/15 11:10:00",
          "2021/02/15 11:15:00",
          "2021/02/15 11:20:00",
          "2021/02/15 11:25:00",
          "2021/02/15 11:30:00",
          "2021/02/15 11:35:00",
          "2021/02/15 11:40:00",
          "2021/02/15 11:45:00",
          "2021/02/15 11:50:00",
          "2021/02/15 11:55:00",
          "2021/02/15 12:00:00",
          "2021/02/15 12:05:00",
          "2021/02/15 12:10:00",
          "2021/02/15 12:15:00",
          "2021/02/15 12:20:00",
          "2021/02/15 12:25:00",
          "2021/02/15 12:30:00",
          "2021/02/15 12:35:00",
          "2021/02/15 12:40:00",
          "2021/02/15 12:45:00",
          "2021/02/15 12:50:00",
          "2021/02/15 12:55:00",
          "2021/02/15 13:00:00",
          "2021/02/15 13:05:00",
          "2021/02/15 13:10:00",
          "2021/02/15 13:15:00",
          "2021/02/15 13:20:00",
          "2021/02/15 13:25:00",
          "2021/02/15 13:30:00",
          "2021/02/15 13:35:00",
          "2021/02/15 13:40:00",
          "2021/02/15 13:45:00",
          "2021/02/15 13:50:00",
          "2021/02/15 13:55:00",
          "2021/02/15 14:00:00",
          "2021/02/15 14:05:00",
          "2021/02/15 14:10:00",
          "2021/02/15 14:15:00",
          "2021/02/15 14:20:00",
          "2021/02/15 14:25:00",
          "2021/02/15 14:30:00",
          "2021/02/15 14:35:00",
          "2021/02/15 14:40:00",
          "2021/02/15 14:45:00",
          "2021/02/15 14:50:00",
          "2021/02/15 14:55:00",
          "2021/02/15 15:00:00",
          "2021/02/15 15:05:00",
          "2021/02/15 15:10:00",
          "2021/02/15 15:15:00",
          "2021/02/15 15:20:00",
          "2021/02/15 15:25:00",
          "2021/02/15 15:30:00",
          "2021/02/15 15:35:00",
          "2021/02/15 15:40:00",
          "2021/02/15 15:45:00",
          "2021/02/15 15:50:00",
          "2021/02/15 15:55:00",
          "2021/02/15 16:00:00",
          "2021/02/15 16:05:00",
          "2021/02/15 16:10:00",
          "2021/02/15 16:15:00",
          "2021/02/15 16:20:00",
          "2021/02/15 16:25:00",
          "2021/02/15 16:30:00",
          "2021/02/15 16:35:00",
          "2021/02/15 16:40:00",
          "2021/02/15 16:45:00",
          "2021/02/15 16:50:00",
          "2021/02/15 16:55:00",
          "2021/02/15 17:00:00",
          "2021/02/15 17:05:00",
          "2021/02/15 17:10:00",
          "2021/02/15 17:15:00",
          "2021/02/15 17:20:00",
          "2021/02/15 17:25:00",
          "2021/02/15 17:30:00",
          "2021/02/15 17:35:00",
          "2021/02/15 17:40:00",
          "2021/02/15 17:45:00",
          "2021/02/15 17:50:00",
          "2021/02/15 17:55:00",
          "2021/02/15 18:00:00",
          "2021/02/15 18:05:00"
         ],
         "y": [
          0,
          0,
          0,
          0,
          0,
          0,
          0,
          0,
          0,
          0,
          0,
          0,
          0,
          0,
          0,
          0,
          -1.781194739764711,
          -3.552713678800501e-15,
          0,
          0,
          0,
          0,
          0,
          -1.1589452085520708,
          -0.055206047799930325,
          -0.05707826799427451,
          0,
          3.552713678800501e-15,
          -0.05705959591726639,
          0,
          -3.040608214068442,
          -8.881784197001252e-16,
          -8.881784197001252e-16,
          -2.7152567990954766,
          -0.26159289566917554,
          0,
          0,
          0,
          0,
          0,
          -0.2212540744629461,
          -0.08428395417626167,
          -3.412058340226588,
          -3.3189981478275574,
          -1.0047806162024089,
          -2.602931900357752,
          0,
          0,
          -8.881784197001252e-16,
          -0.05442740072505092,
          0,
          0,
          0,
          -0.19852013366597188,
          8.604228440844963e-16,
          -0.3769566980745629,
          0,
          -0.9077464653025431,
          -0.6199617366775905,
          0,
          0,
          -0.052738642214134046,
          -0.8103407061053756,
          -0.05258667480907375,
          -3.1666277684044966,
          -0.052060527229562226,
          -0.05216172223911686,
          -3.192544480870682,
          -0.8876901123385537,
          -1.4458048151143021,
          -0.05270352327494576,
          -1.2307626199205672,
          -0.05324976413167759,
          -3.155541910495001,
          -0.05323821768486914,
          -2.600003183810833,
          -1.2499714107321536,
          -1.0598707872979918,
          0,
          -0.816415532599243,
          -1.0214263886515695,
          -0.7195616475159454,
          0,
          0,
          -0.9393472858800527,
          9.592326932761353e-14,
          0,
          -8.881784197001252e-16,
          0,
          0,
          0,
          -0.05571975292960474,
          0,
          -2.077644165232144,
          0,
          0,
          0,
          0,
          -1.7763568394002505e-15,
          0,
          0,
          -1.6674450144705801,
          -1.4400804984758615,
          0,
          0,
          0,
          -0.8777486579793301,
          0,
          -3.552713678800501e-15,
          -7.105427357601002e-15,
          0,
          0,
          0,
          3.552713678800501e-15,
          -0.1027947562414866,
          -0.07486752404150465,
          -2.4334463468311895,
          -0.784768831395688,
          0,
          0,
          0,
          0,
          0,
          0,
          0,
          0,
          0,
          0,
          0,
          0,
          0,
          0,
          0,
          0,
          0,
          0,
          0,
          0,
          0,
          0,
          0,
          0,
          0,
          0,
          0,
          0
         ]
        },
        {
         "marker": {
          "size": 8,
          "symbol": "circle"
         },
         "mode": "lines+markers",
         "name": "SA Δ Price",
         "type": "scatter",
         "x": [
          "2021/02/15 06:00:00",
          "2021/02/15 06:05:00",
          "2021/02/15 06:10:00",
          "2021/02/15 06:15:00",
          "2021/02/15 06:20:00",
          "2021/02/15 06:25:00",
          "2021/02/15 06:30:00",
          "2021/02/15 06:35:00",
          "2021/02/15 06:40:00",
          "2021/02/15 06:45:00",
          "2021/02/15 06:50:00",
          "2021/02/15 06:55:00",
          "2021/02/15 07:00:00",
          "2021/02/15 07:05:00",
          "2021/02/15 07:10:00",
          "2021/02/15 07:15:00",
          "2021/02/15 07:20:00",
          "2021/02/15 07:25:00",
          "2021/02/15 07:30:00",
          "2021/02/15 07:35:00",
          "2021/02/15 07:40:00",
          "2021/02/15 07:45:00",
          "2021/02/15 07:50:00",
          "2021/02/15 07:55:00",
          "2021/02/15 08:00:00",
          "2021/02/15 08:05:00",
          "2021/02/15 08:10:00",
          "2021/02/15 08:15:00",
          "2021/02/15 08:20:00",
          "2021/02/15 08:25:00",
          "2021/02/15 08:30:00",
          "2021/02/15 08:35:00",
          "2021/02/15 08:40:00",
          "2021/02/15 08:45:00",
          "2021/02/15 08:50:00",
          "2021/02/15 08:55:00",
          "2021/02/15 09:00:00",
          "2021/02/15 09:05:00",
          "2021/02/15 09:10:00",
          "2021/02/15 09:15:00",
          "2021/02/15 09:20:00",
          "2021/02/15 09:25:00",
          "2021/02/15 09:30:00",
          "2021/02/15 09:35:00",
          "2021/02/15 09:40:00",
          "2021/02/15 09:45:00",
          "2021/02/15 09:50:00",
          "2021/02/15 09:55:00",
          "2021/02/15 10:00:00",
          "2021/02/15 10:05:00",
          "2021/02/15 10:10:00",
          "2021/02/15 10:15:00",
          "2021/02/15 10:20:00",
          "2021/02/15 10:25:00",
          "2021/02/15 10:30:00",
          "2021/02/15 10:35:00",
          "2021/02/15 10:40:00",
          "2021/02/15 10:45:00",
          "2021/02/15 10:50:00",
          "2021/02/15 10:55:00",
          "2021/02/15 11:00:00",
          "2021/02/15 11:05:00",
          "2021/02/15 11:10:00",
          "2021/02/15 11:15:00",
          "2021/02/15 11:20:00",
          "2021/02/15 11:25:00",
          "2021/02/15 11:30:00",
          "2021/02/15 11:35:00",
          "2021/02/15 11:40:00",
          "2021/02/15 11:45:00",
          "2021/02/15 11:50:00",
          "2021/02/15 11:55:00",
          "2021/02/15 12:00:00",
          "2021/02/15 12:05:00",
          "2021/02/15 12:10:00",
          "2021/02/15 12:15:00",
          "2021/02/15 12:20:00",
          "2021/02/15 12:25:00",
          "2021/02/15 12:30:00",
          "2021/02/15 12:35:00",
          "2021/02/15 12:40:00",
          "2021/02/15 12:45:00",
          "2021/02/15 12:50:00",
          "2021/02/15 12:55:00",
          "2021/02/15 13:00:00",
          "2021/02/15 13:05:00",
          "2021/02/15 13:10:00",
          "2021/02/15 13:15:00",
          "2021/02/15 13:20:00",
          "2021/02/15 13:25:00",
          "2021/02/15 13:30:00",
          "2021/02/15 13:35:00",
          "2021/02/15 13:40:00",
          "2021/02/15 13:45:00",
          "2021/02/15 13:50:00",
          "2021/02/15 13:55:00",
          "2021/02/15 14:00:00",
          "2021/02/15 14:05:00",
          "2021/02/15 14:10:00",
          "2021/02/15 14:15:00",
          "2021/02/15 14:20:00",
          "2021/02/15 14:25:00",
          "2021/02/15 14:30:00",
          "2021/02/15 14:35:00",
          "2021/02/15 14:40:00",
          "2021/02/15 14:45:00",
          "2021/02/15 14:50:00",
          "2021/02/15 14:55:00",
          "2021/02/15 15:00:00",
          "2021/02/15 15:05:00",
          "2021/02/15 15:10:00",
          "2021/02/15 15:15:00",
          "2021/02/15 15:20:00",
          "2021/02/15 15:25:00",
          "2021/02/15 15:30:00",
          "2021/02/15 15:35:00",
          "2021/02/15 15:40:00",
          "2021/02/15 15:45:00",
          "2021/02/15 15:50:00",
          "2021/02/15 15:55:00",
          "2021/02/15 16:00:00",
          "2021/02/15 16:05:00",
          "2021/02/15 16:10:00",
          "2021/02/15 16:15:00",
          "2021/02/15 16:20:00",
          "2021/02/15 16:25:00",
          "2021/02/15 16:30:00",
          "2021/02/15 16:35:00",
          "2021/02/15 16:40:00",
          "2021/02/15 16:45:00",
          "2021/02/15 16:50:00",
          "2021/02/15 16:55:00",
          "2021/02/15 17:00:00",
          "2021/02/15 17:05:00",
          "2021/02/15 17:10:00",
          "2021/02/15 17:15:00",
          "2021/02/15 17:20:00",
          "2021/02/15 17:25:00",
          "2021/02/15 17:30:00",
          "2021/02/15 17:35:00",
          "2021/02/15 17:40:00",
          "2021/02/15 17:45:00",
          "2021/02/15 17:50:00",
          "2021/02/15 17:55:00",
          "2021/02/15 18:00:00",
          "2021/02/15 18:05:00"
         ],
         "y": [
          0,
          0,
          0,
          0,
          0,
          0,
          0,
          0,
          0,
          0,
          0,
          0,
          0,
          0,
          0,
          0,
          -1.8370557981602254,
          -7.105427357601002e-15,
          0,
          0,
          0,
          0,
          0,
          -1.102872431635996,
          -0.05165763755317343,
          -0.05433055735502279,
          0,
          3.1086244689504383e-15,
          -0.05317227626935672,
          0,
          -2.769122237901776,
          1.3322676295501878e-14,
          -2.3092638912203256e-14,
          -2.432528053688302,
          -0.23445988179255162,
          0,
          0,
          1.7763568394002505e-15,
          2.6645352591003757e-15,
          1.7763568394002505e-15,
          -0.19418109018533425,
          -0.07401647204110429,
          -2.996119607369415,
          -2.965277267690786,
          -0.9086294375143553,
          -2.2998602351039765,
          -4.440892098500626e-16,
          -3.9968028886505635e-15,
          0,
          -0.048955852356294294,
          -4.440892098500626e-16,
          0,
          0,
          -0.17770429305093227,
          7.91033905045424e-16,
          -0.34157340673118375,
          0,
          -0.8134645701725665,
          -0.5619170611209476,
          0,
          8.881784197001252e-16,
          -0.0489075702411399,
          -0.7473478586284865,
          -0.04906655156656159,
          -2.9197026462155136,
          -0.04830894818199827,
          -0.047835188772780146,
          -2.995309728320879,
          -0.828068124031899,
          -1.3559693963706714,
          -0.04860538744687393,
          -1.1551662971660344,
          -0.04939356674982376,
          -2.928368295633417,
          -0.04994802216725169,
          -2.4401309443791064,
          -1.1992201814391952,
          -1.0053335911384433,
          0,
          -0.7914830491781579,
          -0.9790774977602146,
          -0.6941607685829778,
          8.881784197001252e-16,
          1.7763568394002505e-15,
          -0.9058567437106042,
          8.881784197001252e-14,
          0,
          0,
          -8.881784197001252e-16,
          0,
          0,
          -0.05492160091024001,
          0,
          -2.103706166370074,
          0,
          0,
          0,
          0,
          0,
          0,
          0,
          -1.652601120645187,
          -1.4190076956243765,
          0,
          0,
          0,
          -0.8741191208817849,
          0,
          0,
          0,
          0,
          0,
          0,
          -7.105427357601002e-15,
          -0.1044496979975662,
          -0.07563776830068747,
          -2.2511343255203506,
          -0.7881506878679687,
          -7.105427357601002e-15,
          0,
          0,
          0,
          0,
          0,
          0,
          0,
          0,
          0,
          0,
          0,
          0,
          0,
          0,
          0,
          2.1316282072803006e-14,
          -7.105427357601002e-15,
          0,
          0,
          0,
          0,
          0,
          0,
          0,
          0,
          0,
          0
         ]
        },
        {
         "marker": {
          "size": 8,
          "symbol": "circle"
         },
         "mode": "lines+markers",
         "name": "TAS Δ Price",
         "type": "scatter",
         "x": [
          "2021/02/15 06:00:00",
          "2021/02/15 06:05:00",
          "2021/02/15 06:10:00",
          "2021/02/15 06:15:00",
          "2021/02/15 06:20:00",
          "2021/02/15 06:25:00",
          "2021/02/15 06:30:00",
          "2021/02/15 06:35:00",
          "2021/02/15 06:40:00",
          "2021/02/15 06:45:00",
          "2021/02/15 06:50:00",
          "2021/02/15 06:55:00",
          "2021/02/15 07:00:00",
          "2021/02/15 07:05:00",
          "2021/02/15 07:10:00",
          "2021/02/15 07:15:00",
          "2021/02/15 07:20:00",
          "2021/02/15 07:25:00",
          "2021/02/15 07:30:00",
          "2021/02/15 07:35:00",
          "2021/02/15 07:40:00",
          "2021/02/15 07:45:00",
          "2021/02/15 07:50:00",
          "2021/02/15 07:55:00",
          "2021/02/15 08:00:00",
          "2021/02/15 08:05:00",
          "2021/02/15 08:10:00",
          "2021/02/15 08:15:00",
          "2021/02/15 08:20:00",
          "2021/02/15 08:25:00",
          "2021/02/15 08:30:00",
          "2021/02/15 08:35:00",
          "2021/02/15 08:40:00",
          "2021/02/15 08:45:00",
          "2021/02/15 08:50:00",
          "2021/02/15 08:55:00",
          "2021/02/15 09:00:00",
          "2021/02/15 09:05:00",
          "2021/02/15 09:10:00",
          "2021/02/15 09:15:00",
          "2021/02/15 09:20:00",
          "2021/02/15 09:25:00",
          "2021/02/15 09:30:00",
          "2021/02/15 09:35:00",
          "2021/02/15 09:40:00",
          "2021/02/15 09:45:00",
          "2021/02/15 09:50:00",
          "2021/02/15 09:55:00",
          "2021/02/15 10:00:00",
          "2021/02/15 10:05:00",
          "2021/02/15 10:10:00",
          "2021/02/15 10:15:00",
          "2021/02/15 10:20:00",
          "2021/02/15 10:25:00",
          "2021/02/15 10:30:00",
          "2021/02/15 10:35:00",
          "2021/02/15 10:40:00",
          "2021/02/15 10:45:00",
          "2021/02/15 10:50:00",
          "2021/02/15 10:55:00",
          "2021/02/15 11:00:00",
          "2021/02/15 11:05:00",
          "2021/02/15 11:10:00",
          "2021/02/15 11:15:00",
          "2021/02/15 11:20:00",
          "2021/02/15 11:25:00",
          "2021/02/15 11:30:00",
          "2021/02/15 11:35:00",
          "2021/02/15 11:40:00",
          "2021/02/15 11:45:00",
          "2021/02/15 11:50:00",
          "2021/02/15 11:55:00",
          "2021/02/15 12:00:00",
          "2021/02/15 12:05:00",
          "2021/02/15 12:10:00",
          "2021/02/15 12:15:00",
          "2021/02/15 12:20:00",
          "2021/02/15 12:25:00",
          "2021/02/15 12:30:00",
          "2021/02/15 12:35:00",
          "2021/02/15 12:40:00",
          "2021/02/15 12:45:00",
          "2021/02/15 12:50:00",
          "2021/02/15 12:55:00",
          "2021/02/15 13:00:00",
          "2021/02/15 13:05:00",
          "2021/02/15 13:10:00",
          "2021/02/15 13:15:00",
          "2021/02/15 13:20:00",
          "2021/02/15 13:25:00",
          "2021/02/15 13:30:00",
          "2021/02/15 13:35:00",
          "2021/02/15 13:40:00",
          "2021/02/15 13:45:00",
          "2021/02/15 13:50:00",
          "2021/02/15 13:55:00",
          "2021/02/15 14:00:00",
          "2021/02/15 14:05:00",
          "2021/02/15 14:10:00",
          "2021/02/15 14:15:00",
          "2021/02/15 14:20:00",
          "2021/02/15 14:25:00",
          "2021/02/15 14:30:00",
          "2021/02/15 14:35:00",
          "2021/02/15 14:40:00",
          "2021/02/15 14:45:00",
          "2021/02/15 14:50:00",
          "2021/02/15 14:55:00",
          "2021/02/15 15:00:00",
          "2021/02/15 15:05:00",
          "2021/02/15 15:10:00",
          "2021/02/15 15:15:00",
          "2021/02/15 15:20:00",
          "2021/02/15 15:25:00",
          "2021/02/15 15:30:00",
          "2021/02/15 15:35:00",
          "2021/02/15 15:40:00",
          "2021/02/15 15:45:00",
          "2021/02/15 15:50:00",
          "2021/02/15 15:55:00",
          "2021/02/15 16:00:00",
          "2021/02/15 16:05:00",
          "2021/02/15 16:10:00",
          "2021/02/15 16:15:00",
          "2021/02/15 16:20:00",
          "2021/02/15 16:25:00",
          "2021/02/15 16:30:00",
          "2021/02/15 16:35:00",
          "2021/02/15 16:40:00",
          "2021/02/15 16:45:00",
          "2021/02/15 16:50:00",
          "2021/02/15 16:55:00",
          "2021/02/15 17:00:00",
          "2021/02/15 17:05:00",
          "2021/02/15 17:10:00",
          "2021/02/15 17:15:00",
          "2021/02/15 17:20:00",
          "2021/02/15 17:25:00",
          "2021/02/15 17:30:00",
          "2021/02/15 17:35:00",
          "2021/02/15 17:40:00",
          "2021/02/15 17:45:00",
          "2021/02/15 17:50:00",
          "2021/02/15 17:55:00",
          "2021/02/15 18:00:00",
          "2021/02/15 18:05:00"
         ],
         "y": [
          0,
          0,
          0,
          0,
          0,
          0,
          0,
          0,
          0,
          0,
          0,
          0,
          0,
          0,
          0,
          0,
          0,
          -4.263256414560601e-14,
          0,
          0,
          0,
          0,
          0,
          -0.79430770931436,
          -0.012077130114739987,
          -0.03761117211521281,
          0,
          0,
          0,
          0,
          0,
          -7.105427357601002e-15,
          -7.105427357601002e-15,
          -7.105427357601002e-15,
          7.105427357601002e-15,
          0,
          0,
          0,
          0,
          -7.105427357601002e-15,
          -2.1316282072803006e-14,
          1.4210854715202004e-14,
          0,
          0,
          0,
          0,
          0,
          0,
          0,
          0,
          0,
          0,
          0,
          0,
          0,
          0,
          0,
          0,
          0,
          0,
          0,
          0,
          0,
          0,
          0,
          0,
          0,
          0,
          0,
          0,
          0,
          0,
          0,
          0,
          0,
          0,
          0,
          0,
          0,
          0,
          0,
          0,
          0,
          0,
          0,
          0,
          0,
          0,
          0,
          0,
          0,
          0,
          0,
          0,
          0,
          0,
          0,
          0,
          7.105427357601002e-15,
          0,
          0,
          0,
          -1.058883340010567,
          0,
          0,
          0,
          0,
          0,
          7.105427357601002e-15,
          7.105427357601002e-15,
          0,
          0,
          0,
          0,
          0,
          0,
          -0.07206784703043212,
          -0.7243340638122575,
          -7.105427357601002e-15,
          0,
          0,
          0,
          0,
          0,
          0,
          0,
          0,
          0,
          0,
          0,
          0,
          0,
          0,
          0,
          0,
          0,
          0,
          0,
          0,
          0,
          0,
          0,
          0,
          0,
          0,
          0
         ]
        }
       ],
       "layout": {
        "template": {
         "data": {
          "bar": [
           {
            "error_x": {
             "color": "#2a3f5f"
            },
            "error_y": {
             "color": "#2a3f5f"
            },
            "marker": {
             "line": {
              "color": "#E5ECF6",
              "width": 0.5
             },
             "pattern": {
              "fillmode": "overlay",
              "size": 10,
              "solidity": 0.2
             }
            },
            "type": "bar"
           }
          ],
          "barpolar": [
           {
            "marker": {
             "line": {
              "color": "#E5ECF6",
              "width": 0.5
             },
             "pattern": {
              "fillmode": "overlay",
              "size": 10,
              "solidity": 0.2
             }
            },
            "type": "barpolar"
           }
          ],
          "carpet": [
           {
            "aaxis": {
             "endlinecolor": "#2a3f5f",
             "gridcolor": "white",
             "linecolor": "white",
             "minorgridcolor": "white",
             "startlinecolor": "#2a3f5f"
            },
            "baxis": {
             "endlinecolor": "#2a3f5f",
             "gridcolor": "white",
             "linecolor": "white",
             "minorgridcolor": "white",
             "startlinecolor": "#2a3f5f"
            },
            "type": "carpet"
           }
          ],
          "choropleth": [
           {
            "colorbar": {
             "outlinewidth": 0,
             "ticks": ""
            },
            "type": "choropleth"
           }
          ],
          "contour": [
           {
            "colorbar": {
             "outlinewidth": 0,
             "ticks": ""
            },
            "colorscale": [
             [
              0,
              "#0d0887"
             ],
             [
              0.1111111111111111,
              "#46039f"
             ],
             [
              0.2222222222222222,
              "#7201a8"
             ],
             [
              0.3333333333333333,
              "#9c179e"
             ],
             [
              0.4444444444444444,
              "#bd3786"
             ],
             [
              0.5555555555555556,
              "#d8576b"
             ],
             [
              0.6666666666666666,
              "#ed7953"
             ],
             [
              0.7777777777777778,
              "#fb9f3a"
             ],
             [
              0.8888888888888888,
              "#fdca26"
             ],
             [
              1,
              "#f0f921"
             ]
            ],
            "type": "contour"
           }
          ],
          "contourcarpet": [
           {
            "colorbar": {
             "outlinewidth": 0,
             "ticks": ""
            },
            "type": "contourcarpet"
           }
          ],
          "heatmap": [
           {
            "colorbar": {
             "outlinewidth": 0,
             "ticks": ""
            },
            "colorscale": [
             [
              0,
              "#0d0887"
             ],
             [
              0.1111111111111111,
              "#46039f"
             ],
             [
              0.2222222222222222,
              "#7201a8"
             ],
             [
              0.3333333333333333,
              "#9c179e"
             ],
             [
              0.4444444444444444,
              "#bd3786"
             ],
             [
              0.5555555555555556,
              "#d8576b"
             ],
             [
              0.6666666666666666,
              "#ed7953"
             ],
             [
              0.7777777777777778,
              "#fb9f3a"
             ],
             [
              0.8888888888888888,
              "#fdca26"
             ],
             [
              1,
              "#f0f921"
             ]
            ],
            "type": "heatmap"
           }
          ],
          "heatmapgl": [
           {
            "colorbar": {
             "outlinewidth": 0,
             "ticks": ""
            },
            "colorscale": [
             [
              0,
              "#0d0887"
             ],
             [
              0.1111111111111111,
              "#46039f"
             ],
             [
              0.2222222222222222,
              "#7201a8"
             ],
             [
              0.3333333333333333,
              "#9c179e"
             ],
             [
              0.4444444444444444,
              "#bd3786"
             ],
             [
              0.5555555555555556,
              "#d8576b"
             ],
             [
              0.6666666666666666,
              "#ed7953"
             ],
             [
              0.7777777777777778,
              "#fb9f3a"
             ],
             [
              0.8888888888888888,
              "#fdca26"
             ],
             [
              1,
              "#f0f921"
             ]
            ],
            "type": "heatmapgl"
           }
          ],
          "histogram": [
           {
            "marker": {
             "pattern": {
              "fillmode": "overlay",
              "size": 10,
              "solidity": 0.2
             }
            },
            "type": "histogram"
           }
          ],
          "histogram2d": [
           {
            "colorbar": {
             "outlinewidth": 0,
             "ticks": ""
            },
            "colorscale": [
             [
              0,
              "#0d0887"
             ],
             [
              0.1111111111111111,
              "#46039f"
             ],
             [
              0.2222222222222222,
              "#7201a8"
             ],
             [
              0.3333333333333333,
              "#9c179e"
             ],
             [
              0.4444444444444444,
              "#bd3786"
             ],
             [
              0.5555555555555556,
              "#d8576b"
             ],
             [
              0.6666666666666666,
              "#ed7953"
             ],
             [
              0.7777777777777778,
              "#fb9f3a"
             ],
             [
              0.8888888888888888,
              "#fdca26"
             ],
             [
              1,
              "#f0f921"
             ]
            ],
            "type": "histogram2d"
           }
          ],
          "histogram2dcontour": [
           {
            "colorbar": {
             "outlinewidth": 0,
             "ticks": ""
            },
            "colorscale": [
             [
              0,
              "#0d0887"
             ],
             [
              0.1111111111111111,
              "#46039f"
             ],
             [
              0.2222222222222222,
              "#7201a8"
             ],
             [
              0.3333333333333333,
              "#9c179e"
             ],
             [
              0.4444444444444444,
              "#bd3786"
             ],
             [
              0.5555555555555556,
              "#d8576b"
             ],
             [
              0.6666666666666666,
              "#ed7953"
             ],
             [
              0.7777777777777778,
              "#fb9f3a"
             ],
             [
              0.8888888888888888,
              "#fdca26"
             ],
             [
              1,
              "#f0f921"
             ]
            ],
            "type": "histogram2dcontour"
           }
          ],
          "mesh3d": [
           {
            "colorbar": {
             "outlinewidth": 0,
             "ticks": ""
            },
            "type": "mesh3d"
           }
          ],
          "parcoords": [
           {
            "line": {
             "colorbar": {
              "outlinewidth": 0,
              "ticks": ""
             }
            },
            "type": "parcoords"
           }
          ],
          "pie": [
           {
            "automargin": true,
            "type": "pie"
           }
          ],
          "scatter": [
           {
            "marker": {
             "colorbar": {
              "outlinewidth": 0,
              "ticks": ""
             }
            },
            "type": "scatter"
           }
          ],
          "scatter3d": [
           {
            "line": {
             "colorbar": {
              "outlinewidth": 0,
              "ticks": ""
             }
            },
            "marker": {
             "colorbar": {
              "outlinewidth": 0,
              "ticks": ""
             }
            },
            "type": "scatter3d"
           }
          ],
          "scattercarpet": [
           {
            "marker": {
             "colorbar": {
              "outlinewidth": 0,
              "ticks": ""
             }
            },
            "type": "scattercarpet"
           }
          ],
          "scattergeo": [
           {
            "marker": {
             "colorbar": {
              "outlinewidth": 0,
              "ticks": ""
             }
            },
            "type": "scattergeo"
           }
          ],
          "scattergl": [
           {
            "marker": {
             "colorbar": {
              "outlinewidth": 0,
              "ticks": ""
             }
            },
            "type": "scattergl"
           }
          ],
          "scattermapbox": [
           {
            "marker": {
             "colorbar": {
              "outlinewidth": 0,
              "ticks": ""
             }
            },
            "type": "scattermapbox"
           }
          ],
          "scatterpolar": [
           {
            "marker": {
             "colorbar": {
              "outlinewidth": 0,
              "ticks": ""
             }
            },
            "type": "scatterpolar"
           }
          ],
          "scatterpolargl": [
           {
            "marker": {
             "colorbar": {
              "outlinewidth": 0,
              "ticks": ""
             }
            },
            "type": "scatterpolargl"
           }
          ],
          "scatterternary": [
           {
            "marker": {
             "colorbar": {
              "outlinewidth": 0,
              "ticks": ""
             }
            },
            "type": "scatterternary"
           }
          ],
          "surface": [
           {
            "colorbar": {
             "outlinewidth": 0,
             "ticks": ""
            },
            "colorscale": [
             [
              0,
              "#0d0887"
             ],
             [
              0.1111111111111111,
              "#46039f"
             ],
             [
              0.2222222222222222,
              "#7201a8"
             ],
             [
              0.3333333333333333,
              "#9c179e"
             ],
             [
              0.4444444444444444,
              "#bd3786"
             ],
             [
              0.5555555555555556,
              "#d8576b"
             ],
             [
              0.6666666666666666,
              "#ed7953"
             ],
             [
              0.7777777777777778,
              "#fb9f3a"
             ],
             [
              0.8888888888888888,
              "#fdca26"
             ],
             [
              1,
              "#f0f921"
             ]
            ],
            "type": "surface"
           }
          ],
          "table": [
           {
            "cells": {
             "fill": {
              "color": "#EBF0F8"
             },
             "line": {
              "color": "white"
             }
            },
            "header": {
             "fill": {
              "color": "#C8D4E3"
             },
             "line": {
              "color": "white"
             }
            },
            "type": "table"
           }
          ]
         },
         "layout": {
          "annotationdefaults": {
           "arrowcolor": "#2a3f5f",
           "arrowhead": 0,
           "arrowwidth": 1
          },
          "autotypenumbers": "strict",
          "coloraxis": {
           "colorbar": {
            "outlinewidth": 0,
            "ticks": ""
           }
          },
          "colorscale": {
           "diverging": [
            [
             0,
             "#8e0152"
            ],
            [
             0.1,
             "#c51b7d"
            ],
            [
             0.2,
             "#de77ae"
            ],
            [
             0.3,
             "#f1b6da"
            ],
            [
             0.4,
             "#fde0ef"
            ],
            [
             0.5,
             "#f7f7f7"
            ],
            [
             0.6,
             "#e6f5d0"
            ],
            [
             0.7,
             "#b8e186"
            ],
            [
             0.8,
             "#7fbc41"
            ],
            [
             0.9,
             "#4d9221"
            ],
            [
             1,
             "#276419"
            ]
           ],
           "sequential": [
            [
             0,
             "#0d0887"
            ],
            [
             0.1111111111111111,
             "#46039f"
            ],
            [
             0.2222222222222222,
             "#7201a8"
            ],
            [
             0.3333333333333333,
             "#9c179e"
            ],
            [
             0.4444444444444444,
             "#bd3786"
            ],
            [
             0.5555555555555556,
             "#d8576b"
            ],
            [
             0.6666666666666666,
             "#ed7953"
            ],
            [
             0.7777777777777778,
             "#fb9f3a"
            ],
            [
             0.8888888888888888,
             "#fdca26"
            ],
            [
             1,
             "#f0f921"
            ]
           ],
           "sequentialminus": [
            [
             0,
             "#0d0887"
            ],
            [
             0.1111111111111111,
             "#46039f"
            ],
            [
             0.2222222222222222,
             "#7201a8"
            ],
            [
             0.3333333333333333,
             "#9c179e"
            ],
            [
             0.4444444444444444,
             "#bd3786"
            ],
            [
             0.5555555555555556,
             "#d8576b"
            ],
            [
             0.6666666666666666,
             "#ed7953"
            ],
            [
             0.7777777777777778,
             "#fb9f3a"
            ],
            [
             0.8888888888888888,
             "#fdca26"
            ],
            [
             1,
             "#f0f921"
            ]
           ]
          },
          "colorway": [
           "#636efa",
           "#EF553B",
           "#00cc96",
           "#ab63fa",
           "#FFA15A",
           "#19d3f3",
           "#FF6692",
           "#B6E880",
           "#FF97FF",
           "#FECB52"
          ],
          "font": {
           "color": "#2a3f5f"
          },
          "geo": {
           "bgcolor": "white",
           "lakecolor": "white",
           "landcolor": "#E5ECF6",
           "showlakes": true,
           "showland": true,
           "subunitcolor": "white"
          },
          "hoverlabel": {
           "align": "left"
          },
          "hovermode": "closest",
          "mapbox": {
           "style": "light"
          },
          "paper_bgcolor": "white",
          "plot_bgcolor": "#E5ECF6",
          "polar": {
           "angularaxis": {
            "gridcolor": "white",
            "linecolor": "white",
            "ticks": ""
           },
           "bgcolor": "#E5ECF6",
           "radialaxis": {
            "gridcolor": "white",
            "linecolor": "white",
            "ticks": ""
           }
          },
          "scene": {
           "xaxis": {
            "backgroundcolor": "#E5ECF6",
            "gridcolor": "white",
            "gridwidth": 2,
            "linecolor": "white",
            "showbackground": true,
            "ticks": "",
            "zerolinecolor": "white"
           },
           "yaxis": {
            "backgroundcolor": "#E5ECF6",
            "gridcolor": "white",
            "gridwidth": 2,
            "linecolor": "white",
            "showbackground": true,
            "ticks": "",
            "zerolinecolor": "white"
           },
           "zaxis": {
            "backgroundcolor": "#E5ECF6",
            "gridcolor": "white",
            "gridwidth": 2,
            "linecolor": "white",
            "showbackground": true,
            "ticks": "",
            "zerolinecolor": "white"
           }
          },
          "shapedefaults": {
           "line": {
            "color": "#2a3f5f"
           }
          },
          "ternary": {
           "aaxis": {
            "gridcolor": "white",
            "linecolor": "white",
            "ticks": ""
           },
           "baxis": {
            "gridcolor": "white",
            "linecolor": "white",
            "ticks": ""
           },
           "bgcolor": "#E5ECF6",
           "caxis": {
            "gridcolor": "white",
            "linecolor": "white",
            "ticks": ""
           }
          },
          "title": {
           "x": 0.05
          },
          "xaxis": {
           "automargin": true,
           "gridcolor": "white",
           "linecolor": "white",
           "ticks": "",
           "title": {
            "standoff": 15
           },
           "zerolinecolor": "white",
           "zerolinewidth": 2
          },
          "yaxis": {
           "automargin": true,
           "gridcolor": "white",
           "linecolor": "white",
           "ticks": "",
           "title": {
            "standoff": 15
           },
           "zerolinecolor": "white",
           "zerolinewidth": 2
          }
         }
        },
        "title": {
         "text": "Figure 2: All Regions - Market Price Reduction due to 'N>>N-NIL_94T_947' & 'N>>N-NIL_94T'<br><sup>[r] denotes constraint removed</sup>"
        },
        "xaxis": {
         "title": {
          "text": "Time"
         }
        },
        "yaxis": {
         "title": {
          "text": "Price ($/MWh)"
         }
        }
       }
      },
      "text/html": [
       "<div>                            <div id=\"688a0dce-9e66-47af-8c9b-a61f3bc1ff7b\" class=\"plotly-graph-div\" style=\"height:525px; width:100%;\"></div>            <script type=\"text/javascript\">                require([\"plotly\"], function(Plotly) {                    window.PLOTLYENV=window.PLOTLYENV || {};                                    if (document.getElementById(\"688a0dce-9e66-47af-8c9b-a61f3bc1ff7b\")) {                    Plotly.newPlot(                        \"688a0dce-9e66-47af-8c9b-a61f3bc1ff7b\",                        [{\"marker\":{\"size\":8,\"symbol\":\"circle\"},\"mode\":\"lines+markers\",\"name\":\"NSW \\u0394 Price\",\"x\":[\"2021/02/15 06:00:00\",\"2021/02/15 06:05:00\",\"2021/02/15 06:10:00\",\"2021/02/15 06:15:00\",\"2021/02/15 06:20:00\",\"2021/02/15 06:25:00\",\"2021/02/15 06:30:00\",\"2021/02/15 06:35:00\",\"2021/02/15 06:40:00\",\"2021/02/15 06:45:00\",\"2021/02/15 06:50:00\",\"2021/02/15 06:55:00\",\"2021/02/15 07:00:00\",\"2021/02/15 07:05:00\",\"2021/02/15 07:10:00\",\"2021/02/15 07:15:00\",\"2021/02/15 07:20:00\",\"2021/02/15 07:25:00\",\"2021/02/15 07:30:00\",\"2021/02/15 07:35:00\",\"2021/02/15 07:40:00\",\"2021/02/15 07:45:00\",\"2021/02/15 07:50:00\",\"2021/02/15 07:55:00\",\"2021/02/15 08:00:00\",\"2021/02/15 08:05:00\",\"2021/02/15 08:10:00\",\"2021/02/15 08:15:00\",\"2021/02/15 08:20:00\",\"2021/02/15 08:25:00\",\"2021/02/15 08:30:00\",\"2021/02/15 08:35:00\",\"2021/02/15 08:40:00\",\"2021/02/15 08:45:00\",\"2021/02/15 08:50:00\",\"2021/02/15 08:55:00\",\"2021/02/15 09:00:00\",\"2021/02/15 09:05:00\",\"2021/02/15 09:10:00\",\"2021/02/15 09:15:00\",\"2021/02/15 09:20:00\",\"2021/02/15 09:25:00\",\"2021/02/15 09:30:00\",\"2021/02/15 09:35:00\",\"2021/02/15 09:40:00\",\"2021/02/15 09:45:00\",\"2021/02/15 09:50:00\",\"2021/02/15 09:55:00\",\"2021/02/15 10:00:00\",\"2021/02/15 10:05:00\",\"2021/02/15 10:10:00\",\"2021/02/15 10:15:00\",\"2021/02/15 10:20:00\",\"2021/02/15 10:25:00\",\"2021/02/15 10:30:00\",\"2021/02/15 10:35:00\",\"2021/02/15 10:40:00\",\"2021/02/15 10:45:00\",\"2021/02/15 10:50:00\",\"2021/02/15 10:55:00\",\"2021/02/15 11:00:00\",\"2021/02/15 11:05:00\",\"2021/02/15 11:10:00\",\"2021/02/15 11:15:00\",\"2021/02/15 11:20:00\",\"2021/02/15 11:25:00\",\"2021/02/15 11:30:00\",\"2021/02/15 11:35:00\",\"2021/02/15 11:40:00\",\"2021/02/15 11:45:00\",\"2021/02/15 11:50:00\",\"2021/02/15 11:55:00\",\"2021/02/15 12:00:00\",\"2021/02/15 12:05:00\",\"2021/02/15 12:10:00\",\"2021/02/15 12:15:00\",\"2021/02/15 12:20:00\",\"2021/02/15 12:25:00\",\"2021/02/15 12:30:00\",\"2021/02/15 12:35:00\",\"2021/02/15 12:40:00\",\"2021/02/15 12:45:00\",\"2021/02/15 12:50:00\",\"2021/02/15 12:55:00\",\"2021/02/15 13:00:00\",\"2021/02/15 13:05:00\",\"2021/02/15 13:10:00\",\"2021/02/15 13:15:00\",\"2021/02/15 13:20:00\",\"2021/02/15 13:25:00\",\"2021/02/15 13:30:00\",\"2021/02/15 13:35:00\",\"2021/02/15 13:40:00\",\"2021/02/15 13:45:00\",\"2021/02/15 13:50:00\",\"2021/02/15 13:55:00\",\"2021/02/15 14:00:00\",\"2021/02/15 14:05:00\",\"2021/02/15 14:10:00\",\"2021/02/15 14:15:00\",\"2021/02/15 14:20:00\",\"2021/02/15 14:25:00\",\"2021/02/15 14:30:00\",\"2021/02/15 14:35:00\",\"2021/02/15 14:40:00\",\"2021/02/15 14:45:00\",\"2021/02/15 14:50:00\",\"2021/02/15 14:55:00\",\"2021/02/15 15:00:00\",\"2021/02/15 15:05:00\",\"2021/02/15 15:10:00\",\"2021/02/15 15:15:00\",\"2021/02/15 15:20:00\",\"2021/02/15 15:25:00\",\"2021/02/15 15:30:00\",\"2021/02/15 15:35:00\",\"2021/02/15 15:40:00\",\"2021/02/15 15:45:00\",\"2021/02/15 15:50:00\",\"2021/02/15 15:55:00\",\"2021/02/15 16:00:00\",\"2021/02/15 16:05:00\",\"2021/02/15 16:10:00\",\"2021/02/15 16:15:00\",\"2021/02/15 16:20:00\",\"2021/02/15 16:25:00\",\"2021/02/15 16:30:00\",\"2021/02/15 16:35:00\",\"2021/02/15 16:40:00\",\"2021/02/15 16:45:00\",\"2021/02/15 16:50:00\",\"2021/02/15 16:55:00\",\"2021/02/15 17:00:00\",\"2021/02/15 17:05:00\",\"2021/02/15 17:10:00\",\"2021/02/15 17:15:00\",\"2021/02/15 17:20:00\",\"2021/02/15 17:25:00\",\"2021/02/15 17:30:00\",\"2021/02/15 17:35:00\",\"2021/02/15 17:40:00\",\"2021/02/15 17:45:00\",\"2021/02/15 17:50:00\",\"2021/02/15 17:55:00\",\"2021/02/15 18:00:00\",\"2021/02/15 18:05:00\"],\"y\":[0.0,0.0,0.0,0.0,0.0,0.0,0.0,0.0,0.0,0.0,0.0,0.0,0.0,0.0,0.0,0.0,-1.937050201883359,-7.105427357601002e-15,0.0,0.0,0.0,0.0,0.0,-1.257941887943634,-0.06000000000000938,-0.05999999999999517,0.0,0.0,-0.05999999999999517,-7.105427357601002e-15,-3.1728060544970127,-0.03542222913922899,-0.016341255244512354,-2.96201600851845,-0.27474720315787593,0.0,0.0,-0.43417328545257305,-0.21319079661928697,-0.213443645998332,-0.4084699292603702,-0.29840779475814116,-3.66,-3.6000000000000014,-1.0927924891954959,-2.860305341024059,0.0,0.0,0.0,-0.060000000000002274,0.0,0.0,0.0,-0.22403161088388757,0.0,-0.42716670282884195,0.0,-1.05079697006542,-0.7100000000000009,0.0,-0.169115060952592,-0.060000000000002274,-0.9216597314661854,-0.06000000000000938,-3.6000000000000014,-0.060000000000002274,-0.060000000000002274,-3.599999999999998,-0.999918542355509,-1.6276853157529274,-0.06000000000000938,-1.4050000000000011,-0.060000000000002274,-3.6000000000000014,-0.060000000000002274,-2.932436456096884,-1.394999999999996,-1.3923142509216362,-0.060000000000002274,-0.8900103364554823,-1.5718520556189617,-1.2577061120761925,-1.139099151795044,-0.4424428755954324,-1.2689013268293579,0.0,-0.060000000000002274,-0.4410071739118351,-0.6136831996682126,0.0,-2.4299999999999926,-0.060000000000002274,-0.7598959940397663,-2.2146766462519203,-3.490000000000002,-2.4299999999999997,-0.10999999999999943,-0.782705774311161,-3.4900000000000055,-0.10999999999999943,-0.10999999999999943,-1.790554041188571,-1.5446792971415562,-3.4899999999999984,-0.10999999999999233,-3.4900000000000055,-0.9461340045813458,-2.4299999999999926,-1.7126847521971271,-1.124257024375229,-0.22352756745645053,-1.983226926662308,-0.10999999999999943,-0.02581258481863813,-0.10999999999999943,-0.08003870126193391,-2.9100000000000037,-0.8357717619968312,0.0,0.0,0.0,0.0,0.0,0.0,0.0,0.0,0.0,0.0,0.0,0.0,0.0,0.0,0.0,0.0,0.0,0.0,0.0,0.0,0.0,0.0,0.0,0.0,0.0,0.0,0.0,0.0],\"type\":\"scatter\"},{\"marker\":{\"size\":8,\"symbol\":\"circle\"},\"mode\":\"lines+markers\",\"name\":\"QLD \\u0394 Price\",\"x\":[\"2021/02/15 06:00:00\",\"2021/02/15 06:05:00\",\"2021/02/15 06:10:00\",\"2021/02/15 06:15:00\",\"2021/02/15 06:20:00\",\"2021/02/15 06:25:00\",\"2021/02/15 06:30:00\",\"2021/02/15 06:35:00\",\"2021/02/15 06:40:00\",\"2021/02/15 06:45:00\",\"2021/02/15 06:50:00\",\"2021/02/15 06:55:00\",\"2021/02/15 07:00:00\",\"2021/02/15 07:05:00\",\"2021/02/15 07:10:00\",\"2021/02/15 07:15:00\",\"2021/02/15 07:20:00\",\"2021/02/15 07:25:00\",\"2021/02/15 07:30:00\",\"2021/02/15 07:35:00\",\"2021/02/15 07:40:00\",\"2021/02/15 07:45:00\",\"2021/02/15 07:50:00\",\"2021/02/15 07:55:00\",\"2021/02/15 08:00:00\",\"2021/02/15 08:05:00\",\"2021/02/15 08:10:00\",\"2021/02/15 08:15:00\",\"2021/02/15 08:20:00\",\"2021/02/15 08:25:00\",\"2021/02/15 08:30:00\",\"2021/02/15 08:35:00\",\"2021/02/15 08:40:00\",\"2021/02/15 08:45:00\",\"2021/02/15 08:50:00\",\"2021/02/15 08:55:00\",\"2021/02/15 09:00:00\",\"2021/02/15 09:05:00\",\"2021/02/15 09:10:00\",\"2021/02/15 09:15:00\",\"2021/02/15 09:20:00\",\"2021/02/15 09:25:00\",\"2021/02/15 09:30:00\",\"2021/02/15 09:35:00\",\"2021/02/15 09:40:00\",\"2021/02/15 09:45:00\",\"2021/02/15 09:50:00\",\"2021/02/15 09:55:00\",\"2021/02/15 10:00:00\",\"2021/02/15 10:05:00\",\"2021/02/15 10:10:00\",\"2021/02/15 10:15:00\",\"2021/02/15 10:20:00\",\"2021/02/15 10:25:00\",\"2021/02/15 10:30:00\",\"2021/02/15 10:35:00\",\"2021/02/15 10:40:00\",\"2021/02/15 10:45:00\",\"2021/02/15 10:50:00\",\"2021/02/15 10:55:00\",\"2021/02/15 11:00:00\",\"2021/02/15 11:05:00\",\"2021/02/15 11:10:00\",\"2021/02/15 11:15:00\",\"2021/02/15 11:20:00\",\"2021/02/15 11:25:00\",\"2021/02/15 11:30:00\",\"2021/02/15 11:35:00\",\"2021/02/15 11:40:00\",\"2021/02/15 11:45:00\",\"2021/02/15 11:50:00\",\"2021/02/15 11:55:00\",\"2021/02/15 12:00:00\",\"2021/02/15 12:05:00\",\"2021/02/15 12:10:00\",\"2021/02/15 12:15:00\",\"2021/02/15 12:20:00\",\"2021/02/15 12:25:00\",\"2021/02/15 12:30:00\",\"2021/02/15 12:35:00\",\"2021/02/15 12:40:00\",\"2021/02/15 12:45:00\",\"2021/02/15 12:50:00\",\"2021/02/15 12:55:00\",\"2021/02/15 13:00:00\",\"2021/02/15 13:05:00\",\"2021/02/15 13:10:00\",\"2021/02/15 13:15:00\",\"2021/02/15 13:20:00\",\"2021/02/15 13:25:00\",\"2021/02/15 13:30:00\",\"2021/02/15 13:35:00\",\"2021/02/15 13:40:00\",\"2021/02/15 13:45:00\",\"2021/02/15 13:50:00\",\"2021/02/15 13:55:00\",\"2021/02/15 14:00:00\",\"2021/02/15 14:05:00\",\"2021/02/15 14:10:00\",\"2021/02/15 14:15:00\",\"2021/02/15 14:20:00\",\"2021/02/15 14:25:00\",\"2021/02/15 14:30:00\",\"2021/02/15 14:35:00\",\"2021/02/15 14:40:00\",\"2021/02/15 14:45:00\",\"2021/02/15 14:50:00\",\"2021/02/15 14:55:00\",\"2021/02/15 15:00:00\",\"2021/02/15 15:05:00\",\"2021/02/15 15:10:00\",\"2021/02/15 15:15:00\",\"2021/02/15 15:20:00\",\"2021/02/15 15:25:00\",\"2021/02/15 15:30:00\",\"2021/02/15 15:35:00\",\"2021/02/15 15:40:00\",\"2021/02/15 15:45:00\",\"2021/02/15 15:50:00\",\"2021/02/15 15:55:00\",\"2021/02/15 16:00:00\",\"2021/02/15 16:05:00\",\"2021/02/15 16:10:00\",\"2021/02/15 16:15:00\",\"2021/02/15 16:20:00\",\"2021/02/15 16:25:00\",\"2021/02/15 16:30:00\",\"2021/02/15 16:35:00\",\"2021/02/15 16:40:00\",\"2021/02/15 16:45:00\",\"2021/02/15 16:50:00\",\"2021/02/15 16:55:00\",\"2021/02/15 17:00:00\",\"2021/02/15 17:05:00\",\"2021/02/15 17:10:00\",\"2021/02/15 17:15:00\",\"2021/02/15 17:20:00\",\"2021/02/15 17:25:00\",\"2021/02/15 17:30:00\",\"2021/02/15 17:35:00\",\"2021/02/15 17:40:00\",\"2021/02/15 17:45:00\",\"2021/02/15 17:50:00\",\"2021/02/15 17:55:00\",\"2021/02/15 18:00:00\",\"2021/02/15 18:05:00\"],\"y\":[0.0,0.0,0.0,0.0,0.0,0.0,0.0,0.0,0.0,0.0,0.0,0.0,0.0,0.0,0.0,0.0,-1.9500748620668489,0.0,0.0,0.0,0.0,0.0,0.0,-1.19146156397154,-0.018115695172099322,-0.05641675817282632,0.0,-3.552713678800501e-15,-0.055527231468389004,-7.105427357601002e-15,-2.4389641894711183,-0.03156137387628277,-0.014560216733560338,-2.4439204614769743,-0.04999999999999716,0.0,0.0,-0.17352132147856025,-0.20291713114797716,-0.2031954082199512,-0.36403954926464266,-0.2818591863712001,-3.376625757318621,-3.3742000748893055,-1.0316516453587852,-2.4918377281028015,0.0,0.0,0.0,-0.05578296527805193,0.0,0.0,0.0,0.0,0.0,-0.40000948154336413,0.0,-0.9636070031138608,-0.6695108362564426,-3.552713678800501e-15,-0.15960560503783938,-0.057074084294789884,-0.7326359581063144,-0.05662696943776169,-3.3960867944728683,-0.057058039669250604,-0.057249277592497094,-3.3463423935858643,-0.789999999999992,-1.548199185020021,0.0,-1.3474020598270648,-0.058377648196387355,-3.220964059830912,-0.057249277592497094,-2.690000000000005,-1.0888375729571855,-1.3359485489485614,-0.057975236340315206,-0.8598943797930865,-1.542660722542756,-1.2430497297437455,-1.1173540071457886,-0.43407907093642706,-1.273446889361601,0.0,-0.058436893020708425,-0.4393017294561261,-0.5880281433221803,0.0,-2.458110293869524,-0.06026481616621737,-0.7807139841063346,-1.9905369708796954,-3.261927363041014,-2.459388248063341,-0.11047698722246224,-0.8040724815151279,-3.454171123889065,-0.1113612072120489,-0.10973096147002792,-1.2702211706904123,-1.576712593460094,-3.4837914825648255,-0.10817051557196322,-3.4070497996683713,-0.5904589613126134,-2.4276854094960854,-1.4667433957633733,-1.112771796867225,0.0,-1.7279095662421895,-0.1084811626828639,-3.552713678800501e-15,-0.1038619976672841,3.552713678800501e-15,-2.7696569459112723,-0.8133737269615864,0.0,0.0,0.0,0.0,0.0,0.0,0.0,0.0,0.0,0.0,0.0,0.0,0.0,0.0,0.0,0.0,0.0,0.0,0.0,0.0,0.0,0.0,0.0,0.0,0.0,0.0,0.0,0.0],\"type\":\"scatter\"},{\"marker\":{\"size\":8,\"symbol\":\"circle\"},\"mode\":\"lines+markers\",\"name\":\"VIC \\u0394 Price\",\"x\":[\"2021/02/15 06:00:00\",\"2021/02/15 06:05:00\",\"2021/02/15 06:10:00\",\"2021/02/15 06:15:00\",\"2021/02/15 06:20:00\",\"2021/02/15 06:25:00\",\"2021/02/15 06:30:00\",\"2021/02/15 06:35:00\",\"2021/02/15 06:40:00\",\"2021/02/15 06:45:00\",\"2021/02/15 06:50:00\",\"2021/02/15 06:55:00\",\"2021/02/15 07:00:00\",\"2021/02/15 07:05:00\",\"2021/02/15 07:10:00\",\"2021/02/15 07:15:00\",\"2021/02/15 07:20:00\",\"2021/02/15 07:25:00\",\"2021/02/15 07:30:00\",\"2021/02/15 07:35:00\",\"2021/02/15 07:40:00\",\"2021/02/15 07:45:00\",\"2021/02/15 07:50:00\",\"2021/02/15 07:55:00\",\"2021/02/15 08:00:00\",\"2021/02/15 08:05:00\",\"2021/02/15 08:10:00\",\"2021/02/15 08:15:00\",\"2021/02/15 08:20:00\",\"2021/02/15 08:25:00\",\"2021/02/15 08:30:00\",\"2021/02/15 08:35:00\",\"2021/02/15 08:40:00\",\"2021/02/15 08:45:00\",\"2021/02/15 08:50:00\",\"2021/02/15 08:55:00\",\"2021/02/15 09:00:00\",\"2021/02/15 09:05:00\",\"2021/02/15 09:10:00\",\"2021/02/15 09:15:00\",\"2021/02/15 09:20:00\",\"2021/02/15 09:25:00\",\"2021/02/15 09:30:00\",\"2021/02/15 09:35:00\",\"2021/02/15 09:40:00\",\"2021/02/15 09:45:00\",\"2021/02/15 09:50:00\",\"2021/02/15 09:55:00\",\"2021/02/15 10:00:00\",\"2021/02/15 10:05:00\",\"2021/02/15 10:10:00\",\"2021/02/15 10:15:00\",\"2021/02/15 10:20:00\",\"2021/02/15 10:25:00\",\"2021/02/15 10:30:00\",\"2021/02/15 10:35:00\",\"2021/02/15 10:40:00\",\"2021/02/15 10:45:00\",\"2021/02/15 10:50:00\",\"2021/02/15 10:55:00\",\"2021/02/15 11:00:00\",\"2021/02/15 11:05:00\",\"2021/02/15 11:10:00\",\"2021/02/15 11:15:00\",\"2021/02/15 11:20:00\",\"2021/02/15 11:25:00\",\"2021/02/15 11:30:00\",\"2021/02/15 11:35:00\",\"2021/02/15 11:40:00\",\"2021/02/15 11:45:00\",\"2021/02/15 11:50:00\",\"2021/02/15 11:55:00\",\"2021/02/15 12:00:00\",\"2021/02/15 12:05:00\",\"2021/02/15 12:10:00\",\"2021/02/15 12:15:00\",\"2021/02/15 12:20:00\",\"2021/02/15 12:25:00\",\"2021/02/15 12:30:00\",\"2021/02/15 12:35:00\",\"2021/02/15 12:40:00\",\"2021/02/15 12:45:00\",\"2021/02/15 12:50:00\",\"2021/02/15 12:55:00\",\"2021/02/15 13:00:00\",\"2021/02/15 13:05:00\",\"2021/02/15 13:10:00\",\"2021/02/15 13:15:00\",\"2021/02/15 13:20:00\",\"2021/02/15 13:25:00\",\"2021/02/15 13:30:00\",\"2021/02/15 13:35:00\",\"2021/02/15 13:40:00\",\"2021/02/15 13:45:00\",\"2021/02/15 13:50:00\",\"2021/02/15 13:55:00\",\"2021/02/15 14:00:00\",\"2021/02/15 14:05:00\",\"2021/02/15 14:10:00\",\"2021/02/15 14:15:00\",\"2021/02/15 14:20:00\",\"2021/02/15 14:25:00\",\"2021/02/15 14:30:00\",\"2021/02/15 14:35:00\",\"2021/02/15 14:40:00\",\"2021/02/15 14:45:00\",\"2021/02/15 14:50:00\",\"2021/02/15 14:55:00\",\"2021/02/15 15:00:00\",\"2021/02/15 15:05:00\",\"2021/02/15 15:10:00\",\"2021/02/15 15:15:00\",\"2021/02/15 15:20:00\",\"2021/02/15 15:25:00\",\"2021/02/15 15:30:00\",\"2021/02/15 15:35:00\",\"2021/02/15 15:40:00\",\"2021/02/15 15:45:00\",\"2021/02/15 15:50:00\",\"2021/02/15 15:55:00\",\"2021/02/15 16:00:00\",\"2021/02/15 16:05:00\",\"2021/02/15 16:10:00\",\"2021/02/15 16:15:00\",\"2021/02/15 16:20:00\",\"2021/02/15 16:25:00\",\"2021/02/15 16:30:00\",\"2021/02/15 16:35:00\",\"2021/02/15 16:40:00\",\"2021/02/15 16:45:00\",\"2021/02/15 16:50:00\",\"2021/02/15 16:55:00\",\"2021/02/15 17:00:00\",\"2021/02/15 17:05:00\",\"2021/02/15 17:10:00\",\"2021/02/15 17:15:00\",\"2021/02/15 17:20:00\",\"2021/02/15 17:25:00\",\"2021/02/15 17:30:00\",\"2021/02/15 17:35:00\",\"2021/02/15 17:40:00\",\"2021/02/15 17:45:00\",\"2021/02/15 17:50:00\",\"2021/02/15 17:55:00\",\"2021/02/15 18:00:00\",\"2021/02/15 18:05:00\"],\"y\":[0.0,0.0,0.0,0.0,0.0,0.0,0.0,0.0,0.0,0.0,0.0,0.0,0.0,0.0,0.0,0.0,-1.781194739764711,-3.552713678800501e-15,0.0,0.0,0.0,0.0,0.0,-1.1589452085520708,-0.055206047799930325,-0.05707826799427451,0.0,3.552713678800501e-15,-0.05705959591726639,0.0,-3.040608214068442,-8.881784197001252e-16,-8.881784197001252e-16,-2.7152567990954766,-0.26159289566917554,0.0,0.0,0.0,0.0,0.0,-0.2212540744629461,-0.08428395417626167,-3.412058340226588,-3.3189981478275574,-1.0047806162024089,-2.602931900357752,0.0,0.0,-8.881784197001252e-16,-0.05442740072505092,0.0,0.0,0.0,-0.19852013366597188,8.604228440844963e-16,-0.3769566980745629,0.0,-0.9077464653025431,-0.6199617366775905,0.0,0.0,-0.052738642214134046,-0.8103407061053756,-0.05258667480907375,-3.1666277684044966,-0.052060527229562226,-0.05216172223911686,-3.192544480870682,-0.8876901123385537,-1.4458048151143021,-0.05270352327494576,-1.2307626199205672,-0.05324976413167759,-3.155541910495001,-0.05323821768486914,-2.600003183810833,-1.2499714107321536,-1.0598707872979918,0.0,-0.816415532599243,-1.0214263886515695,-0.7195616475159454,0.0,0.0,-0.9393472858800527,9.592326932761353e-14,0.0,-8.881784197001252e-16,0.0,0.0,0.0,-0.05571975292960474,0.0,-2.077644165232144,0.0,0.0,0.0,0.0,-1.7763568394002505e-15,0.0,0.0,-1.6674450144705801,-1.4400804984758615,0.0,0.0,0.0,-0.8777486579793301,0.0,-3.552713678800501e-15,-7.105427357601002e-15,0.0,0.0,0.0,3.552713678800501e-15,-0.1027947562414866,-0.07486752404150465,-2.4334463468311895,-0.784768831395688,0.0,0.0,0.0,0.0,0.0,0.0,0.0,0.0,0.0,0.0,0.0,0.0,0.0,0.0,0.0,0.0,0.0,0.0,0.0,0.0,0.0,0.0,0.0,0.0,0.0,0.0,0.0,0.0],\"type\":\"scatter\"},{\"marker\":{\"size\":8,\"symbol\":\"circle\"},\"mode\":\"lines+markers\",\"name\":\"SA \\u0394 Price\",\"x\":[\"2021/02/15 06:00:00\",\"2021/02/15 06:05:00\",\"2021/02/15 06:10:00\",\"2021/02/15 06:15:00\",\"2021/02/15 06:20:00\",\"2021/02/15 06:25:00\",\"2021/02/15 06:30:00\",\"2021/02/15 06:35:00\",\"2021/02/15 06:40:00\",\"2021/02/15 06:45:00\",\"2021/02/15 06:50:00\",\"2021/02/15 06:55:00\",\"2021/02/15 07:00:00\",\"2021/02/15 07:05:00\",\"2021/02/15 07:10:00\",\"2021/02/15 07:15:00\",\"2021/02/15 07:20:00\",\"2021/02/15 07:25:00\",\"2021/02/15 07:30:00\",\"2021/02/15 07:35:00\",\"2021/02/15 07:40:00\",\"2021/02/15 07:45:00\",\"2021/02/15 07:50:00\",\"2021/02/15 07:55:00\",\"2021/02/15 08:00:00\",\"2021/02/15 08:05:00\",\"2021/02/15 08:10:00\",\"2021/02/15 08:15:00\",\"2021/02/15 08:20:00\",\"2021/02/15 08:25:00\",\"2021/02/15 08:30:00\",\"2021/02/15 08:35:00\",\"2021/02/15 08:40:00\",\"2021/02/15 08:45:00\",\"2021/02/15 08:50:00\",\"2021/02/15 08:55:00\",\"2021/02/15 09:00:00\",\"2021/02/15 09:05:00\",\"2021/02/15 09:10:00\",\"2021/02/15 09:15:00\",\"2021/02/15 09:20:00\",\"2021/02/15 09:25:00\",\"2021/02/15 09:30:00\",\"2021/02/15 09:35:00\",\"2021/02/15 09:40:00\",\"2021/02/15 09:45:00\",\"2021/02/15 09:50:00\",\"2021/02/15 09:55:00\",\"2021/02/15 10:00:00\",\"2021/02/15 10:05:00\",\"2021/02/15 10:10:00\",\"2021/02/15 10:15:00\",\"2021/02/15 10:20:00\",\"2021/02/15 10:25:00\",\"2021/02/15 10:30:00\",\"2021/02/15 10:35:00\",\"2021/02/15 10:40:00\",\"2021/02/15 10:45:00\",\"2021/02/15 10:50:00\",\"2021/02/15 10:55:00\",\"2021/02/15 11:00:00\",\"2021/02/15 11:05:00\",\"2021/02/15 11:10:00\",\"2021/02/15 11:15:00\",\"2021/02/15 11:20:00\",\"2021/02/15 11:25:00\",\"2021/02/15 11:30:00\",\"2021/02/15 11:35:00\",\"2021/02/15 11:40:00\",\"2021/02/15 11:45:00\",\"2021/02/15 11:50:00\",\"2021/02/15 11:55:00\",\"2021/02/15 12:00:00\",\"2021/02/15 12:05:00\",\"2021/02/15 12:10:00\",\"2021/02/15 12:15:00\",\"2021/02/15 12:20:00\",\"2021/02/15 12:25:00\",\"2021/02/15 12:30:00\",\"2021/02/15 12:35:00\",\"2021/02/15 12:40:00\",\"2021/02/15 12:45:00\",\"2021/02/15 12:50:00\",\"2021/02/15 12:55:00\",\"2021/02/15 13:00:00\",\"2021/02/15 13:05:00\",\"2021/02/15 13:10:00\",\"2021/02/15 13:15:00\",\"2021/02/15 13:20:00\",\"2021/02/15 13:25:00\",\"2021/02/15 13:30:00\",\"2021/02/15 13:35:00\",\"2021/02/15 13:40:00\",\"2021/02/15 13:45:00\",\"2021/02/15 13:50:00\",\"2021/02/15 13:55:00\",\"2021/02/15 14:00:00\",\"2021/02/15 14:05:00\",\"2021/02/15 14:10:00\",\"2021/02/15 14:15:00\",\"2021/02/15 14:20:00\",\"2021/02/15 14:25:00\",\"2021/02/15 14:30:00\",\"2021/02/15 14:35:00\",\"2021/02/15 14:40:00\",\"2021/02/15 14:45:00\",\"2021/02/15 14:50:00\",\"2021/02/15 14:55:00\",\"2021/02/15 15:00:00\",\"2021/02/15 15:05:00\",\"2021/02/15 15:10:00\",\"2021/02/15 15:15:00\",\"2021/02/15 15:20:00\",\"2021/02/15 15:25:00\",\"2021/02/15 15:30:00\",\"2021/02/15 15:35:00\",\"2021/02/15 15:40:00\",\"2021/02/15 15:45:00\",\"2021/02/15 15:50:00\",\"2021/02/15 15:55:00\",\"2021/02/15 16:00:00\",\"2021/02/15 16:05:00\",\"2021/02/15 16:10:00\",\"2021/02/15 16:15:00\",\"2021/02/15 16:20:00\",\"2021/02/15 16:25:00\",\"2021/02/15 16:30:00\",\"2021/02/15 16:35:00\",\"2021/02/15 16:40:00\",\"2021/02/15 16:45:00\",\"2021/02/15 16:50:00\",\"2021/02/15 16:55:00\",\"2021/02/15 17:00:00\",\"2021/02/15 17:05:00\",\"2021/02/15 17:10:00\",\"2021/02/15 17:15:00\",\"2021/02/15 17:20:00\",\"2021/02/15 17:25:00\",\"2021/02/15 17:30:00\",\"2021/02/15 17:35:00\",\"2021/02/15 17:40:00\",\"2021/02/15 17:45:00\",\"2021/02/15 17:50:00\",\"2021/02/15 17:55:00\",\"2021/02/15 18:00:00\",\"2021/02/15 18:05:00\"],\"y\":[0.0,0.0,0.0,0.0,0.0,0.0,0.0,0.0,0.0,0.0,0.0,0.0,0.0,0.0,0.0,0.0,-1.8370557981602254,-7.105427357601002e-15,0.0,0.0,0.0,0.0,0.0,-1.102872431635996,-0.05165763755317343,-0.05433055735502279,0.0,3.1086244689504383e-15,-0.05317227626935672,0.0,-2.769122237901776,1.3322676295501878e-14,-2.3092638912203256e-14,-2.432528053688302,-0.23445988179255162,0.0,0.0,1.7763568394002505e-15,2.6645352591003757e-15,1.7763568394002505e-15,-0.19418109018533425,-0.07401647204110429,-2.996119607369415,-2.965277267690786,-0.9086294375143553,-2.2998602351039765,-4.440892098500626e-16,-3.9968028886505635e-15,0.0,-0.048955852356294294,-4.440892098500626e-16,0.0,0.0,-0.17770429305093227,7.91033905045424e-16,-0.34157340673118375,0.0,-0.8134645701725665,-0.5619170611209476,0.0,8.881784197001252e-16,-0.0489075702411399,-0.7473478586284865,-0.04906655156656159,-2.9197026462155136,-0.04830894818199827,-0.047835188772780146,-2.995309728320879,-0.828068124031899,-1.3559693963706714,-0.04860538744687393,-1.1551662971660344,-0.04939356674982376,-2.928368295633417,-0.04994802216725169,-2.4401309443791064,-1.1992201814391952,-1.0053335911384433,0.0,-0.7914830491781579,-0.9790774977602146,-0.6941607685829778,8.881784197001252e-16,1.7763568394002505e-15,-0.9058567437106042,8.881784197001252e-14,0.0,0.0,-8.881784197001252e-16,0.0,0.0,-0.05492160091024001,0.0,-2.103706166370074,0.0,0.0,0.0,0.0,0.0,0.0,0.0,-1.652601120645187,-1.4190076956243765,0.0,0.0,0.0,-0.8741191208817849,0.0,0.0,0.0,0.0,0.0,0.0,-7.105427357601002e-15,-0.1044496979975662,-0.07563776830068747,-2.2511343255203506,-0.7881506878679687,-7.105427357601002e-15,0.0,0.0,0.0,0.0,0.0,0.0,0.0,0.0,0.0,0.0,0.0,0.0,0.0,0.0,0.0,2.1316282072803006e-14,-7.105427357601002e-15,0.0,0.0,0.0,0.0,0.0,0.0,0.0,0.0,0.0,0.0],\"type\":\"scatter\"},{\"marker\":{\"size\":8,\"symbol\":\"circle\"},\"mode\":\"lines+markers\",\"name\":\"TAS \\u0394 Price\",\"x\":[\"2021/02/15 06:00:00\",\"2021/02/15 06:05:00\",\"2021/02/15 06:10:00\",\"2021/02/15 06:15:00\",\"2021/02/15 06:20:00\",\"2021/02/15 06:25:00\",\"2021/02/15 06:30:00\",\"2021/02/15 06:35:00\",\"2021/02/15 06:40:00\",\"2021/02/15 06:45:00\",\"2021/02/15 06:50:00\",\"2021/02/15 06:55:00\",\"2021/02/15 07:00:00\",\"2021/02/15 07:05:00\",\"2021/02/15 07:10:00\",\"2021/02/15 07:15:00\",\"2021/02/15 07:20:00\",\"2021/02/15 07:25:00\",\"2021/02/15 07:30:00\",\"2021/02/15 07:35:00\",\"2021/02/15 07:40:00\",\"2021/02/15 07:45:00\",\"2021/02/15 07:50:00\",\"2021/02/15 07:55:00\",\"2021/02/15 08:00:00\",\"2021/02/15 08:05:00\",\"2021/02/15 08:10:00\",\"2021/02/15 08:15:00\",\"2021/02/15 08:20:00\",\"2021/02/15 08:25:00\",\"2021/02/15 08:30:00\",\"2021/02/15 08:35:00\",\"2021/02/15 08:40:00\",\"2021/02/15 08:45:00\",\"2021/02/15 08:50:00\",\"2021/02/15 08:55:00\",\"2021/02/15 09:00:00\",\"2021/02/15 09:05:00\",\"2021/02/15 09:10:00\",\"2021/02/15 09:15:00\",\"2021/02/15 09:20:00\",\"2021/02/15 09:25:00\",\"2021/02/15 09:30:00\",\"2021/02/15 09:35:00\",\"2021/02/15 09:40:00\",\"2021/02/15 09:45:00\",\"2021/02/15 09:50:00\",\"2021/02/15 09:55:00\",\"2021/02/15 10:00:00\",\"2021/02/15 10:05:00\",\"2021/02/15 10:10:00\",\"2021/02/15 10:15:00\",\"2021/02/15 10:20:00\",\"2021/02/15 10:25:00\",\"2021/02/15 10:30:00\",\"2021/02/15 10:35:00\",\"2021/02/15 10:40:00\",\"2021/02/15 10:45:00\",\"2021/02/15 10:50:00\",\"2021/02/15 10:55:00\",\"2021/02/15 11:00:00\",\"2021/02/15 11:05:00\",\"2021/02/15 11:10:00\",\"2021/02/15 11:15:00\",\"2021/02/15 11:20:00\",\"2021/02/15 11:25:00\",\"2021/02/15 11:30:00\",\"2021/02/15 11:35:00\",\"2021/02/15 11:40:00\",\"2021/02/15 11:45:00\",\"2021/02/15 11:50:00\",\"2021/02/15 11:55:00\",\"2021/02/15 12:00:00\",\"2021/02/15 12:05:00\",\"2021/02/15 12:10:00\",\"2021/02/15 12:15:00\",\"2021/02/15 12:20:00\",\"2021/02/15 12:25:00\",\"2021/02/15 12:30:00\",\"2021/02/15 12:35:00\",\"2021/02/15 12:40:00\",\"2021/02/15 12:45:00\",\"2021/02/15 12:50:00\",\"2021/02/15 12:55:00\",\"2021/02/15 13:00:00\",\"2021/02/15 13:05:00\",\"2021/02/15 13:10:00\",\"2021/02/15 13:15:00\",\"2021/02/15 13:20:00\",\"2021/02/15 13:25:00\",\"2021/02/15 13:30:00\",\"2021/02/15 13:35:00\",\"2021/02/15 13:40:00\",\"2021/02/15 13:45:00\",\"2021/02/15 13:50:00\",\"2021/02/15 13:55:00\",\"2021/02/15 14:00:00\",\"2021/02/15 14:05:00\",\"2021/02/15 14:10:00\",\"2021/02/15 14:15:00\",\"2021/02/15 14:20:00\",\"2021/02/15 14:25:00\",\"2021/02/15 14:30:00\",\"2021/02/15 14:35:00\",\"2021/02/15 14:40:00\",\"2021/02/15 14:45:00\",\"2021/02/15 14:50:00\",\"2021/02/15 14:55:00\",\"2021/02/15 15:00:00\",\"2021/02/15 15:05:00\",\"2021/02/15 15:10:00\",\"2021/02/15 15:15:00\",\"2021/02/15 15:20:00\",\"2021/02/15 15:25:00\",\"2021/02/15 15:30:00\",\"2021/02/15 15:35:00\",\"2021/02/15 15:40:00\",\"2021/02/15 15:45:00\",\"2021/02/15 15:50:00\",\"2021/02/15 15:55:00\",\"2021/02/15 16:00:00\",\"2021/02/15 16:05:00\",\"2021/02/15 16:10:00\",\"2021/02/15 16:15:00\",\"2021/02/15 16:20:00\",\"2021/02/15 16:25:00\",\"2021/02/15 16:30:00\",\"2021/02/15 16:35:00\",\"2021/02/15 16:40:00\",\"2021/02/15 16:45:00\",\"2021/02/15 16:50:00\",\"2021/02/15 16:55:00\",\"2021/02/15 17:00:00\",\"2021/02/15 17:05:00\",\"2021/02/15 17:10:00\",\"2021/02/15 17:15:00\",\"2021/02/15 17:20:00\",\"2021/02/15 17:25:00\",\"2021/02/15 17:30:00\",\"2021/02/15 17:35:00\",\"2021/02/15 17:40:00\",\"2021/02/15 17:45:00\",\"2021/02/15 17:50:00\",\"2021/02/15 17:55:00\",\"2021/02/15 18:00:00\",\"2021/02/15 18:05:00\"],\"y\":[0.0,0.0,0.0,0.0,0.0,0.0,0.0,0.0,0.0,0.0,0.0,0.0,0.0,0.0,0.0,0.0,0.0,-4.263256414560601e-14,0.0,0.0,0.0,0.0,0.0,-0.79430770931436,-0.012077130114739987,-0.03761117211521281,0.0,0.0,0.0,0.0,0.0,-7.105427357601002e-15,-7.105427357601002e-15,-7.105427357601002e-15,7.105427357601002e-15,0.0,0.0,0.0,0.0,-7.105427357601002e-15,-2.1316282072803006e-14,1.4210854715202004e-14,0.0,0.0,0.0,0.0,0.0,0.0,0.0,0.0,0.0,0.0,0.0,0.0,0.0,0.0,0.0,0.0,0.0,0.0,0.0,0.0,0.0,0.0,0.0,0.0,0.0,0.0,0.0,0.0,0.0,0.0,0.0,0.0,0.0,0.0,0.0,0.0,0.0,0.0,0.0,0.0,0.0,0.0,0.0,0.0,0.0,0.0,0.0,0.0,0.0,0.0,0.0,0.0,0.0,0.0,0.0,0.0,7.105427357601002e-15,0.0,0.0,0.0,-1.058883340010567,0.0,0.0,0.0,0.0,0.0,7.105427357601002e-15,7.105427357601002e-15,0.0,0.0,0.0,0.0,0.0,0.0,-0.07206784703043212,-0.7243340638122575,-7.105427357601002e-15,0.0,0.0,0.0,0.0,0.0,0.0,0.0,0.0,0.0,0.0,0.0,0.0,0.0,0.0,0.0,0.0,0.0,0.0,0.0,0.0,0.0,0.0,0.0,0.0,0.0,0.0,0.0],\"type\":\"scatter\"}],                        {\"template\":{\"data\":{\"bar\":[{\"error_x\":{\"color\":\"#2a3f5f\"},\"error_y\":{\"color\":\"#2a3f5f\"},\"marker\":{\"line\":{\"color\":\"#E5ECF6\",\"width\":0.5},\"pattern\":{\"fillmode\":\"overlay\",\"size\":10,\"solidity\":0.2}},\"type\":\"bar\"}],\"barpolar\":[{\"marker\":{\"line\":{\"color\":\"#E5ECF6\",\"width\":0.5},\"pattern\":{\"fillmode\":\"overlay\",\"size\":10,\"solidity\":0.2}},\"type\":\"barpolar\"}],\"carpet\":[{\"aaxis\":{\"endlinecolor\":\"#2a3f5f\",\"gridcolor\":\"white\",\"linecolor\":\"white\",\"minorgridcolor\":\"white\",\"startlinecolor\":\"#2a3f5f\"},\"baxis\":{\"endlinecolor\":\"#2a3f5f\",\"gridcolor\":\"white\",\"linecolor\":\"white\",\"minorgridcolor\":\"white\",\"startlinecolor\":\"#2a3f5f\"},\"type\":\"carpet\"}],\"choropleth\":[{\"colorbar\":{\"outlinewidth\":0,\"ticks\":\"\"},\"type\":\"choropleth\"}],\"contour\":[{\"colorbar\":{\"outlinewidth\":0,\"ticks\":\"\"},\"colorscale\":[[0.0,\"#0d0887\"],[0.1111111111111111,\"#46039f\"],[0.2222222222222222,\"#7201a8\"],[0.3333333333333333,\"#9c179e\"],[0.4444444444444444,\"#bd3786\"],[0.5555555555555556,\"#d8576b\"],[0.6666666666666666,\"#ed7953\"],[0.7777777777777778,\"#fb9f3a\"],[0.8888888888888888,\"#fdca26\"],[1.0,\"#f0f921\"]],\"type\":\"contour\"}],\"contourcarpet\":[{\"colorbar\":{\"outlinewidth\":0,\"ticks\":\"\"},\"type\":\"contourcarpet\"}],\"heatmap\":[{\"colorbar\":{\"outlinewidth\":0,\"ticks\":\"\"},\"colorscale\":[[0.0,\"#0d0887\"],[0.1111111111111111,\"#46039f\"],[0.2222222222222222,\"#7201a8\"],[0.3333333333333333,\"#9c179e\"],[0.4444444444444444,\"#bd3786\"],[0.5555555555555556,\"#d8576b\"],[0.6666666666666666,\"#ed7953\"],[0.7777777777777778,\"#fb9f3a\"],[0.8888888888888888,\"#fdca26\"],[1.0,\"#f0f921\"]],\"type\":\"heatmap\"}],\"heatmapgl\":[{\"colorbar\":{\"outlinewidth\":0,\"ticks\":\"\"},\"colorscale\":[[0.0,\"#0d0887\"],[0.1111111111111111,\"#46039f\"],[0.2222222222222222,\"#7201a8\"],[0.3333333333333333,\"#9c179e\"],[0.4444444444444444,\"#bd3786\"],[0.5555555555555556,\"#d8576b\"],[0.6666666666666666,\"#ed7953\"],[0.7777777777777778,\"#fb9f3a\"],[0.8888888888888888,\"#fdca26\"],[1.0,\"#f0f921\"]],\"type\":\"heatmapgl\"}],\"histogram\":[{\"marker\":{\"pattern\":{\"fillmode\":\"overlay\",\"size\":10,\"solidity\":0.2}},\"type\":\"histogram\"}],\"histogram2d\":[{\"colorbar\":{\"outlinewidth\":0,\"ticks\":\"\"},\"colorscale\":[[0.0,\"#0d0887\"],[0.1111111111111111,\"#46039f\"],[0.2222222222222222,\"#7201a8\"],[0.3333333333333333,\"#9c179e\"],[0.4444444444444444,\"#bd3786\"],[0.5555555555555556,\"#d8576b\"],[0.6666666666666666,\"#ed7953\"],[0.7777777777777778,\"#fb9f3a\"],[0.8888888888888888,\"#fdca26\"],[1.0,\"#f0f921\"]],\"type\":\"histogram2d\"}],\"histogram2dcontour\":[{\"colorbar\":{\"outlinewidth\":0,\"ticks\":\"\"},\"colorscale\":[[0.0,\"#0d0887\"],[0.1111111111111111,\"#46039f\"],[0.2222222222222222,\"#7201a8\"],[0.3333333333333333,\"#9c179e\"],[0.4444444444444444,\"#bd3786\"],[0.5555555555555556,\"#d8576b\"],[0.6666666666666666,\"#ed7953\"],[0.7777777777777778,\"#fb9f3a\"],[0.8888888888888888,\"#fdca26\"],[1.0,\"#f0f921\"]],\"type\":\"histogram2dcontour\"}],\"mesh3d\":[{\"colorbar\":{\"outlinewidth\":0,\"ticks\":\"\"},\"type\":\"mesh3d\"}],\"parcoords\":[{\"line\":{\"colorbar\":{\"outlinewidth\":0,\"ticks\":\"\"}},\"type\":\"parcoords\"}],\"pie\":[{\"automargin\":true,\"type\":\"pie\"}],\"scatter\":[{\"marker\":{\"colorbar\":{\"outlinewidth\":0,\"ticks\":\"\"}},\"type\":\"scatter\"}],\"scatter3d\":[{\"line\":{\"colorbar\":{\"outlinewidth\":0,\"ticks\":\"\"}},\"marker\":{\"colorbar\":{\"outlinewidth\":0,\"ticks\":\"\"}},\"type\":\"scatter3d\"}],\"scattercarpet\":[{\"marker\":{\"colorbar\":{\"outlinewidth\":0,\"ticks\":\"\"}},\"type\":\"scattercarpet\"}],\"scattergeo\":[{\"marker\":{\"colorbar\":{\"outlinewidth\":0,\"ticks\":\"\"}},\"type\":\"scattergeo\"}],\"scattergl\":[{\"marker\":{\"colorbar\":{\"outlinewidth\":0,\"ticks\":\"\"}},\"type\":\"scattergl\"}],\"scattermapbox\":[{\"marker\":{\"colorbar\":{\"outlinewidth\":0,\"ticks\":\"\"}},\"type\":\"scattermapbox\"}],\"scatterpolar\":[{\"marker\":{\"colorbar\":{\"outlinewidth\":0,\"ticks\":\"\"}},\"type\":\"scatterpolar\"}],\"scatterpolargl\":[{\"marker\":{\"colorbar\":{\"outlinewidth\":0,\"ticks\":\"\"}},\"type\":\"scatterpolargl\"}],\"scatterternary\":[{\"marker\":{\"colorbar\":{\"outlinewidth\":0,\"ticks\":\"\"}},\"type\":\"scatterternary\"}],\"surface\":[{\"colorbar\":{\"outlinewidth\":0,\"ticks\":\"\"},\"colorscale\":[[0.0,\"#0d0887\"],[0.1111111111111111,\"#46039f\"],[0.2222222222222222,\"#7201a8\"],[0.3333333333333333,\"#9c179e\"],[0.4444444444444444,\"#bd3786\"],[0.5555555555555556,\"#d8576b\"],[0.6666666666666666,\"#ed7953\"],[0.7777777777777778,\"#fb9f3a\"],[0.8888888888888888,\"#fdca26\"],[1.0,\"#f0f921\"]],\"type\":\"surface\"}],\"table\":[{\"cells\":{\"fill\":{\"color\":\"#EBF0F8\"},\"line\":{\"color\":\"white\"}},\"header\":{\"fill\":{\"color\":\"#C8D4E3\"},\"line\":{\"color\":\"white\"}},\"type\":\"table\"}]},\"layout\":{\"annotationdefaults\":{\"arrowcolor\":\"#2a3f5f\",\"arrowhead\":0,\"arrowwidth\":1},\"autotypenumbers\":\"strict\",\"coloraxis\":{\"colorbar\":{\"outlinewidth\":0,\"ticks\":\"\"}},\"colorscale\":{\"diverging\":[[0,\"#8e0152\"],[0.1,\"#c51b7d\"],[0.2,\"#de77ae\"],[0.3,\"#f1b6da\"],[0.4,\"#fde0ef\"],[0.5,\"#f7f7f7\"],[0.6,\"#e6f5d0\"],[0.7,\"#b8e186\"],[0.8,\"#7fbc41\"],[0.9,\"#4d9221\"],[1,\"#276419\"]],\"sequential\":[[0.0,\"#0d0887\"],[0.1111111111111111,\"#46039f\"],[0.2222222222222222,\"#7201a8\"],[0.3333333333333333,\"#9c179e\"],[0.4444444444444444,\"#bd3786\"],[0.5555555555555556,\"#d8576b\"],[0.6666666666666666,\"#ed7953\"],[0.7777777777777778,\"#fb9f3a\"],[0.8888888888888888,\"#fdca26\"],[1.0,\"#f0f921\"]],\"sequentialminus\":[[0.0,\"#0d0887\"],[0.1111111111111111,\"#46039f\"],[0.2222222222222222,\"#7201a8\"],[0.3333333333333333,\"#9c179e\"],[0.4444444444444444,\"#bd3786\"],[0.5555555555555556,\"#d8576b\"],[0.6666666666666666,\"#ed7953\"],[0.7777777777777778,\"#fb9f3a\"],[0.8888888888888888,\"#fdca26\"],[1.0,\"#f0f921\"]]},\"colorway\":[\"#636efa\",\"#EF553B\",\"#00cc96\",\"#ab63fa\",\"#FFA15A\",\"#19d3f3\",\"#FF6692\",\"#B6E880\",\"#FF97FF\",\"#FECB52\"],\"font\":{\"color\":\"#2a3f5f\"},\"geo\":{\"bgcolor\":\"white\",\"lakecolor\":\"white\",\"landcolor\":\"#E5ECF6\",\"showlakes\":true,\"showland\":true,\"subunitcolor\":\"white\"},\"hoverlabel\":{\"align\":\"left\"},\"hovermode\":\"closest\",\"mapbox\":{\"style\":\"light\"},\"paper_bgcolor\":\"white\",\"plot_bgcolor\":\"#E5ECF6\",\"polar\":{\"angularaxis\":{\"gridcolor\":\"white\",\"linecolor\":\"white\",\"ticks\":\"\"},\"bgcolor\":\"#E5ECF6\",\"radialaxis\":{\"gridcolor\":\"white\",\"linecolor\":\"white\",\"ticks\":\"\"}},\"scene\":{\"xaxis\":{\"backgroundcolor\":\"#E5ECF6\",\"gridcolor\":\"white\",\"gridwidth\":2,\"linecolor\":\"white\",\"showbackground\":true,\"ticks\":\"\",\"zerolinecolor\":\"white\"},\"yaxis\":{\"backgroundcolor\":\"#E5ECF6\",\"gridcolor\":\"white\",\"gridwidth\":2,\"linecolor\":\"white\",\"showbackground\":true,\"ticks\":\"\",\"zerolinecolor\":\"white\"},\"zaxis\":{\"backgroundcolor\":\"#E5ECF6\",\"gridcolor\":\"white\",\"gridwidth\":2,\"linecolor\":\"white\",\"showbackground\":true,\"ticks\":\"\",\"zerolinecolor\":\"white\"}},\"shapedefaults\":{\"line\":{\"color\":\"#2a3f5f\"}},\"ternary\":{\"aaxis\":{\"gridcolor\":\"white\",\"linecolor\":\"white\",\"ticks\":\"\"},\"baxis\":{\"gridcolor\":\"white\",\"linecolor\":\"white\",\"ticks\":\"\"},\"bgcolor\":\"#E5ECF6\",\"caxis\":{\"gridcolor\":\"white\",\"linecolor\":\"white\",\"ticks\":\"\"}},\"title\":{\"x\":0.05},\"xaxis\":{\"automargin\":true,\"gridcolor\":\"white\",\"linecolor\":\"white\",\"ticks\":\"\",\"title\":{\"standoff\":15},\"zerolinecolor\":\"white\",\"zerolinewidth\":2},\"yaxis\":{\"automargin\":true,\"gridcolor\":\"white\",\"linecolor\":\"white\",\"ticks\":\"\",\"title\":{\"standoff\":15},\"zerolinecolor\":\"white\",\"zerolinewidth\":2}}},\"xaxis\":{\"title\":{\"text\":\"Time\"}},\"yaxis\":{\"title\":{\"text\":\"Price ($/MWh)\"}},\"title\":{\"text\":\"Figure 2: All Regions - Market Price Reduction due to 'N>>N-NIL_94T_947' & 'N>>N-NIL_94T'<br><sup>[r] denotes constraint removed</sup>\"}},                        {\"responsive\": true}                    ).then(function(){\n",
       "                            \n",
       "var gd = document.getElementById('688a0dce-9e66-47af-8c9b-a61f3bc1ff7b');\n",
       "var x = new MutationObserver(function (mutations, observer) {{\n",
       "        var display = window.getComputedStyle(gd).display;\n",
       "        if (!display || display === 'none') {{\n",
       "            console.log([gd, 'removed!']);\n",
       "            Plotly.purge(gd);\n",
       "            observer.disconnect();\n",
       "        }}\n",
       "}});\n",
       "\n",
       "// Listen for the removal of the full notebook cells\n",
       "var notebookContainer = gd.closest('#notebook-container');\n",
       "if (notebookContainer) {{\n",
       "    x.observe(notebookContainer, {childList: true});\n",
       "}}\n",
       "\n",
       "// Listen for the clearing of the current output cell\n",
       "var outputEl = gd.closest('.output');\n",
       "if (outputEl) {{\n",
       "    x.observe(outputEl, {childList: true});\n",
       "}}\n",
       "\n",
       "                        })                };                });            </script>        </div>"
      ]
     },
     "metadata": {},
     "output_type": "display_data"
    }
   ],
   "source": [
    "fig2 = go.Figure()\n",
    "fig2.add_trace(go.Scatter(x=prices['interval'].unique(), y=prices_all[prices_all['region'] == 'NSW1']['diff'], name='NSW Δ Price', mode='lines+markers',\n",
    "                         marker_size=8, marker_symbol='circle'))\n",
    "fig2.add_trace(go.Scatter(x=prices_r['interval'].unique(), y=prices_all[prices_all['region'] == 'QLD1']['diff'], name='QLD Δ Price', mode='lines+markers',\n",
    "                         marker_size=8, marker_symbol='circle'))\n",
    "fig2.add_trace(go.Scatter(x=prices_r['interval'].unique(), y=prices_all[prices_all['region'] == 'VIC1']['diff'], name='VIC Δ Price', mode='lines+markers',\n",
    "                         marker_size=8, marker_symbol='circle'))\n",
    "fig2.add_trace(go.Scatter(x=prices_r['interval'].unique(), y=prices_all[prices_all['region'] == 'SA1']['diff'], name='SA Δ Price', mode='lines+markers',\n",
    "                         marker_size=8, marker_symbol='circle'))\n",
    "fig2.add_trace(go.Scatter(x=prices_r['interval'].unique(), y=prices_all[prices_all['region'] == 'TAS1']['diff'], name='TAS Δ Price', mode='lines+markers',\n",
    "                         marker_size=8, marker_symbol='circle'))\n",
    "fig2.update_xaxes(title=\"Time\")\n",
    "fig2.update_yaxes(title=\"Price ($/MWh)\")\n",
    "fig2.update_layout(title=\"Figure 2: All Regions - Market Price Reduction due to 'N>>N-NIL_94T_947' & 'N>>N-NIL_94T'<br><sup>[r] denotes constraint removed</sup>\")\n",
    "fig2.show()"
   ]
  },
  {
   "attachments": {
    "image-2.png": {
     "image/png": "[encoded data removed]"
    },
    "image-3.png": {
     "image/png": "[encoded data removed]"
    }
   },
   "cell_type": "markdown",
   "metadata": {},
   "source": [
    "![image-2.png](attachment:image-2.png)\n",
    "![image-3.png](attachment:image-3.png)\n",
    "\n",
    "The first figure shows small variations in NSW price before and after removing the constraints however at first glance seems somewhat immaterial.\n",
    "\n",
    "The latter figure capturing a broader impact on all regions given a change in the market. Although this line constraint is within NSW, with changes in dispatch there may be subsequent affects to other regions (a conversation for another day on analysing interconnectors)."
   ]
  },
  {
   "cell_type": "markdown",
   "metadata": {},
   "source": [
    "---\n",
    "### D2. Impact to specific units\n",
    "Based on the previous example from a single dispatch interval, it was found that the constraint had a signficant impact on Beryl Solar Farm. The mappings have been omitted here but nonetheless, we shall dive deeper into Beryl SF.\n"
   ]
  },
  {
   "cell_type": "code",
   "execution_count": 163,
   "metadata": {
    "scrolled": true
   },
   "outputs": [],
   "source": [
    "timeaxis = []\n",
    "for item in unit_dispatch_r['interval'].unique():\n",
    "    timeaxis += [datetime.strptime(item, \"%Y/%m/%d %H:%M:%S\").time()]"
   ]
  },
  {
   "cell_type": "code",
   "execution_count": 200,
   "metadata": {},
   "outputs": [
    {
     "data": {
      "application/vnd.plotly.v1+json": {
       "config": {
        "plotlyServerURL": "https://plot.ly"
       },
       "data": [
        {
         "line": {
          "color": "orange"
         },
         "marker": {
          "size": 8,
          "symbol": "circle"
         },
         "mode": "lines+markers",
         "name": "BERYLSF1",
         "type": "scatter",
         "x": [
          "06:00:00",
          "06:05:00",
          "06:10:00",
          "06:15:00",
          "06:20:00",
          "06:25:00",
          "06:30:00",
          "06:35:00",
          "06:40:00",
          "06:45:00",
          "06:50:00",
          "06:55:00",
          "07:00:00",
          "07:05:00",
          "07:10:00",
          "07:15:00",
          "07:20:00",
          "07:25:00",
          "07:30:00",
          "07:35:00",
          "07:40:00",
          "07:45:00",
          "07:50:00",
          "07:55:00",
          "08:00:00",
          "08:05:00",
          "08:10:00",
          "08:15:00",
          "08:20:00",
          "08:25:00",
          "08:30:00",
          "08:35:00",
          "08:40:00",
          "08:45:00",
          "08:50:00",
          "08:55:00",
          "09:00:00",
          "09:05:00",
          "09:10:00",
          "09:15:00",
          "09:20:00",
          "09:25:00",
          "09:30:00",
          "09:35:00",
          "09:40:00",
          "09:45:00",
          "09:50:00",
          "09:55:00",
          "10:00:00",
          "10:05:00",
          "10:10:00",
          "10:15:00",
          "10:20:00",
          "10:25:00",
          "10:30:00",
          "10:35:00",
          "10:40:00",
          "10:45:00",
          "10:50:00",
          "10:55:00",
          "11:00:00",
          "11:05:00",
          "11:10:00",
          "11:15:00",
          "11:20:00",
          "11:25:00",
          "11:30:00",
          "11:35:00",
          "11:40:00",
          "11:45:00",
          "11:50:00",
          "11:55:00",
          "12:00:00",
          "12:05:00",
          "12:10:00",
          "12:15:00",
          "12:20:00",
          "12:25:00",
          "12:30:00",
          "12:35:00",
          "12:40:00",
          "12:45:00",
          "12:50:00",
          "12:55:00",
          "13:00:00",
          "13:05:00",
          "13:10:00",
          "13:15:00",
          "13:20:00",
          "13:25:00",
          "13:30:00",
          "13:35:00",
          "13:40:00",
          "13:45:00",
          "13:50:00",
          "13:55:00",
          "14:00:00",
          "14:05:00",
          "14:10:00",
          "14:15:00",
          "14:20:00",
          "14:25:00",
          "14:30:00",
          "14:35:00",
          "14:40:00",
          "14:45:00",
          "14:50:00",
          "14:55:00",
          "15:00:00",
          "15:05:00",
          "15:10:00",
          "15:15:00",
          "15:20:00",
          "15:25:00",
          "15:30:00",
          "15:35:00",
          "15:40:00",
          "15:45:00",
          "15:50:00",
          "15:55:00",
          "16:00:00",
          "16:05:00",
          "16:10:00",
          "16:15:00",
          "16:20:00",
          "16:25:00",
          "16:30:00",
          "16:35:00",
          "16:40:00",
          "16:45:00",
          "16:50:00",
          "16:55:00",
          "17:00:00",
          "17:05:00",
          "17:10:00",
          "17:15:00",
          "17:20:00",
          "17:25:00",
          "17:30:00",
          "17:35:00",
          "17:40:00",
          "17:45:00",
          "17:50:00",
          "17:55:00",
          "18:00:00",
          "18:05:00"
         ],
         "y": [
          1.8,
          2.638,
          4.64,
          7.173000000000001,
          9.56,
          12.653,
          17.213,
          21.253,
          25.780000000000005,
          30.204,
          34.78000000000001,
          39.087,
          43.973,
          48.50400000000001,
          52.55300000000001,
          56.632999999999996,
          60.86,
          64.673,
          64.60000000000001,
          64.5,
          66.206,
          75.4,
          78.427,
          61.50201115795275,
          15.531034125150041,
          19.259781806072983,
          0,
          0,
          0,
          0,
          0,
          0,
          0,
          0,
          0,
          0,
          0,
          0,
          0,
          0,
          0,
          0,
          0,
          18.90076682967284,
          22.20478232782791,
          37.16871369314152,
          59.41505760458052,
          71.66173952339982,
          83.825,
          53.07111147911952,
          66.13458527985743,
          84.102,
          67.24080446804933,
          83.4983749477541,
          84.06512697727437,
          55.17106277063208,
          57.185947641480865,
          74.94806203262483,
          57.509967567680285,
          58.07027088871341,
          64.43725317653632,
          34.17976609166557,
          2.6211055750604055,
          4.564476792772474,
          0,
          0,
          0,
          0,
          0,
          0,
          0,
          0,
          0,
          0,
          0,
          0,
          0,
          23.13212547720031,
          0,
          0,
          0,
          0,
          0,
          0,
          6.507716645171051,
          14.752468674691368,
          0,
          0,
          35.858493894453055,
          62.829501086431016,
          63.80831369314149,
          35.27655354553996,
          5.8510258702631575,
          12.15189671897165,
          0,
          0,
          0,
          0,
          1.8783535455399405,
          0,
          0,
          0,
          15.448453176536338,
          10.123878268787253,
          0,
          13.112115907163558,
          0,
          0,
          11.623972733731808,
          44.51583470438662,
          46.52927753077983,
          35.44508564886101,
          45.18524210642559,
          53.11247162672086,
          35.05617642376876,
          39.87216018760643,
          35.87065317653627,
          50.45056535365811,
          61.000670888713515,
          73.62840446804931,
          76.266,
          74.547,
          56.172999999999995,
          81.88000000000001,
          46.146,
          25.932000000000002,
          22.42,
          41.446999999999996,
          40.801,
          25.072999999999997,
          43.379999999999995,
          38.148,
          18.92,
          73.82,
          32.5,
          22.625999999999994,
          22.5,
          6.742999999999999,
          11.180000000000001,
          5.497999999999999,
          8.913,
          10.655999999999999,
          12.6,
          10.256,
          6.729,
          7.320000000000001
         ]
        },
        {
         "line": {
          "color": "purple"
         },
         "marker": {
          "size": 8,
          "symbol": "circle"
         },
         "mode": "lines+markers",
         "name": "BERYLSF1 [r]",
         "type": "scatter",
         "x": [
          "06:00:00",
          "06:05:00",
          "06:10:00",
          "06:15:00",
          "06:20:00",
          "06:25:00",
          "06:30:00",
          "06:35:00",
          "06:40:00",
          "06:45:00",
          "06:50:00",
          "06:55:00",
          "07:00:00",
          "07:05:00",
          "07:10:00",
          "07:15:00",
          "07:20:00",
          "07:25:00",
          "07:30:00",
          "07:35:00",
          "07:40:00",
          "07:45:00",
          "07:50:00",
          "07:55:00",
          "08:00:00",
          "08:05:00",
          "08:10:00",
          "08:15:00",
          "08:20:00",
          "08:25:00",
          "08:30:00",
          "08:35:00",
          "08:40:00",
          "08:45:00",
          "08:50:00",
          "08:55:00",
          "09:00:00",
          "09:05:00",
          "09:10:00",
          "09:15:00",
          "09:20:00",
          "09:25:00",
          "09:30:00",
          "09:35:00",
          "09:40:00",
          "09:45:00",
          "09:50:00",
          "09:55:00",
          "10:00:00",
          "10:05:00",
          "10:10:00",
          "10:15:00",
          "10:20:00",
          "10:25:00",
          "10:30:00",
          "10:35:00",
          "10:40:00",
          "10:45:00",
          "10:50:00",
          "10:55:00",
          "11:00:00",
          "11:05:00",
          "11:10:00",
          "11:15:00",
          "11:20:00",
          "11:25:00",
          "11:30:00",
          "11:35:00",
          "11:40:00",
          "11:45:00",
          "11:50:00",
          "11:55:00",
          "12:00:00",
          "12:05:00",
          "12:10:00",
          "12:15:00",
          "12:20:00",
          "12:25:00",
          "12:30:00",
          "12:35:00",
          "12:40:00",
          "12:45:00",
          "12:50:00",
          "12:55:00",
          "13:00:00",
          "13:05:00",
          "13:10:00",
          "13:15:00",
          "13:20:00",
          "13:25:00",
          "13:30:00",
          "13:35:00",
          "13:40:00",
          "13:45:00",
          "13:50:00",
          "13:55:00",
          "14:00:00",
          "14:05:00",
          "14:10:00",
          "14:15:00",
          "14:20:00",
          "14:25:00",
          "14:30:00",
          "14:35:00",
          "14:40:00",
          "14:45:00",
          "14:50:00",
          "14:55:00",
          "15:00:00",
          "15:05:00",
          "15:10:00",
          "15:15:00",
          "15:20:00",
          "15:25:00",
          "15:30:00",
          "15:35:00",
          "15:40:00",
          "15:45:00",
          "15:50:00",
          "15:55:00",
          "16:00:00",
          "16:05:00",
          "16:10:00",
          "16:15:00",
          "16:20:00",
          "16:25:00",
          "16:30:00",
          "16:35:00",
          "16:40:00",
          "16:45:00",
          "16:50:00",
          "16:55:00",
          "17:00:00",
          "17:05:00",
          "17:10:00",
          "17:15:00",
          "17:20:00",
          "17:25:00",
          "17:30:00",
          "17:35:00",
          "17:40:00",
          "17:45:00",
          "17:50:00",
          "17:55:00",
          "18:00:00",
          "18:05:00"
         ],
         "y": [
          1.8,
          2.6380000000000003,
          4.64,
          7.173000000000001,
          9.56,
          12.653000000000002,
          17.213000000000005,
          21.253000000000004,
          25.780000000000005,
          30.204000000000004,
          34.78,
          39.087,
          43.973,
          48.504,
          52.55300000000001,
          56.633,
          60.86,
          64.673,
          64.6,
          64.5,
          66.20600000000002,
          75.39999999999999,
          78.427,
          81.54,
          86.055,
          56.45700000000001,
          63.908,
          56.79800000000001,
          57.022000000000006,
          58.79900000000001,
          62.76,
          62.980000000000004,
          60.79700000000001,
          60.466,
          61.964000000000006,
          70.468,
          72.965,
          75.62,
          71.80900000000001,
          74.48700000000001,
          76.20800000000001,
          73.33633700354456,
          79.491,
          79.768,
          80.479,
          81.261,
          81.083,
          83.33399999999999,
          83.825,
          82.39,
          82.929,
          84.10199999999999,
          86.99999999999999,
          86.99999999999999,
          84.39,
          82.88,
          82.607,
          86.85300000000001,
          82.355,
          81.66300000000001,
          81.128,
          80.81200000000001,
          82.435,
          82.872,
          85.875,
          86.02799999999999,
          83.552,
          84.199,
          79.874,
          81.004,
          81.25999999999999,
          81.70400000000001,
          85.003,
          84.789,
          86.99999999999999,
          85.243,
          86.54400000000001,
          86.99999999999999,
          86.99999999999999,
          86.99999999999999,
          86.99999999999999,
          86.99999999999999,
          86.99999999999999,
          86.99999999999999,
          86.99999999999999,
          85.569,
          84.94399999999999,
          84.16499999999999,
          85.04,
          86.99999999999999,
          86.99999999999999,
          86.99999999999999,
          86.99999999999999,
          84.39,
          86.99999999999999,
          86.99999999999999,
          86.99999999999999,
          86.99999999999999,
          86.99999999999999,
          86.99999999999999,
          86.99999999999999,
          85.813,
          85.897,
          85.527,
          85.403,
          84.29,
          86.026,
          85.83200000000001,
          85.24,
          84.673,
          84.61600000000001,
          84.67699999999999,
          84.678,
          84.263,
          86.045,
          85.922,
          85.752,
          85.432,
          84.71000000000001,
          83.43100000000001,
          76.266,
          74.54700000000001,
          56.17300000000001,
          81.88000000000001,
          46.14600000000001,
          25.932000000000006,
          22.42,
          41.447,
          40.801,
          25.073000000000004,
          43.38,
          38.148,
          18.92,
          73.82,
          32.5,
          22.626000000000005,
          22.5,
          6.743,
          11.18,
          5.498000000000001,
          8.913,
          10.656,
          12.600000000000001,
          10.256000000000002,
          6.729000000000002,
          7.319999999999999
         ]
        }
       ],
       "layout": {
        "template": {
         "data": {
          "bar": [
           {
            "error_x": {
             "color": "#2a3f5f"
            },
            "error_y": {
             "color": "#2a3f5f"
            },
            "marker": {
             "line": {
              "color": "white",
              "width": 0.5
             },
             "pattern": {
              "fillmode": "overlay",
              "size": 10,
              "solidity": 0.2
             }
            },
            "type": "bar"
           }
          ],
          "barpolar": [
           {
            "marker": {
             "line": {
              "color": "white",
              "width": 0.5
             },
             "pattern": {
              "fillmode": "overlay",
              "size": 10,
              "solidity": 0.2
             }
            },
            "type": "barpolar"
           }
          ],
          "carpet": [
           {
            "aaxis": {
             "endlinecolor": "#2a3f5f",
             "gridcolor": "#C8D4E3",
             "linecolor": "#C8D4E3",
             "minorgridcolor": "#C8D4E3",
             "startlinecolor": "#2a3f5f"
            },
            "baxis": {
             "endlinecolor": "#2a3f5f",
             "gridcolor": "#C8D4E3",
             "linecolor": "#C8D4E3",
             "minorgridcolor": "#C8D4E3",
             "startlinecolor": "#2a3f5f"
            },
            "type": "carpet"
           }
          ],
          "choropleth": [
           {
            "colorbar": {
             "outlinewidth": 0,
             "ticks": ""
            },
            "type": "choropleth"
           }
          ],
          "contour": [
           {
            "colorbar": {
             "outlinewidth": 0,
             "ticks": ""
            },
            "colorscale": [
             [
              0,
              "#0d0887"
             ],
             [
              0.1111111111111111,
              "#46039f"
             ],
             [
              0.2222222222222222,
              "#7201a8"
             ],
             [
              0.3333333333333333,
              "#9c179e"
             ],
             [
              0.4444444444444444,
              "#bd3786"
             ],
             [
              0.5555555555555556,
              "#d8576b"
             ],
             [
              0.6666666666666666,
              "#ed7953"
             ],
             [
              0.7777777777777778,
              "#fb9f3a"
             ],
             [
              0.8888888888888888,
              "#fdca26"
             ],
             [
              1,
              "#f0f921"
             ]
            ],
            "type": "contour"
           }
          ],
          "contourcarpet": [
           {
            "colorbar": {
             "outlinewidth": 0,
             "ticks": ""
            },
            "type": "contourcarpet"
           }
          ],
          "heatmap": [
           {
            "colorbar": {
             "outlinewidth": 0,
             "ticks": ""
            },
            "colorscale": [
             [
              0,
              "#0d0887"
             ],
             [
              0.1111111111111111,
              "#46039f"
             ],
             [
              0.2222222222222222,
              "#7201a8"
             ],
             [
              0.3333333333333333,
              "#9c179e"
             ],
             [
              0.4444444444444444,
              "#bd3786"
             ],
             [
              0.5555555555555556,
              "#d8576b"
             ],
             [
              0.6666666666666666,
              "#ed7953"
             ],
             [
              0.7777777777777778,
              "#fb9f3a"
             ],
             [
              0.8888888888888888,
              "#fdca26"
             ],
             [
              1,
              "#f0f921"
             ]
            ],
            "type": "heatmap"
           }
          ],
          "heatmapgl": [
           {
            "colorbar": {
             "outlinewidth": 0,
             "ticks": ""
            },
            "colorscale": [
             [
              0,
              "#0d0887"
             ],
             [
              0.1111111111111111,
              "#46039f"
             ],
             [
              0.2222222222222222,
              "#7201a8"
             ],
             [
              0.3333333333333333,
              "#9c179e"
             ],
             [
              0.4444444444444444,
              "#bd3786"
             ],
             [
              0.5555555555555556,
              "#d8576b"
             ],
             [
              0.6666666666666666,
              "#ed7953"
             ],
             [
              0.7777777777777778,
              "#fb9f3a"
             ],
             [
              0.8888888888888888,
              "#fdca26"
             ],
             [
              1,
              "#f0f921"
             ]
            ],
            "type": "heatmapgl"
           }
          ],
          "histogram": [
           {
            "marker": {
             "pattern": {
              "fillmode": "overlay",
              "size": 10,
              "solidity": 0.2
             }
            },
            "type": "histogram"
           }
          ],
          "histogram2d": [
           {
            "colorbar": {
             "outlinewidth": 0,
             "ticks": ""
            },
            "colorscale": [
             [
              0,
              "#0d0887"
             ],
             [
              0.1111111111111111,
              "#46039f"
             ],
             [
              0.2222222222222222,
              "#7201a8"
             ],
             [
              0.3333333333333333,
              "#9c179e"
             ],
             [
              0.4444444444444444,
              "#bd3786"
             ],
             [
              0.5555555555555556,
              "#d8576b"
             ],
             [
              0.6666666666666666,
              "#ed7953"
             ],
             [
              0.7777777777777778,
              "#fb9f3a"
             ],
             [
              0.8888888888888888,
              "#fdca26"
             ],
             [
              1,
              "#f0f921"
             ]
            ],
            "type": "histogram2d"
           }
          ],
          "histogram2dcontour": [
           {
            "colorbar": {
             "outlinewidth": 0,
             "ticks": ""
            },
            "colorscale": [
             [
              0,
              "#0d0887"
             ],
             [
              0.1111111111111111,
              "#46039f"
             ],
             [
              0.2222222222222222,
              "#7201a8"
             ],
             [
              0.3333333333333333,
              "#9c179e"
             ],
             [
              0.4444444444444444,
              "#bd3786"
             ],
             [
              0.5555555555555556,
              "#d8576b"
             ],
             [
              0.6666666666666666,
              "#ed7953"
             ],
             [
              0.7777777777777778,
              "#fb9f3a"
             ],
             [
              0.8888888888888888,
              "#fdca26"
             ],
             [
              1,
              "#f0f921"
             ]
            ],
            "type": "histogram2dcontour"
           }
          ],
          "mesh3d": [
           {
            "colorbar": {
             "outlinewidth": 0,
             "ticks": ""
            },
            "type": "mesh3d"
           }
          ],
          "parcoords": [
           {
            "line": {
             "colorbar": {
              "outlinewidth": 0,
              "ticks": ""
             }
            },
            "type": "parcoords"
           }
          ],
          "pie": [
           {
            "automargin": true,
            "type": "pie"
           }
          ],
          "scatter": [
           {
            "marker": {
             "colorbar": {
              "outlinewidth": 0,
              "ticks": ""
             }
            },
            "type": "scatter"
           }
          ],
          "scatter3d": [
           {
            "line": {
             "colorbar": {
              "outlinewidth": 0,
              "ticks": ""
             }
            },
            "marker": {
             "colorbar": {
              "outlinewidth": 0,
              "ticks": ""
             }
            },
            "type": "scatter3d"
           }
          ],
          "scattercarpet": [
           {
            "marker": {
             "colorbar": {
              "outlinewidth": 0,
              "ticks": ""
             }
            },
            "type": "scattercarpet"
           }
          ],
          "scattergeo": [
           {
            "marker": {
             "colorbar": {
              "outlinewidth": 0,
              "ticks": ""
             }
            },
            "type": "scattergeo"
           }
          ],
          "scattergl": [
           {
            "marker": {
             "colorbar": {
              "outlinewidth": 0,
              "ticks": ""
             }
            },
            "type": "scattergl"
           }
          ],
          "scattermapbox": [
           {
            "marker": {
             "colorbar": {
              "outlinewidth": 0,
              "ticks": ""
             }
            },
            "type": "scattermapbox"
           }
          ],
          "scatterpolar": [
           {
            "marker": {
             "colorbar": {
              "outlinewidth": 0,
              "ticks": ""
             }
            },
            "type": "scatterpolar"
           }
          ],
          "scatterpolargl": [
           {
            "marker": {
             "colorbar": {
              "outlinewidth": 0,
              "ticks": ""
             }
            },
            "type": "scatterpolargl"
           }
          ],
          "scatterternary": [
           {
            "marker": {
             "colorbar": {
              "outlinewidth": 0,
              "ticks": ""
             }
            },
            "type": "scatterternary"
           }
          ],
          "surface": [
           {
            "colorbar": {
             "outlinewidth": 0,
             "ticks": ""
            },
            "colorscale": [
             [
              0,
              "#0d0887"
             ],
             [
              0.1111111111111111,
              "#46039f"
             ],
             [
              0.2222222222222222,
              "#7201a8"
             ],
             [
              0.3333333333333333,
              "#9c179e"
             ],
             [
              0.4444444444444444,
              "#bd3786"
             ],
             [
              0.5555555555555556,
              "#d8576b"
             ],
             [
              0.6666666666666666,
              "#ed7953"
             ],
             [
              0.7777777777777778,
              "#fb9f3a"
             ],
             [
              0.8888888888888888,
              "#fdca26"
             ],
             [
              1,
              "#f0f921"
             ]
            ],
            "type": "surface"
           }
          ],
          "table": [
           {
            "cells": {
             "fill": {
              "color": "#EBF0F8"
             },
             "line": {
              "color": "white"
             }
            },
            "header": {
             "fill": {
              "color": "#C8D4E3"
             },
             "line": {
              "color": "white"
             }
            },
            "type": "table"
           }
          ]
         },
         "layout": {
          "annotationdefaults": {
           "arrowcolor": "#2a3f5f",
           "arrowhead": 0,
           "arrowwidth": 1
          },
          "autotypenumbers": "strict",
          "coloraxis": {
           "colorbar": {
            "outlinewidth": 0,
            "ticks": ""
           }
          },
          "colorscale": {
           "diverging": [
            [
             0,
             "#8e0152"
            ],
            [
             0.1,
             "#c51b7d"
            ],
            [
             0.2,
             "#de77ae"
            ],
            [
             0.3,
             "#f1b6da"
            ],
            [
             0.4,
             "#fde0ef"
            ],
            [
             0.5,
             "#f7f7f7"
            ],
            [
             0.6,
             "#e6f5d0"
            ],
            [
             0.7,
             "#b8e186"
            ],
            [
             0.8,
             "#7fbc41"
            ],
            [
             0.9,
             "#4d9221"
            ],
            [
             1,
             "#276419"
            ]
           ],
           "sequential": [
            [
             0,
             "#0d0887"
            ],
            [
             0.1111111111111111,
             "#46039f"
            ],
            [
             0.2222222222222222,
             "#7201a8"
            ],
            [
             0.3333333333333333,
             "#9c179e"
            ],
            [
             0.4444444444444444,
             "#bd3786"
            ],
            [
             0.5555555555555556,
             "#d8576b"
            ],
            [
             0.6666666666666666,
             "#ed7953"
            ],
            [
             0.7777777777777778,
             "#fb9f3a"
            ],
            [
             0.8888888888888888,
             "#fdca26"
            ],
            [
             1,
             "#f0f921"
            ]
           ],
           "sequentialminus": [
            [
             0,
             "#0d0887"
            ],
            [
             0.1111111111111111,
             "#46039f"
            ],
            [
             0.2222222222222222,
             "#7201a8"
            ],
            [
             0.3333333333333333,
             "#9c179e"
            ],
            [
             0.4444444444444444,
             "#bd3786"
            ],
            [
             0.5555555555555556,
             "#d8576b"
            ],
            [
             0.6666666666666666,
             "#ed7953"
            ],
            [
             0.7777777777777778,
             "#fb9f3a"
            ],
            [
             0.8888888888888888,
             "#fdca26"
            ],
            [
             1,
             "#f0f921"
            ]
           ]
          },
          "colorway": [
           "#636efa",
           "#EF553B",
           "#00cc96",
           "#ab63fa",
           "#FFA15A",
           "#19d3f3",
           "#FF6692",
           "#B6E880",
           "#FF97FF",
           "#FECB52"
          ],
          "font": {
           "color": "#2a3f5f"
          },
          "geo": {
           "bgcolor": "white",
           "lakecolor": "white",
           "landcolor": "white",
           "showlakes": true,
           "showland": true,
           "subunitcolor": "#C8D4E3"
          },
          "hoverlabel": {
           "align": "left"
          },
          "hovermode": "closest",
          "mapbox": {
           "style": "light"
          },
          "paper_bgcolor": "white",
          "plot_bgcolor": "white",
          "polar": {
           "angularaxis": {
            "gridcolor": "#EBF0F8",
            "linecolor": "#EBF0F8",
            "ticks": ""
           },
           "bgcolor": "white",
           "radialaxis": {
            "gridcolor": "#EBF0F8",
            "linecolor": "#EBF0F8",
            "ticks": ""
           }
          },
          "scene": {
           "xaxis": {
            "backgroundcolor": "white",
            "gridcolor": "#DFE8F3",
            "gridwidth": 2,
            "linecolor": "#EBF0F8",
            "showbackground": true,
            "ticks": "",
            "zerolinecolor": "#EBF0F8"
           },
           "yaxis": {
            "backgroundcolor": "white",
            "gridcolor": "#DFE8F3",
            "gridwidth": 2,
            "linecolor": "#EBF0F8",
            "showbackground": true,
            "ticks": "",
            "zerolinecolor": "#EBF0F8"
           },
           "zaxis": {
            "backgroundcolor": "white",
            "gridcolor": "#DFE8F3",
            "gridwidth": 2,
            "linecolor": "#EBF0F8",
            "showbackground": true,
            "ticks": "",
            "zerolinecolor": "#EBF0F8"
           }
          },
          "shapedefaults": {
           "line": {
            "color": "#2a3f5f"
           }
          },
          "ternary": {
           "aaxis": {
            "gridcolor": "#DFE8F3",
            "linecolor": "#A2B1C6",
            "ticks": ""
           },
           "baxis": {
            "gridcolor": "#DFE8F3",
            "linecolor": "#A2B1C6",
            "ticks": ""
           },
           "bgcolor": "white",
           "caxis": {
            "gridcolor": "#DFE8F3",
            "linecolor": "#A2B1C6",
            "ticks": ""
           }
          },
          "title": {
           "x": 0.05
          },
          "xaxis": {
           "automargin": true,
           "gridcolor": "#EBF0F8",
           "linecolor": "#EBF0F8",
           "ticks": "",
           "title": {
            "standoff": 15
           },
           "zerolinecolor": "#EBF0F8",
           "zerolinewidth": 2
          },
          "yaxis": {
           "automargin": true,
           "gridcolor": "#EBF0F8",
           "linecolor": "#EBF0F8",
           "ticks": "",
           "title": {
            "standoff": 15
           },
           "zerolinecolor": "#EBF0F8",
           "zerolinewidth": 2
          }
         }
        },
        "title": {
         "text": "Figure 3: Impact on Beryl SF dispatch by 'N>>N-NIL_94T_947' & N>>N-NIL_94T' on 15/02/21<br><sup>[r] denotes constraint removed</sup>"
        },
        "xaxis": {
         "title": {
          "text": "Time"
         }
        },
        "yaxis": {
         "title": {
          "text": "Unit dispatch (MW)"
         }
        }
       }
      },
      "text/html": [
       "<div>                            <div id=\"d948fa67-e382-4613-b9aa-9dc11a4425ab\" class=\"plotly-graph-div\" style=\"height:525px; width:100%;\"></div>            <script type=\"text/javascript\">                require([\"plotly\"], function(Plotly) {                    window.PLOTLYENV=window.PLOTLYENV || {};                                    if (document.getElementById(\"d948fa67-e382-4613-b9aa-9dc11a4425ab\")) {                    Plotly.newPlot(                        \"d948fa67-e382-4613-b9aa-9dc11a4425ab\",                        [{\"line\":{\"color\":\"orange\"},\"marker\":{\"size\":8,\"symbol\":\"circle\"},\"mode\":\"lines+markers\",\"name\":\"BERYLSF1\",\"x\":[\"06:00:00\",\"06:05:00\",\"06:10:00\",\"06:15:00\",\"06:20:00\",\"06:25:00\",\"06:30:00\",\"06:35:00\",\"06:40:00\",\"06:45:00\",\"06:50:00\",\"06:55:00\",\"07:00:00\",\"07:05:00\",\"07:10:00\",\"07:15:00\",\"07:20:00\",\"07:25:00\",\"07:30:00\",\"07:35:00\",\"07:40:00\",\"07:45:00\",\"07:50:00\",\"07:55:00\",\"08:00:00\",\"08:05:00\",\"08:10:00\",\"08:15:00\",\"08:20:00\",\"08:25:00\",\"08:30:00\",\"08:35:00\",\"08:40:00\",\"08:45:00\",\"08:50:00\",\"08:55:00\",\"09:00:00\",\"09:05:00\",\"09:10:00\",\"09:15:00\",\"09:20:00\",\"09:25:00\",\"09:30:00\",\"09:35:00\",\"09:40:00\",\"09:45:00\",\"09:50:00\",\"09:55:00\",\"10:00:00\",\"10:05:00\",\"10:10:00\",\"10:15:00\",\"10:20:00\",\"10:25:00\",\"10:30:00\",\"10:35:00\",\"10:40:00\",\"10:45:00\",\"10:50:00\",\"10:55:00\",\"11:00:00\",\"11:05:00\",\"11:10:00\",\"11:15:00\",\"11:20:00\",\"11:25:00\",\"11:30:00\",\"11:35:00\",\"11:40:00\",\"11:45:00\",\"11:50:00\",\"11:55:00\",\"12:00:00\",\"12:05:00\",\"12:10:00\",\"12:15:00\",\"12:20:00\",\"12:25:00\",\"12:30:00\",\"12:35:00\",\"12:40:00\",\"12:45:00\",\"12:50:00\",\"12:55:00\",\"13:00:00\",\"13:05:00\",\"13:10:00\",\"13:15:00\",\"13:20:00\",\"13:25:00\",\"13:30:00\",\"13:35:00\",\"13:40:00\",\"13:45:00\",\"13:50:00\",\"13:55:00\",\"14:00:00\",\"14:05:00\",\"14:10:00\",\"14:15:00\",\"14:20:00\",\"14:25:00\",\"14:30:00\",\"14:35:00\",\"14:40:00\",\"14:45:00\",\"14:50:00\",\"14:55:00\",\"15:00:00\",\"15:05:00\",\"15:10:00\",\"15:15:00\",\"15:20:00\",\"15:25:00\",\"15:30:00\",\"15:35:00\",\"15:40:00\",\"15:45:00\",\"15:50:00\",\"15:55:00\",\"16:00:00\",\"16:05:00\",\"16:10:00\",\"16:15:00\",\"16:20:00\",\"16:25:00\",\"16:30:00\",\"16:35:00\",\"16:40:00\",\"16:45:00\",\"16:50:00\",\"16:55:00\",\"17:00:00\",\"17:05:00\",\"17:10:00\",\"17:15:00\",\"17:20:00\",\"17:25:00\",\"17:30:00\",\"17:35:00\",\"17:40:00\",\"17:45:00\",\"17:50:00\",\"17:55:00\",\"18:00:00\",\"18:05:00\"],\"y\":[1.8,2.638,4.64,7.173000000000001,9.56,12.653,17.213,21.253,25.780000000000005,30.204,34.78000000000001,39.087,43.973,48.50400000000001,52.55300000000001,56.632999999999996,60.86,64.673,64.60000000000001,64.5,66.206,75.4,78.427,61.50201115795275,15.531034125150041,19.259781806072983,0.0,0.0,0.0,0.0,0.0,0.0,0.0,0.0,0.0,0.0,0.0,0.0,0.0,0.0,0.0,0.0,0.0,18.90076682967284,22.20478232782791,37.16871369314152,59.41505760458052,71.66173952339982,83.825,53.07111147911952,66.13458527985743,84.102,67.24080446804933,83.4983749477541,84.06512697727437,55.17106277063208,57.185947641480865,74.94806203262483,57.509967567680285,58.07027088871341,64.43725317653632,34.17976609166557,2.6211055750604055,4.564476792772474,0.0,0.0,0.0,0.0,0.0,0.0,0.0,0.0,0.0,0.0,0.0,0.0,0.0,23.13212547720031,0.0,0.0,0.0,0.0,0.0,0.0,6.507716645171051,14.752468674691368,0.0,0.0,35.858493894453055,62.829501086431016,63.80831369314149,35.27655354553996,5.8510258702631575,12.15189671897165,0.0,0.0,0.0,0.0,1.8783535455399405,0.0,0.0,0.0,15.448453176536338,10.123878268787253,0.0,13.112115907163558,0.0,0.0,11.623972733731808,44.51583470438662,46.52927753077983,35.44508564886101,45.18524210642559,53.11247162672086,35.05617642376876,39.87216018760643,35.87065317653627,50.45056535365811,61.000670888713515,73.62840446804931,76.266,74.547,56.172999999999995,81.88000000000001,46.146,25.932000000000002,22.42,41.446999999999996,40.801,25.072999999999997,43.379999999999995,38.148,18.92,73.82,32.5,22.625999999999994,22.5,6.742999999999999,11.180000000000001,5.497999999999999,8.913,10.655999999999999,12.6,10.256,6.729,7.320000000000001],\"type\":\"scatter\"},{\"line\":{\"color\":\"purple\"},\"marker\":{\"size\":8,\"symbol\":\"circle\"},\"mode\":\"lines+markers\",\"name\":\"BERYLSF1 [r]\",\"x\":[\"06:00:00\",\"06:05:00\",\"06:10:00\",\"06:15:00\",\"06:20:00\",\"06:25:00\",\"06:30:00\",\"06:35:00\",\"06:40:00\",\"06:45:00\",\"06:50:00\",\"06:55:00\",\"07:00:00\",\"07:05:00\",\"07:10:00\",\"07:15:00\",\"07:20:00\",\"07:25:00\",\"07:30:00\",\"07:35:00\",\"07:40:00\",\"07:45:00\",\"07:50:00\",\"07:55:00\",\"08:00:00\",\"08:05:00\",\"08:10:00\",\"08:15:00\",\"08:20:00\",\"08:25:00\",\"08:30:00\",\"08:35:00\",\"08:40:00\",\"08:45:00\",\"08:50:00\",\"08:55:00\",\"09:00:00\",\"09:05:00\",\"09:10:00\",\"09:15:00\",\"09:20:00\",\"09:25:00\",\"09:30:00\",\"09:35:00\",\"09:40:00\",\"09:45:00\",\"09:50:00\",\"09:55:00\",\"10:00:00\",\"10:05:00\",\"10:10:00\",\"10:15:00\",\"10:20:00\",\"10:25:00\",\"10:30:00\",\"10:35:00\",\"10:40:00\",\"10:45:00\",\"10:50:00\",\"10:55:00\",\"11:00:00\",\"11:05:00\",\"11:10:00\",\"11:15:00\",\"11:20:00\",\"11:25:00\",\"11:30:00\",\"11:35:00\",\"11:40:00\",\"11:45:00\",\"11:50:00\",\"11:55:00\",\"12:00:00\",\"12:05:00\",\"12:10:00\",\"12:15:00\",\"12:20:00\",\"12:25:00\",\"12:30:00\",\"12:35:00\",\"12:40:00\",\"12:45:00\",\"12:50:00\",\"12:55:00\",\"13:00:00\",\"13:05:00\",\"13:10:00\",\"13:15:00\",\"13:20:00\",\"13:25:00\",\"13:30:00\",\"13:35:00\",\"13:40:00\",\"13:45:00\",\"13:50:00\",\"13:55:00\",\"14:00:00\",\"14:05:00\",\"14:10:00\",\"14:15:00\",\"14:20:00\",\"14:25:00\",\"14:30:00\",\"14:35:00\",\"14:40:00\",\"14:45:00\",\"14:50:00\",\"14:55:00\",\"15:00:00\",\"15:05:00\",\"15:10:00\",\"15:15:00\",\"15:20:00\",\"15:25:00\",\"15:30:00\",\"15:35:00\",\"15:40:00\",\"15:45:00\",\"15:50:00\",\"15:55:00\",\"16:00:00\",\"16:05:00\",\"16:10:00\",\"16:15:00\",\"16:20:00\",\"16:25:00\",\"16:30:00\",\"16:35:00\",\"16:40:00\",\"16:45:00\",\"16:50:00\",\"16:55:00\",\"17:00:00\",\"17:05:00\",\"17:10:00\",\"17:15:00\",\"17:20:00\",\"17:25:00\",\"17:30:00\",\"17:35:00\",\"17:40:00\",\"17:45:00\",\"17:50:00\",\"17:55:00\",\"18:00:00\",\"18:05:00\"],\"y\":[1.8,2.6380000000000003,4.64,7.173000000000001,9.56,12.653000000000002,17.213000000000005,21.253000000000004,25.780000000000005,30.204000000000004,34.78,39.087,43.973,48.504,52.55300000000001,56.633,60.86,64.673,64.6,64.5,66.20600000000002,75.39999999999999,78.427,81.54,86.055,56.45700000000001,63.908,56.79800000000001,57.022000000000006,58.79900000000001,62.76,62.980000000000004,60.79700000000001,60.466,61.964000000000006,70.468,72.965,75.62,71.80900000000001,74.48700000000001,76.20800000000001,73.33633700354456,79.491,79.768,80.479,81.261,81.083,83.33399999999999,83.825,82.39,82.929,84.10199999999999,86.99999999999999,86.99999999999999,84.39,82.88,82.607,86.85300000000001,82.355,81.66300000000001,81.128,80.81200000000001,82.435,82.872,85.875,86.02799999999999,83.552,84.199,79.874,81.004,81.25999999999999,81.70400000000001,85.003,84.789,86.99999999999999,85.243,86.54400000000001,86.99999999999999,86.99999999999999,86.99999999999999,86.99999999999999,86.99999999999999,86.99999999999999,86.99999999999999,86.99999999999999,85.569,84.94399999999999,84.16499999999999,85.04,86.99999999999999,86.99999999999999,86.99999999999999,86.99999999999999,84.39,86.99999999999999,86.99999999999999,86.99999999999999,86.99999999999999,86.99999999999999,86.99999999999999,86.99999999999999,85.813,85.897,85.527,85.403,84.29,86.026,85.83200000000001,85.24,84.673,84.61600000000001,84.67699999999999,84.678,84.263,86.045,85.922,85.752,85.432,84.71000000000001,83.43100000000001,76.266,74.54700000000001,56.17300000000001,81.88000000000001,46.14600000000001,25.932000000000006,22.42,41.447,40.801,25.073000000000004,43.38,38.148,18.92,73.82,32.5,22.626000000000005,22.5,6.743,11.18,5.498000000000001,8.913,10.656,12.600000000000001,10.256000000000002,6.729000000000002,7.319999999999999],\"type\":\"scatter\"}],                        {\"template\":{\"data\":{\"barpolar\":[{\"marker\":{\"line\":{\"color\":\"white\",\"width\":0.5},\"pattern\":{\"fillmode\":\"overlay\",\"size\":10,\"solidity\":0.2}},\"type\":\"barpolar\"}],\"bar\":[{\"error_x\":{\"color\":\"#2a3f5f\"},\"error_y\":{\"color\":\"#2a3f5f\"},\"marker\":{\"line\":{\"color\":\"white\",\"width\":0.5},\"pattern\":{\"fillmode\":\"overlay\",\"size\":10,\"solidity\":0.2}},\"type\":\"bar\"}],\"carpet\":[{\"aaxis\":{\"endlinecolor\":\"#2a3f5f\",\"gridcolor\":\"#C8D4E3\",\"linecolor\":\"#C8D4E3\",\"minorgridcolor\":\"#C8D4E3\",\"startlinecolor\":\"#2a3f5f\"},\"baxis\":{\"endlinecolor\":\"#2a3f5f\",\"gridcolor\":\"#C8D4E3\",\"linecolor\":\"#C8D4E3\",\"minorgridcolor\":\"#C8D4E3\",\"startlinecolor\":\"#2a3f5f\"},\"type\":\"carpet\"}],\"choropleth\":[{\"colorbar\":{\"outlinewidth\":0,\"ticks\":\"\"},\"type\":\"choropleth\"}],\"contourcarpet\":[{\"colorbar\":{\"outlinewidth\":0,\"ticks\":\"\"},\"type\":\"contourcarpet\"}],\"contour\":[{\"colorbar\":{\"outlinewidth\":0,\"ticks\":\"\"},\"colorscale\":[[0.0,\"#0d0887\"],[0.1111111111111111,\"#46039f\"],[0.2222222222222222,\"#7201a8\"],[0.3333333333333333,\"#9c179e\"],[0.4444444444444444,\"#bd3786\"],[0.5555555555555556,\"#d8576b\"],[0.6666666666666666,\"#ed7953\"],[0.7777777777777778,\"#fb9f3a\"],[0.8888888888888888,\"#fdca26\"],[1.0,\"#f0f921\"]],\"type\":\"contour\"}],\"heatmapgl\":[{\"colorbar\":{\"outlinewidth\":0,\"ticks\":\"\"},\"colorscale\":[[0.0,\"#0d0887\"],[0.1111111111111111,\"#46039f\"],[0.2222222222222222,\"#7201a8\"],[0.3333333333333333,\"#9c179e\"],[0.4444444444444444,\"#bd3786\"],[0.5555555555555556,\"#d8576b\"],[0.6666666666666666,\"#ed7953\"],[0.7777777777777778,\"#fb9f3a\"],[0.8888888888888888,\"#fdca26\"],[1.0,\"#f0f921\"]],\"type\":\"heatmapgl\"}],\"heatmap\":[{\"colorbar\":{\"outlinewidth\":0,\"ticks\":\"\"},\"colorscale\":[[0.0,\"#0d0887\"],[0.1111111111111111,\"#46039f\"],[0.2222222222222222,\"#7201a8\"],[0.3333333333333333,\"#9c179e\"],[0.4444444444444444,\"#bd3786\"],[0.5555555555555556,\"#d8576b\"],[0.6666666666666666,\"#ed7953\"],[0.7777777777777778,\"#fb9f3a\"],[0.8888888888888888,\"#fdca26\"],[1.0,\"#f0f921\"]],\"type\":\"heatmap\"}],\"histogram2dcontour\":[{\"colorbar\":{\"outlinewidth\":0,\"ticks\":\"\"},\"colorscale\":[[0.0,\"#0d0887\"],[0.1111111111111111,\"#46039f\"],[0.2222222222222222,\"#7201a8\"],[0.3333333333333333,\"#9c179e\"],[0.4444444444444444,\"#bd3786\"],[0.5555555555555556,\"#d8576b\"],[0.6666666666666666,\"#ed7953\"],[0.7777777777777778,\"#fb9f3a\"],[0.8888888888888888,\"#fdca26\"],[1.0,\"#f0f921\"]],\"type\":\"histogram2dcontour\"}],\"histogram2d\":[{\"colorbar\":{\"outlinewidth\":0,\"ticks\":\"\"},\"colorscale\":[[0.0,\"#0d0887\"],[0.1111111111111111,\"#46039f\"],[0.2222222222222222,\"#7201a8\"],[0.3333333333333333,\"#9c179e\"],[0.4444444444444444,\"#bd3786\"],[0.5555555555555556,\"#d8576b\"],[0.6666666666666666,\"#ed7953\"],[0.7777777777777778,\"#fb9f3a\"],[0.8888888888888888,\"#fdca26\"],[1.0,\"#f0f921\"]],\"type\":\"histogram2d\"}],\"histogram\":[{\"marker\":{\"pattern\":{\"fillmode\":\"overlay\",\"size\":10,\"solidity\":0.2}},\"type\":\"histogram\"}],\"mesh3d\":[{\"colorbar\":{\"outlinewidth\":0,\"ticks\":\"\"},\"type\":\"mesh3d\"}],\"parcoords\":[{\"line\":{\"colorbar\":{\"outlinewidth\":0,\"ticks\":\"\"}},\"type\":\"parcoords\"}],\"pie\":[{\"automargin\":true,\"type\":\"pie\"}],\"scatter3d\":[{\"line\":{\"colorbar\":{\"outlinewidth\":0,\"ticks\":\"\"}},\"marker\":{\"colorbar\":{\"outlinewidth\":0,\"ticks\":\"\"}},\"type\":\"scatter3d\"}],\"scattercarpet\":[{\"marker\":{\"colorbar\":{\"outlinewidth\":0,\"ticks\":\"\"}},\"type\":\"scattercarpet\"}],\"scattergeo\":[{\"marker\":{\"colorbar\":{\"outlinewidth\":0,\"ticks\":\"\"}},\"type\":\"scattergeo\"}],\"scattergl\":[{\"marker\":{\"colorbar\":{\"outlinewidth\":0,\"ticks\":\"\"}},\"type\":\"scattergl\"}],\"scattermapbox\":[{\"marker\":{\"colorbar\":{\"outlinewidth\":0,\"ticks\":\"\"}},\"type\":\"scattermapbox\"}],\"scatterpolargl\":[{\"marker\":{\"colorbar\":{\"outlinewidth\":0,\"ticks\":\"\"}},\"type\":\"scatterpolargl\"}],\"scatterpolar\":[{\"marker\":{\"colorbar\":{\"outlinewidth\":0,\"ticks\":\"\"}},\"type\":\"scatterpolar\"}],\"scatter\":[{\"marker\":{\"colorbar\":{\"outlinewidth\":0,\"ticks\":\"\"}},\"type\":\"scatter\"}],\"scatterternary\":[{\"marker\":{\"colorbar\":{\"outlinewidth\":0,\"ticks\":\"\"}},\"type\":\"scatterternary\"}],\"surface\":[{\"colorbar\":{\"outlinewidth\":0,\"ticks\":\"\"},\"colorscale\":[[0.0,\"#0d0887\"],[0.1111111111111111,\"#46039f\"],[0.2222222222222222,\"#7201a8\"],[0.3333333333333333,\"#9c179e\"],[0.4444444444444444,\"#bd3786\"],[0.5555555555555556,\"#d8576b\"],[0.6666666666666666,\"#ed7953\"],[0.7777777777777778,\"#fb9f3a\"],[0.8888888888888888,\"#fdca26\"],[1.0,\"#f0f921\"]],\"type\":\"surface\"}],\"table\":[{\"cells\":{\"fill\":{\"color\":\"#EBF0F8\"},\"line\":{\"color\":\"white\"}},\"header\":{\"fill\":{\"color\":\"#C8D4E3\"},\"line\":{\"color\":\"white\"}},\"type\":\"table\"}]},\"layout\":{\"annotationdefaults\":{\"arrowcolor\":\"#2a3f5f\",\"arrowhead\":0,\"arrowwidth\":1},\"autotypenumbers\":\"strict\",\"coloraxis\":{\"colorbar\":{\"outlinewidth\":0,\"ticks\":\"\"}},\"colorscale\":{\"diverging\":[[0,\"#8e0152\"],[0.1,\"#c51b7d\"],[0.2,\"#de77ae\"],[0.3,\"#f1b6da\"],[0.4,\"#fde0ef\"],[0.5,\"#f7f7f7\"],[0.6,\"#e6f5d0\"],[0.7,\"#b8e186\"],[0.8,\"#7fbc41\"],[0.9,\"#4d9221\"],[1,\"#276419\"]],\"sequential\":[[0.0,\"#0d0887\"],[0.1111111111111111,\"#46039f\"],[0.2222222222222222,\"#7201a8\"],[0.3333333333333333,\"#9c179e\"],[0.4444444444444444,\"#bd3786\"],[0.5555555555555556,\"#d8576b\"],[0.6666666666666666,\"#ed7953\"],[0.7777777777777778,\"#fb9f3a\"],[0.8888888888888888,\"#fdca26\"],[1.0,\"#f0f921\"]],\"sequentialminus\":[[0.0,\"#0d0887\"],[0.1111111111111111,\"#46039f\"],[0.2222222222222222,\"#7201a8\"],[0.3333333333333333,\"#9c179e\"],[0.4444444444444444,\"#bd3786\"],[0.5555555555555556,\"#d8576b\"],[0.6666666666666666,\"#ed7953\"],[0.7777777777777778,\"#fb9f3a\"],[0.8888888888888888,\"#fdca26\"],[1.0,\"#f0f921\"]]},\"colorway\":[\"#636efa\",\"#EF553B\",\"#00cc96\",\"#ab63fa\",\"#FFA15A\",\"#19d3f3\",\"#FF6692\",\"#B6E880\",\"#FF97FF\",\"#FECB52\"],\"font\":{\"color\":\"#2a3f5f\"},\"geo\":{\"bgcolor\":\"white\",\"lakecolor\":\"white\",\"landcolor\":\"white\",\"showlakes\":true,\"showland\":true,\"subunitcolor\":\"#C8D4E3\"},\"hoverlabel\":{\"align\":\"left\"},\"hovermode\":\"closest\",\"mapbox\":{\"style\":\"light\"},\"paper_bgcolor\":\"white\",\"plot_bgcolor\":\"white\",\"polar\":{\"angularaxis\":{\"gridcolor\":\"#EBF0F8\",\"linecolor\":\"#EBF0F8\",\"ticks\":\"\"},\"bgcolor\":\"white\",\"radialaxis\":{\"gridcolor\":\"#EBF0F8\",\"linecolor\":\"#EBF0F8\",\"ticks\":\"\"}},\"scene\":{\"xaxis\":{\"backgroundcolor\":\"white\",\"gridcolor\":\"#DFE8F3\",\"gridwidth\":2,\"linecolor\":\"#EBF0F8\",\"showbackground\":true,\"ticks\":\"\",\"zerolinecolor\":\"#EBF0F8\"},\"yaxis\":{\"backgroundcolor\":\"white\",\"gridcolor\":\"#DFE8F3\",\"gridwidth\":2,\"linecolor\":\"#EBF0F8\",\"showbackground\":true,\"ticks\":\"\",\"zerolinecolor\":\"#EBF0F8\"},\"zaxis\":{\"backgroundcolor\":\"white\",\"gridcolor\":\"#DFE8F3\",\"gridwidth\":2,\"linecolor\":\"#EBF0F8\",\"showbackground\":true,\"ticks\":\"\",\"zerolinecolor\":\"#EBF0F8\"}},\"shapedefaults\":{\"line\":{\"color\":\"#2a3f5f\"}},\"ternary\":{\"aaxis\":{\"gridcolor\":\"#DFE8F3\",\"linecolor\":\"#A2B1C6\",\"ticks\":\"\"},\"baxis\":{\"gridcolor\":\"#DFE8F3\",\"linecolor\":\"#A2B1C6\",\"ticks\":\"\"},\"bgcolor\":\"white\",\"caxis\":{\"gridcolor\":\"#DFE8F3\",\"linecolor\":\"#A2B1C6\",\"ticks\":\"\"}},\"title\":{\"x\":0.05},\"xaxis\":{\"automargin\":true,\"gridcolor\":\"#EBF0F8\",\"linecolor\":\"#EBF0F8\",\"ticks\":\"\",\"title\":{\"standoff\":15},\"zerolinecolor\":\"#EBF0F8\",\"zerolinewidth\":2},\"yaxis\":{\"automargin\":true,\"gridcolor\":\"#EBF0F8\",\"linecolor\":\"#EBF0F8\",\"ticks\":\"\",\"title\":{\"standoff\":15},\"zerolinecolor\":\"#EBF0F8\",\"zerolinewidth\":2}}},\"xaxis\":{\"title\":{\"text\":\"Time\"}},\"yaxis\":{\"title\":{\"text\":\"Unit dispatch (MW)\"}},\"title\":{\"text\":\"Figure 3: Impact on Beryl SF dispatch by 'N>>N-NIL_94T_947' & N>>N-NIL_94T' on 15/02/21<br><sup>[r] denotes constraint removed</sup>\"}},                        {\"responsive\": true}                    ).then(function(){\n",
       "                            \n",
       "var gd = document.getElementById('d948fa67-e382-4613-b9aa-9dc11a4425ab');\n",
       "var x = new MutationObserver(function (mutations, observer) {{\n",
       "        var display = window.getComputedStyle(gd).display;\n",
       "        if (!display || display === 'none') {{\n",
       "            console.log([gd, 'removed!']);\n",
       "            Plotly.purge(gd);\n",
       "            observer.disconnect();\n",
       "        }}\n",
       "}});\n",
       "\n",
       "// Listen for the removal of the full notebook cells\n",
       "var notebookContainer = gd.closest('#notebook-container');\n",
       "if (notebookContainer) {{\n",
       "    x.observe(notebookContainer, {childList: true});\n",
       "}}\n",
       "\n",
       "// Listen for the clearing of the current output cell\n",
       "var outputEl = gd.closest('.output');\n",
       "if (outputEl) {{\n",
       "    x.observe(outputEl, {childList: true});\n",
       "}}\n",
       "\n",
       "                        })                };                });            </script>        </div>"
      ]
     },
     "metadata": {},
     "output_type": "display_data"
    }
   ],
   "source": [
    "fig3 = go.Figure()\n",
    "fig3.add_trace(go.Scatter(x=timeaxis, y=unit_dispatch[unit_dispatch['unit'] == 'BERYLSF1']['dispatch'], name='BERYLSF1', mode='lines+markers',\n",
    "                         marker_size=8, marker_symbol='circle',line_color='orange'))\n",
    "fig3.add_trace(go.Scatter(x=timeaxis, y=unit_dispatch_r[unit_dispatch_r['unit'] == 'BERYLSF1']['dispatch'], name='BERYLSF1 [r]', mode='lines+markers',\n",
    "                         marker_size=8, marker_symbol='circle',line_color='purple'))\n",
    "fig3.update_xaxes(title=\"Time\")\n",
    "fig3.update_yaxes(title=\"Unit dispatch (MW)\")\n",
    "fig3.update_layout(title=\"Figure 3: Impact on Beryl SF dispatch by 'N>>N-NIL_94T_947' & N>>N-NIL_94T' on 15/02/21<br><sup>[r] denotes constraint removed</sup>\",\n",
    "                  template=\"plotly_white\")\n",
    "fig3.show()"
   ]
  },
  {
   "cell_type": "code",
   "execution_count": 201,
   "metadata": {
    "scrolled": false
   },
   "outputs": [
    {
     "data": {
      "application/vnd.plotly.v1+json": {
       "config": {
        "plotlyServerURL": "https://plot.ly"
       },
       "data": [
        {
         "line": {
          "color": "orange"
         },
         "marker": {
          "size": 8,
          "symbol": "circle"
         },
         "mode": "lines+markers",
         "name": "MANSLR1",
         "type": "scatter",
         "x": [
          "06:00:00",
          "06:05:00",
          "06:10:00",
          "06:15:00",
          "06:20:00",
          "06:25:00",
          "06:30:00",
          "06:35:00",
          "06:40:00",
          "06:45:00",
          "06:50:00",
          "06:55:00",
          "07:00:00",
          "07:05:00",
          "07:10:00",
          "07:15:00",
          "07:20:00",
          "07:25:00",
          "07:30:00",
          "07:35:00",
          "07:40:00",
          "07:45:00",
          "07:50:00",
          "07:55:00",
          "08:00:00",
          "08:05:00",
          "08:10:00",
          "08:15:00",
          "08:20:00",
          "08:25:00",
          "08:30:00",
          "08:35:00",
          "08:40:00",
          "08:45:00",
          "08:50:00",
          "08:55:00",
          "09:00:00",
          "09:05:00",
          "09:10:00",
          "09:15:00",
          "09:20:00",
          "09:25:00",
          "09:30:00",
          "09:35:00",
          "09:40:00",
          "09:45:00",
          "09:50:00",
          "09:55:00",
          "10:00:00",
          "10:05:00",
          "10:10:00",
          "10:15:00",
          "10:20:00",
          "10:25:00",
          "10:30:00",
          "10:35:00",
          "10:40:00",
          "10:45:00",
          "10:50:00",
          "10:55:00",
          "11:00:00",
          "11:05:00",
          "11:10:00",
          "11:15:00",
          "11:20:00",
          "11:25:00",
          "11:30:00",
          "11:35:00",
          "11:40:00",
          "11:45:00",
          "11:50:00",
          "11:55:00",
          "12:00:00",
          "12:05:00",
          "12:10:00",
          "12:15:00",
          "12:20:00",
          "12:25:00",
          "12:30:00",
          "12:35:00",
          "12:40:00",
          "12:45:00",
          "12:50:00",
          "12:55:00",
          "13:00:00",
          "13:05:00",
          "13:10:00",
          "13:15:00",
          "13:20:00",
          "13:25:00",
          "13:30:00",
          "13:35:00",
          "13:40:00",
          "13:45:00",
          "13:50:00",
          "13:55:00",
          "14:00:00",
          "14:05:00",
          "14:10:00",
          "14:15:00",
          "14:20:00",
          "14:25:00",
          "14:30:00",
          "14:35:00",
          "14:40:00",
          "14:45:00",
          "14:50:00",
          "14:55:00",
          "15:00:00",
          "15:05:00",
          "15:10:00",
          "15:15:00",
          "15:20:00",
          "15:25:00",
          "15:30:00",
          "15:35:00",
          "15:40:00",
          "15:45:00",
          "15:50:00",
          "15:55:00",
          "16:00:00",
          "16:05:00",
          "16:10:00",
          "16:15:00",
          "16:20:00",
          "16:25:00",
          "16:30:00",
          "16:35:00",
          "16:40:00",
          "16:45:00",
          "16:50:00",
          "16:55:00",
          "17:00:00",
          "17:05:00",
          "17:10:00",
          "17:15:00",
          "17:20:00",
          "17:25:00",
          "17:30:00",
          "17:35:00",
          "17:40:00",
          "17:45:00",
          "17:50:00",
          "17:55:00",
          "18:00:00",
          "18:05:00"
         ],
         "y": [
          0.6157767500000001,
          1.5520539199999999,
          2.64102827,
          4.51521243,
          6.73581356,
          8.538946739999998,
          10.38656436,
          11.7014356,
          14.57107333,
          16.591895699999995,
          18.435777939999998,
          20.15236426,
          21.20359414,
          22.80838917000001,
          24.977232170000004,
          26.788663399999997,
          22.819348697678375,
          14.053945087901306,
          7.40375163857518,
          5.655188169577091,
          0,
          0.26440316888532933,
          0,
          0,
          0,
          0,
          0,
          0,
          0,
          0,
          0,
          0,
          0,
          0,
          0,
          0,
          0,
          0,
          0,
          0,
          0,
          0,
          0,
          0,
          0,
          0,
          0,
          0,
          0,
          0,
          0,
          0,
          0,
          0,
          0,
          0,
          0,
          0,
          0,
          0,
          0,
          0,
          0,
          0,
          0,
          0,
          0,
          0,
          0,
          0,
          0,
          0,
          0,
          0,
          0,
          0,
          0,
          0,
          0,
          0,
          0,
          0,
          0,
          0,
          0,
          0,
          0,
          0,
          0,
          0,
          0,
          0,
          0,
          0,
          0,
          0,
          0,
          0,
          0,
          0,
          0,
          0,
          0,
          0,
          0,
          0,
          0,
          0,
          0,
          0,
          0,
          0,
          0,
          0,
          0,
          0,
          0,
          0,
          0,
          0,
          0,
          0.5384990655745919,
          0.5229792312241207,
          0,
          4.081198547098005,
          3.0725039218554953,
          7.127989657451881,
          4.569627625091248,
          8.868921769435612,
          10.979714061120891,
          11.296656168335673,
          11.940168195551509,
          12.264921451398951,
          14.341388378973914,
          16.31929204286106,
          25.95992159913952,
          28.021289080747863,
          34.70136236,
          32.65479373,
          28.446149150000004,
          25.905508210000004,
          24.352547339999997,
          21.642571600000004,
          19.63782634,
          17.65730333,
          16.16769591
         ]
        },
        {
         "line": {
          "color": "purple"
         },
         "marker": {
          "size": 8,
          "symbol": "circle"
         },
         "mode": "lines+markers",
         "name": "MANSLR1 [r]",
         "type": "scatter",
         "x": [
          "06:00:00",
          "06:05:00",
          "06:10:00",
          "06:15:00",
          "06:20:00",
          "06:25:00",
          "06:30:00",
          "06:35:00",
          "06:40:00",
          "06:45:00",
          "06:50:00",
          "06:55:00",
          "07:00:00",
          "07:05:00",
          "07:10:00",
          "07:15:00",
          "07:20:00",
          "07:25:00",
          "07:30:00",
          "07:35:00",
          "07:40:00",
          "07:45:00",
          "07:50:00",
          "07:55:00",
          "08:00:00",
          "08:05:00",
          "08:10:00",
          "08:15:00",
          "08:20:00",
          "08:25:00",
          "08:30:00",
          "08:35:00",
          "08:40:00",
          "08:45:00",
          "08:50:00",
          "08:55:00",
          "09:00:00",
          "09:05:00",
          "09:10:00",
          "09:15:00",
          "09:20:00",
          "09:25:00",
          "09:30:00",
          "09:35:00",
          "09:40:00",
          "09:45:00",
          "09:50:00",
          "09:55:00",
          "10:00:00",
          "10:05:00",
          "10:10:00",
          "10:15:00",
          "10:20:00",
          "10:25:00",
          "10:30:00",
          "10:35:00",
          "10:40:00",
          "10:45:00",
          "10:50:00",
          "10:55:00",
          "11:00:00",
          "11:05:00",
          "11:10:00",
          "11:15:00",
          "11:20:00",
          "11:25:00",
          "11:30:00",
          "11:35:00",
          "11:40:00",
          "11:45:00",
          "11:50:00",
          "11:55:00",
          "12:00:00",
          "12:05:00",
          "12:10:00",
          "12:15:00",
          "12:20:00",
          "12:25:00",
          "12:30:00",
          "12:35:00",
          "12:40:00",
          "12:45:00",
          "12:50:00",
          "12:55:00",
          "13:00:00",
          "13:05:00",
          "13:10:00",
          "13:15:00",
          "13:20:00",
          "13:25:00",
          "13:30:00",
          "13:35:00",
          "13:40:00",
          "13:45:00",
          "13:50:00",
          "13:55:00",
          "14:00:00",
          "14:05:00",
          "14:10:00",
          "14:15:00",
          "14:20:00",
          "14:25:00",
          "14:30:00",
          "14:35:00",
          "14:40:00",
          "14:45:00",
          "14:50:00",
          "14:55:00",
          "15:00:00",
          "15:05:00",
          "15:10:00",
          "15:15:00",
          "15:20:00",
          "15:25:00",
          "15:30:00",
          "15:35:00",
          "15:40:00",
          "15:45:00",
          "15:50:00",
          "15:55:00",
          "16:00:00",
          "16:05:00",
          "16:10:00",
          "16:15:00",
          "16:20:00",
          "16:25:00",
          "16:30:00",
          "16:35:00",
          "16:40:00",
          "16:45:00",
          "16:50:00",
          "16:55:00",
          "17:00:00",
          "17:05:00",
          "17:10:00",
          "17:15:00",
          "17:20:00",
          "17:25:00",
          "17:30:00",
          "17:35:00",
          "17:40:00",
          "17:45:00",
          "17:50:00",
          "17:55:00",
          "18:00:00",
          "18:05:00"
         ],
         "y": [
          0.61577675,
          1.55205392,
          2.6410282700000005,
          4.51521243,
          6.73581356,
          8.53894674,
          10.386564360000001,
          11.7014356,
          14.571073330000003,
          16.5918957,
          18.43577794,
          20.15236426,
          21.203594140000003,
          22.80838917,
          24.97723217,
          26.7886634,
          28.98962023494918,
          20.85225356254479,
          10.640199550824862,
          7.428265176673293,
          0,
          0.2644031688853159,
          0,
          0,
          0,
          0,
          0,
          0,
          0,
          0,
          0,
          0,
          0,
          0,
          0,
          0,
          0,
          0,
          0,
          0,
          0,
          0,
          0,
          0,
          0,
          0,
          0,
          0,
          0,
          0,
          0,
          0,
          0,
          0,
          0,
          0,
          0,
          0,
          0,
          0,
          0,
          0,
          0,
          0,
          0,
          0,
          0,
          0,
          0,
          0,
          0,
          0,
          0,
          0,
          0,
          0,
          0,
          0,
          0,
          0,
          0,
          0,
          0,
          0,
          0,
          0,
          0,
          0,
          0.334649503447627,
          0,
          0,
          0,
          0,
          0,
          0,
          0,
          0,
          0,
          0,
          0,
          0,
          0,
          0,
          0,
          0,
          0,
          0,
          0,
          0,
          0.3608567452077209,
          0,
          0,
          0,
          0,
          0,
          0,
          0,
          0,
          0,
          0,
          0,
          0.5384990655745825,
          0.5229792312241208,
          0,
          4.081198547098006,
          3.0725039218554957,
          7.127989657451891,
          4.569627625091249,
          8.868921769435612,
          10.979714061120918,
          11.296656168335682,
          11.94016819555151,
          12.264921451398942,
          14.34138837897393,
          16.31929204286109,
          25.959921599139513,
          28.021289080747874,
          34.70136236,
          32.65479373000001,
          28.446149150000004,
          25.905508210000004,
          24.35254734,
          21.6425716,
          19.63782634,
          17.65730333,
          16.16769591
         ]
        }
       ],
       "layout": {
        "template": {
         "data": {
          "bar": [
           {
            "error_x": {
             "color": "#2a3f5f"
            },
            "error_y": {
             "color": "#2a3f5f"
            },
            "marker": {
             "line": {
              "color": "white",
              "width": 0.5
             },
             "pattern": {
              "fillmode": "overlay",
              "size": 10,
              "solidity": 0.2
             }
            },
            "type": "bar"
           }
          ],
          "barpolar": [
           {
            "marker": {
             "line": {
              "color": "white",
              "width": 0.5
             },
             "pattern": {
              "fillmode": "overlay",
              "size": 10,
              "solidity": 0.2
             }
            },
            "type": "barpolar"
           }
          ],
          "carpet": [
           {
            "aaxis": {
             "endlinecolor": "#2a3f5f",
             "gridcolor": "#C8D4E3",
             "linecolor": "#C8D4E3",
             "minorgridcolor": "#C8D4E3",
             "startlinecolor": "#2a3f5f"
            },
            "baxis": {
             "endlinecolor": "#2a3f5f",
             "gridcolor": "#C8D4E3",
             "linecolor": "#C8D4E3",
             "minorgridcolor": "#C8D4E3",
             "startlinecolor": "#2a3f5f"
            },
            "type": "carpet"
           }
          ],
          "choropleth": [
           {
            "colorbar": {
             "outlinewidth": 0,
             "ticks": ""
            },
            "type": "choropleth"
           }
          ],
          "contour": [
           {
            "colorbar": {
             "outlinewidth": 0,
             "ticks": ""
            },
            "colorscale": [
             [
              0,
              "#0d0887"
             ],
             [
              0.1111111111111111,
              "#46039f"
             ],
             [
              0.2222222222222222,
              "#7201a8"
             ],
             [
              0.3333333333333333,
              "#9c179e"
             ],
             [
              0.4444444444444444,
              "#bd3786"
             ],
             [
              0.5555555555555556,
              "#d8576b"
             ],
             [
              0.6666666666666666,
              "#ed7953"
             ],
             [
              0.7777777777777778,
              "#fb9f3a"
             ],
             [
              0.8888888888888888,
              "#fdca26"
             ],
             [
              1,
              "#f0f921"
             ]
            ],
            "type": "contour"
           }
          ],
          "contourcarpet": [
           {
            "colorbar": {
             "outlinewidth": 0,
             "ticks": ""
            },
            "type": "contourcarpet"
           }
          ],
          "heatmap": [
           {
            "colorbar": {
             "outlinewidth": 0,
             "ticks": ""
            },
            "colorscale": [
             [
              0,
              "#0d0887"
             ],
             [
              0.1111111111111111,
              "#46039f"
             ],
             [
              0.2222222222222222,
              "#7201a8"
             ],
             [
              0.3333333333333333,
              "#9c179e"
             ],
             [
              0.4444444444444444,
              "#bd3786"
             ],
             [
              0.5555555555555556,
              "#d8576b"
             ],
             [
              0.6666666666666666,
              "#ed7953"
             ],
             [
              0.7777777777777778,
              "#fb9f3a"
             ],
             [
              0.8888888888888888,
              "#fdca26"
             ],
             [
              1,
              "#f0f921"
             ]
            ],
            "type": "heatmap"
           }
          ],
          "heatmapgl": [
           {
            "colorbar": {
             "outlinewidth": 0,
             "ticks": ""
            },
            "colorscale": [
             [
              0,
              "#0d0887"
             ],
             [
              0.1111111111111111,
              "#46039f"
             ],
             [
              0.2222222222222222,
              "#7201a8"
             ],
             [
              0.3333333333333333,
              "#9c179e"
             ],
             [
              0.4444444444444444,
              "#bd3786"
             ],
             [
              0.5555555555555556,
              "#d8576b"
             ],
             [
              0.6666666666666666,
              "#ed7953"
             ],
             [
              0.7777777777777778,
              "#fb9f3a"
             ],
             [
              0.8888888888888888,
              "#fdca26"
             ],
             [
              1,
              "#f0f921"
             ]
            ],
            "type": "heatmapgl"
           }
          ],
          "histogram": [
           {
            "marker": {
             "pattern": {
              "fillmode": "overlay",
              "size": 10,
              "solidity": 0.2
             }
            },
            "type": "histogram"
           }
          ],
          "histogram2d": [
           {
            "colorbar": {
             "outlinewidth": 0,
             "ticks": ""
            },
            "colorscale": [
             [
              0,
              "#0d0887"
             ],
             [
              0.1111111111111111,
              "#46039f"
             ],
             [
              0.2222222222222222,
              "#7201a8"
             ],
             [
              0.3333333333333333,
              "#9c179e"
             ],
             [
              0.4444444444444444,
              "#bd3786"
             ],
             [
              0.5555555555555556,
              "#d8576b"
             ],
             [
              0.6666666666666666,
              "#ed7953"
             ],
             [
              0.7777777777777778,
              "#fb9f3a"
             ],
             [
              0.8888888888888888,
              "#fdca26"
             ],
             [
              1,
              "#f0f921"
             ]
            ],
            "type": "histogram2d"
           }
          ],
          "histogram2dcontour": [
           {
            "colorbar": {
             "outlinewidth": 0,
             "ticks": ""
            },
            "colorscale": [
             [
              0,
              "#0d0887"
             ],
             [
              0.1111111111111111,
              "#46039f"
             ],
             [
              0.2222222222222222,
              "#7201a8"
             ],
             [
              0.3333333333333333,
              "#9c179e"
             ],
             [
              0.4444444444444444,
              "#bd3786"
             ],
             [
              0.5555555555555556,
              "#d8576b"
             ],
             [
              0.6666666666666666,
              "#ed7953"
             ],
             [
              0.7777777777777778,
              "#fb9f3a"
             ],
             [
              0.8888888888888888,
              "#fdca26"
             ],
             [
              1,
              "#f0f921"
             ]
            ],
            "type": "histogram2dcontour"
           }
          ],
          "mesh3d": [
           {
            "colorbar": {
             "outlinewidth": 0,
             "ticks": ""
            },
            "type": "mesh3d"
           }
          ],
          "parcoords": [
           {
            "line": {
             "colorbar": {
              "outlinewidth": 0,
              "ticks": ""
             }
            },
            "type": "parcoords"
           }
          ],
          "pie": [
           {
            "automargin": true,
            "type": "pie"
           }
          ],
          "scatter": [
           {
            "marker": {
             "colorbar": {
              "outlinewidth": 0,
              "ticks": ""
             }
            },
            "type": "scatter"
           }
          ],
          "scatter3d": [
           {
            "line": {
             "colorbar": {
              "outlinewidth": 0,
              "ticks": ""
             }
            },
            "marker": {
             "colorbar": {
              "outlinewidth": 0,
              "ticks": ""
             }
            },
            "type": "scatter3d"
           }
          ],
          "scattercarpet": [
           {
            "marker": {
             "colorbar": {
              "outlinewidth": 0,
              "ticks": ""
             }
            },
            "type": "scattercarpet"
           }
          ],
          "scattergeo": [
           {
            "marker": {
             "colorbar": {
              "outlinewidth": 0,
              "ticks": ""
             }
            },
            "type": "scattergeo"
           }
          ],
          "scattergl": [
           {
            "marker": {
             "colorbar": {
              "outlinewidth": 0,
              "ticks": ""
             }
            },
            "type": "scattergl"
           }
          ],
          "scattermapbox": [
           {
            "marker": {
             "colorbar": {
              "outlinewidth": 0,
              "ticks": ""
             }
            },
            "type": "scattermapbox"
           }
          ],
          "scatterpolar": [
           {
            "marker": {
             "colorbar": {
              "outlinewidth": 0,
              "ticks": ""
             }
            },
            "type": "scatterpolar"
           }
          ],
          "scatterpolargl": [
           {
            "marker": {
             "colorbar": {
              "outlinewidth": 0,
              "ticks": ""
             }
            },
            "type": "scatterpolargl"
           }
          ],
          "scatterternary": [
           {
            "marker": {
             "colorbar": {
              "outlinewidth": 0,
              "ticks": ""
             }
            },
            "type": "scatterternary"
           }
          ],
          "surface": [
           {
            "colorbar": {
             "outlinewidth": 0,
             "ticks": ""
            },
            "colorscale": [
             [
              0,
              "#0d0887"
             ],
             [
              0.1111111111111111,
              "#46039f"
             ],
             [
              0.2222222222222222,
              "#7201a8"
             ],
             [
              0.3333333333333333,
              "#9c179e"
             ],
             [
              0.4444444444444444,
              "#bd3786"
             ],
             [
              0.5555555555555556,
              "#d8576b"
             ],
             [
              0.6666666666666666,
              "#ed7953"
             ],
             [
              0.7777777777777778,
              "#fb9f3a"
             ],
             [
              0.8888888888888888,
              "#fdca26"
             ],
             [
              1,
              "#f0f921"
             ]
            ],
            "type": "surface"
           }
          ],
          "table": [
           {
            "cells": {
             "fill": {
              "color": "#EBF0F8"
             },
             "line": {
              "color": "white"
             }
            },
            "header": {
             "fill": {
              "color": "#C8D4E3"
             },
             "line": {
              "color": "white"
             }
            },
            "type": "table"
           }
          ]
         },
         "layout": {
          "annotationdefaults": {
           "arrowcolor": "#2a3f5f",
           "arrowhead": 0,
           "arrowwidth": 1
          },
          "autotypenumbers": "strict",
          "coloraxis": {
           "colorbar": {
            "outlinewidth": 0,
            "ticks": ""
           }
          },
          "colorscale": {
           "diverging": [
            [
             0,
             "#8e0152"
            ],
            [
             0.1,
             "#c51b7d"
            ],
            [
             0.2,
             "#de77ae"
            ],
            [
             0.3,
             "#f1b6da"
            ],
            [
             0.4,
             "#fde0ef"
            ],
            [
             0.5,
             "#f7f7f7"
            ],
            [
             0.6,
             "#e6f5d0"
            ],
            [
             0.7,
             "#b8e186"
            ],
            [
             0.8,
             "#7fbc41"
            ],
            [
             0.9,
             "#4d9221"
            ],
            [
             1,
             "#276419"
            ]
           ],
           "sequential": [
            [
             0,
             "#0d0887"
            ],
            [
             0.1111111111111111,
             "#46039f"
            ],
            [
             0.2222222222222222,
             "#7201a8"
            ],
            [
             0.3333333333333333,
             "#9c179e"
            ],
            [
             0.4444444444444444,
             "#bd3786"
            ],
            [
             0.5555555555555556,
             "#d8576b"
            ],
            [
             0.6666666666666666,
             "#ed7953"
            ],
            [
             0.7777777777777778,
             "#fb9f3a"
            ],
            [
             0.8888888888888888,
             "#fdca26"
            ],
            [
             1,
             "#f0f921"
            ]
           ],
           "sequentialminus": [
            [
             0,
             "#0d0887"
            ],
            [
             0.1111111111111111,
             "#46039f"
            ],
            [
             0.2222222222222222,
             "#7201a8"
            ],
            [
             0.3333333333333333,
             "#9c179e"
            ],
            [
             0.4444444444444444,
             "#bd3786"
            ],
            [
             0.5555555555555556,
             "#d8576b"
            ],
            [
             0.6666666666666666,
             "#ed7953"
            ],
            [
             0.7777777777777778,
             "#fb9f3a"
            ],
            [
             0.8888888888888888,
             "#fdca26"
            ],
            [
             1,
             "#f0f921"
            ]
           ]
          },
          "colorway": [
           "#636efa",
           "#EF553B",
           "#00cc96",
           "#ab63fa",
           "#FFA15A",
           "#19d3f3",
           "#FF6692",
           "#B6E880",
           "#FF97FF",
           "#FECB52"
          ],
          "font": {
           "color": "#2a3f5f"
          },
          "geo": {
           "bgcolor": "white",
           "lakecolor": "white",
           "landcolor": "white",
           "showlakes": true,
           "showland": true,
           "subunitcolor": "#C8D4E3"
          },
          "hoverlabel": {
           "align": "left"
          },
          "hovermode": "closest",
          "mapbox": {
           "style": "light"
          },
          "paper_bgcolor": "white",
          "plot_bgcolor": "white",
          "polar": {
           "angularaxis": {
            "gridcolor": "#EBF0F8",
            "linecolor": "#EBF0F8",
            "ticks": ""
           },
           "bgcolor": "white",
           "radialaxis": {
            "gridcolor": "#EBF0F8",
            "linecolor": "#EBF0F8",
            "ticks": ""
           }
          },
          "scene": {
           "xaxis": {
            "backgroundcolor": "white",
            "gridcolor": "#DFE8F3",
            "gridwidth": 2,
            "linecolor": "#EBF0F8",
            "showbackground": true,
            "ticks": "",
            "zerolinecolor": "#EBF0F8"
           },
           "yaxis": {
            "backgroundcolor": "white",
            "gridcolor": "#DFE8F3",
            "gridwidth": 2,
            "linecolor": "#EBF0F8",
            "showbackground": true,
            "ticks": "",
            "zerolinecolor": "#EBF0F8"
           },
           "zaxis": {
            "backgroundcolor": "white",
            "gridcolor": "#DFE8F3",
            "gridwidth": 2,
            "linecolor": "#EBF0F8",
            "showbackground": true,
            "ticks": "",
            "zerolinecolor": "#EBF0F8"
           }
          },
          "shapedefaults": {
           "line": {
            "color": "#2a3f5f"
           }
          },
          "ternary": {
           "aaxis": {
            "gridcolor": "#DFE8F3",
            "linecolor": "#A2B1C6",
            "ticks": ""
           },
           "baxis": {
            "gridcolor": "#DFE8F3",
            "linecolor": "#A2B1C6",
            "ticks": ""
           },
           "bgcolor": "white",
           "caxis": {
            "gridcolor": "#DFE8F3",
            "linecolor": "#A2B1C6",
            "ticks": ""
           }
          },
          "title": {
           "x": 0.05
          },
          "xaxis": {
           "automargin": true,
           "gridcolor": "#EBF0F8",
           "linecolor": "#EBF0F8",
           "ticks": "",
           "title": {
            "standoff": 15
           },
           "zerolinecolor": "#EBF0F8",
           "zerolinewidth": 2
          },
          "yaxis": {
           "automargin": true,
           "gridcolor": "#EBF0F8",
           "linecolor": "#EBF0F8",
           "ticks": "",
           "title": {
            "standoff": 15
           },
           "zerolinecolor": "#EBF0F8",
           "zerolinewidth": 2
          }
         }
        },
        "title": {
         "text": "Figure 4: Impact on Manildra dispatch by 'N>>N-NIL_94T_947' & N>>N-NIL_94T' on 15/02/21<br><sup>[r] denotes constraint removed</sup>"
        },
        "xaxis": {
         "title": {
          "text": "Time"
         }
        },
        "yaxis": {
         "title": {
          "text": "Unit dispatch (MW)"
         }
        }
       }
      },
      "text/html": [
       "<div>                            <div id=\"778e6c89-fa6e-4f7b-bfc3-39540b9f5d62\" class=\"plotly-graph-div\" style=\"height:525px; width:100%;\"></div>            <script type=\"text/javascript\">                require([\"plotly\"], function(Plotly) {                    window.PLOTLYENV=window.PLOTLYENV || {};                                    if (document.getElementById(\"778e6c89-fa6e-4f7b-bfc3-39540b9f5d62\")) {                    Plotly.newPlot(                        \"778e6c89-fa6e-4f7b-bfc3-39540b9f5d62\",                        [{\"line\":{\"color\":\"orange\"},\"marker\":{\"size\":8,\"symbol\":\"circle\"},\"mode\":\"lines+markers\",\"name\":\"MANSLR1\",\"x\":[\"06:00:00\",\"06:05:00\",\"06:10:00\",\"06:15:00\",\"06:20:00\",\"06:25:00\",\"06:30:00\",\"06:35:00\",\"06:40:00\",\"06:45:00\",\"06:50:00\",\"06:55:00\",\"07:00:00\",\"07:05:00\",\"07:10:00\",\"07:15:00\",\"07:20:00\",\"07:25:00\",\"07:30:00\",\"07:35:00\",\"07:40:00\",\"07:45:00\",\"07:50:00\",\"07:55:00\",\"08:00:00\",\"08:05:00\",\"08:10:00\",\"08:15:00\",\"08:20:00\",\"08:25:00\",\"08:30:00\",\"08:35:00\",\"08:40:00\",\"08:45:00\",\"08:50:00\",\"08:55:00\",\"09:00:00\",\"09:05:00\",\"09:10:00\",\"09:15:00\",\"09:20:00\",\"09:25:00\",\"09:30:00\",\"09:35:00\",\"09:40:00\",\"09:45:00\",\"09:50:00\",\"09:55:00\",\"10:00:00\",\"10:05:00\",\"10:10:00\",\"10:15:00\",\"10:20:00\",\"10:25:00\",\"10:30:00\",\"10:35:00\",\"10:40:00\",\"10:45:00\",\"10:50:00\",\"10:55:00\",\"11:00:00\",\"11:05:00\",\"11:10:00\",\"11:15:00\",\"11:20:00\",\"11:25:00\",\"11:30:00\",\"11:35:00\",\"11:40:00\",\"11:45:00\",\"11:50:00\",\"11:55:00\",\"12:00:00\",\"12:05:00\",\"12:10:00\",\"12:15:00\",\"12:20:00\",\"12:25:00\",\"12:30:00\",\"12:35:00\",\"12:40:00\",\"12:45:00\",\"12:50:00\",\"12:55:00\",\"13:00:00\",\"13:05:00\",\"13:10:00\",\"13:15:00\",\"13:20:00\",\"13:25:00\",\"13:30:00\",\"13:35:00\",\"13:40:00\",\"13:45:00\",\"13:50:00\",\"13:55:00\",\"14:00:00\",\"14:05:00\",\"14:10:00\",\"14:15:00\",\"14:20:00\",\"14:25:00\",\"14:30:00\",\"14:35:00\",\"14:40:00\",\"14:45:00\",\"14:50:00\",\"14:55:00\",\"15:00:00\",\"15:05:00\",\"15:10:00\",\"15:15:00\",\"15:20:00\",\"15:25:00\",\"15:30:00\",\"15:35:00\",\"15:40:00\",\"15:45:00\",\"15:50:00\",\"15:55:00\",\"16:00:00\",\"16:05:00\",\"16:10:00\",\"16:15:00\",\"16:20:00\",\"16:25:00\",\"16:30:00\",\"16:35:00\",\"16:40:00\",\"16:45:00\",\"16:50:00\",\"16:55:00\",\"17:00:00\",\"17:05:00\",\"17:10:00\",\"17:15:00\",\"17:20:00\",\"17:25:00\",\"17:30:00\",\"17:35:00\",\"17:40:00\",\"17:45:00\",\"17:50:00\",\"17:55:00\",\"18:00:00\",\"18:05:00\"],\"y\":[0.6157767500000001,1.5520539199999999,2.64102827,4.51521243,6.73581356,8.538946739999998,10.38656436,11.7014356,14.57107333,16.591895699999995,18.435777939999998,20.15236426,21.20359414,22.80838917000001,24.977232170000004,26.788663399999997,22.819348697678375,14.053945087901306,7.40375163857518,5.655188169577091,0.0,0.26440316888532933,0.0,0.0,0.0,0.0,0.0,0.0,0.0,0.0,0.0,0.0,0.0,0.0,0.0,0.0,0.0,0.0,0.0,0.0,0.0,0.0,0.0,0.0,0.0,0.0,0.0,0.0,0.0,0.0,0.0,0.0,0.0,0.0,0.0,0.0,0.0,0.0,0.0,0.0,0.0,0.0,0.0,0.0,0.0,0.0,0.0,0.0,0.0,0.0,0.0,0.0,0.0,0.0,0.0,0.0,0.0,0.0,0.0,0.0,0.0,0.0,0.0,0.0,0.0,0.0,0.0,0.0,0.0,0.0,0.0,0.0,0.0,0.0,0.0,0.0,0.0,0.0,0.0,0.0,0.0,0.0,0.0,0.0,0.0,0.0,0.0,0.0,0.0,0.0,0.0,0.0,0.0,0.0,0.0,0.0,0.0,0.0,0.0,0.0,0.0,0.5384990655745919,0.5229792312241207,0.0,4.081198547098005,3.0725039218554953,7.127989657451881,4.569627625091248,8.868921769435612,10.979714061120891,11.296656168335673,11.940168195551509,12.264921451398951,14.341388378973914,16.31929204286106,25.95992159913952,28.021289080747863,34.70136236,32.65479373,28.446149150000004,25.905508210000004,24.352547339999997,21.642571600000004,19.63782634,17.65730333,16.16769591],\"type\":\"scatter\"},{\"line\":{\"color\":\"purple\"},\"marker\":{\"size\":8,\"symbol\":\"circle\"},\"mode\":\"lines+markers\",\"name\":\"MANSLR1 [r]\",\"x\":[\"06:00:00\",\"06:05:00\",\"06:10:00\",\"06:15:00\",\"06:20:00\",\"06:25:00\",\"06:30:00\",\"06:35:00\",\"06:40:00\",\"06:45:00\",\"06:50:00\",\"06:55:00\",\"07:00:00\",\"07:05:00\",\"07:10:00\",\"07:15:00\",\"07:20:00\",\"07:25:00\",\"07:30:00\",\"07:35:00\",\"07:40:00\",\"07:45:00\",\"07:50:00\",\"07:55:00\",\"08:00:00\",\"08:05:00\",\"08:10:00\",\"08:15:00\",\"08:20:00\",\"08:25:00\",\"08:30:00\",\"08:35:00\",\"08:40:00\",\"08:45:00\",\"08:50:00\",\"08:55:00\",\"09:00:00\",\"09:05:00\",\"09:10:00\",\"09:15:00\",\"09:20:00\",\"09:25:00\",\"09:30:00\",\"09:35:00\",\"09:40:00\",\"09:45:00\",\"09:50:00\",\"09:55:00\",\"10:00:00\",\"10:05:00\",\"10:10:00\",\"10:15:00\",\"10:20:00\",\"10:25:00\",\"10:30:00\",\"10:35:00\",\"10:40:00\",\"10:45:00\",\"10:50:00\",\"10:55:00\",\"11:00:00\",\"11:05:00\",\"11:10:00\",\"11:15:00\",\"11:20:00\",\"11:25:00\",\"11:30:00\",\"11:35:00\",\"11:40:00\",\"11:45:00\",\"11:50:00\",\"11:55:00\",\"12:00:00\",\"12:05:00\",\"12:10:00\",\"12:15:00\",\"12:20:00\",\"12:25:00\",\"12:30:00\",\"12:35:00\",\"12:40:00\",\"12:45:00\",\"12:50:00\",\"12:55:00\",\"13:00:00\",\"13:05:00\",\"13:10:00\",\"13:15:00\",\"13:20:00\",\"13:25:00\",\"13:30:00\",\"13:35:00\",\"13:40:00\",\"13:45:00\",\"13:50:00\",\"13:55:00\",\"14:00:00\",\"14:05:00\",\"14:10:00\",\"14:15:00\",\"14:20:00\",\"14:25:00\",\"14:30:00\",\"14:35:00\",\"14:40:00\",\"14:45:00\",\"14:50:00\",\"14:55:00\",\"15:00:00\",\"15:05:00\",\"15:10:00\",\"15:15:00\",\"15:20:00\",\"15:25:00\",\"15:30:00\",\"15:35:00\",\"15:40:00\",\"15:45:00\",\"15:50:00\",\"15:55:00\",\"16:00:00\",\"16:05:00\",\"16:10:00\",\"16:15:00\",\"16:20:00\",\"16:25:00\",\"16:30:00\",\"16:35:00\",\"16:40:00\",\"16:45:00\",\"16:50:00\",\"16:55:00\",\"17:00:00\",\"17:05:00\",\"17:10:00\",\"17:15:00\",\"17:20:00\",\"17:25:00\",\"17:30:00\",\"17:35:00\",\"17:40:00\",\"17:45:00\",\"17:50:00\",\"17:55:00\",\"18:00:00\",\"18:05:00\"],\"y\":[0.61577675,1.55205392,2.6410282700000005,4.51521243,6.73581356,8.53894674,10.386564360000001,11.7014356,14.571073330000003,16.5918957,18.43577794,20.15236426,21.203594140000003,22.80838917,24.97723217,26.7886634,28.98962023494918,20.85225356254479,10.640199550824862,7.428265176673293,0.0,0.2644031688853159,0.0,0.0,0.0,0.0,0.0,0.0,0.0,0.0,0.0,0.0,0.0,0.0,0.0,0.0,0.0,0.0,0.0,0.0,0.0,0.0,0.0,0.0,0.0,0.0,0.0,0.0,0.0,0.0,0.0,0.0,0.0,0.0,0.0,0.0,0.0,0.0,0.0,0.0,0.0,0.0,0.0,0.0,0.0,0.0,0.0,0.0,0.0,0.0,0.0,0.0,0.0,0.0,0.0,0.0,0.0,0.0,0.0,0.0,0.0,0.0,0.0,0.0,0.0,0.0,0.0,0.0,0.334649503447627,0.0,0.0,0.0,0.0,0.0,0.0,0.0,0.0,0.0,0.0,0.0,0.0,0.0,0.0,0.0,0.0,0.0,0.0,0.0,0.0,0.3608567452077209,0.0,0.0,0.0,0.0,0.0,0.0,0.0,0.0,0.0,0.0,0.0,0.5384990655745825,0.5229792312241208,0.0,4.081198547098006,3.0725039218554957,7.127989657451891,4.569627625091249,8.868921769435612,10.979714061120918,11.296656168335682,11.94016819555151,12.264921451398942,14.34138837897393,16.31929204286109,25.959921599139513,28.021289080747874,34.70136236,32.65479373000001,28.446149150000004,25.905508210000004,24.35254734,21.6425716,19.63782634,17.65730333,16.16769591],\"type\":\"scatter\"}],                        {\"template\":{\"data\":{\"barpolar\":[{\"marker\":{\"line\":{\"color\":\"white\",\"width\":0.5},\"pattern\":{\"fillmode\":\"overlay\",\"size\":10,\"solidity\":0.2}},\"type\":\"barpolar\"}],\"bar\":[{\"error_x\":{\"color\":\"#2a3f5f\"},\"error_y\":{\"color\":\"#2a3f5f\"},\"marker\":{\"line\":{\"color\":\"white\",\"width\":0.5},\"pattern\":{\"fillmode\":\"overlay\",\"size\":10,\"solidity\":0.2}},\"type\":\"bar\"}],\"carpet\":[{\"aaxis\":{\"endlinecolor\":\"#2a3f5f\",\"gridcolor\":\"#C8D4E3\",\"linecolor\":\"#C8D4E3\",\"minorgridcolor\":\"#C8D4E3\",\"startlinecolor\":\"#2a3f5f\"},\"baxis\":{\"endlinecolor\":\"#2a3f5f\",\"gridcolor\":\"#C8D4E3\",\"linecolor\":\"#C8D4E3\",\"minorgridcolor\":\"#C8D4E3\",\"startlinecolor\":\"#2a3f5f\"},\"type\":\"carpet\"}],\"choropleth\":[{\"colorbar\":{\"outlinewidth\":0,\"ticks\":\"\"},\"type\":\"choropleth\"}],\"contourcarpet\":[{\"colorbar\":{\"outlinewidth\":0,\"ticks\":\"\"},\"type\":\"contourcarpet\"}],\"contour\":[{\"colorbar\":{\"outlinewidth\":0,\"ticks\":\"\"},\"colorscale\":[[0.0,\"#0d0887\"],[0.1111111111111111,\"#46039f\"],[0.2222222222222222,\"#7201a8\"],[0.3333333333333333,\"#9c179e\"],[0.4444444444444444,\"#bd3786\"],[0.5555555555555556,\"#d8576b\"],[0.6666666666666666,\"#ed7953\"],[0.7777777777777778,\"#fb9f3a\"],[0.8888888888888888,\"#fdca26\"],[1.0,\"#f0f921\"]],\"type\":\"contour\"}],\"heatmapgl\":[{\"colorbar\":{\"outlinewidth\":0,\"ticks\":\"\"},\"colorscale\":[[0.0,\"#0d0887\"],[0.1111111111111111,\"#46039f\"],[0.2222222222222222,\"#7201a8\"],[0.3333333333333333,\"#9c179e\"],[0.4444444444444444,\"#bd3786\"],[0.5555555555555556,\"#d8576b\"],[0.6666666666666666,\"#ed7953\"],[0.7777777777777778,\"#fb9f3a\"],[0.8888888888888888,\"#fdca26\"],[1.0,\"#f0f921\"]],\"type\":\"heatmapgl\"}],\"heatmap\":[{\"colorbar\":{\"outlinewidth\":0,\"ticks\":\"\"},\"colorscale\":[[0.0,\"#0d0887\"],[0.1111111111111111,\"#46039f\"],[0.2222222222222222,\"#7201a8\"],[0.3333333333333333,\"#9c179e\"],[0.4444444444444444,\"#bd3786\"],[0.5555555555555556,\"#d8576b\"],[0.6666666666666666,\"#ed7953\"],[0.7777777777777778,\"#fb9f3a\"],[0.8888888888888888,\"#fdca26\"],[1.0,\"#f0f921\"]],\"type\":\"heatmap\"}],\"histogram2dcontour\":[{\"colorbar\":{\"outlinewidth\":0,\"ticks\":\"\"},\"colorscale\":[[0.0,\"#0d0887\"],[0.1111111111111111,\"#46039f\"],[0.2222222222222222,\"#7201a8\"],[0.3333333333333333,\"#9c179e\"],[0.4444444444444444,\"#bd3786\"],[0.5555555555555556,\"#d8576b\"],[0.6666666666666666,\"#ed7953\"],[0.7777777777777778,\"#fb9f3a\"],[0.8888888888888888,\"#fdca26\"],[1.0,\"#f0f921\"]],\"type\":\"histogram2dcontour\"}],\"histogram2d\":[{\"colorbar\":{\"outlinewidth\":0,\"ticks\":\"\"},\"colorscale\":[[0.0,\"#0d0887\"],[0.1111111111111111,\"#46039f\"],[0.2222222222222222,\"#7201a8\"],[0.3333333333333333,\"#9c179e\"],[0.4444444444444444,\"#bd3786\"],[0.5555555555555556,\"#d8576b\"],[0.6666666666666666,\"#ed7953\"],[0.7777777777777778,\"#fb9f3a\"],[0.8888888888888888,\"#fdca26\"],[1.0,\"#f0f921\"]],\"type\":\"histogram2d\"}],\"histogram\":[{\"marker\":{\"pattern\":{\"fillmode\":\"overlay\",\"size\":10,\"solidity\":0.2}},\"type\":\"histogram\"}],\"mesh3d\":[{\"colorbar\":{\"outlinewidth\":0,\"ticks\":\"\"},\"type\":\"mesh3d\"}],\"parcoords\":[{\"line\":{\"colorbar\":{\"outlinewidth\":0,\"ticks\":\"\"}},\"type\":\"parcoords\"}],\"pie\":[{\"automargin\":true,\"type\":\"pie\"}],\"scatter3d\":[{\"line\":{\"colorbar\":{\"outlinewidth\":0,\"ticks\":\"\"}},\"marker\":{\"colorbar\":{\"outlinewidth\":0,\"ticks\":\"\"}},\"type\":\"scatter3d\"}],\"scattercarpet\":[{\"marker\":{\"colorbar\":{\"outlinewidth\":0,\"ticks\":\"\"}},\"type\":\"scattercarpet\"}],\"scattergeo\":[{\"marker\":{\"colorbar\":{\"outlinewidth\":0,\"ticks\":\"\"}},\"type\":\"scattergeo\"}],\"scattergl\":[{\"marker\":{\"colorbar\":{\"outlinewidth\":0,\"ticks\":\"\"}},\"type\":\"scattergl\"}],\"scattermapbox\":[{\"marker\":{\"colorbar\":{\"outlinewidth\":0,\"ticks\":\"\"}},\"type\":\"scattermapbox\"}],\"scatterpolargl\":[{\"marker\":{\"colorbar\":{\"outlinewidth\":0,\"ticks\":\"\"}},\"type\":\"scatterpolargl\"}],\"scatterpolar\":[{\"marker\":{\"colorbar\":{\"outlinewidth\":0,\"ticks\":\"\"}},\"type\":\"scatterpolar\"}],\"scatter\":[{\"marker\":{\"colorbar\":{\"outlinewidth\":0,\"ticks\":\"\"}},\"type\":\"scatter\"}],\"scatterternary\":[{\"marker\":{\"colorbar\":{\"outlinewidth\":0,\"ticks\":\"\"}},\"type\":\"scatterternary\"}],\"surface\":[{\"colorbar\":{\"outlinewidth\":0,\"ticks\":\"\"},\"colorscale\":[[0.0,\"#0d0887\"],[0.1111111111111111,\"#46039f\"],[0.2222222222222222,\"#7201a8\"],[0.3333333333333333,\"#9c179e\"],[0.4444444444444444,\"#bd3786\"],[0.5555555555555556,\"#d8576b\"],[0.6666666666666666,\"#ed7953\"],[0.7777777777777778,\"#fb9f3a\"],[0.8888888888888888,\"#fdca26\"],[1.0,\"#f0f921\"]],\"type\":\"surface\"}],\"table\":[{\"cells\":{\"fill\":{\"color\":\"#EBF0F8\"},\"line\":{\"color\":\"white\"}},\"header\":{\"fill\":{\"color\":\"#C8D4E3\"},\"line\":{\"color\":\"white\"}},\"type\":\"table\"}]},\"layout\":{\"annotationdefaults\":{\"arrowcolor\":\"#2a3f5f\",\"arrowhead\":0,\"arrowwidth\":1},\"autotypenumbers\":\"strict\",\"coloraxis\":{\"colorbar\":{\"outlinewidth\":0,\"ticks\":\"\"}},\"colorscale\":{\"diverging\":[[0,\"#8e0152\"],[0.1,\"#c51b7d\"],[0.2,\"#de77ae\"],[0.3,\"#f1b6da\"],[0.4,\"#fde0ef\"],[0.5,\"#f7f7f7\"],[0.6,\"#e6f5d0\"],[0.7,\"#b8e186\"],[0.8,\"#7fbc41\"],[0.9,\"#4d9221\"],[1,\"#276419\"]],\"sequential\":[[0.0,\"#0d0887\"],[0.1111111111111111,\"#46039f\"],[0.2222222222222222,\"#7201a8\"],[0.3333333333333333,\"#9c179e\"],[0.4444444444444444,\"#bd3786\"],[0.5555555555555556,\"#d8576b\"],[0.6666666666666666,\"#ed7953\"],[0.7777777777777778,\"#fb9f3a\"],[0.8888888888888888,\"#fdca26\"],[1.0,\"#f0f921\"]],\"sequentialminus\":[[0.0,\"#0d0887\"],[0.1111111111111111,\"#46039f\"],[0.2222222222222222,\"#7201a8\"],[0.3333333333333333,\"#9c179e\"],[0.4444444444444444,\"#bd3786\"],[0.5555555555555556,\"#d8576b\"],[0.6666666666666666,\"#ed7953\"],[0.7777777777777778,\"#fb9f3a\"],[0.8888888888888888,\"#fdca26\"],[1.0,\"#f0f921\"]]},\"colorway\":[\"#636efa\",\"#EF553B\",\"#00cc96\",\"#ab63fa\",\"#FFA15A\",\"#19d3f3\",\"#FF6692\",\"#B6E880\",\"#FF97FF\",\"#FECB52\"],\"font\":{\"color\":\"#2a3f5f\"},\"geo\":{\"bgcolor\":\"white\",\"lakecolor\":\"white\",\"landcolor\":\"white\",\"showlakes\":true,\"showland\":true,\"subunitcolor\":\"#C8D4E3\"},\"hoverlabel\":{\"align\":\"left\"},\"hovermode\":\"closest\",\"mapbox\":{\"style\":\"light\"},\"paper_bgcolor\":\"white\",\"plot_bgcolor\":\"white\",\"polar\":{\"angularaxis\":{\"gridcolor\":\"#EBF0F8\",\"linecolor\":\"#EBF0F8\",\"ticks\":\"\"},\"bgcolor\":\"white\",\"radialaxis\":{\"gridcolor\":\"#EBF0F8\",\"linecolor\":\"#EBF0F8\",\"ticks\":\"\"}},\"scene\":{\"xaxis\":{\"backgroundcolor\":\"white\",\"gridcolor\":\"#DFE8F3\",\"gridwidth\":2,\"linecolor\":\"#EBF0F8\",\"showbackground\":true,\"ticks\":\"\",\"zerolinecolor\":\"#EBF0F8\"},\"yaxis\":{\"backgroundcolor\":\"white\",\"gridcolor\":\"#DFE8F3\",\"gridwidth\":2,\"linecolor\":\"#EBF0F8\",\"showbackground\":true,\"ticks\":\"\",\"zerolinecolor\":\"#EBF0F8\"},\"zaxis\":{\"backgroundcolor\":\"white\",\"gridcolor\":\"#DFE8F3\",\"gridwidth\":2,\"linecolor\":\"#EBF0F8\",\"showbackground\":true,\"ticks\":\"\",\"zerolinecolor\":\"#EBF0F8\"}},\"shapedefaults\":{\"line\":{\"color\":\"#2a3f5f\"}},\"ternary\":{\"aaxis\":{\"gridcolor\":\"#DFE8F3\",\"linecolor\":\"#A2B1C6\",\"ticks\":\"\"},\"baxis\":{\"gridcolor\":\"#DFE8F3\",\"linecolor\":\"#A2B1C6\",\"ticks\":\"\"},\"bgcolor\":\"white\",\"caxis\":{\"gridcolor\":\"#DFE8F3\",\"linecolor\":\"#A2B1C6\",\"ticks\":\"\"}},\"title\":{\"x\":0.05},\"xaxis\":{\"automargin\":true,\"gridcolor\":\"#EBF0F8\",\"linecolor\":\"#EBF0F8\",\"ticks\":\"\",\"title\":{\"standoff\":15},\"zerolinecolor\":\"#EBF0F8\",\"zerolinewidth\":2},\"yaxis\":{\"automargin\":true,\"gridcolor\":\"#EBF0F8\",\"linecolor\":\"#EBF0F8\",\"ticks\":\"\",\"title\":{\"standoff\":15},\"zerolinecolor\":\"#EBF0F8\",\"zerolinewidth\":2}}},\"xaxis\":{\"title\":{\"text\":\"Time\"}},\"yaxis\":{\"title\":{\"text\":\"Unit dispatch (MW)\"}},\"title\":{\"text\":\"Figure 4: Impact on Manildra dispatch by 'N>>N-NIL_94T_947' & N>>N-NIL_94T' on 15/02/21<br><sup>[r] denotes constraint removed</sup>\"}},                        {\"responsive\": true}                    ).then(function(){\n",
       "                            \n",
       "var gd = document.getElementById('778e6c89-fa6e-4f7b-bfc3-39540b9f5d62');\n",
       "var x = new MutationObserver(function (mutations, observer) {{\n",
       "        var display = window.getComputedStyle(gd).display;\n",
       "        if (!display || display === 'none') {{\n",
       "            console.log([gd, 'removed!']);\n",
       "            Plotly.purge(gd);\n",
       "            observer.disconnect();\n",
       "        }}\n",
       "}});\n",
       "\n",
       "// Listen for the removal of the full notebook cells\n",
       "var notebookContainer = gd.closest('#notebook-container');\n",
       "if (notebookContainer) {{\n",
       "    x.observe(notebookContainer, {childList: true});\n",
       "}}\n",
       "\n",
       "// Listen for the clearing of the current output cell\n",
       "var outputEl = gd.closest('.output');\n",
       "if (outputEl) {{\n",
       "    x.observe(outputEl, {childList: true});\n",
       "}}\n",
       "\n",
       "                        })                };                });            </script>        </div>"
      ]
     },
     "metadata": {},
     "output_type": "display_data"
    }
   ],
   "source": [
    "fig4 = go.Figure()\n",
    "fig4.add_trace(go.Scatter(x=timeaxis, y=unit_dispatch[unit_dispatch['unit'] == 'MANSLR1']['dispatch'], name='MANSLR1', mode='lines+markers',\n",
    "                         marker_size=8, marker_symbol='circle',line_color='orange'))\n",
    "fig4.add_trace(go.Scatter(x=timeaxis, y=unit_dispatch_r[unit_dispatch_r['unit'] == 'MANSLR1']['dispatch'], name='MANSLR1 [r]', mode='lines+markers',\n",
    "                         marker_size=8, marker_symbol='circle',line_color='purple'))\n",
    "fig4.update_xaxes(title=\"Time\")\n",
    "fig4.update_yaxes(title=\"Unit dispatch (MW)\")\n",
    "fig4.update_layout(title=\"Figure 4: Impact on Manildra dispatch by 'N>>N-NIL_94T_947' & N>>N-NIL_94T' on 15/02/21<br><sup>[r] denotes constraint removed</sup>\",\n",
    "                  template=\"plotly_white\")\n",
    "fig4.show()"
   ]
  },
  {
   "attachments": {
    "image-3.png": {
     "image/png": "[encoded data removed]"
    },
    "image-4.png": {
     "image/png": "[encoded data removed]"
    }
   },
   "cell_type": "markdown",
   "metadata": {},
   "source": [
    "![image-3.png](attachment:image-3.png)\n",
    "![image-4.png](attachment:image-4.png)\n",
    "\n",
    "Figure 3 and Figure 4 captures the real crux of this type of constraints analysis using nempy. The impact of the specific line constraint for Beryl Solar Farm is profound throughout the majority of the day, at least the important hours where solar is available that is! However that cannot be said for Manildra. Despite being constrained signficantly, the cause of Manildra's curtailment cannot be attributed to 'N>>N-NIL_94T_947' & 'N>>N-NIL_94T' constraints. It is plausible (very much so) that another thermal line constraint in the vincinity is also binding... but we'll save this adventure for another time!"
   ]
  },
  {
   "cell_type": "markdown",
   "metadata": {},
   "source": [
    "---\n",
    "## Download Results\n",
    "\n",
    "The excel file here is also available should it be of interest to look into specific numbers. A copy can be found in the constraints repository."
   ]
  },
  {
   "cell_type": "code",
   "execution_count": 98,
   "metadata": {},
   "outputs": [],
   "source": [
    "dflist = [prices_table.reset_index(), prices_table_r.reset_index(), mv_table.reset_index(), \\\n",
    "          mv_table_r.reset_index(), units_table.reset_index(), units_table_r.reset_index()]\n",
    "dfnames = ['Base-Prices','ConRemoved-Prices','Base-MVs','ConRemoved-MVs','Base-Units','ConRemoved-Units']\n",
    "\n",
    "Excelwriter = pd.ExcelWriter(\"results.xlsx\",engine=\"xlsxwriter\")\n",
    "for i, df in enumerate (dflist):\n",
    "    df.to_excel(Excelwriter, sheet_name=dfnames[i],index=False)\n",
    "Excelwriter.save()"
   ]
  },
  {
   "cell_type": "markdown",
   "metadata": {},
   "source": [
    "---\n",
    "## Parting Words\n",
    "\n",
    "This example of the timeseries builds on the previous explaination of using nempy for analysing constraints. It captures a tangible or visual sense of why constraints matter so much for specific units, here highlighting Beryl Solar Farm and Manildra Solar Farm as only one example of comparison. Such analysis is extremely insightful for anyone looking to gain a grasp on the uniqueness of constraints and subsequent impacts to specific generators or market outcomes at large.\n",
    "\n",
    "If there's two cents to take from this, one should never jump to conclusions of what's causing a specific plant to be constrained... and secondly, assuming all units will be 'alleviated' in the same way should a constraint be removed entirely! \n",
    "\n",
    "I hope this example proved to be benefiticial in one way or another. Feel free to reach out if you have any questions!"
   ]
  }
 ],
 "metadata": {
  "colab": {
   "name": "nempy_constraints_analysis_example_a.ipynb",
   "provenance": [],
   "toc_visible": true
  },
  "kernelspec": {
   "display_name": "constraintsenv",
   "language": "python",
   "name": "constraintsenv"
  },
  "language_info": {
   "codemirror_mode": {
    "name": "ipython",
    "version": 3
   },
   "file_extension": ".py",
   "mimetype": "text/x-python",
   "name": "python",
   "nbconvert_exporter": "python",
   "pygments_lexer": "ipython3",
   "version": "3.8.12"
  }
 },
 "nbformat": 4,
 "nbformat_minor": 1
}
