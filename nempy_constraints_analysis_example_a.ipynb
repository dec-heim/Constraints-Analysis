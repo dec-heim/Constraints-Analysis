{
  "nbformat": 4,
  "nbformat_minor": 0,
  "metadata": {
    "colab": {
      "name": "nempy_constraints_analysis_example_a.ipynb",
      "provenance": [],
      "toc_visible": true
    },
    "kernelspec": {
      "name": "python3",
      "display_name": "Python 3"
    },
    "language_info": {
      "name": "python"
    }
  },
  "cells": [
    {
      "cell_type": "markdown",
      "source": [
        "# NEMPY Constraints Analysis\n",
        "## Example A\n",
        "\n",
        "This file is a placeholder notebook for future examples demonstrating constraints analysis using the nempy python tool.."
      ],
      "metadata": {
        "id": "z8Gscj0Kt45z"
      }
    },
    {
      "cell_type": "markdown",
      "source": [
        "## Package imports"
      ],
      "metadata": {
        "id": "eQp7FqU5uKun"
      }
    },
    {
      "cell_type": "code",
      "source": [
        "#@title Package imports and installation\n",
        "#@markdown Firstly, we require the core python packages to run this analysis.\n",
        "\n",
        "import pandas as pd\n",
        "\n",
        "# nempy market dispatch simulator\n",
        "!pip install git+https://github.com/dec-heim/nempy.git\n",
        "from nempy import markets, time_sequential\n",
        "\n",
        "# plotting\n",
        "!pip install plotly\n",
        "import plotly.graph_objects as go\n",
        "import plotly.express as px\n",
        "from plotly.subplots import make_subplots"
      ],
      "metadata": {
        "id": "1TGH6THSuDPy",
        "colab": {
          "base_uri": "https://localhost:8080/"
        },
        "outputId": "6bbf0ab6-7dbf-45d0-b120-64afbbc1fd67"
      },
      "execution_count": 1,
      "outputs": [
        {
          "output_type": "stream",
          "name": "stdout",
          "text": [
            "Collecting git+https://github.com/dec-heim/nempy.git\n",
            "  Cloning https://github.com/dec-heim/nempy.git to /tmp/pip-req-build-eex0avx2\n",
            "  Running command git clone -q https://github.com/dec-heim/nempy.git /tmp/pip-req-build-eex0avx2\n",
            "  Installing build dependencies ... \u001b[?25l\u001b[?25hdone\n",
            "  Getting requirements to build wheel ... \u001b[?25l\u001b[?25hdone\n",
            "    Preparing wheel metadata ... \u001b[?25l\u001b[?25hdone\n",
            "Collecting mip<2.0.0,>=1.11.0\n",
            "  Downloading mip-1.13.0-py3-none-any.whl (48.0 MB)\n",
            "\u001b[K     |████████████████████████████████| 48.0 MB 83.1 MB/s \n",
            "\u001b[?25hRequirement already satisfied: pandas<2.0.0,>=1.0.0 in /usr/local/lib/python3.7/dist-packages (from nempy==1.1.3) (1.3.5)\n",
            "Requirement already satisfied: requests<3.0.0,>=2.0.0 in /usr/local/lib/python3.7/dist-packages (from nempy==1.1.3) (2.23.0)\n",
            "Collecting xmltodict==0.12.0\n",
            "  Downloading xmltodict-0.12.0-py2.py3-none-any.whl (9.2 kB)\n",
            "Requirement already satisfied: cffi in /usr/local/lib/python3.7/dist-packages (from mip<2.0.0,>=1.11.0->nempy==1.1.3) (1.15.0)\n",
            "Requirement already satisfied: pytz>=2017.3 in /usr/local/lib/python3.7/dist-packages (from pandas<2.0.0,>=1.0.0->nempy==1.1.3) (2018.9)\n",
            "Requirement already satisfied: numpy>=1.17.3 in /usr/local/lib/python3.7/dist-packages (from pandas<2.0.0,>=1.0.0->nempy==1.1.3) (1.21.5)\n",
            "Requirement already satisfied: python-dateutil>=2.7.3 in /usr/local/lib/python3.7/dist-packages (from pandas<2.0.0,>=1.0.0->nempy==1.1.3) (2.8.2)\n",
            "Requirement already satisfied: six>=1.5 in /usr/local/lib/python3.7/dist-packages (from python-dateutil>=2.7.3->pandas<2.0.0,>=1.0.0->nempy==1.1.3) (1.15.0)\n",
            "Requirement already satisfied: idna<3,>=2.5 in /usr/local/lib/python3.7/dist-packages (from requests<3.0.0,>=2.0.0->nempy==1.1.3) (2.10)\n",
            "Requirement already satisfied: chardet<4,>=3.0.2 in /usr/local/lib/python3.7/dist-packages (from requests<3.0.0,>=2.0.0->nempy==1.1.3) (3.0.4)\n",
            "Requirement already satisfied: certifi>=2017.4.17 in /usr/local/lib/python3.7/dist-packages (from requests<3.0.0,>=2.0.0->nempy==1.1.3) (2021.10.8)\n",
            "Requirement already satisfied: urllib3!=1.25.0,!=1.25.1,<1.26,>=1.21.1 in /usr/local/lib/python3.7/dist-packages (from requests<3.0.0,>=2.0.0->nempy==1.1.3) (1.24.3)\n",
            "Requirement already satisfied: pycparser in /usr/local/lib/python3.7/dist-packages (from cffi->mip<2.0.0,>=1.11.0->nempy==1.1.3) (2.21)\n",
            "Building wheels for collected packages: nempy\n",
            "  Building wheel for nempy (PEP 517) ... \u001b[?25l\u001b[?25hdone\n",
            "  Created wheel for nempy: filename=nempy-1.1.3-py3-none-any.whl size=103172 sha256=53e5bda43719c927205c2f79f7f7da66c3869bc0f30300eedf8f558a0a514355\n",
            "  Stored in directory: /tmp/pip-ephem-wheel-cache-9pzkpx_h/wheels/fb/ff/46/d5e273bc99d732b12f67a6970698920e7e7c6b131aa47340e8\n",
            "Successfully built nempy\n",
            "Installing collected packages: xmltodict, mip, nempy\n",
            "Successfully installed mip-1.13.0 nempy-1.1.3 xmltodict-0.12.0\n",
            "Requirement already satisfied: plotly in /usr/local/lib/python3.7/dist-packages (5.5.0)\n",
            "Requirement already satisfied: tenacity>=6.2.0 in /usr/local/lib/python3.7/dist-packages (from plotly) (8.0.1)\n",
            "Requirement already satisfied: six in /usr/local/lib/python3.7/dist-packages (from plotly) (1.15.0)\n"
          ]
        }
      ]
    },
    {
      "cell_type": "code",
      "source": [
        ""
      ],
      "metadata": {
        "id": "wQ_QQTrUutwI"
      },
      "execution_count": null,
      "outputs": []
    }
  ]
}